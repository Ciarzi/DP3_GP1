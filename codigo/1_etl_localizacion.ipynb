{
 "cells": [
  {
   "cell_type": "code",
   "execution_count": 30,
   "metadata": {},
   "outputs": [],
   "source": [
    "import pandas as pd\n",
    "import reverse_geocoder as rg"
   ]
  },
  {
   "cell_type": "code",
   "execution_count": 31,
   "metadata": {},
   "outputs": [],
   "source": [
    "df_dem_test = pd.read_csv(r'https://raw.githubusercontent.com/Ciarzi/DP3_GP1/main/datasets/test_datos_demograficos.csv')\n",
    "df_dem_train = pd.read_csv(r'https://raw.githubusercontent.com/Ciarzi/DP3_GP1/main/datasets/train_datos_demograficos.csv')"
   ]
  },
  {
   "cell_type": "code",
   "execution_count": 32,
   "metadata": {},
   "outputs": [
    {
     "name": "stderr",
     "output_type": "stream",
     "text": [
      "C:\\Users\\sergi\\AppData\\Local\\Temp/ipykernel_5424/1409091891.py:2: FutureWarning: The frame.append method is deprecated and will be removed from pandas in a future version. Use pandas.concat instead.\n",
      "  df_dem = df_dem_test.append(df_dem_train, ignore_index=True)\n"
     ]
    },
    {
     "data": {
      "text/plain": [
       "(5818, 9)"
      ]
     },
     "execution_count": 32,
     "metadata": {},
     "output_type": "execute_result"
    }
   ],
   "source": [
    "#adjuntar los dos csv\n",
    "df_dem = df_dem_test.append(df_dem_train, ignore_index=True)\n",
    "#eliminar filas que sean idénticas\n",
    "df_dem.drop_duplicates(inplace = True)\n",
    "#dimensiones del nuevo dataframe\n",
    "df_dem.shape"
   ]
  },
  {
   "cell_type": "code",
   "execution_count": 33,
   "metadata": {},
   "outputs": [],
   "source": [
    "# nos quedamos con las columnas de loocalizacion\n",
    "df_loc = df_dem[['customerid', 'longitude_gps', 'latitude_gps']]"
   ]
  },
  {
   "cell_type": "code",
   "execution_count": 36,
   "metadata": {},
   "outputs": [
    {
     "data": {
      "text/plain": [
       "[{'lat': '6.61505',\n",
       "  'lon': '3.32502',\n",
       "  'name': 'Agege',\n",
       "  'admin1': 'Lagos',\n",
       "  'admin2': '',\n",
       "  'cc': 'NG'}]"
      ]
     },
     "execution_count": 36,
     "metadata": {},
     "output_type": "execute_result"
    }
   ],
   "source": [
    "# vemos que podemos sacar de las coordenadas\n",
    "rg.search((df_loc.latitude_gps[1], df_loc.longitude_gps[1]))"
   ]
  },
  {
   "cell_type": "code",
   "execution_count": null,
   "metadata": {},
   "outputs": [],
   "source": [
    "# creamos columnas con el pais y el estado de las coordenadas\n",
    "df_loc['pais'] = df_loc.apply(lambda x: rg.search((x['latitude_gps'], x['longitude_gps']))[0]['cc'], axis=1)\n",
    "df_loc['estado'] = df_loc.apply(lambda x: rg.search((x['latitude_gps'], x['longitude_gps']))[0]['admin1'], axis=1)\n"
   ]
  },
  {
   "cell_type": "code",
   "execution_count": 45,
   "metadata": {},
   "outputs": [],
   "source": [
    "import pandas as pd\n",
    "import numpy as np\n",
    "import matplotlib.pyplot as plt\n",
    "from unicodedata import normalize"
   ]
  }
 ],
 "metadata": {
  "interpreter": {
   "hash": "52634da84371cba311ea128a5ea7cdc41ff074b781779e754b270ff9f8153cee"
  },
  "kernelspec": {
   "display_name": "Python 3.9.6 64-bit",
   "language": "python",
   "name": "python3"
  },
  "language_info": {
   "codemirror_mode": {
    "name": "ipython",
    "version": 3
   },
   "file_extension": ".py",
   "mimetype": "text/x-python",
   "name": "python",
   "nbconvert_exporter": "python",
   "pygments_lexer": "ipython3",
   "version": "3.9.6"
  },
  "orig_nbformat": 4
 },
 "nbformat": 4,
 "nbformat_minor": 2
}
