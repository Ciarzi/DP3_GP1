{
  "nbformat": 4,
  "nbformat_minor": 0,
  "metadata": {
    "colab": {
      "name": "Clusterizacion_test.ipynb",
      "provenance": []
    },
    "kernelspec": {
      "name": "python3",
      "display_name": "Python 3"
    },
    "language_info": {
      "name": "python"
    }
  },
  "cells": [
    {
      "cell_type": "markdown",
      "source": [
        "Importando Librerias"
      ],
      "metadata": {
        "id": "bMj-dXcOr7Xf"
      }
    },
    {
      "cell_type": "code",
      "execution_count": 1,
      "metadata": {
        "id": "O05mjrKNrvuv"
      },
      "outputs": [],
      "source": [
        "import math\n",
        "import numpy as np\n",
        "import pandas as pd\n",
        "import seaborn as sns\n",
        "import matplotlib.pyplot as plt\n",
        "from sklearn.cluster import KMeans\n",
        "from sklearn.decomposition import PCA\n",
        "from mpl_toolkits.mplot3d import Axes3D\n",
        "from matplotlib import colors as mcolors\n",
        "from sklearn.preprocessing import StandardScaler\n",
        "from yellowbrick.cluster import KElbowVisualizer"
      ]
    },
    {
      "cell_type": "markdown",
      "source": [
        "Cargando Dataset"
      ],
      "metadata": {
        "id": "YIE5_h9rsAJG"
      }
    },
    {
      "cell_type": "code",
      "source": [
        "data=pd.read_csv(r'https://raw.githubusercontent.com/Ciarzi/DP3_GP1/main/datasets/own_data/test.csv')\n",
        "data.head()"
      ],
      "metadata": {
        "colab": {
          "base_uri": "https://localhost:8080/",
          "height": 206
        },
        "id": "t7C9btVLsDLE",
        "outputId": "ed03594e-6129-4e9c-a79a-f20bb1464b61"
      },
      "execution_count": 2,
      "outputs": [
        {
          "output_type": "execute_result",
          "data": {
            "text/plain": [
              "   loannumber  historial  referido  age  due_per_day  interes  \\\n",
              "0           4          0         1   38          408     22.5   \n",
              "1          10          1         1   36         1466     10.0   \n",
              "2           6          0         1   40          816     22.5   \n",
              "3           8          1         1   44         1150     15.0   \n",
              "4           4          1         1   46          816     22.5   \n",
              "\n",
              "   cuenta_corriente  cuenta_otra  cuenta_ahorro  employment  \n",
              "0                 0            1              0           2  \n",
              "1                 0            0              1           2  \n",
              "2                 0            0              1           2  \n",
              "3                 0            0              1           1  \n",
              "4                 0            0              1           2  "
            ],
            "text/html": [
              "\n",
              "  <div id=\"df-ec98211d-f27d-4b08-96b1-c60fe49fa7a0\">\n",
              "    <div class=\"colab-df-container\">\n",
              "      <div>\n",
              "<style scoped>\n",
              "    .dataframe tbody tr th:only-of-type {\n",
              "        vertical-align: middle;\n",
              "    }\n",
              "\n",
              "    .dataframe tbody tr th {\n",
              "        vertical-align: top;\n",
              "    }\n",
              "\n",
              "    .dataframe thead th {\n",
              "        text-align: right;\n",
              "    }\n",
              "</style>\n",
              "<table border=\"1\" class=\"dataframe\">\n",
              "  <thead>\n",
              "    <tr style=\"text-align: right;\">\n",
              "      <th></th>\n",
              "      <th>loannumber</th>\n",
              "      <th>historial</th>\n",
              "      <th>referido</th>\n",
              "      <th>age</th>\n",
              "      <th>due_per_day</th>\n",
              "      <th>interes</th>\n",
              "      <th>cuenta_corriente</th>\n",
              "      <th>cuenta_otra</th>\n",
              "      <th>cuenta_ahorro</th>\n",
              "      <th>employment</th>\n",
              "    </tr>\n",
              "  </thead>\n",
              "  <tbody>\n",
              "    <tr>\n",
              "      <th>0</th>\n",
              "      <td>4</td>\n",
              "      <td>0</td>\n",
              "      <td>1</td>\n",
              "      <td>38</td>\n",
              "      <td>408</td>\n",
              "      <td>22.5</td>\n",
              "      <td>0</td>\n",
              "      <td>1</td>\n",
              "      <td>0</td>\n",
              "      <td>2</td>\n",
              "    </tr>\n",
              "    <tr>\n",
              "      <th>1</th>\n",
              "      <td>10</td>\n",
              "      <td>1</td>\n",
              "      <td>1</td>\n",
              "      <td>36</td>\n",
              "      <td>1466</td>\n",
              "      <td>10.0</td>\n",
              "      <td>0</td>\n",
              "      <td>0</td>\n",
              "      <td>1</td>\n",
              "      <td>2</td>\n",
              "    </tr>\n",
              "    <tr>\n",
              "      <th>2</th>\n",
              "      <td>6</td>\n",
              "      <td>0</td>\n",
              "      <td>1</td>\n",
              "      <td>40</td>\n",
              "      <td>816</td>\n",
              "      <td>22.5</td>\n",
              "      <td>0</td>\n",
              "      <td>0</td>\n",
              "      <td>1</td>\n",
              "      <td>2</td>\n",
              "    </tr>\n",
              "    <tr>\n",
              "      <th>3</th>\n",
              "      <td>8</td>\n",
              "      <td>1</td>\n",
              "      <td>1</td>\n",
              "      <td>44</td>\n",
              "      <td>1150</td>\n",
              "      <td>15.0</td>\n",
              "      <td>0</td>\n",
              "      <td>0</td>\n",
              "      <td>1</td>\n",
              "      <td>1</td>\n",
              "    </tr>\n",
              "    <tr>\n",
              "      <th>4</th>\n",
              "      <td>4</td>\n",
              "      <td>1</td>\n",
              "      <td>1</td>\n",
              "      <td>46</td>\n",
              "      <td>816</td>\n",
              "      <td>22.5</td>\n",
              "      <td>0</td>\n",
              "      <td>0</td>\n",
              "      <td>1</td>\n",
              "      <td>2</td>\n",
              "    </tr>\n",
              "  </tbody>\n",
              "</table>\n",
              "</div>\n",
              "      <button class=\"colab-df-convert\" onclick=\"convertToInteractive('df-ec98211d-f27d-4b08-96b1-c60fe49fa7a0')\"\n",
              "              title=\"Convert this dataframe to an interactive table.\"\n",
              "              style=\"display:none;\">\n",
              "        \n",
              "  <svg xmlns=\"http://www.w3.org/2000/svg\" height=\"24px\"viewBox=\"0 0 24 24\"\n",
              "       width=\"24px\">\n",
              "    <path d=\"M0 0h24v24H0V0z\" fill=\"none\"/>\n",
              "    <path d=\"M18.56 5.44l.94 2.06.94-2.06 2.06-.94-2.06-.94-.94-2.06-.94 2.06-2.06.94zm-11 1L8.5 8.5l.94-2.06 2.06-.94-2.06-.94L8.5 2.5l-.94 2.06-2.06.94zm10 10l.94 2.06.94-2.06 2.06-.94-2.06-.94-.94-2.06-.94 2.06-2.06.94z\"/><path d=\"M17.41 7.96l-1.37-1.37c-.4-.4-.92-.59-1.43-.59-.52 0-1.04.2-1.43.59L10.3 9.45l-7.72 7.72c-.78.78-.78 2.05 0 2.83L4 21.41c.39.39.9.59 1.41.59.51 0 1.02-.2 1.41-.59l7.78-7.78 2.81-2.81c.8-.78.8-2.07 0-2.86zM5.41 20L4 18.59l7.72-7.72 1.47 1.35L5.41 20z\"/>\n",
              "  </svg>\n",
              "      </button>\n",
              "      \n",
              "  <style>\n",
              "    .colab-df-container {\n",
              "      display:flex;\n",
              "      flex-wrap:wrap;\n",
              "      gap: 12px;\n",
              "    }\n",
              "\n",
              "    .colab-df-convert {\n",
              "      background-color: #E8F0FE;\n",
              "      border: none;\n",
              "      border-radius: 50%;\n",
              "      cursor: pointer;\n",
              "      display: none;\n",
              "      fill: #1967D2;\n",
              "      height: 32px;\n",
              "      padding: 0 0 0 0;\n",
              "      width: 32px;\n",
              "    }\n",
              "\n",
              "    .colab-df-convert:hover {\n",
              "      background-color: #E2EBFA;\n",
              "      box-shadow: 0px 1px 2px rgba(60, 64, 67, 0.3), 0px 1px 3px 1px rgba(60, 64, 67, 0.15);\n",
              "      fill: #174EA6;\n",
              "    }\n",
              "\n",
              "    [theme=dark] .colab-df-convert {\n",
              "      background-color: #3B4455;\n",
              "      fill: #D2E3FC;\n",
              "    }\n",
              "\n",
              "    [theme=dark] .colab-df-convert:hover {\n",
              "      background-color: #434B5C;\n",
              "      box-shadow: 0px 1px 3px 1px rgba(0, 0, 0, 0.15);\n",
              "      filter: drop-shadow(0px 1px 2px rgba(0, 0, 0, 0.3));\n",
              "      fill: #FFFFFF;\n",
              "    }\n",
              "  </style>\n",
              "\n",
              "      <script>\n",
              "        const buttonEl =\n",
              "          document.querySelector('#df-ec98211d-f27d-4b08-96b1-c60fe49fa7a0 button.colab-df-convert');\n",
              "        buttonEl.style.display =\n",
              "          google.colab.kernel.accessAllowed ? 'block' : 'none';\n",
              "\n",
              "        async function convertToInteractive(key) {\n",
              "          const element = document.querySelector('#df-ec98211d-f27d-4b08-96b1-c60fe49fa7a0');\n",
              "          const dataTable =\n",
              "            await google.colab.kernel.invokeFunction('convertToInteractive',\n",
              "                                                     [key], {});\n",
              "          if (!dataTable) return;\n",
              "\n",
              "          const docLinkHtml = 'Like what you see? Visit the ' +\n",
              "            '<a target=\"_blank\" href=https://colab.research.google.com/notebooks/data_table.ipynb>data table notebook</a>'\n",
              "            + ' to learn more about interactive tables.';\n",
              "          element.innerHTML = '';\n",
              "          dataTable['output_type'] = 'display_data';\n",
              "          await google.colab.output.renderOutput(dataTable, element);\n",
              "          const docLink = document.createElement('div');\n",
              "          docLink.innerHTML = docLinkHtml;\n",
              "          element.appendChild(docLink);\n",
              "        }\n",
              "      </script>\n",
              "    </div>\n",
              "  </div>\n",
              "  "
            ]
          },
          "metadata": {},
          "execution_count": 2
        }
      ]
    },
    {
      "cell_type": "code",
      "source": [
        "data.shape"
      ],
      "metadata": {
        "colab": {
          "base_uri": "https://localhost:8080/"
        },
        "id": "mpafAK2rsPPu",
        "outputId": "62a4a07d-9895-44a9-bb01-ae82cd8b6dd7"
      },
      "execution_count": 3,
      "outputs": [
        {
          "output_type": "execute_result",
          "data": {
            "text/plain": [
              "(1442, 10)"
            ]
          },
          "metadata": {},
          "execution_count": 3
        }
      ]
    },
    {
      "cell_type": "markdown",
      "source": [
        "Estandarizando los datos"
      ],
      "metadata": {
        "id": "vI6U2QFtsUlv"
      }
    },
    {
      "cell_type": "code",
      "source": [
        "scaler = StandardScaler()\n",
        "data_scaled = scaler.fit_transform(data)\n",
        "pd.DataFrame(data_scaled).describe()"
      ],
      "metadata": {
        "colab": {
          "base_uri": "https://localhost:8080/",
          "height": 300
        },
        "id": "QLxiCMKwsSCI",
        "outputId": "d6fdbd96-cc93-40ec-fb31-26804951c415"
      },
      "execution_count": 4,
      "outputs": [
        {
          "output_type": "execute_result",
          "data": {
            "text/plain": [
              "                  0             1             2             3             4  \\\n",
              "count  1.442000e+03  1.442000e+03  1.442000e+03  1.442000e+03  1.442000e+03   \n",
              "mean   8.313199e-17 -2.787106e-16  8.583056e-16  4.142164e-17  1.342739e-16   \n",
              "std    1.000347e+00  1.000347e+00  1.000347e+00  1.000347e+00  1.000347e+00   \n",
              "min   -8.464722e-01 -1.557298e+00 -1.865226e+00 -1.812970e+00 -1.142074e+00   \n",
              "25%   -8.464722e-01 -1.557298e+00 -2.527224e-01 -6.853514e-01 -9.378217e-01   \n",
              "50%   -3.011906e-01  6.421377e-01 -2.527224e-01 -4.099820e-02  7.734245e-02   \n",
              "75%    5.167318e-01  6.421377e-01 -2.527224e-01  6.033550e-01  2.297695e-01   \n",
              "max    7.878034e+00  6.421377e-01  2.972284e+00  3.664033e+00  4.113611e+00   \n",
              "\n",
              "                  5             6             7             8             9  \n",
              "count  1.442000e+03  1.442000e+03  1.442000e+03  1.442000e+03  1.442000e+03  \n",
              "mean   1.324260e-17  8.132268e-17 -4.823542e-17  4.507105e-16 -5.499531e-16  \n",
              "std    1.000347e+00  1.000347e+00  1.000347e+00  1.000347e+00  1.000347e+00  \n",
              "min   -2.292168e+00 -1.059254e-01 -4.908807e-01 -1.967644e+00 -3.404043e+00  \n",
              "25%   -8.996392e-01 -1.059254e-01 -4.908807e-01  5.082221e-01  4.503975e-01  \n",
              "50%    9.502415e-02 -1.059254e-01 -4.908807e-01  5.082221e-01  4.503975e-01  \n",
              "75%    1.089687e+00 -1.059254e-01 -4.908807e-01  5.082221e-01  4.503975e-01  \n",
              "max    1.089687e+00  9.440604e+00  2.037155e+00  5.082221e-01  4.503975e-01  "
            ],
            "text/html": [
              "\n",
              "  <div id=\"df-6f6a3145-5301-4a4c-ba78-c9aa7d0a4da9\">\n",
              "    <div class=\"colab-df-container\">\n",
              "      <div>\n",
              "<style scoped>\n",
              "    .dataframe tbody tr th:only-of-type {\n",
              "        vertical-align: middle;\n",
              "    }\n",
              "\n",
              "    .dataframe tbody tr th {\n",
              "        vertical-align: top;\n",
              "    }\n",
              "\n",
              "    .dataframe thead th {\n",
              "        text-align: right;\n",
              "    }\n",
              "</style>\n",
              "<table border=\"1\" class=\"dataframe\">\n",
              "  <thead>\n",
              "    <tr style=\"text-align: right;\">\n",
              "      <th></th>\n",
              "      <th>0</th>\n",
              "      <th>1</th>\n",
              "      <th>2</th>\n",
              "      <th>3</th>\n",
              "      <th>4</th>\n",
              "      <th>5</th>\n",
              "      <th>6</th>\n",
              "      <th>7</th>\n",
              "      <th>8</th>\n",
              "      <th>9</th>\n",
              "    </tr>\n",
              "  </thead>\n",
              "  <tbody>\n",
              "    <tr>\n",
              "      <th>count</th>\n",
              "      <td>1.442000e+03</td>\n",
              "      <td>1.442000e+03</td>\n",
              "      <td>1.442000e+03</td>\n",
              "      <td>1.442000e+03</td>\n",
              "      <td>1.442000e+03</td>\n",
              "      <td>1.442000e+03</td>\n",
              "      <td>1.442000e+03</td>\n",
              "      <td>1.442000e+03</td>\n",
              "      <td>1.442000e+03</td>\n",
              "      <td>1.442000e+03</td>\n",
              "    </tr>\n",
              "    <tr>\n",
              "      <th>mean</th>\n",
              "      <td>8.313199e-17</td>\n",
              "      <td>-2.787106e-16</td>\n",
              "      <td>8.583056e-16</td>\n",
              "      <td>4.142164e-17</td>\n",
              "      <td>1.342739e-16</td>\n",
              "      <td>1.324260e-17</td>\n",
              "      <td>8.132268e-17</td>\n",
              "      <td>-4.823542e-17</td>\n",
              "      <td>4.507105e-16</td>\n",
              "      <td>-5.499531e-16</td>\n",
              "    </tr>\n",
              "    <tr>\n",
              "      <th>std</th>\n",
              "      <td>1.000347e+00</td>\n",
              "      <td>1.000347e+00</td>\n",
              "      <td>1.000347e+00</td>\n",
              "      <td>1.000347e+00</td>\n",
              "      <td>1.000347e+00</td>\n",
              "      <td>1.000347e+00</td>\n",
              "      <td>1.000347e+00</td>\n",
              "      <td>1.000347e+00</td>\n",
              "      <td>1.000347e+00</td>\n",
              "      <td>1.000347e+00</td>\n",
              "    </tr>\n",
              "    <tr>\n",
              "      <th>min</th>\n",
              "      <td>-8.464722e-01</td>\n",
              "      <td>-1.557298e+00</td>\n",
              "      <td>-1.865226e+00</td>\n",
              "      <td>-1.812970e+00</td>\n",
              "      <td>-1.142074e+00</td>\n",
              "      <td>-2.292168e+00</td>\n",
              "      <td>-1.059254e-01</td>\n",
              "      <td>-4.908807e-01</td>\n",
              "      <td>-1.967644e+00</td>\n",
              "      <td>-3.404043e+00</td>\n",
              "    </tr>\n",
              "    <tr>\n",
              "      <th>25%</th>\n",
              "      <td>-8.464722e-01</td>\n",
              "      <td>-1.557298e+00</td>\n",
              "      <td>-2.527224e-01</td>\n",
              "      <td>-6.853514e-01</td>\n",
              "      <td>-9.378217e-01</td>\n",
              "      <td>-8.996392e-01</td>\n",
              "      <td>-1.059254e-01</td>\n",
              "      <td>-4.908807e-01</td>\n",
              "      <td>5.082221e-01</td>\n",
              "      <td>4.503975e-01</td>\n",
              "    </tr>\n",
              "    <tr>\n",
              "      <th>50%</th>\n",
              "      <td>-3.011906e-01</td>\n",
              "      <td>6.421377e-01</td>\n",
              "      <td>-2.527224e-01</td>\n",
              "      <td>-4.099820e-02</td>\n",
              "      <td>7.734245e-02</td>\n",
              "      <td>9.502415e-02</td>\n",
              "      <td>-1.059254e-01</td>\n",
              "      <td>-4.908807e-01</td>\n",
              "      <td>5.082221e-01</td>\n",
              "      <td>4.503975e-01</td>\n",
              "    </tr>\n",
              "    <tr>\n",
              "      <th>75%</th>\n",
              "      <td>5.167318e-01</td>\n",
              "      <td>6.421377e-01</td>\n",
              "      <td>-2.527224e-01</td>\n",
              "      <td>6.033550e-01</td>\n",
              "      <td>2.297695e-01</td>\n",
              "      <td>1.089687e+00</td>\n",
              "      <td>-1.059254e-01</td>\n",
              "      <td>-4.908807e-01</td>\n",
              "      <td>5.082221e-01</td>\n",
              "      <td>4.503975e-01</td>\n",
              "    </tr>\n",
              "    <tr>\n",
              "      <th>max</th>\n",
              "      <td>7.878034e+00</td>\n",
              "      <td>6.421377e-01</td>\n",
              "      <td>2.972284e+00</td>\n",
              "      <td>3.664033e+00</td>\n",
              "      <td>4.113611e+00</td>\n",
              "      <td>1.089687e+00</td>\n",
              "      <td>9.440604e+00</td>\n",
              "      <td>2.037155e+00</td>\n",
              "      <td>5.082221e-01</td>\n",
              "      <td>4.503975e-01</td>\n",
              "    </tr>\n",
              "  </tbody>\n",
              "</table>\n",
              "</div>\n",
              "      <button class=\"colab-df-convert\" onclick=\"convertToInteractive('df-6f6a3145-5301-4a4c-ba78-c9aa7d0a4da9')\"\n",
              "              title=\"Convert this dataframe to an interactive table.\"\n",
              "              style=\"display:none;\">\n",
              "        \n",
              "  <svg xmlns=\"http://www.w3.org/2000/svg\" height=\"24px\"viewBox=\"0 0 24 24\"\n",
              "       width=\"24px\">\n",
              "    <path d=\"M0 0h24v24H0V0z\" fill=\"none\"/>\n",
              "    <path d=\"M18.56 5.44l.94 2.06.94-2.06 2.06-.94-2.06-.94-.94-2.06-.94 2.06-2.06.94zm-11 1L8.5 8.5l.94-2.06 2.06-.94-2.06-.94L8.5 2.5l-.94 2.06-2.06.94zm10 10l.94 2.06.94-2.06 2.06-.94-2.06-.94-.94-2.06-.94 2.06-2.06.94z\"/><path d=\"M17.41 7.96l-1.37-1.37c-.4-.4-.92-.59-1.43-.59-.52 0-1.04.2-1.43.59L10.3 9.45l-7.72 7.72c-.78.78-.78 2.05 0 2.83L4 21.41c.39.39.9.59 1.41.59.51 0 1.02-.2 1.41-.59l7.78-7.78 2.81-2.81c.8-.78.8-2.07 0-2.86zM5.41 20L4 18.59l7.72-7.72 1.47 1.35L5.41 20z\"/>\n",
              "  </svg>\n",
              "      </button>\n",
              "      \n",
              "  <style>\n",
              "    .colab-df-container {\n",
              "      display:flex;\n",
              "      flex-wrap:wrap;\n",
              "      gap: 12px;\n",
              "    }\n",
              "\n",
              "    .colab-df-convert {\n",
              "      background-color: #E8F0FE;\n",
              "      border: none;\n",
              "      border-radius: 50%;\n",
              "      cursor: pointer;\n",
              "      display: none;\n",
              "      fill: #1967D2;\n",
              "      height: 32px;\n",
              "      padding: 0 0 0 0;\n",
              "      width: 32px;\n",
              "    }\n",
              "\n",
              "    .colab-df-convert:hover {\n",
              "      background-color: #E2EBFA;\n",
              "      box-shadow: 0px 1px 2px rgba(60, 64, 67, 0.3), 0px 1px 3px 1px rgba(60, 64, 67, 0.15);\n",
              "      fill: #174EA6;\n",
              "    }\n",
              "\n",
              "    [theme=dark] .colab-df-convert {\n",
              "      background-color: #3B4455;\n",
              "      fill: #D2E3FC;\n",
              "    }\n",
              "\n",
              "    [theme=dark] .colab-df-convert:hover {\n",
              "      background-color: #434B5C;\n",
              "      box-shadow: 0px 1px 3px 1px rgba(0, 0, 0, 0.15);\n",
              "      filter: drop-shadow(0px 1px 2px rgba(0, 0, 0, 0.3));\n",
              "      fill: #FFFFFF;\n",
              "    }\n",
              "  </style>\n",
              "\n",
              "      <script>\n",
              "        const buttonEl =\n",
              "          document.querySelector('#df-6f6a3145-5301-4a4c-ba78-c9aa7d0a4da9 button.colab-df-convert');\n",
              "        buttonEl.style.display =\n",
              "          google.colab.kernel.accessAllowed ? 'block' : 'none';\n",
              "\n",
              "        async function convertToInteractive(key) {\n",
              "          const element = document.querySelector('#df-6f6a3145-5301-4a4c-ba78-c9aa7d0a4da9');\n",
              "          const dataTable =\n",
              "            await google.colab.kernel.invokeFunction('convertToInteractive',\n",
              "                                                     [key], {});\n",
              "          if (!dataTable) return;\n",
              "\n",
              "          const docLinkHtml = 'Like what you see? Visit the ' +\n",
              "            '<a target=\"_blank\" href=https://colab.research.google.com/notebooks/data_table.ipynb>data table notebook</a>'\n",
              "            + ' to learn more about interactive tables.';\n",
              "          element.innerHTML = '';\n",
              "          dataTable['output_type'] = 'display_data';\n",
              "          await google.colab.output.renderOutput(dataTable, element);\n",
              "          const docLink = document.createElement('div');\n",
              "          docLink.innerHTML = docLinkHtml;\n",
              "          element.appendChild(docLink);\n",
              "        }\n",
              "      </script>\n",
              "    </div>\n",
              "  </div>\n",
              "  "
            ]
          },
          "metadata": {},
          "execution_count": 4
        }
      ]
    },
    {
      "cell_type": "markdown",
      "source": [
        "Método del Codo"
      ],
      "metadata": {
        "id": "XuBeXDhZsjDC"
      }
    },
    {
      "cell_type": "code",
      "source": [
        "model = KMeans()\n",
        "visualizer = KElbowVisualizer(model, k=(1,10)).fit(data)\n",
        "visualizer.show()"
      ],
      "metadata": {
        "colab": {
          "base_uri": "https://localhost:8080/",
          "height": 312
        },
        "id": "le4WqhZFsrip",
        "outputId": "2485aaac-7d2b-4bf7-ad20-90a3200e155e"
      },
      "execution_count": 5,
      "outputs": [
        {
          "output_type": "display_data",
          "data": {
            "text/plain": [
              "<Figure size 432x288 with 2 Axes>"
            ],
            "image/png": "[encoded data removed]"
          },
          "metadata": {}
        },
        {
          "output_type": "execute_result",
          "data": {
            "text/plain": [
              "<matplotlib.axes._subplots.AxesSubplot at 0x7fdab9807cd0>"
            ]
          },
          "metadata": {},
          "execution_count": 5
        }
      ]
    },
    {
      "cell_type": "markdown",
      "source": [
        "Aplicando KMEANS"
      ],
      "metadata": {
        "id": "tJrEFYZMsu0P"
      }
    },
    {
      "cell_type": "code",
      "source": [
        "clusters = 3\n",
        "kmeans = KMeans(n_clusters = clusters)\n",
        "kmeans.fit(data_scaled)\n",
        "print(kmeans.labels_)"
      ],
      "metadata": {
        "colab": {
          "base_uri": "https://localhost:8080/"
        },
        "id": "TfJA1WDysyG6",
        "outputId": "6f5ef5c5-3c58-4df8-9bdc-0cdcbe5af561"
      },
      "execution_count": 6,
      "outputs": [
        {
          "output_type": "stream",
          "name": "stdout",
          "text": [
            "[2 1 1 ... 1 2 1]\n"
          ]
        }
      ]
    },
    {
      "cell_type": "markdown",
      "source": [
        "Añadiendo Cluster al Dataset"
      ],
      "metadata": {
        "id": "gu1FTLVts5hp"
      }
    },
    {
      "cell_type": "code",
      "source": [
        "data['Kmeans_Cluster']=kmeans.labels_\n",
        "data.head()"
      ],
      "metadata": {
        "colab": {
          "base_uri": "https://localhost:8080/",
          "height": 206
        },
        "id": "SZLPCY1Ts9LB",
        "outputId": "e62ed7d1-be45-4770-f7b3-a70abfc248bd"
      },
      "execution_count": 8,
      "outputs": [
        {
          "output_type": "execute_result",
          "data": {
            "text/plain": [
              "   loannumber  historial  referido  age  due_per_day  interes  \\\n",
              "0           4          0         1   38          408     22.5   \n",
              "1          10          1         1   36         1466     10.0   \n",
              "2           6          0         1   40          816     22.5   \n",
              "3           8          1         1   44         1150     15.0   \n",
              "4           4          1         1   46          816     22.5   \n",
              "\n",
              "   cuenta_corriente  cuenta_otra  cuenta_ahorro  employment  Kmeans_Cluster  \n",
              "0                 0            1              0           2               2  \n",
              "1                 0            0              1           2               1  \n",
              "2                 0            0              1           2               1  \n",
              "3                 0            0              1           1               1  \n",
              "4                 0            0              1           2               1  "
            ],
            "text/html": [
              "\n",
              "  <div id=\"df-5ddb71f3-1583-4a6f-9c6b-08cd59d68cee\">\n",
              "    <div class=\"colab-df-container\">\n",
              "      <div>\n",
              "<style scoped>\n",
              "    .dataframe tbody tr th:only-of-type {\n",
              "        vertical-align: middle;\n",
              "    }\n",
              "\n",
              "    .dataframe tbody tr th {\n",
              "        vertical-align: top;\n",
              "    }\n",
              "\n",
              "    .dataframe thead th {\n",
              "        text-align: right;\n",
              "    }\n",
              "</style>\n",
              "<table border=\"1\" class=\"dataframe\">\n",
              "  <thead>\n",
              "    <tr style=\"text-align: right;\">\n",
              "      <th></th>\n",
              "      <th>loannumber</th>\n",
              "      <th>historial</th>\n",
              "      <th>referido</th>\n",
              "      <th>age</th>\n",
              "      <th>due_per_day</th>\n",
              "      <th>interes</th>\n",
              "      <th>cuenta_corriente</th>\n",
              "      <th>cuenta_otra</th>\n",
              "      <th>cuenta_ahorro</th>\n",
              "      <th>employment</th>\n",
              "      <th>Kmeans_Cluster</th>\n",
              "    </tr>\n",
              "  </thead>\n",
              "  <tbody>\n",
              "    <tr>\n",
              "      <th>0</th>\n",
              "      <td>4</td>\n",
              "      <td>0</td>\n",
              "      <td>1</td>\n",
              "      <td>38</td>\n",
              "      <td>408</td>\n",
              "      <td>22.5</td>\n",
              "      <td>0</td>\n",
              "      <td>1</td>\n",
              "      <td>0</td>\n",
              "      <td>2</td>\n",
              "      <td>2</td>\n",
              "    </tr>\n",
              "    <tr>\n",
              "      <th>1</th>\n",
              "      <td>10</td>\n",
              "      <td>1</td>\n",
              "      <td>1</td>\n",
              "      <td>36</td>\n",
              "      <td>1466</td>\n",
              "      <td>10.0</td>\n",
              "      <td>0</td>\n",
              "      <td>0</td>\n",
              "      <td>1</td>\n",
              "      <td>2</td>\n",
              "      <td>1</td>\n",
              "    </tr>\n",
              "    <tr>\n",
              "      <th>2</th>\n",
              "      <td>6</td>\n",
              "      <td>0</td>\n",
              "      <td>1</td>\n",
              "      <td>40</td>\n",
              "      <td>816</td>\n",
              "      <td>22.5</td>\n",
              "      <td>0</td>\n",
              "      <td>0</td>\n",
              "      <td>1</td>\n",
              "      <td>2</td>\n",
              "      <td>1</td>\n",
              "    </tr>\n",
              "    <tr>\n",
              "      <th>3</th>\n",
              "      <td>8</td>\n",
              "      <td>1</td>\n",
              "      <td>1</td>\n",
              "      <td>44</td>\n",
              "      <td>1150</td>\n",
              "      <td>15.0</td>\n",
              "      <td>0</td>\n",
              "      <td>0</td>\n",
              "      <td>1</td>\n",
              "      <td>1</td>\n",
              "      <td>1</td>\n",
              "    </tr>\n",
              "    <tr>\n",
              "      <th>4</th>\n",
              "      <td>4</td>\n",
              "      <td>1</td>\n",
              "      <td>1</td>\n",
              "      <td>46</td>\n",
              "      <td>816</td>\n",
              "      <td>22.5</td>\n",
              "      <td>0</td>\n",
              "      <td>0</td>\n",
              "      <td>1</td>\n",
              "      <td>2</td>\n",
              "      <td>1</td>\n",
              "    </tr>\n",
              "  </tbody>\n",
              "</table>\n",
              "</div>\n",
              "      <button class=\"colab-df-convert\" onclick=\"convertToInteractive('df-5ddb71f3-1583-4a6f-9c6b-08cd59d68cee')\"\n",
              "              title=\"Convert this dataframe to an interactive table.\"\n",
              "              style=\"display:none;\">\n",
              "        \n",
              "  <svg xmlns=\"http://www.w3.org/2000/svg\" height=\"24px\"viewBox=\"0 0 24 24\"\n",
              "       width=\"24px\">\n",
              "    <path d=\"M0 0h24v24H0V0z\" fill=\"none\"/>\n",
              "    <path d=\"M18.56 5.44l.94 2.06.94-2.06 2.06-.94-2.06-.94-.94-2.06-.94 2.06-2.06.94zm-11 1L8.5 8.5l.94-2.06 2.06-.94-2.06-.94L8.5 2.5l-.94 2.06-2.06.94zm10 10l.94 2.06.94-2.06 2.06-.94-2.06-.94-.94-2.06-.94 2.06-2.06.94z\"/><path d=\"M17.41 7.96l-1.37-1.37c-.4-.4-.92-.59-1.43-.59-.52 0-1.04.2-1.43.59L10.3 9.45l-7.72 7.72c-.78.78-.78 2.05 0 2.83L4 21.41c.39.39.9.59 1.41.59.51 0 1.02-.2 1.41-.59l7.78-7.78 2.81-2.81c.8-.78.8-2.07 0-2.86zM5.41 20L4 18.59l7.72-7.72 1.47 1.35L5.41 20z\"/>\n",
              "  </svg>\n",
              "      </button>\n",
              "      \n",
              "  <style>\n",
              "    .colab-df-container {\n",
              "      display:flex;\n",
              "      flex-wrap:wrap;\n",
              "      gap: 12px;\n",
              "    }\n",
              "\n",
              "    .colab-df-convert {\n",
              "      background-color: #E8F0FE;\n",
              "      border: none;\n",
              "      border-radius: 50%;\n",
              "      cursor: pointer;\n",
              "      display: none;\n",
              "      fill: #1967D2;\n",
              "      height: 32px;\n",
              "      padding: 0 0 0 0;\n",
              "      width: 32px;\n",
              "    }\n",
              "\n",
              "    .colab-df-convert:hover {\n",
              "      background-color: #E2EBFA;\n",
              "      box-shadow: 0px 1px 2px rgba(60, 64, 67, 0.3), 0px 1px 3px 1px rgba(60, 64, 67, 0.15);\n",
              "      fill: #174EA6;\n",
              "    }\n",
              "\n",
              "    [theme=dark] .colab-df-convert {\n",
              "      background-color: #3B4455;\n",
              "      fill: #D2E3FC;\n",
              "    }\n",
              "\n",
              "    [theme=dark] .colab-df-convert:hover {\n",
              "      background-color: #434B5C;\n",
              "      box-shadow: 0px 1px 3px 1px rgba(0, 0, 0, 0.15);\n",
              "      filter: drop-shadow(0px 1px 2px rgba(0, 0, 0, 0.3));\n",
              "      fill: #FFFFFF;\n",
              "    }\n",
              "  </style>\n",
              "\n",
              "      <script>\n",
              "        const buttonEl =\n",
              "          document.querySelector('#df-5ddb71f3-1583-4a6f-9c6b-08cd59d68cee button.colab-df-convert');\n",
              "        buttonEl.style.display =\n",
              "          google.colab.kernel.accessAllowed ? 'block' : 'none';\n",
              "\n",
              "        async function convertToInteractive(key) {\n",
              "          const element = document.querySelector('#df-5ddb71f3-1583-4a6f-9c6b-08cd59d68cee');\n",
              "          const dataTable =\n",
              "            await google.colab.kernel.invokeFunction('convertToInteractive',\n",
              "                                                     [key], {});\n",
              "          if (!dataTable) return;\n",
              "\n",
              "          const docLinkHtml = 'Like what you see? Visit the ' +\n",
              "            '<a target=\"_blank\" href=https://colab.research.google.com/notebooks/data_table.ipynb>data table notebook</a>'\n",
              "            + ' to learn more about interactive tables.';\n",
              "          element.innerHTML = '';\n",
              "          dataTable['output_type'] = 'display_data';\n",
              "          await google.colab.output.renderOutput(dataTable, element);\n",
              "          const docLink = document.createElement('div');\n",
              "          docLink.innerHTML = docLinkHtml;\n",
              "          element.appendChild(docLink);\n",
              "        }\n",
              "      </script>\n",
              "    </div>\n",
              "  </div>\n",
              "  "
            ]
          },
          "metadata": {},
          "execution_count": 8
        }
      ]
    },
    {
      "cell_type": "code",
      "source": [
        "data.to_csv(\"cluster_test.csv\",index=False)"
      ],
      "metadata": {
        "id": "yhnJHgjRtCkF"
      },
      "execution_count": 10,
      "outputs": []
    },
    {
      "cell_type": "markdown",
      "source": [
        "Visualización"
      ],
      "metadata": {
        "id": "GDnuSXQ0tI-Z"
      }
    },
    {
      "cell_type": "markdown",
      "source": [
        "PCA con tres componentes"
      ],
      "metadata": {
        "id": "W8vdpYjgtPC6"
      }
    },
    {
      "cell_type": "code",
      "source": [
        "pca = PCA(n_components=3)\n",
        "pca.fit(data_scaled)\n",
        "pca_data = pd.DataFrame(pca.transform(data_scaled))\n",
        "pca_data.head()\n",
        "print('Explained variation per principal component: {}'.format(pca.explained_variance_ratio_))\n",
        "print('Cumulative variance explained by 3 principal components: {:.2%}'.format(np.sum(pca.explained_variance_ratio_)))"
      ],
      "metadata": {
        "colab": {
          "base_uri": "https://localhost:8080/"
        },
        "id": "TkrH96H6tJ08",
        "outputId": "03112d49-bead-4b86-9406-274da3329331"
      },
      "execution_count": 11,
      "outputs": [
        {
          "output_type": "stream",
          "name": "stdout",
          "text": [
            "Explained variation per principal component: [0.30615559 0.15571701 0.12306676]\n",
            "Cumulative variance explained by 3 principal components: 58.49%\n"
          ]
        }
      ]
    },
    {
      "cell_type": "markdown",
      "source": [
        "PCA con 2 componentes --> se desecha con 2 componentes y nos quedamos con el de 3"
      ],
      "metadata": {
        "id": "T6LrPXLVtRjv"
      }
    },
    {
      "cell_type": "code",
      "source": [
        "pca_2 = PCA(n_components=2)\n",
        "pca_2_result = pca_2.fit_transform(data_scaled)\n",
        "print('Explained variation per principal component: {}'.format(pca_2.explained_variance_ratio_))\n",
        "\n",
        "print('Cumulative variance explained by 2 principal components: {:.2%}'.format(np.sum(pca_2.explained_variance_ratio_)))"
      ],
      "metadata": {
        "colab": {
          "base_uri": "https://localhost:8080/"
        },
        "id": "HUIjZiF1tYP5",
        "outputId": "8a398813-0148-40ed-f96c-9d1c037b1982"
      },
      "execution_count": 12,
      "outputs": [
        {
          "output_type": "stream",
          "name": "stdout",
          "text": [
            "Explained variation per principal component: [0.30615559 0.15571701]\n",
            "Cumulative variance explained by 2 principal components: 46.19%\n"
          ]
        }
      ]
    },
    {
      "cell_type": "code",
      "source": [
        "pd.DataFrame(pca_data).describe()"
      ],
      "metadata": {
        "colab": {
          "base_uri": "https://localhost:8080/",
          "height": 300
        },
        "id": "j178z2Zwtfea",
        "outputId": "f33b68b9-da3b-458d-d43c-12bcaa0e31cc"
      },
      "execution_count": 13,
      "outputs": [
        {
          "output_type": "execute_result",
          "data": {
            "text/plain": [
              "                  0             1             2\n",
              "count  1.442000e+03  1.442000e+03  1.442000e+03\n",
              "mean   3.079676e-18 -1.062488e-16  4.326944e-17\n",
              "std    1.750337e+00  1.248299e+00  1.109739e+00\n",
              "min   -2.121860e+00 -3.790617e+00 -3.244591e+00\n",
              "25%   -1.536226e+00 -8.537178e-01 -7.096010e-01\n",
              "50%   -4.051774e-01  7.553587e-02 -6.618220e-02\n",
              "75%    8.997200e-01  8.497256e-01  6.406172e-01\n",
              "max    6.111434e+00  4.363085e+00  4.925192e+00"
            ],
            "text/html": [
              "\n",
              "  <div id=\"df-858ffdaa-27de-4a6d-bab4-e854a2a0f760\">\n",
              "    <div class=\"colab-df-container\">\n",
              "      <div>\n",
              "<style scoped>\n",
              "    .dataframe tbody tr th:only-of-type {\n",
              "        vertical-align: middle;\n",
              "    }\n",
              "\n",
              "    .dataframe tbody tr th {\n",
              "        vertical-align: top;\n",
              "    }\n",
              "\n",
              "    .dataframe thead th {\n",
              "        text-align: right;\n",
              "    }\n",
              "</style>\n",
              "<table border=\"1\" class=\"dataframe\">\n",
              "  <thead>\n",
              "    <tr style=\"text-align: right;\">\n",
              "      <th></th>\n",
              "      <th>0</th>\n",
              "      <th>1</th>\n",
              "      <th>2</th>\n",
              "    </tr>\n",
              "  </thead>\n",
              "  <tbody>\n",
              "    <tr>\n",
              "      <th>count</th>\n",
              "      <td>1.442000e+03</td>\n",
              "      <td>1.442000e+03</td>\n",
              "      <td>1.442000e+03</td>\n",
              "    </tr>\n",
              "    <tr>\n",
              "      <th>mean</th>\n",
              "      <td>3.079676e-18</td>\n",
              "      <td>-1.062488e-16</td>\n",
              "      <td>4.326944e-17</td>\n",
              "    </tr>\n",
              "    <tr>\n",
              "      <th>std</th>\n",
              "      <td>1.750337e+00</td>\n",
              "      <td>1.248299e+00</td>\n",
              "      <td>1.109739e+00</td>\n",
              "    </tr>\n",
              "    <tr>\n",
              "      <th>min</th>\n",
              "      <td>-2.121860e+00</td>\n",
              "      <td>-3.790617e+00</td>\n",
              "      <td>-3.244591e+00</td>\n",
              "    </tr>\n",
              "    <tr>\n",
              "      <th>25%</th>\n",
              "      <td>-1.536226e+00</td>\n",
              "      <td>-8.537178e-01</td>\n",
              "      <td>-7.096010e-01</td>\n",
              "    </tr>\n",
              "    <tr>\n",
              "      <th>50%</th>\n",
              "      <td>-4.051774e-01</td>\n",
              "      <td>7.553587e-02</td>\n",
              "      <td>-6.618220e-02</td>\n",
              "    </tr>\n",
              "    <tr>\n",
              "      <th>75%</th>\n",
              "      <td>8.997200e-01</td>\n",
              "      <td>8.497256e-01</td>\n",
              "      <td>6.406172e-01</td>\n",
              "    </tr>\n",
              "    <tr>\n",
              "      <th>max</th>\n",
              "      <td>6.111434e+00</td>\n",
              "      <td>4.363085e+00</td>\n",
              "      <td>4.925192e+00</td>\n",
              "    </tr>\n",
              "  </tbody>\n",
              "</table>\n",
              "</div>\n",
              "      <button class=\"colab-df-convert\" onclick=\"convertToInteractive('df-858ffdaa-27de-4a6d-bab4-e854a2a0f760')\"\n",
              "              title=\"Convert this dataframe to an interactive table.\"\n",
              "              style=\"display:none;\">\n",
              "        \n",
              "  <svg xmlns=\"http://www.w3.org/2000/svg\" height=\"24px\"viewBox=\"0 0 24 24\"\n",
              "       width=\"24px\">\n",
              "    <path d=\"M0 0h24v24H0V0z\" fill=\"none\"/>\n",
              "    <path d=\"M18.56 5.44l.94 2.06.94-2.06 2.06-.94-2.06-.94-.94-2.06-.94 2.06-2.06.94zm-11 1L8.5 8.5l.94-2.06 2.06-.94-2.06-.94L8.5 2.5l-.94 2.06-2.06.94zm10 10l.94 2.06.94-2.06 2.06-.94-2.06-.94-.94-2.06-.94 2.06-2.06.94z\"/><path d=\"M17.41 7.96l-1.37-1.37c-.4-.4-.92-.59-1.43-.59-.52 0-1.04.2-1.43.59L10.3 9.45l-7.72 7.72c-.78.78-.78 2.05 0 2.83L4 21.41c.39.39.9.59 1.41.59.51 0 1.02-.2 1.41-.59l7.78-7.78 2.81-2.81c.8-.78.8-2.07 0-2.86zM5.41 20L4 18.59l7.72-7.72 1.47 1.35L5.41 20z\"/>\n",
              "  </svg>\n",
              "      </button>\n",
              "      \n",
              "  <style>\n",
              "    .colab-df-container {\n",
              "      display:flex;\n",
              "      flex-wrap:wrap;\n",
              "      gap: 12px;\n",
              "    }\n",
              "\n",
              "    .colab-df-convert {\n",
              "      background-color: #E8F0FE;\n",
              "      border: none;\n",
              "      border-radius: 50%;\n",
              "      cursor: pointer;\n",
              "      display: none;\n",
              "      fill: #1967D2;\n",
              "      height: 32px;\n",
              "      padding: 0 0 0 0;\n",
              "      width: 32px;\n",
              "    }\n",
              "\n",
              "    .colab-df-convert:hover {\n",
              "      background-color: #E2EBFA;\n",
              "      box-shadow: 0px 1px 2px rgba(60, 64, 67, 0.3), 0px 1px 3px 1px rgba(60, 64, 67, 0.15);\n",
              "      fill: #174EA6;\n",
              "    }\n",
              "\n",
              "    [theme=dark] .colab-df-convert {\n",
              "      background-color: #3B4455;\n",
              "      fill: #D2E3FC;\n",
              "    }\n",
              "\n",
              "    [theme=dark] .colab-df-convert:hover {\n",
              "      background-color: #434B5C;\n",
              "      box-shadow: 0px 1px 3px 1px rgba(0, 0, 0, 0.15);\n",
              "      filter: drop-shadow(0px 1px 2px rgba(0, 0, 0, 0.3));\n",
              "      fill: #FFFFFF;\n",
              "    }\n",
              "  </style>\n",
              "\n",
              "      <script>\n",
              "        const buttonEl =\n",
              "          document.querySelector('#df-858ffdaa-27de-4a6d-bab4-e854a2a0f760 button.colab-df-convert');\n",
              "        buttonEl.style.display =\n",
              "          google.colab.kernel.accessAllowed ? 'block' : 'none';\n",
              "\n",
              "        async function convertToInteractive(key) {\n",
              "          const element = document.querySelector('#df-858ffdaa-27de-4a6d-bab4-e854a2a0f760');\n",
              "          const dataTable =\n",
              "            await google.colab.kernel.invokeFunction('convertToInteractive',\n",
              "                                                     [key], {});\n",
              "          if (!dataTable) return;\n",
              "\n",
              "          const docLinkHtml = 'Like what you see? Visit the ' +\n",
              "            '<a target=\"_blank\" href=https://colab.research.google.com/notebooks/data_table.ipynb>data table notebook</a>'\n",
              "            + ' to learn more about interactive tables.';\n",
              "          element.innerHTML = '';\n",
              "          dataTable['output_type'] = 'display_data';\n",
              "          await google.colab.output.renderOutput(dataTable, element);\n",
              "          const docLink = document.createElement('div');\n",
              "          docLink.innerHTML = docLinkHtml;\n",
              "          element.appendChild(docLink);\n",
              "        }\n",
              "      </script>\n",
              "    </div>\n",
              "  </div>\n",
              "  "
            ]
          },
          "metadata": {},
          "execution_count": 13
        }
      ]
    },
    {
      "cell_type": "markdown",
      "source": [
        "Generando diferentes colores en order descendente de sus hsv valores"
      ],
      "metadata": {
        "id": "0IZXSsSItxPG"
      }
    },
    {
      "cell_type": "code",
      "source": [
        "colors = list(zip(*sorted((\n",
        "\t\t\t\t\ttuple(mcolors.rgb_to_hsv(\n",
        "\t\t\t\t\t\tmcolors.to_rgba(color)[:3])), name)\n",
        "\t\t\t\t\tfor name, color in dict(\n",
        "\t\t\t\t\t\t\tmcolors.BASE_COLORS, **mcolors.CSS4_COLORS\n",
        "\t\t\t\t\t\t\t\t\t\t\t\t\t).items())))[1]\n",
        "\n",
        "\n",
        "# number of steps to taken generate n(clusters) colors\n",
        "skips = math.floor(len(colors[5 : -5])/clusters)\n",
        "cluster_colors = colors[5 : -5 : skips]\n"
      ],
      "metadata": {
        "id": "Sj4M4KqWtths"
      },
      "execution_count": 14,
      "outputs": []
    },
    {
      "cell_type": "code",
      "source": [
        "fig = plt.figure()\n",
        "ax = fig.add_subplot(111, projection = '3d')\n",
        "ax.scatter(pca_data[0], pca_data[1], pca_data[2],\n",
        "\t\tc = list(map(lambda label : cluster_colors[label],\n",
        "\t\t\t\t\t\t\t\t\t\t\tkmeans.labels_)))\n",
        "\n",
        "str_labels = list(map(lambda label:'% s' % label, kmeans.labels_))\n",
        "\n",
        "list(map(lambda data1, data2, data3, str_label:'', pca_data[0], pca_data[1],\n",
        "\t\tpca_data[2], str_labels))\n",
        "\n",
        "plt.show()\n"
      ],
      "metadata": {
        "colab": {
          "base_uri": "https://localhost:8080/",
          "height": 248
        },
        "id": "loVqJmRhuDQm",
        "outputId": "ffa408a2-3e15-4ff4-d124-4b078c779c0a"
      },
      "execution_count": 15,
      "outputs": [
        {
          "output_type": "display_data",
          "data": {
            "text/plain": [
              "<Figure size 432x288 with 1 Axes>"
            ],
            "image/png": "[encoded data removed]"
          },
          "metadata": {
            "needs_background": "light"
          }
        }
      ]
    },
    {
      "cell_type": "markdown",
      "source": [
        "Generando mapa de correlación"
      ],
      "metadata": {
        "id": "yAQ9dULruGxw"
      }
    },
    {
      "cell_type": "code",
      "source": [
        "sns.heatmap(data.corr(), annot = True)\n",
        "plt.show()"
      ],
      "metadata": {
        "colab": {
          "base_uri": "https://localhost:8080/",
          "height": 334
        },
        "id": "pnlwrQ-OuF5g",
        "outputId": "9f1125c0-41b5-49f3-f745-1ad1b567f6a0"
      },
      "execution_count": 16,
      "outputs": [
        {
          "output_type": "display_data",
          "data": {
            "text/plain": [
              "<Figure size 432x288 with 2 Axes>"
            ],
            "image/png": "[encoded data removed]"
          },
          "metadata": {
            "needs_background": "light"
          }
        }
      ]
    }
  ]
}