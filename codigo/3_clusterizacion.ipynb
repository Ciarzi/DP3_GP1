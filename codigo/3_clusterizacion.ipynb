{
  "cells": [
    {
      "cell_type": "code",
      "execution_count": 1,
      "metadata": {
        "id": "GNv2Xwz_IVgY"
      },
      "outputs": [],
      "source": [
        "# import libraries\n",
        "%matplotlib inline\n",
        "import matplotlib.pyplot as plt\n",
        "import seaborn as sns; sns.set()  # for plot styling\n",
        "import numpy as np\n",
        "import pandas as pd\n",
        "from sklearn.cluster import KMeans"
      ]
    },
    {
      "cell_type": "code",
      "execution_count": 2,
      "metadata": {
        "colab": {
          "base_uri": "https://localhost:8080/",
          "height": 206
        },
        "id": "4-FVY2RqIYW-",
        "outputId": "d7c4a02b-4e54-4caf-f19b-8dae8d2ec127"
      },
      "outputs": [
        {
          "data": {
            "text/html": [
              "<div>\n",
              "<style scoped>\n",
              "    .dataframe tbody tr th:only-of-type {\n",
              "        vertical-align: middle;\n",
              "    }\n",
              "\n",
              "    .dataframe tbody tr th {\n",
              "        vertical-align: top;\n",
              "    }\n",
              "\n",
              "    .dataframe thead th {\n",
              "        text-align: right;\n",
              "    }\n",
              "</style>\n",
              "<table border=\"1\" class=\"dataframe\">\n",
              "  <thead>\n",
              "    <tr style=\"text-align: right;\">\n",
              "      <th></th>\n",
              "      <th>loannumber</th>\n",
              "      <th>historial</th>\n",
              "      <th>referido</th>\n",
              "      <th>age</th>\n",
              "      <th>due_per_day</th>\n",
              "      <th>interes</th>\n",
              "      <th>cuenta_corriente</th>\n",
              "      <th>cuenta_otra</th>\n",
              "      <th>cuenta_ahorro</th>\n",
              "      <th>pib_capita</th>\n",
              "      <th>employment</th>\n",
              "    </tr>\n",
              "  </thead>\n",
              "  <tbody>\n",
              "    <tr>\n",
              "      <th>0</th>\n",
              "      <td>12</td>\n",
              "      <td>0</td>\n",
              "      <td>1</td>\n",
              "      <td>50</td>\n",
              "      <td>1150</td>\n",
              "      <td>15.00</td>\n",
              "      <td>0</td>\n",
              "      <td>1</td>\n",
              "      <td>0</td>\n",
              "      <td>2065</td>\n",
              "      <td>2</td>\n",
              "    </tr>\n",
              "    <tr>\n",
              "      <th>1</th>\n",
              "      <td>7</td>\n",
              "      <td>1</td>\n",
              "      <td>1</td>\n",
              "      <td>37</td>\n",
              "      <td>1483</td>\n",
              "      <td>11.25</td>\n",
              "      <td>0</td>\n",
              "      <td>1</td>\n",
              "      <td>0</td>\n",
              "      <td>641</td>\n",
              "      <td>2</td>\n",
              "    </tr>\n",
              "    <tr>\n",
              "      <th>2</th>\n",
              "      <td>3</td>\n",
              "      <td>0</td>\n",
              "      <td>1</td>\n",
              "      <td>44</td>\n",
              "      <td>766</td>\n",
              "      <td>15.00</td>\n",
              "      <td>0</td>\n",
              "      <td>0</td>\n",
              "      <td>1</td>\n",
              "      <td>1632</td>\n",
              "      <td>2</td>\n",
              "    </tr>\n",
              "    <tr>\n",
              "      <th>3</th>\n",
              "      <td>9</td>\n",
              "      <td>1</td>\n",
              "      <td>1</td>\n",
              "      <td>35</td>\n",
              "      <td>1466</td>\n",
              "      <td>10.00</td>\n",
              "      <td>0</td>\n",
              "      <td>1</td>\n",
              "      <td>0</td>\n",
              "      <td>2201</td>\n",
              "      <td>2</td>\n",
              "    </tr>\n",
              "    <tr>\n",
              "      <th>4</th>\n",
              "      <td>8</td>\n",
              "      <td>1</td>\n",
              "      <td>1</td>\n",
              "      <td>49</td>\n",
              "      <td>650</td>\n",
              "      <td>30.00</td>\n",
              "      <td>0</td>\n",
              "      <td>0</td>\n",
              "      <td>1</td>\n",
              "      <td>2065</td>\n",
              "      <td>2</td>\n",
              "    </tr>\n",
              "  </tbody>\n",
              "</table>\n",
              "</div>"
            ],
            "text/plain": [
              "   loannumber  historial  referido  age  due_per_day  interes  \\\n",
              "0          12          0         1   50         1150    15.00   \n",
              "1           7          1         1   37         1483    11.25   \n",
              "2           3          0         1   44          766    15.00   \n",
              "3           9          1         1   35         1466    10.00   \n",
              "4           8          1         1   49          650    30.00   \n",
              "\n",
              "   cuenta_corriente  cuenta_otra  cuenta_ahorro  pib_capita  employment  \n",
              "0                 0            1              0        2065           2  \n",
              "1                 0            1              0         641           2  \n",
              "2                 0            0              1        1632           2  \n",
              "3                 0            1              0        2201           2  \n",
              "4                 0            0              1        2065           2  "
            ]
          },
          "execution_count": 2,
          "metadata": {},
          "output_type": "execute_result"
        }
      ],
      "source": [
        "df = pd.read_csv(r'https://raw.githubusercontent.com/Ciarzi/DP3_GP1/main/datasets/own_data/train.csv')\n",
        "df_perf_test, target = df.drop(['flag'],axis=1), df[['flag']]\n",
        "df_perf_test.head()"
      ]
    },
    {
      "cell_type": "code",
      "execution_count": 3,
      "metadata": {
        "colab": {
          "base_uri": "https://localhost:8080/"
        },
        "id": "OZgdL9HFLP61",
        "outputId": "e32b92db-876e-4f70-d235-641cd3673b12"
      },
      "outputs": [
        {
          "data": {
            "text/plain": [
              "(4358, 11)"
            ]
          },
          "execution_count": 3,
          "metadata": {},
          "output_type": "execute_result"
        }
      ],
      "source": [
        "df_perf_test.shape"
      ]
    },
    {
      "cell_type": "markdown",
      "metadata": {
        "id": "P4-IJCXsLXgY"
      },
      "source": [
        "ELBOW"
      ]
    },
    {
      "cell_type": "code",
      "execution_count": 4,
      "metadata": {
        "id": "Q3dPMH5aLZfG"
      },
      "outputs": [],
      "source": [
        "distortions = []\n",
        "K = range(1,10)\n",
        "for k in K:\n",
        "    kmeanModel = KMeans(n_clusters=k)\n",
        "    kmeanModel.fit(df_perf_test)\n",
        "    distortions.append(kmeanModel.inertia_)"
      ]
    },
    {
      "cell_type": "code",
      "execution_count": 5,
      "metadata": {
        "colab": {
          "base_uri": "https://localhost:8080/",
          "height": 518
        },
        "id": "sJsMOFgULc7d",
        "outputId": "481185a0-a8d7-4b1d-9847-3e742fcd338b"
      },
      "outputs": [
        {
          "data": {
            "image/png": "[encoded data removed]",
            "text/plain": [
              "<Figure size 1152x576 with 1 Axes>"
            ]
          },
          "metadata": {},
          "output_type": "display_data"
        }
      ],
      "source": [
        "plt.figure(figsize=(16,8))\n",
        "plt.plot(K, distortions, 'bx-')\n",
        "plt.xlabel('k')\n",
        "plt.ylabel('Distortion')\n",
        "plt.title('The Elbow Method showing the optimal k')\n",
        "plt.show()"
      ]
    },
    {
      "cell_type": "markdown",
      "metadata": {
        "id": "-hjKgZDpLuvd"
      },
      "source": [
        "KMEANS"
      ]
    },
    {
      "cell_type": "code",
      "execution_count": 6,
      "metadata": {
        "colab": {
          "base_uri": "https://localhost:8080/"
        },
        "id": "3JxdcYWmLwLq",
        "outputId": "20d92ef5-1d56-4210-d055-96e27e7172e9"
      },
      "outputs": [
        {
          "data": {
            "text/plain": [
              "KMeans(n_clusters=3)"
            ]
          },
          "execution_count": 6,
          "metadata": {},
          "output_type": "execute_result"
        }
      ],
      "source": [
        "clustering =  KMeans(n_clusters = 3, max_iter = 300)#Crea el modelo\n",
        "clustering.fit(df_perf_test)"
      ]
    },
    {
      "cell_type": "markdown",
      "metadata": {
        "id": "YxEc9Yb8MCKc"
      },
      "source": [
        "CLASIFICACION EN EL ARCHIVO"
      ]
    },
    {
      "cell_type": "code",
      "execution_count": 7,
      "metadata": {
        "colab": {
          "base_uri": "https://localhost:8080/",
          "height": 270
        },
        "id": "eOQ_N9XtL-xJ",
        "outputId": "c85fd75a-0562-4a02-85b4-8cdddf662a56"
      },
      "outputs": [
        {
          "data": {
            "text/html": [
              "<div>\n",
              "<style scoped>\n",
              "    .dataframe tbody tr th:only-of-type {\n",
              "        vertical-align: middle;\n",
              "    }\n",
              "\n",
              "    .dataframe tbody tr th {\n",
              "        vertical-align: top;\n",
              "    }\n",
              "\n",
              "    .dataframe thead th {\n",
              "        text-align: right;\n",
              "    }\n",
              "</style>\n",
              "<table border=\"1\" class=\"dataframe\">\n",
              "  <thead>\n",
              "    <tr style=\"text-align: right;\">\n",
              "      <th></th>\n",
              "      <th>loannumber</th>\n",
              "      <th>historial</th>\n",
              "      <th>referido</th>\n",
              "      <th>flag</th>\n",
              "      <th>age</th>\n",
              "      <th>due_per_day</th>\n",
              "      <th>interes</th>\n",
              "      <th>cuenta_corriente</th>\n",
              "      <th>cuenta_otra</th>\n",
              "      <th>cuenta_ahorro</th>\n",
              "      <th>pib_capita</th>\n",
              "      <th>employment</th>\n",
              "      <th>Kmeans_Cluster</th>\n",
              "    </tr>\n",
              "  </thead>\n",
              "  <tbody>\n",
              "    <tr>\n",
              "      <th>0</th>\n",
              "      <td>12</td>\n",
              "      <td>0</td>\n",
              "      <td>1</td>\n",
              "      <td>1</td>\n",
              "      <td>50</td>\n",
              "      <td>1150</td>\n",
              "      <td>15.00</td>\n",
              "      <td>0</td>\n",
              "      <td>1</td>\n",
              "      <td>0</td>\n",
              "      <td>2065</td>\n",
              "      <td>2</td>\n",
              "      <td>0</td>\n",
              "    </tr>\n",
              "    <tr>\n",
              "      <th>1</th>\n",
              "      <td>7</td>\n",
              "      <td>1</td>\n",
              "      <td>1</td>\n",
              "      <td>1</td>\n",
              "      <td>37</td>\n",
              "      <td>1483</td>\n",
              "      <td>11.25</td>\n",
              "      <td>0</td>\n",
              "      <td>1</td>\n",
              "      <td>0</td>\n",
              "      <td>641</td>\n",
              "      <td>2</td>\n",
              "      <td>0</td>\n",
              "    </tr>\n",
              "    <tr>\n",
              "      <th>2</th>\n",
              "      <td>3</td>\n",
              "      <td>0</td>\n",
              "      <td>1</td>\n",
              "      <td>1</td>\n",
              "      <td>44</td>\n",
              "      <td>766</td>\n",
              "      <td>15.00</td>\n",
              "      <td>0</td>\n",
              "      <td>0</td>\n",
              "      <td>1</td>\n",
              "      <td>1632</td>\n",
              "      <td>2</td>\n",
              "      <td>0</td>\n",
              "    </tr>\n",
              "    <tr>\n",
              "      <th>3</th>\n",
              "      <td>9</td>\n",
              "      <td>1</td>\n",
              "      <td>1</td>\n",
              "      <td>1</td>\n",
              "      <td>35</td>\n",
              "      <td>1466</td>\n",
              "      <td>10.00</td>\n",
              "      <td>0</td>\n",
              "      <td>1</td>\n",
              "      <td>0</td>\n",
              "      <td>2201</td>\n",
              "      <td>2</td>\n",
              "      <td>0</td>\n",
              "    </tr>\n",
              "    <tr>\n",
              "      <th>4</th>\n",
              "      <td>8</td>\n",
              "      <td>1</td>\n",
              "      <td>1</td>\n",
              "      <td>1</td>\n",
              "      <td>49</td>\n",
              "      <td>650</td>\n",
              "      <td>30.00</td>\n",
              "      <td>0</td>\n",
              "      <td>0</td>\n",
              "      <td>1</td>\n",
              "      <td>2065</td>\n",
              "      <td>2</td>\n",
              "      <td>0</td>\n",
              "    </tr>\n",
              "  </tbody>\n",
              "</table>\n",
              "</div>"
            ],
            "text/plain": [
              "   loannumber  historial  referido  flag  age  due_per_day  interes  \\\n",
              "0          12          0         1     1   50         1150    15.00   \n",
              "1           7          1         1     1   37         1483    11.25   \n",
              "2           3          0         1     1   44          766    15.00   \n",
              "3           9          1         1     1   35         1466    10.00   \n",
              "4           8          1         1     1   49          650    30.00   \n",
              "\n",
              "   cuenta_corriente  cuenta_otra  cuenta_ahorro  pib_capita  employment  \\\n",
              "0                 0            1              0        2065           2   \n",
              "1                 0            1              0         641           2   \n",
              "2                 0            0              1        1632           2   \n",
              "3                 0            1              0        2201           2   \n",
              "4                 0            0              1        2065           2   \n",
              "\n",
              "   Kmeans_Cluster  \n",
              "0               0  \n",
              "1               0  \n",
              "2               0  \n",
              "3               0  \n",
              "4               0  "
            ]
          },
          "execution_count": 7,
          "metadata": {},
          "output_type": "execute_result"
        }
      ],
      "source": [
        "df['Kmeans_Cluster']=clustering.labels_\n",
        "df.head()"
      ]
    },
    {
      "cell_type": "code",
      "execution_count": 8,
      "metadata": {
        "id": "cfLvcikLNf6J"
      },
      "outputs": [],
      "source": [
        "df.to_csv(r'../datasets/own_data/cluster_train.csv',index=False)"
      ]
    },
    {
      "cell_type": "markdown",
      "metadata": {
        "id": "ewjQqOuTNllw"
      },
      "source": [
        "VISUALIZACION"
      ]
    },
    {
      "cell_type": "code",
      "execution_count": 9,
      "metadata": {
        "colab": {
          "base_uri": "https://localhost:8080/",
          "height": 423
        },
        "id": "-VdnYyk-NoZk",
        "outputId": "9dfc210a-d9a9-48b2-906e-a9e3e1ae294d"
      },
      "outputs": [
        {
          "data": {
            "text/html": [
              "<div>\n",
              "<style scoped>\n",
              "    .dataframe tbody tr th:only-of-type {\n",
              "        vertical-align: middle;\n",
              "    }\n",
              "\n",
              "    .dataframe tbody tr th {\n",
              "        vertical-align: top;\n",
              "    }\n",
              "\n",
              "    .dataframe thead th {\n",
              "        text-align: right;\n",
              "    }\n",
              "</style>\n",
              "<table border=\"1\" class=\"dataframe\">\n",
              "  <thead>\n",
              "    <tr style=\"text-align: right;\">\n",
              "      <th></th>\n",
              "      <th>Componente_1</th>\n",
              "      <th>Componente_2</th>\n",
              "      <th>Kmeans_Cluster</th>\n",
              "    </tr>\n",
              "  </thead>\n",
              "  <tbody>\n",
              "    <tr>\n",
              "      <th>0</th>\n",
              "      <td>-79.422516</td>\n",
              "      <td>406.620842</td>\n",
              "      <td>0</td>\n",
              "    </tr>\n",
              "    <tr>\n",
              "      <th>1</th>\n",
              "      <td>-1502.970802</td>\n",
              "      <td>741.508585</td>\n",
              "      <td>0</td>\n",
              "    </tr>\n",
              "    <tr>\n",
              "      <th>2</th>\n",
              "      <td>-512.940892</td>\n",
              "      <td>23.225140</td>\n",
              "      <td>0</td>\n",
              "    </tr>\n",
              "    <tr>\n",
              "      <th>3</th>\n",
              "      <td>57.004955</td>\n",
              "      <td>722.442524</td>\n",
              "      <td>0</td>\n",
              "    </tr>\n",
              "    <tr>\n",
              "      <th>4</th>\n",
              "      <td>-80.098530</td>\n",
              "      <td>-93.593573</td>\n",
              "      <td>0</td>\n",
              "    </tr>\n",
              "    <tr>\n",
              "      <th>...</th>\n",
              "      <td>...</td>\n",
              "      <td>...</td>\n",
              "      <td>...</td>\n",
              "    </tr>\n",
              "    <tr>\n",
              "      <th>4353</th>\n",
              "      <td>130.608195</td>\n",
              "      <td>-310.874633</td>\n",
              "      <td>0</td>\n",
              "    </tr>\n",
              "    <tr>\n",
              "      <th>4354</th>\n",
              "      <td>-1097.390266</td>\n",
              "      <td>-309.216442</td>\n",
              "      <td>0</td>\n",
              "    </tr>\n",
              "    <tr>\n",
              "      <th>4355</th>\n",
              "      <td>-512.940438</td>\n",
              "      <td>23.223327</td>\n",
              "      <td>0</td>\n",
              "    </tr>\n",
              "    <tr>\n",
              "      <th>4356</th>\n",
              "      <td>-513.390765</td>\n",
              "      <td>-310.006267</td>\n",
              "      <td>0</td>\n",
              "    </tr>\n",
              "    <tr>\n",
              "      <th>4357</th>\n",
              "      <td>-79.421952</td>\n",
              "      <td>406.589307</td>\n",
              "      <td>0</td>\n",
              "    </tr>\n",
              "  </tbody>\n",
              "</table>\n",
              "<p>4358 rows × 3 columns</p>\n",
              "</div>"
            ],
            "text/plain": [
              "      Componente_1  Componente_2  Kmeans_Cluster\n",
              "0       -79.422516    406.620842               0\n",
              "1     -1502.970802    741.508585               0\n",
              "2      -512.940892     23.225140               0\n",
              "3        57.004955    722.442524               0\n",
              "4       -80.098530    -93.593573               0\n",
              "...            ...           ...             ...\n",
              "4353    130.608195   -310.874633               0\n",
              "4354  -1097.390266   -309.216442               0\n",
              "4355   -512.940438     23.223327               0\n",
              "4356   -513.390765   -310.006267               0\n",
              "4357    -79.421952    406.589307               0\n",
              "\n",
              "[4358 rows x 3 columns]"
            ]
          },
          "execution_count": 9,
          "metadata": {},
          "output_type": "execute_result"
        }
      ],
      "source": [
        "from sklearn.decomposition import PCA\n",
        "\n",
        "pca = PCA(n_components=2)\n",
        "pca_mt_cl = pca.fit_transform(df_perf_test)\n",
        "pca_mt_cl_df = pd.DataFrame(data=pca_mt_cl, columns = ['Componente_1', 'Componente_2'])\n",
        "pca_nombres_mt = pd.concat([pca_mt_cl_df, df[['Kmeans_Cluster']]], axis=1)\n",
        "\n",
        "pca_nombres_mt"
      ]
    },
    {
      "cell_type": "code",
      "execution_count": 10,
      "metadata": {
        "colab": {
          "base_uri": "https://localhost:8080/",
          "height": 417
        },
        "id": "4LU1cp_FPGIB",
        "outputId": "c068cdc3-2b43-42f3-ba15-c63c113a8bec"
      },
      "outputs": [
        {
          "data": {
            "image/png": "[encoded data removed]",
            "text/plain": [
              "<Figure size 432x432 with 1 Axes>"
            ]
          },
          "metadata": {},
          "output_type": "display_data"
        }
      ],
      "source": [
        "fig = plt.figure(figsize = (6,6))\n",
        "\n",
        "ax = fig.add_subplot(1,1,1)\n",
        "ax.set_xlabel('Componente 1', fontsize = 15)\n",
        "ax.set_ylabel('Componente 2', fontsize = 15)\n",
        "ax.set_title('Componentes Principales', fontsize = 20)\n",
        "\n",
        "color_theme = np.array([\"blue\", \"green\", \"orange\"])\n",
        "ax.scatter(x = pca_nombres_mt.Componente_1, y = pca_nombres_mt.Componente_2,\n",
        "          c=color_theme[pca_nombres_mt.Kmeans_Cluster], s = 50)\n",
        "plt.show()"
      ]
    }
  ],
  "metadata": {
    "colab": {
      "name": "Clusterizacion.ipynb",
      "provenance": []
    },
    "interpreter": {
      "hash": "52634da84371cba311ea128a5ea7cdc41ff074b781779e754b270ff9f8153cee"
    },
    "kernelspec": {
      "display_name": "Python 3.9.6 64-bit",
      "language": "python",
      "name": "python3"
    },
    "language_info": {
      "codemirror_mode": {
        "name": "ipython",
        "version": 3
      },
      "file_extension": ".py",
      "mimetype": "text/x-python",
      "name": "python",
      "nbconvert_exporter": "python",
      "pygments_lexer": "ipython3",
      "version": "3.9.6"
    }
  },
  "nbformat": 4,
  "nbformat_minor": 0
}
