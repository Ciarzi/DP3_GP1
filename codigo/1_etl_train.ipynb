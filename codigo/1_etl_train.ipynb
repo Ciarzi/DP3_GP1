{
  "cells": [
    {
      "cell_type": "markdown",
      "metadata": {
        "id": "wy-NRh0_yc5M"
      },
      "source": [
        "# **ETL TRAIN**"
      ]
    },
    {
      "cell_type": "markdown",
      "metadata": {
        "id": "uCPseqYXyc5O"
      },
      "source": [
        "## CONFIGURACIÓN INICIAL"
      ]
    },
    {
      "cell_type": "code",
      "execution_count": 60,
      "metadata": {
        "colab": {
          "base_uri": "https://localhost:8080/"
        },
        "id": "xxnd7hUfyc5R",
        "outputId": "27d3ae4e-7933-4a82-aa35-0a083d3ce381"
      },
      "outputs": [
        {
          "name": "stdout",
          "output_type": "stream",
          "text": [
            "\u001b[33mDEPRECATION: Configuring installation scheme with distutils config files is deprecated and will no longer work in the near future. If you are using a Homebrew or Linuxbrew Python, please see discussion at https://github.com/Homebrew/homebrew-core/issues/76621\u001b[0m\u001b[33m\n",
            "\u001b[0mRequirement already satisfied: reverse_geocoder in /usr/local/lib/python3.9/site-packages (1.5.1)\n",
            "Requirement already satisfied: scipy>=0.17.1 in /usr/local/lib/python3.9/site-packages (from reverse_geocoder) (1.8.0)\n",
            "Requirement already satisfied: numpy>=1.11.0 in /usr/local/lib/python3.9/site-packages (from reverse_geocoder) (1.22.3)\n",
            "\u001b[33mDEPRECATION: Configuring installation scheme with distutils config files is deprecated and will no longer work in the near future. If you are using a Homebrew or Linuxbrew Python, please see discussion at https://github.com/Homebrew/homebrew-core/issues/76621\u001b[0m\u001b[33m\n",
            "\u001b[0m\u001b[33mDEPRECATION: Configuring installation scheme with distutils config files is deprecated and will no longer work in the near future. If you are using a Homebrew or Linuxbrew Python, please see discussion at https://github.com/Homebrew/homebrew-core/issues/76621\u001b[0m\u001b[33m\n",
            "\u001b[0mRequirement already satisfied: seaborn in /usr/local/lib/python3.9/site-packages (0.11.2)\n",
            "Requirement already satisfied: numpy>=1.15 in /usr/local/lib/python3.9/site-packages (from seaborn) (1.22.3)\n",
            "Requirement already satisfied: pandas>=0.23 in /usr/local/lib/python3.9/site-packages (from seaborn) (1.4.2)\n",
            "Requirement already satisfied: matplotlib>=2.2 in /usr/local/lib/python3.9/site-packages (from seaborn) (3.5.2)\n",
            "Requirement already satisfied: scipy>=1.0 in /usr/local/lib/python3.9/site-packages (from seaborn) (1.8.0)\n",
            "Requirement already satisfied: packaging>=20.0 in /usr/local/lib/python3.9/site-packages (from matplotlib>=2.2->seaborn) (21.3)\n",
            "Requirement already satisfied: kiwisolver>=1.0.1 in /usr/local/lib/python3.9/site-packages (from matplotlib>=2.2->seaborn) (1.4.2)\n",
            "Requirement already satisfied: pyparsing>=2.2.1 in /usr/local/lib/python3.9/site-packages (from matplotlib>=2.2->seaborn) (3.0.9)\n",
            "Requirement already satisfied: fonttools>=4.22.0 in /usr/local/lib/python3.9/site-packages (from matplotlib>=2.2->seaborn) (4.33.3)\n",
            "Requirement already satisfied: pillow>=6.2.0 in /usr/local/lib/python3.9/site-packages (from matplotlib>=2.2->seaborn) (9.1.0)\n",
            "Requirement already satisfied: python-dateutil>=2.7 in /usr/local/lib/python3.9/site-packages (from matplotlib>=2.2->seaborn) (2.8.2)\n",
            "Requirement already satisfied: cycler>=0.10 in /usr/local/lib/python3.9/site-packages (from matplotlib>=2.2->seaborn) (0.11.0)\n",
            "Requirement already satisfied: pytz>=2020.1 in /usr/local/lib/python3.9/site-packages (from pandas>=0.23->seaborn) (2022.1)\n",
            "Requirement already satisfied: six>=1.5 in /usr/local/lib/python3.9/site-packages (from python-dateutil>=2.7->matplotlib>=2.2->seaborn) (1.16.0)\n",
            "\u001b[33mDEPRECATION: Configuring installation scheme with distutils config files is deprecated and will no longer work in the near future. If you are using a Homebrew or Linuxbrew Python, please see discussion at https://github.com/Homebrew/homebrew-core/issues/76621\u001b[0m\u001b[33m\n",
            "\u001b[0m\u001b[33mDEPRECATION: Configuring installation scheme with distutils config files is deprecated and will no longer work in the near future. If you are using a Homebrew or Linuxbrew Python, please see discussion at https://github.com/Homebrew/homebrew-core/issues/76621\u001b[0m\u001b[33m\n",
            "\u001b[0mRequirement already satisfied: sklearn in /usr/local/lib/python3.9/site-packages (0.0)\n",
            "Requirement already satisfied: scikit-learn in /usr/local/lib/python3.9/site-packages (from sklearn) (1.0.2)\n",
            "Requirement already satisfied: joblib>=0.11 in /usr/local/lib/python3.9/site-packages (from scikit-learn->sklearn) (1.1.0)\n",
            "Requirement already satisfied: numpy>=1.14.6 in /usr/local/lib/python3.9/site-packages (from scikit-learn->sklearn) (1.22.3)\n",
            "Requirement already satisfied: threadpoolctl>=2.0.0 in /usr/local/lib/python3.9/site-packages (from scikit-learn->sklearn) (3.1.0)\n",
            "Requirement already satisfied: scipy>=1.1.0 in /usr/local/lib/python3.9/site-packages (from scikit-learn->sklearn) (1.8.0)\n",
            "\u001b[33mDEPRECATION: Configuring installation scheme with distutils config files is deprecated and will no longer work in the near future. If you are using a Homebrew or Linuxbrew Python, please see discussion at https://github.com/Homebrew/homebrew-core/issues/76621\u001b[0m\u001b[33m\n",
            "\u001b[0m"
          ]
        }
      ],
      "source": [
        "# descargar librerías\n",
        "!pip install reverse_geocoder\n",
        "!pip install seaborn\n",
        "!pip install sklearn"
      ]
    },
    {
      "cell_type": "code",
      "execution_count": 61,
      "metadata": {
        "id": "sEWjRk8Pyc5T"
      },
      "outputs": [],
      "source": [
        "# importar librerías\n",
        "import pandas as pd\n",
        "import datetime\n",
        "import reverse_geocoder as rg\n",
        "import matplotlib.pyplot as plt\n",
        "import seaborn as sns\n",
        "from pandas.api.types import CategoricalDtype\n",
        "from sklearn.preprocessing import LabelEncoder\n",
        "from sklearn.preprocessing import OneHotEncoder"
      ]
    },
    {
      "cell_type": "code",
      "execution_count": 62,
      "metadata": {
        "id": "rPj6WOGPyc5T"
      },
      "outputs": [],
      "source": [
        "# funcion para pasar de fecha de nacimiento a edad\n",
        "def from_dob_to_age(born):\n",
        "    today = datetime.date.today()\n",
        "    return today.year - born.year - ((today.month, today.day) < (born.month, born.day))"
      ]
    },
    {
      "cell_type": "code",
      "execution_count": 63,
      "metadata": {
        "id": "heJ46ZDqyc5U"
      },
      "outputs": [],
      "source": [
        "# leer csv\n",
        "df_perf_train = pd.read_csv(r'https://raw.githubusercontent.com/Ciarzi/DP3_GP1/main/datasets/train_performance.csv')\n",
        "df_loan_test = pd.read_csv(r'https://raw.githubusercontent.com/Ciarzi/DP3_GP1/main/datasets/test_previous_loan.csv')\n",
        "df_loan_train = pd.read_csv(r'https://raw.githubusercontent.com/Ciarzi/DP3_GP1/main/datasets/train_previous_loan.csv')\n",
        "df_dem_test = pd.read_csv(r'https://raw.githubusercontent.com/Ciarzi/DP3_GP1/main/datasets/test_datos_demograficos.csv')\n",
        "df_dem_train = pd.read_csv(r'https://raw.githubusercontent.com/Ciarzi/DP3_GP1/main/datasets/train_datos_demograficos.csv')\n",
        "df_loc = pd.read_csv(r'https://raw.githubusercontent.com/Ciarzi/DP3_GP1/main/datasets/own_data/datos_localizacion.csv')"
      ]
    },
    {
      "cell_type": "markdown",
      "metadata": {
        "id": "h8MA9p_gyc5U"
      },
      "source": [
        "## ANEXAR DATOS DE CLIENTES Y DE PRÉSTAMOS ANTIGUOS"
      ]
    },
    {
      "cell_type": "code",
      "execution_count": 64,
      "metadata": {
        "colab": {
          "base_uri": "https://localhost:8080/"
        },
        "id": "Sq2jvUj0yc5V",
        "outputId": "fb19c341-533c-4b17-d460-31d7d149630c"
      },
      "outputs": [
        {
          "name": "stderr",
          "output_type": "stream",
          "text": [
            "/var/folders/yq/lh6w6l4x3cngxbjd6ns6gxtr0000gn/T/ipykernel_17526/157330973.py:2: FutureWarning: The frame.append method is deprecated and will be removed from pandas in a future version. Use pandas.concat instead.\n",
            "  df_dem = df_dem_test.append(df_dem_train, ignore_index=True)\n"
          ]
        },
        {
          "data": {
            "text/plain": [
              "(5818, 9)"
            ]
          },
          "execution_count": 64,
          "metadata": {},
          "output_type": "execute_result"
        }
      ],
      "source": [
        "#adjuntar los dos csv\n",
        "df_dem = df_dem_test.append(df_dem_train, ignore_index=True)\n",
        "#eliminar filas que sean idénticas\n",
        "df_dem.drop_duplicates(inplace = True)\n",
        "#dimensiones del nuevo dataframe\n",
        "df_dem.shape"
      ]
    },
    {
      "cell_type": "code",
      "execution_count": 65,
      "metadata": {
        "colab": {
          "base_uri": "https://localhost:8080/"
        },
        "id": "jFiiTrHzyc5V",
        "outputId": "38303ccd-3185-4644-cd38-39c33f922b68"
      },
      "outputs": [
        {
          "name": "stderr",
          "output_type": "stream",
          "text": [
            "/var/folders/yq/lh6w6l4x3cngxbjd6ns6gxtr0000gn/T/ipykernel_17526/2168545301.py:2: FutureWarning: The frame.append method is deprecated and will be removed from pandas in a future version. Use pandas.concat instead.\n",
            "  df_loan = df_loan_test.append(df_loan_train, ignore_index=True)\n"
          ]
        },
        {
          "data": {
            "text/plain": [
              "(24090, 12)"
            ]
          },
          "execution_count": 65,
          "metadata": {},
          "output_type": "execute_result"
        }
      ],
      "source": [
        "#adjuntar los dos csv\n",
        "df_loan = df_loan_test.append(df_loan_train, ignore_index=True)\n",
        "#eliminar filas que sean idénticas\n",
        "df_loan.drop_duplicates(inplace = True)\n",
        "#dimensiones del nuevo dataframe\n",
        "df_loan.shape"
      ]
    },
    {
      "cell_type": "markdown",
      "metadata": {
        "id": "h3N_BIRIyc5W"
      },
      "source": [
        "## PREPARAR DATOS PRÉSTAMOS ANTIGUOS"
      ]
    },
    {
      "cell_type": "code",
      "execution_count": 66,
      "metadata": {
        "colab": {
          "base_uri": "https://localhost:8080/",
          "height": 0
        },
        "id": "UcG9HSWRyc5X",
        "outputId": "695a1229-82fc-42aa-f01e-46688e739ffd"
      },
      "outputs": [
        {
          "data": {
            "text/html": [
              "<div>\n",
              "<style scoped>\n",
              "    .dataframe tbody tr th:only-of-type {\n",
              "        vertical-align: middle;\n",
              "    }\n",
              "\n",
              "    .dataframe tbody tr th {\n",
              "        vertical-align: top;\n",
              "    }\n",
              "\n",
              "    .dataframe thead th {\n",
              "        text-align: right;\n",
              "    }\n",
              "</style>\n",
              "<table border=\"1\" class=\"dataframe\">\n",
              "  <thead>\n",
              "    <tr style=\"text-align: right;\">\n",
              "      <th></th>\n",
              "      <th>customerid</th>\n",
              "      <th>systemloanid</th>\n",
              "      <th>loannumber</th>\n",
              "      <th>approveddate</th>\n",
              "      <th>creationdate</th>\n",
              "      <th>loanamount</th>\n",
              "      <th>totaldue</th>\n",
              "      <th>termdays</th>\n",
              "      <th>closeddate</th>\n",
              "      <th>referredby</th>\n",
              "      <th>firstduedate</th>\n",
              "      <th>firstrepaiddate</th>\n",
              "    </tr>\n",
              "  </thead>\n",
              "  <tbody>\n",
              "    <tr>\n",
              "      <th>0</th>\n",
              "      <td>8a858899538ddb8e015390510b321f08</td>\n",
              "      <td>301621635</td>\n",
              "      <td>3</td>\n",
              "      <td>2016-05-17 10:37:00.000000</td>\n",
              "      <td>2016-05-17 09:36:55.000000</td>\n",
              "      <td>10000.0</td>\n",
              "      <td>13000.0</td>\n",
              "      <td>30</td>\n",
              "      <td>2016-06-17 00:04:15.000000</td>\n",
              "      <td>NaN</td>\n",
              "      <td>2016-06-16 00:00:00.000000</td>\n",
              "      <td>2016-06-16 15:44:08.000000</td>\n",
              "    </tr>\n",
              "    <tr>\n",
              "      <th>1</th>\n",
              "      <td>8a858959537a097401537a4e316e25f7</td>\n",
              "      <td>301810201</td>\n",
              "      <td>5</td>\n",
              "      <td>2017-02-04 21:28:59.000000</td>\n",
              "      <td>2017-02-04 20:28:52.000000</td>\n",
              "      <td>30000.0</td>\n",
              "      <td>36800.0</td>\n",
              "      <td>60</td>\n",
              "      <td>2017-03-02 16:22:58.000000</td>\n",
              "      <td>NaN</td>\n",
              "      <td>2017-03-06 00:00:00.000000</td>\n",
              "      <td>2017-03-02 16:07:47.000000</td>\n",
              "    </tr>\n",
              "    <tr>\n",
              "      <th>2</th>\n",
              "      <td>8a858959537a097401537a4e316e25f7</td>\n",
              "      <td>301831255</td>\n",
              "      <td>6</td>\n",
              "      <td>2017-03-04 10:28:22.000000</td>\n",
              "      <td>2017-03-04 09:28:16.000000</td>\n",
              "      <td>30000.0</td>\n",
              "      <td>34400.0</td>\n",
              "      <td>30</td>\n",
              "      <td>2017-04-02 00:44:24.000000</td>\n",
              "      <td>NaN</td>\n",
              "      <td>2017-04-03 00:00:00.000000</td>\n",
              "      <td>2017-04-01 21:29:46.000000</td>\n",
              "    </tr>\n",
              "    <tr>\n",
              "      <th>3</th>\n",
              "      <td>8a8589c253ace09b0153af6ba58f1f31</td>\n",
              "      <td>301627292</td>\n",
              "      <td>3</td>\n",
              "      <td>2016-06-02 14:27:14.000000</td>\n",
              "      <td>2016-06-02 13:27:08.000000</td>\n",
              "      <td>10000.0</td>\n",
              "      <td>13000.0</td>\n",
              "      <td>30</td>\n",
              "      <td>2016-07-04 11:34:04.000000</td>\n",
              "      <td>NaN</td>\n",
              "      <td>2016-07-04 00:00:00.000000</td>\n",
              "      <td>2016-07-04 11:19:01.000000</td>\n",
              "    </tr>\n",
              "    <tr>\n",
              "      <th>4</th>\n",
              "      <td>8a8589c253ace09b0153af6ba58f1f31</td>\n",
              "      <td>301621095</td>\n",
              "      <td>2</td>\n",
              "      <td>2016-05-16 09:13:12.000000</td>\n",
              "      <td>2016-05-16 08:13:04.000000</td>\n",
              "      <td>10000.0</td>\n",
              "      <td>11500.0</td>\n",
              "      <td>15</td>\n",
              "      <td>2016-06-02 00:02:58.000000</td>\n",
              "      <td>NaN</td>\n",
              "      <td>2016-05-31 00:00:00.000000</td>\n",
              "      <td>2016-06-01 15:22:34.000000</td>\n",
              "    </tr>\n",
              "  </tbody>\n",
              "</table>\n",
              "</div>"
            ],
            "text/plain": [
              "                         customerid  systemloanid  loannumber  \\\n",
              "0  8a858899538ddb8e015390510b321f08     301621635           3   \n",
              "1  8a858959537a097401537a4e316e25f7     301810201           5   \n",
              "2  8a858959537a097401537a4e316e25f7     301831255           6   \n",
              "3  8a8589c253ace09b0153af6ba58f1f31     301627292           3   \n",
              "4  8a8589c253ace09b0153af6ba58f1f31     301621095           2   \n",
              "\n",
              "                 approveddate                creationdate  loanamount  \\\n",
              "0  2016-05-17 10:37:00.000000  2016-05-17 09:36:55.000000     10000.0   \n",
              "1  2017-02-04 21:28:59.000000  2017-02-04 20:28:52.000000     30000.0   \n",
              "2  2017-03-04 10:28:22.000000  2017-03-04 09:28:16.000000     30000.0   \n",
              "3  2016-06-02 14:27:14.000000  2016-06-02 13:27:08.000000     10000.0   \n",
              "4  2016-05-16 09:13:12.000000  2016-05-16 08:13:04.000000     10000.0   \n",
              "\n",
              "   totaldue  termdays                  closeddate referredby  \\\n",
              "0   13000.0        30  2016-06-17 00:04:15.000000        NaN   \n",
              "1   36800.0        60  2017-03-02 16:22:58.000000        NaN   \n",
              "2   34400.0        30  2017-04-02 00:44:24.000000        NaN   \n",
              "3   13000.0        30  2016-07-04 11:34:04.000000        NaN   \n",
              "4   11500.0        15  2016-06-02 00:02:58.000000        NaN   \n",
              "\n",
              "                 firstduedate             firstrepaiddate  \n",
              "0  2016-06-16 00:00:00.000000  2016-06-16 15:44:08.000000  \n",
              "1  2017-03-06 00:00:00.000000  2017-03-02 16:07:47.000000  \n",
              "2  2017-04-03 00:00:00.000000  2017-04-01 21:29:46.000000  \n",
              "3  2016-07-04 00:00:00.000000  2016-07-04 11:19:01.000000  \n",
              "4  2016-05-31 00:00:00.000000  2016-06-01 15:22:34.000000  "
            ]
          },
          "execution_count": 66,
          "metadata": {},
          "output_type": "execute_result"
        }
      ],
      "source": [
        "# vista previa\n",
        "df_loan.head()"
      ]
    },
    {
      "cell_type": "code",
      "execution_count": 67,
      "metadata": {
        "id": "J-l3cf2eyc5X"
      },
      "outputs": [],
      "source": [
        "#pasar columnas a fecha\n",
        "df_loan['firstduedate'] = pd.to_datetime(df_loan['firstduedate'])\n",
        "df_loan['firstrepaiddate'] = pd.to_datetime(df_loan['firstrepaiddate'])\n",
        "df_loan['firstrepaiddate'] = pd.to_datetime(df_loan['firstrepaiddate'].dt.date)"
      ]
    },
    {
      "cell_type": "code",
      "execution_count": 68,
      "metadata": {
        "id": "T_FUMhMwyc5X"
      },
      "outputs": [],
      "source": [
        "# guardar si se ha hecho el primer pago antes o después del plazo\n",
        "df_loan['pago_plazo'] = df_loan.apply(lambda x: 1 if (x['firstduedate'] >= x['firstrepaiddate']) else -3, axis=1)"
      ]
    },
    {
      "cell_type": "code",
      "execution_count": 69,
      "metadata": {
        "id": "S4Juv7lWyc5Y"
      },
      "outputs": [],
      "source": [
        "#nos quedamos con las columnas que importan\n",
        "df_loan = df_loan[['customerid','pago_plazo']]"
      ]
    },
    {
      "cell_type": "code",
      "execution_count": 70,
      "metadata": {
        "colab": {
          "base_uri": "https://localhost:8080/",
          "height": 0
        },
        "id": "7kRcjPZfyc5Y",
        "outputId": "529c0210-e39c-429b-8fab-4aae97aee0bf"
      },
      "outputs": [
        {
          "data": {
            "text/html": [
              "<div>\n",
              "<style scoped>\n",
              "    .dataframe tbody tr th:only-of-type {\n",
              "        vertical-align: middle;\n",
              "    }\n",
              "\n",
              "    .dataframe tbody tr th {\n",
              "        vertical-align: top;\n",
              "    }\n",
              "\n",
              "    .dataframe thead th {\n",
              "        text-align: right;\n",
              "    }\n",
              "</style>\n",
              "<table border=\"1\" class=\"dataframe\">\n",
              "  <thead>\n",
              "    <tr style=\"text-align: right;\">\n",
              "      <th></th>\n",
              "      <th>pago_plazo</th>\n",
              "    </tr>\n",
              "    <tr>\n",
              "      <th>customerid</th>\n",
              "      <th></th>\n",
              "    </tr>\n",
              "  </thead>\n",
              "  <tbody>\n",
              "    <tr>\n",
              "      <th>8a1088a0484472eb01484669e3ce4e0b</th>\n",
              "      <td>-3</td>\n",
              "    </tr>\n",
              "    <tr>\n",
              "      <th>8a1a1e7e4f707f8b014f797718316cad</th>\n",
              "      <td>0</td>\n",
              "    </tr>\n",
              "    <tr>\n",
              "      <th>8a1a32fc49b632520149c3b8fdf85139</th>\n",
              "      <td>3</td>\n",
              "    </tr>\n",
              "    <tr>\n",
              "      <th>8a1eb5ba49a682300149c3c068b806c7</th>\n",
              "      <td>4</td>\n",
              "    </tr>\n",
              "    <tr>\n",
              "      <th>8a1edbf14734127f0147356fdb1b1eb2</th>\n",
              "      <td>2</td>\n",
              "    </tr>\n",
              "  </tbody>\n",
              "</table>\n",
              "</div>"
            ],
            "text/plain": [
              "                                  pago_plazo\n",
              "customerid                                  \n",
              "8a1088a0484472eb01484669e3ce4e0b          -3\n",
              "8a1a1e7e4f707f8b014f797718316cad           0\n",
              "8a1a32fc49b632520149c3b8fdf85139           3\n",
              "8a1eb5ba49a682300149c3c068b806c7           4\n",
              "8a1edbf14734127f0147356fdb1b1eb2           2"
            ]
          },
          "execution_count": 70,
          "metadata": {},
          "output_type": "execute_result"
        }
      ],
      "source": [
        "#agrupa el dataframe por cliente, obtienendo para cada uno si ha pagado en plazo o no sus prestamos\n",
        "df_loan_gr = df_loan.groupby(['customerid']).sum()\n",
        "df_loan_gr.head()"
      ]
    },
    {
      "cell_type": "code",
      "execution_count": 71,
      "metadata": {
        "id": "YB2NigEryc5Z"
      },
      "outputs": [],
      "source": [
        "# pasar la columna a binario\n",
        "df_loan_gr['pagos_plazo'] = 1\n",
        "df_loan_gr.loc[df_loan_gr['pago_plazo'] < 0, 'pagos_plazo'] = 0\n",
        "df_loan_gr = df_loan_gr['pagos_plazo']"
      ]
    },
    {
      "cell_type": "markdown",
      "metadata": {
        "id": "5mVj2F-Syc5Z"
      },
      "source": [
        "## ADJUNTAR TODOS LOS DATOS EN UN SOLO DATAFRAME"
      ]
    },
    {
      "cell_type": "code",
      "execution_count": 72,
      "metadata": {
        "colab": {
          "base_uri": "https://localhost:8080/"
        },
        "id": "c_ezKTPOyc5Z",
        "outputId": "e278ba3a-7453-4384-e8e7-e05164012355"
      },
      "outputs": [
        {
          "data": {
            "text/plain": [
              "(4368, 10)"
            ]
          },
          "execution_count": 72,
          "metadata": {},
          "output_type": "execute_result"
        }
      ],
      "source": [
        "df_perf_train.shape"
      ]
    },
    {
      "cell_type": "markdown",
      "metadata": {},
      "source": [
        "Añadir información de los clientes"
      ]
    },
    {
      "cell_type": "code",
      "execution_count": 73,
      "metadata": {
        "colab": {
          "base_uri": "https://localhost:8080/"
        },
        "id": "M3prZbCpyc5a",
        "outputId": "58b54b09-b813-4e17-9183-9bb8c075a409"
      },
      "outputs": [
        {
          "data": {
            "text/plain": [
              "(4368, 18)"
            ]
          },
          "execution_count": 73,
          "metadata": {},
          "output_type": "execute_result"
        }
      ],
      "source": [
        "# se añade la información del cliente\n",
        "df_train = df_perf_train.merge(df_dem, on='customerid', how='left')\n",
        "#ver tamaño del nuvo df\n",
        "df_train.shape"
      ]
    },
    {
      "cell_type": "markdown",
      "metadata": {},
      "source": [
        "Añadir localización de los clientes, que se obtiene de un csv diferente, el cual se ha obtenido con el proceso 1_etl_localizacion.ipynb ya que es un proceso que ha tomado 3 horas, por lo que se ha guardado los resultados en un archivo para tener que ejecutarlo una única vez."
      ]
    },
    {
      "cell_type": "code",
      "execution_count": 74,
      "metadata": {},
      "outputs": [
        {
          "data": {
            "text/plain": [
              "(4368, 20)"
            ]
          },
          "execution_count": 74,
          "metadata": {},
          "output_type": "execute_result"
        }
      ],
      "source": [
        "# se añade la localización de los clientes\n",
        "df_train = df_train.merge(df_loc, on='customerid', how='left')\n",
        "#ver tamaño del nuvo df\n",
        "df_train.shape"
      ]
    },
    {
      "cell_type": "markdown",
      "metadata": {},
      "source": [
        "Añadir información de los préstamos antiguos de los clientes"
      ]
    },
    {
      "cell_type": "code",
      "execution_count": 75,
      "metadata": {
        "colab": {
          "base_uri": "https://localhost:8080/"
        },
        "id": "xOq_4Uqiyc5a",
        "outputId": "301b852f-2087-4ccc-ef4c-7fc155097312"
      },
      "outputs": [
        {
          "data": {
            "text/plain": [
              "(4368, 21)"
            ]
          },
          "execution_count": 75,
          "metadata": {},
          "output_type": "execute_result"
        }
      ],
      "source": [
        "# se añade la información de préstamos antiguos del cliente\n",
        "df_train = df_train.merge(df_loan_gr, on='customerid', how='left')\n",
        "#ver tamaño del nuvo df\n",
        "df_train.shape"
      ]
    },
    {
      "cell_type": "markdown",
      "metadata": {},
      "source": [
        "Añadir información de los préstamos antiguos de los referidos"
      ]
    },
    {
      "cell_type": "code",
      "execution_count": 76,
      "metadata": {
        "colab": {
          "base_uri": "https://localhost:8080/"
        },
        "id": "YBcr8_otyc5a",
        "outputId": "4c232ce5-1604-489e-a230-089f187cd364"
      },
      "outputs": [
        {
          "data": {
            "text/plain": [
              "(4368, 22)"
            ]
          },
          "execution_count": 76,
          "metadata": {},
          "output_type": "execute_result"
        }
      ],
      "source": [
        "# se añade la información de préstamos antiguos del referido del cliente\n",
        "df_train = df_train.merge(df_loan_gr, left_on='referredby', right_on='customerid', how='left')\n",
        "#ver tamaño del nuvo df\n",
        "df_train.shape"
      ]
    },
    {
      "cell_type": "code",
      "execution_count": 77,
      "metadata": {
        "colab": {
          "base_uri": "https://localhost:8080/",
          "height": 0
        },
        "id": "KOhQ-UF0yc5c",
        "outputId": "8b4bb04d-6ab1-413c-8840-ed9503ee9931"
      },
      "outputs": [
        {
          "data": {
            "text/html": [
              "<div>\n",
              "<style scoped>\n",
              "    .dataframe tbody tr th:only-of-type {\n",
              "        vertical-align: middle;\n",
              "    }\n",
              "\n",
              "    .dataframe tbody tr th {\n",
              "        vertical-align: top;\n",
              "    }\n",
              "\n",
              "    .dataframe thead th {\n",
              "        text-align: right;\n",
              "    }\n",
              "</style>\n",
              "<table border=\"1\" class=\"dataframe\">\n",
              "  <thead>\n",
              "    <tr style=\"text-align: right;\">\n",
              "      <th></th>\n",
              "      <th>customerid</th>\n",
              "      <th>systemloanid</th>\n",
              "      <th>loannumber</th>\n",
              "      <th>approveddate</th>\n",
              "      <th>creationdate</th>\n",
              "      <th>loanamount</th>\n",
              "      <th>totaldue</th>\n",
              "      <th>termdays</th>\n",
              "      <th>referredby</th>\n",
              "      <th>good_bad_flag</th>\n",
              "      <th>...</th>\n",
              "      <th>longitude_gps</th>\n",
              "      <th>latitude_gps</th>\n",
              "      <th>bank_name_clients</th>\n",
              "      <th>bank_branch_clients</th>\n",
              "      <th>employment_status_clients</th>\n",
              "      <th>level_of_education_clients</th>\n",
              "      <th>pais</th>\n",
              "      <th>estado</th>\n",
              "      <th>pagos_plazo_x</th>\n",
              "      <th>pagos_plazo_y</th>\n",
              "    </tr>\n",
              "  </thead>\n",
              "  <tbody>\n",
              "    <tr>\n",
              "      <th>0</th>\n",
              "      <td>8a2a81a74ce8c05d014cfb32a0da1049</td>\n",
              "      <td>301994762</td>\n",
              "      <td>12</td>\n",
              "      <td>2017-07-25 08:22:56.000000</td>\n",
              "      <td>2017-07-25 07:22:47.000000</td>\n",
              "      <td>30000.0</td>\n",
              "      <td>34500.0</td>\n",
              "      <td>30</td>\n",
              "      <td>NaN</td>\n",
              "      <td>Good</td>\n",
              "      <td>...</td>\n",
              "      <td>3.432010</td>\n",
              "      <td>6.433055</td>\n",
              "      <td>Diamond Bank</td>\n",
              "      <td>NaN</td>\n",
              "      <td>Permanent</td>\n",
              "      <td>Post-Graduate</td>\n",
              "      <td>NG</td>\n",
              "      <td>Lagos</td>\n",
              "      <td>0.0</td>\n",
              "      <td>NaN</td>\n",
              "    </tr>\n",
              "    <tr>\n",
              "      <th>1</th>\n",
              "      <td>8a85886e54beabf90154c0a29ae757c0</td>\n",
              "      <td>301965204</td>\n",
              "      <td>2</td>\n",
              "      <td>2017-07-05 17:04:41.000000</td>\n",
              "      <td>2017-07-05 16:04:18.000000</td>\n",
              "      <td>15000.0</td>\n",
              "      <td>17250.0</td>\n",
              "      <td>30</td>\n",
              "      <td>NaN</td>\n",
              "      <td>Good</td>\n",
              "      <td>...</td>\n",
              "      <td>3.885298</td>\n",
              "      <td>7.320700</td>\n",
              "      <td>GT Bank</td>\n",
              "      <td>DUGBE,IBADAN</td>\n",
              "      <td>Permanent</td>\n",
              "      <td>Graduate</td>\n",
              "      <td>NG</td>\n",
              "      <td>Oyo</td>\n",
              "      <td>NaN</td>\n",
              "      <td>NaN</td>\n",
              "    </tr>\n",
              "    <tr>\n",
              "      <th>2</th>\n",
              "      <td>8a8588f35438fe12015444567666018e</td>\n",
              "      <td>301966580</td>\n",
              "      <td>7</td>\n",
              "      <td>2017-07-06 14:52:57.000000</td>\n",
              "      <td>2017-07-06 13:52:51.000000</td>\n",
              "      <td>20000.0</td>\n",
              "      <td>22250.0</td>\n",
              "      <td>15</td>\n",
              "      <td>NaN</td>\n",
              "      <td>Good</td>\n",
              "      <td>...</td>\n",
              "      <td>11.139350</td>\n",
              "      <td>10.292041</td>\n",
              "      <td>EcoBank</td>\n",
              "      <td>NaN</td>\n",
              "      <td>Permanent</td>\n",
              "      <td>NaN</td>\n",
              "      <td>NG</td>\n",
              "      <td>Gombe</td>\n",
              "      <td>1.0</td>\n",
              "      <td>NaN</td>\n",
              "    </tr>\n",
              "    <tr>\n",
              "      <th>3</th>\n",
              "      <td>8a85890754145ace015429211b513e16</td>\n",
              "      <td>301999343</td>\n",
              "      <td>3</td>\n",
              "      <td>2017-07-27 19:00:41.000000</td>\n",
              "      <td>2017-07-27 18:00:35.000000</td>\n",
              "      <td>10000.0</td>\n",
              "      <td>11500.0</td>\n",
              "      <td>15</td>\n",
              "      <td>NaN</td>\n",
              "      <td>Good</td>\n",
              "      <td>...</td>\n",
              "      <td>3.985770</td>\n",
              "      <td>7.491708</td>\n",
              "      <td>First Bank</td>\n",
              "      <td>NaN</td>\n",
              "      <td>Permanent</td>\n",
              "      <td>NaN</td>\n",
              "      <td>NG</td>\n",
              "      <td>Oyo</td>\n",
              "      <td>0.0</td>\n",
              "      <td>NaN</td>\n",
              "    </tr>\n",
              "    <tr>\n",
              "      <th>4</th>\n",
              "      <td>8a858970548359cc0154883481981866</td>\n",
              "      <td>301962360</td>\n",
              "      <td>9</td>\n",
              "      <td>2017-07-03 23:42:45.000000</td>\n",
              "      <td>2017-07-03 22:42:39.000000</td>\n",
              "      <td>40000.0</td>\n",
              "      <td>44000.0</td>\n",
              "      <td>30</td>\n",
              "      <td>NaN</td>\n",
              "      <td>Good</td>\n",
              "      <td>...</td>\n",
              "      <td>7.457913</td>\n",
              "      <td>9.076574</td>\n",
              "      <td>GT Bank</td>\n",
              "      <td>NaN</td>\n",
              "      <td>Permanent</td>\n",
              "      <td>Primary</td>\n",
              "      <td>NG</td>\n",
              "      <td>Abuja Federal Capital Territory</td>\n",
              "      <td>1.0</td>\n",
              "      <td>NaN</td>\n",
              "    </tr>\n",
              "  </tbody>\n",
              "</table>\n",
              "<p>5 rows × 22 columns</p>\n",
              "</div>"
            ],
            "text/plain": [
              "                         customerid  systemloanid  loannumber  \\\n",
              "0  8a2a81a74ce8c05d014cfb32a0da1049     301994762          12   \n",
              "1  8a85886e54beabf90154c0a29ae757c0     301965204           2   \n",
              "2  8a8588f35438fe12015444567666018e     301966580           7   \n",
              "3  8a85890754145ace015429211b513e16     301999343           3   \n",
              "4  8a858970548359cc0154883481981866     301962360           9   \n",
              "\n",
              "                 approveddate                creationdate  loanamount  \\\n",
              "0  2017-07-25 08:22:56.000000  2017-07-25 07:22:47.000000     30000.0   \n",
              "1  2017-07-05 17:04:41.000000  2017-07-05 16:04:18.000000     15000.0   \n",
              "2  2017-07-06 14:52:57.000000  2017-07-06 13:52:51.000000     20000.0   \n",
              "3  2017-07-27 19:00:41.000000  2017-07-27 18:00:35.000000     10000.0   \n",
              "4  2017-07-03 23:42:45.000000  2017-07-03 22:42:39.000000     40000.0   \n",
              "\n",
              "   totaldue  termdays referredby good_bad_flag  ... longitude_gps  \\\n",
              "0   34500.0        30        NaN          Good  ...      3.432010   \n",
              "1   17250.0        30        NaN          Good  ...      3.885298   \n",
              "2   22250.0        15        NaN          Good  ...     11.139350   \n",
              "3   11500.0        15        NaN          Good  ...      3.985770   \n",
              "4   44000.0        30        NaN          Good  ...      7.457913   \n",
              "\n",
              "  latitude_gps  bank_name_clients  bank_branch_clients  \\\n",
              "0     6.433055       Diamond Bank                  NaN   \n",
              "1     7.320700            GT Bank         DUGBE,IBADAN   \n",
              "2    10.292041            EcoBank                  NaN   \n",
              "3     7.491708         First Bank                  NaN   \n",
              "4     9.076574            GT Bank                  NaN   \n",
              "\n",
              "  employment_status_clients level_of_education_clients pais  \\\n",
              "0                 Permanent              Post-Graduate   NG   \n",
              "1                 Permanent                   Graduate   NG   \n",
              "2                 Permanent                        NaN   NG   \n",
              "3                 Permanent                        NaN   NG   \n",
              "4                 Permanent                    Primary   NG   \n",
              "\n",
              "                            estado pagos_plazo_x pagos_plazo_y  \n",
              "0                            Lagos           0.0           NaN  \n",
              "1                              Oyo           NaN           NaN  \n",
              "2                            Gombe           1.0           NaN  \n",
              "3                              Oyo           0.0           NaN  \n",
              "4  Abuja Federal Capital Territory           1.0           NaN  \n",
              "\n",
              "[5 rows x 22 columns]"
            ]
          },
          "execution_count": 77,
          "metadata": {},
          "output_type": "execute_result"
        }
      ],
      "source": [
        "df_train.head()"
      ]
    },
    {
      "cell_type": "markdown",
      "metadata": {
        "id": "asZYlDnSyc5d"
      },
      "source": [
        "## TRANSFORMACIONES INICIALES EN EL DATASET"
      ]
    },
    {
      "cell_type": "code",
      "execution_count": 78,
      "metadata": {
        "id": "40nmRTDZyc5d"
      },
      "outputs": [],
      "source": [
        "# quitar columnas que no se usan\n",
        "# elegir las columnas\n",
        "df_train_delete = ['customerid', 'systemloanid','bank_name_clients', 'bank_branch_clients', 'creationdate', 'longitude_gps', 'latitude_gps']\n",
        "# borrar las columnas elegidas\n",
        "df_train.drop(columns = df_train_delete, inplace = True)"
      ]
    },
    {
      "cell_type": "code",
      "execution_count": 79,
      "metadata": {
        "colab": {
          "base_uri": "https://localhost:8080/"
        },
        "id": "7DyTUbSjyc5d",
        "outputId": "2050cd4f-2eda-4324-b5b7-1caa5fe8398a"
      },
      "outputs": [
        {
          "data": {
            "text/plain": [
              "loannumber                      int64\n",
              "approveddate                   object\n",
              "loanamount                    float64\n",
              "totaldue                      float64\n",
              "termdays                        int64\n",
              "referredby                     object\n",
              "good_bad_flag                  object\n",
              "birthdate                      object\n",
              "bank_account_type              object\n",
              "employment_status_clients      object\n",
              "level_of_education_clients     object\n",
              "pais                           object\n",
              "estado                         object\n",
              "pagos_plazo_x                 float64\n",
              "pagos_plazo_y                 float64\n",
              "dtype: object"
            ]
          },
          "execution_count": 79,
          "metadata": {},
          "output_type": "execute_result"
        }
      ],
      "source": [
        "#ver tipo de datos de las columnas\n",
        "df_train.dtypes"
      ]
    },
    {
      "cell_type": "code",
      "execution_count": 80,
      "metadata": {
        "id": "yvoczXDXyc5e"
      },
      "outputs": [],
      "source": [
        "# cambiar el tipo de dato de algunas columnas\n",
        "#cambiar tipo de dato\n",
        "df_train['totaldue'] = df_train['totaldue'].astype('int')\n",
        "df_train['pagos_plazo_x'] = df_train['pagos_plazo_x'].astype('Int64')\n",
        "df_train['pagos_plazo_y'] = df_train['pagos_plazo_x'].astype('Int64')\n",
        "#pasar columna a fecha\n",
        "df_train['birthdate'] = pd.to_datetime(df_train['birthdate'])\n",
        "df_train['approveddate'] = pd.to_datetime(df_train['approveddate'])"
      ]
    },
    {
      "cell_type": "code",
      "execution_count": 81,
      "metadata": {
        "colab": {
          "base_uri": "https://localhost:8080/"
        },
        "id": "oanBwhkZyc5e",
        "outputId": "c729b787-4b0b-417d-ac49-5dd300142950"
      },
      "outputs": [
        {
          "name": "stdout",
          "output_type": "stream",
          "text": [
            "loannumber                       0\n",
            "approveddate                     0\n",
            "loanamount                       0\n",
            "totaldue                         0\n",
            "termdays                         0\n",
            "referredby                    3781\n",
            "good_bad_flag                    0\n",
            "birthdate                        0\n",
            "bank_account_type                0\n",
            "employment_status_clients      657\n",
            "level_of_education_clients    3763\n",
            "pais                             0\n",
            "estado                           1\n",
            "pagos_plazo_x                    9\n",
            "pagos_plazo_y                    9\n",
            "dtype: int64\n"
          ]
        }
      ],
      "source": [
        "# ver registros nulos en las columnas\n",
        "print(df_train.isnull().sum())"
      ]
    },
    {
      "cell_type": "code",
      "execution_count": 82,
      "metadata": {
        "colab": {
          "base_uri": "https://localhost:8080/"
        },
        "id": "CzJsyL86yc5e",
        "outputId": "7f13e7e0-d4bd-482d-8e09-db32fa2169c0"
      },
      "outputs": [
        {
          "data": {
            "text/plain": [
              "2"
            ]
          },
          "execution_count": 82,
          "metadata": {},
          "output_type": "execute_result"
        }
      ],
      "source": [
        "# aparecen algunos 9 registros donde los clientes no tienen datos de préstamos antiguos\n",
        "# sin embargo, la columna loannumber indica lo contrario\n",
        "df_train['loannumber'].min()"
      ]
    },
    {
      "cell_type": "code",
      "execution_count": 83,
      "metadata": {
        "id": "meDlW4_nyc5e"
      },
      "outputs": [],
      "source": [
        "# al ser tan pocos registros, se opta por borrarlos\n",
        "df_train.dropna(subset=['pagos_plazo_x'], inplace = True)"
      ]
    },
    {
      "cell_type": "code",
      "execution_count": 84,
      "metadata": {},
      "outputs": [],
      "source": [
        "# borramos también el registro con el estado nulo\n",
        "df_train.dropna(subset=['estado'], inplace = True)"
      ]
    },
    {
      "cell_type": "code",
      "execution_count": 85,
      "metadata": {
        "colab": {
          "base_uri": "https://localhost:8080/",
          "height": 0
        },
        "id": "E0j4hL2Eyc5e",
        "outputId": "a12bf3cf-569b-4fe5-e8dc-c53f93eb83a8"
      },
      "outputs": [
        {
          "data": {
            "text/html": [
              "<div>\n",
              "<style scoped>\n",
              "    .dataframe tbody tr th:only-of-type {\n",
              "        vertical-align: middle;\n",
              "    }\n",
              "\n",
              "    .dataframe tbody tr th {\n",
              "        vertical-align: top;\n",
              "    }\n",
              "\n",
              "    .dataframe thead th {\n",
              "        text-align: right;\n",
              "    }\n",
              "</style>\n",
              "<table border=\"1\" class=\"dataframe\">\n",
              "  <thead>\n",
              "    <tr style=\"text-align: right;\">\n",
              "      <th></th>\n",
              "      <th>loannumber</th>\n",
              "      <th>approveddate</th>\n",
              "      <th>loanamount</th>\n",
              "      <th>totaldue</th>\n",
              "      <th>termdays</th>\n",
              "      <th>referredby</th>\n",
              "      <th>good_bad_flag</th>\n",
              "      <th>birthdate</th>\n",
              "      <th>bank_account_type</th>\n",
              "      <th>employment_status_clients</th>\n",
              "      <th>level_of_education_clients</th>\n",
              "      <th>pais</th>\n",
              "      <th>estado</th>\n",
              "      <th>pagos_plazo_x</th>\n",
              "      <th>pagos_plazo_y</th>\n",
              "    </tr>\n",
              "  </thead>\n",
              "  <tbody>\n",
              "    <tr>\n",
              "      <th>0</th>\n",
              "      <td>12</td>\n",
              "      <td>2017-07-25 08:22:56</td>\n",
              "      <td>30000.0</td>\n",
              "      <td>34500</td>\n",
              "      <td>30</td>\n",
              "      <td>NaN</td>\n",
              "      <td>Good</td>\n",
              "      <td>1972-01-15</td>\n",
              "      <td>Other</td>\n",
              "      <td>Permanent</td>\n",
              "      <td>Post-Graduate</td>\n",
              "      <td>NG</td>\n",
              "      <td>Lagos</td>\n",
              "      <td>0</td>\n",
              "      <td>0</td>\n",
              "    </tr>\n",
              "    <tr>\n",
              "      <th>2</th>\n",
              "      <td>7</td>\n",
              "      <td>2017-07-06 14:52:57</td>\n",
              "      <td>20000.0</td>\n",
              "      <td>22250</td>\n",
              "      <td>15</td>\n",
              "      <td>NaN</td>\n",
              "      <td>Good</td>\n",
              "      <td>1984-09-18</td>\n",
              "      <td>Other</td>\n",
              "      <td>Permanent</td>\n",
              "      <td>NaN</td>\n",
              "      <td>NG</td>\n",
              "      <td>Gombe</td>\n",
              "      <td>1</td>\n",
              "      <td>1</td>\n",
              "    </tr>\n",
              "    <tr>\n",
              "      <th>3</th>\n",
              "      <td>3</td>\n",
              "      <td>2017-07-27 19:00:41</td>\n",
              "      <td>10000.0</td>\n",
              "      <td>11500</td>\n",
              "      <td>15</td>\n",
              "      <td>NaN</td>\n",
              "      <td>Good</td>\n",
              "      <td>1977-10-10</td>\n",
              "      <td>Savings</td>\n",
              "      <td>Permanent</td>\n",
              "      <td>NaN</td>\n",
              "      <td>NG</td>\n",
              "      <td>Oyo</td>\n",
              "      <td>0</td>\n",
              "      <td>0</td>\n",
              "    </tr>\n",
              "    <tr>\n",
              "      <th>4</th>\n",
              "      <td>9</td>\n",
              "      <td>2017-07-03 23:42:45</td>\n",
              "      <td>40000.0</td>\n",
              "      <td>44000</td>\n",
              "      <td>30</td>\n",
              "      <td>NaN</td>\n",
              "      <td>Good</td>\n",
              "      <td>1986-09-07</td>\n",
              "      <td>Other</td>\n",
              "      <td>Permanent</td>\n",
              "      <td>Primary</td>\n",
              "      <td>NG</td>\n",
              "      <td>Abuja Federal Capital Territory</td>\n",
              "      <td>1</td>\n",
              "      <td>1</td>\n",
              "    </tr>\n",
              "    <tr>\n",
              "      <th>5</th>\n",
              "      <td>8</td>\n",
              "      <td>2017-07-19 21:46:24</td>\n",
              "      <td>30000.0</td>\n",
              "      <td>39000</td>\n",
              "      <td>60</td>\n",
              "      <td>NaN</td>\n",
              "      <td>Good</td>\n",
              "      <td>1972-12-22</td>\n",
              "      <td>Savings</td>\n",
              "      <td>Permanent</td>\n",
              "      <td>NaN</td>\n",
              "      <td>NG</td>\n",
              "      <td>Lagos</td>\n",
              "      <td>1</td>\n",
              "      <td>1</td>\n",
              "    </tr>\n",
              "  </tbody>\n",
              "</table>\n",
              "</div>"
            ],
            "text/plain": [
              "   loannumber        approveddate  loanamount  totaldue  termdays referredby  \\\n",
              "0          12 2017-07-25 08:22:56     30000.0     34500        30        NaN   \n",
              "2           7 2017-07-06 14:52:57     20000.0     22250        15        NaN   \n",
              "3           3 2017-07-27 19:00:41     10000.0     11500        15        NaN   \n",
              "4           9 2017-07-03 23:42:45     40000.0     44000        30        NaN   \n",
              "5           8 2017-07-19 21:46:24     30000.0     39000        60        NaN   \n",
              "\n",
              "  good_bad_flag  birthdate bank_account_type employment_status_clients  \\\n",
              "0          Good 1972-01-15             Other                 Permanent   \n",
              "2          Good 1984-09-18             Other                 Permanent   \n",
              "3          Good 1977-10-10           Savings                 Permanent   \n",
              "4          Good 1986-09-07             Other                 Permanent   \n",
              "5          Good 1972-12-22           Savings                 Permanent   \n",
              "\n",
              "  level_of_education_clients pais                           estado  \\\n",
              "0              Post-Graduate   NG                            Lagos   \n",
              "2                        NaN   NG                            Gombe   \n",
              "3                        NaN   NG                              Oyo   \n",
              "4                    Primary   NG  Abuja Federal Capital Territory   \n",
              "5                        NaN   NG                            Lagos   \n",
              "\n",
              "   pagos_plazo_x  pagos_plazo_y  \n",
              "0              0              0  \n",
              "2              1              1  \n",
              "3              0              0  \n",
              "4              1              1  \n",
              "5              1              1  "
            ]
          },
          "execution_count": 85,
          "metadata": {},
          "output_type": "execute_result"
        }
      ],
      "source": [
        "df_train.head()"
      ]
    },
    {
      "cell_type": "markdown",
      "metadata": {
        "id": "Yy2MlJB2yc5f"
      },
      "source": [
        "## TRANSFORMACIONES EN COLUMNAS"
      ]
    },
    {
      "cell_type": "markdown",
      "metadata": {
        "id": "4RYS65Ulyc5f"
      },
      "source": [
        "### Histórico de pagos del cliente"
      ]
    },
    {
      "cell_type": "markdown",
      "metadata": {
        "id": "lFeVZuDUyc5f"
      },
      "source": [
        "- 0: El cliente tiene un mal historial de pagos\n",
        "- 1: El cliente tiene un buen historial de pagos"
      ]
    },
    {
      "cell_type": "code",
      "execution_count": 86,
      "metadata": {
        "id": "bSNjegyEyc5f"
      },
      "outputs": [],
      "source": [
        "df_train.rename(columns={'pagos_plazo_x': 'historial'}, inplace = True)\n"
      ]
    },
    {
      "cell_type": "markdown",
      "metadata": {
        "id": "mYOLhEVQyc5f"
      },
      "source": [
        "### Referido"
      ]
    },
    {
      "cell_type": "markdown",
      "metadata": {
        "id": "0aCOykfSyc5f"
      },
      "source": [
        "- 0: El cliente ha sido referido por un cliente con un mal historial de pagos\n",
        "- 1: El cliente no ha sido referido\n",
        "- 2: El cliente ha sido referido por un cliente sin historial de pagos\n",
        "- 3: El cliente ha sido referido por un cliente con un buen historial de pagos"
      ]
    },
    {
      "cell_type": "code",
      "execution_count": 87,
      "metadata": {
        "id": "nKnQu7Dxyc5g"
      },
      "outputs": [],
      "source": [
        "df_train['referido'] = 0\n",
        "df_train.loc[df_train['referredby'].isnull(), 'referido'] = 1\n",
        "df_train.loc[(df_train['referredby'].notnull()) & (df_train['pagos_plazo_y'].isnull()), 'referido'] = 2\n",
        "df_train.loc[(df_train['referredby'].notnull()) & (df_train['pagos_plazo_y'] == 1), 'referido'] = 3\n",
        "# borrar columnas que ya no se usan\n",
        "df_train.drop(columns = ['referredby', 'pagos_plazo_y'], inplace = True)"
      ]
    },
    {
      "cell_type": "markdown",
      "metadata": {
        "id": "NbdEUsvgyc5g"
      },
      "source": [
        "### Columna a predecir"
      ]
    },
    {
      "cell_type": "code",
      "execution_count": 88,
      "metadata": {
        "id": "LZhoe0reyc5g"
      },
      "outputs": [],
      "source": [
        "df_train['flag'] = 0\n",
        "df_train.loc[df_train['good_bad_flag'] == 'Good', 'flag'] = 1\n",
        "#convertimos la columna a int\n",
        "df_train['flag'] = df_train['flag'].astype('Int64')\n",
        "# quitar la columna que ya no se usa\n",
        "df_train.drop(columns = ['good_bad_flag'], inplace = True)"
      ]
    },
    {
      "cell_type": "markdown",
      "metadata": {
        "id": "o7MlMGeYyc5g"
      },
      "source": [
        "### Edad"
      ]
    },
    {
      "cell_type": "code",
      "execution_count": 89,
      "metadata": {
        "id": "4Wc7jQ0Kyc5g"
      },
      "outputs": [],
      "source": [
        "# pasar de fecha de nacimiento a edad\n",
        "df_train['age'] = df_train['birthdate'].apply(lambda x: from_dob_to_age(x)).astype('Int64')\n",
        "# quitar la columna que ya no se usa\n",
        "df_train.drop(columns = ['birthdate'], inplace = True)"
      ]
    },
    {
      "cell_type": "markdown",
      "metadata": {
        "id": "9A6IswUByc5h"
      },
      "source": [
        "### Parte del mes del pago"
      ]
    },
    {
      "cell_type": "markdown",
      "metadata": {
        "id": "MCZVOQIbyc5h"
      },
      "source": [
        "- 0: Final de mes\n",
        "- 1: Mitad de mes\n",
        "- 2: Principio de mes"
      ]
    },
    {
      "cell_type": "code",
      "execution_count": 90,
      "metadata": {
        "id": "kKm_VUuAyc5h"
      },
      "outputs": [],
      "source": [
        "# a partir de approveddate y termdays, se crea la columna firstduedate\n",
        "df_train['firstduedate'] = df_train.apply(lambda x: x['approveddate'] + pd.DateOffset(15) if x['termdays'] == 15 else x['approveddate'] + pd.DateOffset(30), axis=1)\n"
      ]
    },
    {
      "cell_type": "code",
      "execution_count": 91,
      "metadata": {
        "id": "8iQy67T1yc5h"
      },
      "outputs": [],
      "source": [
        "# se divide en si el dia de pago es a principio de mes, a mitad o a final\n",
        "df_train.loc[df_train['firstduedate'].dt.day <= 10, 'parte_mes_pago'] = 3\n",
        "df_train.loc[(df_train['firstduedate'].dt.day > 10) & (df_train['firstduedate'].dt.day <= 20), 'parte_mes_pago'] = 2\n",
        "df_train.loc[df_train['firstduedate'].dt.day > 20, 'parte_mes_pago'] = 1\n",
        "#cambiar tipo de dato\n",
        "df_train['parte_mes_pago'] = df_train['parte_mes_pago'].astype('Int64')\n",
        "# borrar columnas que ya no se usan\n",
        "df_train.drop(columns = ['approveddate', 'firstduedate'], inplace = True)"
      ]
    },
    {
      "cell_type": "markdown",
      "metadata": {
        "id": "r2UM04PQyc5h"
      },
      "source": [
        "### Deuda por día"
      ]
    },
    {
      "cell_type": "code",
      "execution_count": 92,
      "metadata": {
        "id": "KRY1qXLfyc5h"
      },
      "outputs": [],
      "source": [
        "df_train['due_per_day'] = df_train.apply(lambda x: x['totaldue'] / x['termdays'], axis=1)\n",
        "df_train['due_per_day'] = df_train['due_per_day'].astype('int')"
      ]
    },
    {
      "cell_type": "markdown",
      "metadata": {},
      "source": [
        "### Interés"
      ]
    },
    {
      "cell_type": "code",
      "execution_count": 93,
      "metadata": {},
      "outputs": [],
      "source": [
        "df_train['interes'] = df_train.apply(lambda x: ((x['totaldue'] - x['loanamount']) / x['loanamount']) * 100, axis=1)\n",
        "# borrar columnas que ya no se usan\n",
        "df_train.drop(columns = ['termdays', 'totaldue', 'loanamount'], inplace = True)"
      ]
    },
    {
      "cell_type": "markdown",
      "metadata": {
        "id": "meof8BUlyc5i"
      },
      "source": [
        "### Tipo de cuenta del banco"
      ]
    },
    {
      "cell_type": "markdown",
      "metadata": {
        "id": "zmEjhAyryc5i"
      },
      "source": [
        "Dummies para cada tipo"
      ]
    },
    {
      "cell_type": "code",
      "execution_count": 94,
      "metadata": {
        "colab": {
          "base_uri": "https://localhost:8080/",
          "height": 487
        },
        "id": "ndFdc4XGyc5i",
        "outputId": "1d9a1eb8-0c49-440b-9284-aa664795cecd"
      },
      "outputs": [
        {
          "data": {
            "text/plain": [
              "Savings    3409\n",
              "Other       885\n",
              "Current      64\n",
              "Name: bank_account_type, dtype: int64"
            ]
          },
          "execution_count": 94,
          "metadata": {},
          "output_type": "execute_result"
        }
      ],
      "source": [
        "#ver distribución\n",
        "df_train['bank_account_type'].value_counts(dropna = False)"
      ]
    },
    {
      "cell_type": "code",
      "execution_count": 95,
      "metadata": {
        "id": "kNbA38W5yc5i"
      },
      "outputs": [
        {
          "data": {
            "text/plain": [
              "\"\\ndf_train['account_type'] = 0\\ndf_train.loc[df_train['bank_account_type'] == 'Current', 'account_type'] = 1\\ndf_train.loc[df_train['bank_account_type'] == 'Savings', 'account_type'] = 2\\n#borrar columnas que ya no se usa\\ndf_train.drop(columns = ['bank_account_type'], inplace = True)\\n\""
            ]
          },
          "execution_count": 95,
          "metadata": {},
          "output_type": "execute_result"
        }
      ],
      "source": [
        "# Inicialmente se decide hacer un label encoding, pero finalmente se usa un one hot encoding\n",
        "'''\n",
        "df_train['account_type'] = 0\n",
        "df_train.loc[df_train['bank_account_type'] == 'Current', 'account_type'] = 1\n",
        "df_train.loc[df_train['bank_account_type'] == 'Savings', 'account_type'] = 2\n",
        "#borrar columnas que ya no se usa\n",
        "df_train.drop(columns = ['bank_account_type'], inplace = True)\n",
        "'''"
      ]
    },
    {
      "cell_type": "code",
      "execution_count": 96,
      "metadata": {
        "colab": {
          "base_uri": "https://localhost:8080/",
          "height": 487
        },
        "id": "pRq4S_s_6n41",
        "outputId": "b3c30528-db5a-4970-b492-9dc19f13de0d"
      },
      "outputs": [
        {
          "data": {
            "text/html": [
              "<div>\n",
              "<style scoped>\n",
              "    .dataframe tbody tr th:only-of-type {\n",
              "        vertical-align: middle;\n",
              "    }\n",
              "\n",
              "    .dataframe tbody tr th {\n",
              "        vertical-align: top;\n",
              "    }\n",
              "\n",
              "    .dataframe thead th {\n",
              "        text-align: right;\n",
              "    }\n",
              "</style>\n",
              "<table border=\"1\" class=\"dataframe\">\n",
              "  <thead>\n",
              "    <tr style=\"text-align: right;\">\n",
              "      <th></th>\n",
              "      <th>loannumber</th>\n",
              "      <th>employment_status_clients</th>\n",
              "      <th>level_of_education_clients</th>\n",
              "      <th>pais</th>\n",
              "      <th>estado</th>\n",
              "      <th>historial</th>\n",
              "      <th>referido</th>\n",
              "      <th>flag</th>\n",
              "      <th>age</th>\n",
              "      <th>parte_mes_pago</th>\n",
              "      <th>due_per_day</th>\n",
              "      <th>interes</th>\n",
              "      <th>bank_account_type_Current</th>\n",
              "      <th>bank_account_type_Other</th>\n",
              "      <th>bank_account_type_Savings</th>\n",
              "    </tr>\n",
              "  </thead>\n",
              "  <tbody>\n",
              "    <tr>\n",
              "      <th>0</th>\n",
              "      <td>12</td>\n",
              "      <td>Permanent</td>\n",
              "      <td>Post-Graduate</td>\n",
              "      <td>NG</td>\n",
              "      <td>Lagos</td>\n",
              "      <td>0</td>\n",
              "      <td>1</td>\n",
              "      <td>1</td>\n",
              "      <td>50</td>\n",
              "      <td>1</td>\n",
              "      <td>1150</td>\n",
              "      <td>15.00</td>\n",
              "      <td>0</td>\n",
              "      <td>1</td>\n",
              "      <td>0</td>\n",
              "    </tr>\n",
              "    <tr>\n",
              "      <th>2</th>\n",
              "      <td>7</td>\n",
              "      <td>Permanent</td>\n",
              "      <td>NaN</td>\n",
              "      <td>NG</td>\n",
              "      <td>Gombe</td>\n",
              "      <td>1</td>\n",
              "      <td>1</td>\n",
              "      <td>1</td>\n",
              "      <td>37</td>\n",
              "      <td>1</td>\n",
              "      <td>1483</td>\n",
              "      <td>11.25</td>\n",
              "      <td>0</td>\n",
              "      <td>1</td>\n",
              "      <td>0</td>\n",
              "    </tr>\n",
              "    <tr>\n",
              "      <th>3</th>\n",
              "      <td>3</td>\n",
              "      <td>Permanent</td>\n",
              "      <td>NaN</td>\n",
              "      <td>NG</td>\n",
              "      <td>Oyo</td>\n",
              "      <td>0</td>\n",
              "      <td>1</td>\n",
              "      <td>1</td>\n",
              "      <td>44</td>\n",
              "      <td>2</td>\n",
              "      <td>766</td>\n",
              "      <td>15.00</td>\n",
              "      <td>0</td>\n",
              "      <td>0</td>\n",
              "      <td>1</td>\n",
              "    </tr>\n",
              "    <tr>\n",
              "      <th>4</th>\n",
              "      <td>9</td>\n",
              "      <td>Permanent</td>\n",
              "      <td>Primary</td>\n",
              "      <td>NG</td>\n",
              "      <td>Abuja Federal Capital Territory</td>\n",
              "      <td>1</td>\n",
              "      <td>1</td>\n",
              "      <td>1</td>\n",
              "      <td>35</td>\n",
              "      <td>3</td>\n",
              "      <td>1466</td>\n",
              "      <td>10.00</td>\n",
              "      <td>0</td>\n",
              "      <td>1</td>\n",
              "      <td>0</td>\n",
              "    </tr>\n",
              "    <tr>\n",
              "      <th>5</th>\n",
              "      <td>8</td>\n",
              "      <td>Permanent</td>\n",
              "      <td>NaN</td>\n",
              "      <td>NG</td>\n",
              "      <td>Lagos</td>\n",
              "      <td>1</td>\n",
              "      <td>1</td>\n",
              "      <td>1</td>\n",
              "      <td>49</td>\n",
              "      <td>2</td>\n",
              "      <td>650</td>\n",
              "      <td>30.00</td>\n",
              "      <td>0</td>\n",
              "      <td>0</td>\n",
              "      <td>1</td>\n",
              "    </tr>\n",
              "  </tbody>\n",
              "</table>\n",
              "</div>"
            ],
            "text/plain": [
              "   loannumber employment_status_clients level_of_education_clients pais  \\\n",
              "0          12                 Permanent              Post-Graduate   NG   \n",
              "2           7                 Permanent                        NaN   NG   \n",
              "3           3                 Permanent                        NaN   NG   \n",
              "4           9                 Permanent                    Primary   NG   \n",
              "5           8                 Permanent                        NaN   NG   \n",
              "\n",
              "                            estado  historial  referido  flag  age  \\\n",
              "0                            Lagos          0         1     1   50   \n",
              "2                            Gombe          1         1     1   37   \n",
              "3                              Oyo          0         1     1   44   \n",
              "4  Abuja Federal Capital Territory          1         1     1   35   \n",
              "5                            Lagos          1         1     1   49   \n",
              "\n",
              "   parte_mes_pago  due_per_day  interes  bank_account_type_Current  \\\n",
              "0               1         1150    15.00                          0   \n",
              "2               1         1483    11.25                          0   \n",
              "3               2          766    15.00                          0   \n",
              "4               3         1466    10.00                          0   \n",
              "5               2          650    30.00                          0   \n",
              "\n",
              "   bank_account_type_Other  bank_account_type_Savings  \n",
              "0                        1                          0  \n",
              "2                        1                          0  \n",
              "3                        0                          1  \n",
              "4                        1                          0  \n",
              "5                        0                          1  "
            ]
          },
          "execution_count": 96,
          "metadata": {},
          "output_type": "execute_result"
        }
      ],
      "source": [
        "# one hot encoding\n",
        "df_train = pd.concat([df_train,pd.get_dummies(df_train['bank_account_type'], prefix='bank_account_type')],join='inner',axis=1)\n",
        "df_train.drop(['bank_account_type'],axis=1, inplace=True)\n",
        "df_train.head()"
      ]
    },
    {
      "cell_type": "code",
      "execution_count": 97,
      "metadata": {},
      "outputs": [],
      "source": [
        "# Cambiar nombre de las columnas\n",
        "cambios_nombre = {'bank_account_type_Current':'cuenta_corriente', 'bank_account_type_Other':'cuenta_otra', 'bank_account_type_Savings':'cuenta_ahorro'}\n",
        "df_train.rename(columns = cambios_nombre, inplace = True)"
      ]
    },
    {
      "cell_type": "markdown",
      "metadata": {
        "id": "miSOBVV1yc5i"
      },
      "source": [
        "### Localización"
      ]
    },
    {
      "cell_type": "code",
      "execution_count": 98,
      "metadata": {},
      "outputs": [
        {
          "data": {
            "text/plain": [
              "NG    4320\n",
              "US      14\n",
              "GB       4\n",
              "AE       3\n",
              "BJ       3\n",
              "GH       3\n",
              "CI       2\n",
              "RU       2\n",
              "CM       1\n",
              "SA       1\n",
              "ES       1\n",
              "AU       1\n",
              "TH       1\n",
              "NE       1\n",
              "CN       1\n",
              "Name: pais, dtype: int64"
            ]
          },
          "execution_count": 98,
          "metadata": {},
          "output_type": "execute_result"
        }
      ],
      "source": [
        "# vemos de que pais hay información\n",
        "df_train['pais'].value_counts(dropna = False)"
      ]
    },
    {
      "cell_type": "markdown",
      "metadata": {},
      "source": [
        "Más del 99% de los datos son de Nigeria. Para estos casos, se va añadir el pib per cápita del estado de Nigeria, y para los casos fuera del país, se va a usar el pib per cápita de dicho país."
      ]
    },
    {
      "cell_type": "code",
      "execution_count": 99,
      "metadata": {},
      "outputs": [],
      "source": [
        "# leemos los csv con los pib per capita de los estados de Nigeria y de los otros países que aparecen\n",
        "df_pib_nigeria = pd.read_csv(r'https://raw.githubusercontent.com/Ciarzi/DP3_GP1/main/datasets/own_data/nigeria_pib_capita.csv')\n",
        "df_pib_mundo = pd.read_csv(r'https://raw.githubusercontent.com/Ciarzi/DP3_GP1/main/datasets/own_data/mundo_pib_capita.csv')"
      ]
    },
    {
      "cell_type": "code",
      "execution_count": 100,
      "metadata": {},
      "outputs": [
        {
          "data": {
            "text/html": [
              "<div>\n",
              "<style scoped>\n",
              "    .dataframe tbody tr th:only-of-type {\n",
              "        vertical-align: middle;\n",
              "    }\n",
              "\n",
              "    .dataframe tbody tr th {\n",
              "        vertical-align: top;\n",
              "    }\n",
              "\n",
              "    .dataframe thead th {\n",
              "        text-align: right;\n",
              "    }\n",
              "</style>\n",
              "<table border=\"1\" class=\"dataframe\">\n",
              "  <thead>\n",
              "    <tr style=\"text-align: right;\">\n",
              "      <th></th>\n",
              "      <th>estado</th>\n",
              "      <th>pib_capita_estado</th>\n",
              "    </tr>\n",
              "  </thead>\n",
              "  <tbody>\n",
              "    <tr>\n",
              "      <th>0</th>\n",
              "      <td>Abuja Federal Capital Territory</td>\n",
              "      <td>US$2317</td>\n",
              "    </tr>\n",
              "    <tr>\n",
              "      <th>1</th>\n",
              "      <td>Lagos</td>\n",
              "      <td>US$2174</td>\n",
              "    </tr>\n",
              "    <tr>\n",
              "      <th>2</th>\n",
              "      <td>Rivers</td>\n",
              "      <td>US$2396</td>\n",
              "    </tr>\n",
              "    <tr>\n",
              "      <th>3</th>\n",
              "      <td>Delta</td>\n",
              "      <td>US$2452</td>\n",
              "    </tr>\n",
              "    <tr>\n",
              "      <th>4</th>\n",
              "      <td>Oyo</td>\n",
              "      <td>US$1718</td>\n",
              "    </tr>\n",
              "  </tbody>\n",
              "</table>\n",
              "</div>"
            ],
            "text/plain": [
              "                            estado pib_capita_estado\n",
              "0  Abuja Federal Capital Territory           US$2317\n",
              "1                            Lagos           US$2174\n",
              "2                           Rivers           US$2396\n",
              "3                            Delta           US$2452\n",
              "4                              Oyo           US$1718"
            ]
          },
          "execution_count": 100,
          "metadata": {},
          "output_type": "execute_result"
        }
      ],
      "source": [
        "df_pib_nigeria.head()"
      ]
    },
    {
      "cell_type": "code",
      "execution_count": 101,
      "metadata": {},
      "outputs": [],
      "source": [
        "# transformar la columna de pib per capita de nigeria\n",
        "# sacar el numero\n",
        "df_pib_nigeria['pib_capita_estado'] = df_pib_nigeria['pib_capita_estado'].apply(lambda x: x[3:])\n",
        "# pasar a tipo numero\n",
        "df_pib_nigeria['pib_capita_estado'] = df_pib_nigeria['pib_capita_estado'].astype('int')\n",
        "# pasamos de dolar a euro\n",
        "df_pib_nigeria['pib_capita_estado'] = df_pib_nigeria['pib_capita_estado'] * 0.95\n",
        "# redondear a euro\n",
        "df_pib_nigeria['pib_capita_estado'] = df_pib_nigeria['pib_capita_estado'].astype('int')"
      ]
    },
    {
      "cell_type": "code",
      "execution_count": 102,
      "metadata": {},
      "outputs": [
        {
          "data": {
            "text/html": [
              "<div>\n",
              "<style scoped>\n",
              "    .dataframe tbody tr th:only-of-type {\n",
              "        vertical-align: middle;\n",
              "    }\n",
              "\n",
              "    .dataframe tbody tr th {\n",
              "        vertical-align: top;\n",
              "    }\n",
              "\n",
              "    .dataframe thead th {\n",
              "        text-align: right;\n",
              "    }\n",
              "</style>\n",
              "<table border=\"1\" class=\"dataframe\">\n",
              "  <thead>\n",
              "    <tr style=\"text-align: right;\">\n",
              "      <th></th>\n",
              "      <th>pais</th>\n",
              "      <th>pib_capita_pais</th>\n",
              "    </tr>\n",
              "  </thead>\n",
              "  <tbody>\n",
              "    <tr>\n",
              "      <th>0</th>\n",
              "      <td>NG</td>\n",
              "      <td>0</td>\n",
              "    </tr>\n",
              "    <tr>\n",
              "      <th>1</th>\n",
              "      <td>US</td>\n",
              "      <td>63543</td>\n",
              "    </tr>\n",
              "    <tr>\n",
              "      <th>2</th>\n",
              "      <td>GB</td>\n",
              "      <td>40284</td>\n",
              "    </tr>\n",
              "    <tr>\n",
              "      <th>3</th>\n",
              "      <td>AE</td>\n",
              "      <td>43103</td>\n",
              "    </tr>\n",
              "    <tr>\n",
              "      <th>4</th>\n",
              "      <td>BJ</td>\n",
              "      <td>1291</td>\n",
              "    </tr>\n",
              "  </tbody>\n",
              "</table>\n",
              "</div>"
            ],
            "text/plain": [
              "  pais  pib_capita_pais\n",
              "0   NG                0\n",
              "1   US            63543\n",
              "2   GB            40284\n",
              "3   AE            43103\n",
              "4   BJ             1291"
            ]
          },
          "execution_count": 102,
          "metadata": {},
          "output_type": "execute_result"
        }
      ],
      "source": [
        "df_pib_mundo.head()"
      ]
    },
    {
      "cell_type": "code",
      "execution_count": 103,
      "metadata": {},
      "outputs": [],
      "source": [
        "# transformar la columna de pib per capita de los países\n",
        "# pasamos de dolar a euro\n",
        "df_pib_mundo['pib_capita_pais'] = df_pib_mundo['pib_capita_pais'] * 0.95\n",
        "# redondear a entero\n",
        "df_pib_mundo['pib_capita_pais'] = df_pib_mundo['pib_capita_pais'].astype('int')"
      ]
    },
    {
      "cell_type": "code",
      "execution_count": 104,
      "metadata": {},
      "outputs": [
        {
          "data": {
            "text/plain": [
              "(4358, 16)"
            ]
          },
          "execution_count": 104,
          "metadata": {},
          "output_type": "execute_result"
        }
      ],
      "source": [
        "# se añade el pib per capita de los otros países distintos a nigeria\n",
        "df_train = df_train.merge(df_pib_mundo, on='pais', how='left')\n",
        "#ver tamaño del nuvo df\n",
        "df_train.shape"
      ]
    },
    {
      "cell_type": "code",
      "execution_count": 105,
      "metadata": {},
      "outputs": [
        {
          "data": {
            "text/plain": [
              "(4358, 17)"
            ]
          },
          "execution_count": 105,
          "metadata": {},
          "output_type": "execute_result"
        }
      ],
      "source": [
        "# se añade el pib per capita de los datos de Nigeria\n",
        "df_train = df_train.merge(df_pib_nigeria, on='estado', how='left')\n",
        "#ver tamaño del nuvo df\n",
        "df_train.shape"
      ]
    },
    {
      "cell_type": "code",
      "execution_count": 106,
      "metadata": {},
      "outputs": [],
      "source": [
        "# se crea la columna final de pib per cápita\n",
        "df_train['pib_capita'] = df_train['pib_capita_pais']\n",
        "df_train.loc[df_train['pib_capita'] == 0, 'pib_capita'] = df_train['pib_capita_estado']"
      ]
    },
    {
      "cell_type": "code",
      "execution_count": 107,
      "metadata": {},
      "outputs": [],
      "source": [
        "#quitar columnas que ya no se usan\n",
        "df_train.drop(columns = ['pais', 'estado', 'pib_capita_pais', 'pib_capita_estado'], inplace = True)"
      ]
    },
    {
      "cell_type": "markdown",
      "metadata": {
        "id": "pq0-4xS0yc5j"
      },
      "source": [
        "### Educación"
      ]
    },
    {
      "cell_type": "markdown",
      "metadata": {
        "id": "jjp_oCaCyc5j"
      },
      "source": [
        "- 0: NsNc\n",
        "- 1: Primary or Secondary\n",
        "- 2: Graduate\n",
        "- 3: Post-Graduate"
      ]
    },
    {
      "cell_type": "code",
      "execution_count": 108,
      "metadata": {
        "id": "NzEVLU88yc5j"
      },
      "outputs": [],
      "source": [
        "## transform a value inside a column to a separate boolean column\n",
        "df_train['education'] = 0\n",
        "df_train.loc[df_train['level_of_education_clients'] == 'Primary', 'education'] = 1\n",
        "df_train.loc[df_train['level_of_education_clients'] == 'Secondary', 'education'] = 1\n",
        "df_train.loc[df_train['level_of_education_clients'] == 'Graduate', 'education'] = 2\n",
        "df_train.loc[df_train['level_of_education_clients'] == 'Post-Graduate', 'education'] = 3\n",
        "#convertimos la columna a int\n",
        "df_train['education'] = df_train['education'].astype('Int64')\n",
        "# borrar columnas que ya no se usa\n",
        "df_train.drop(columns = ['level_of_education_clients'], inplace = True)"
      ]
    },
    {
      "cell_type": "markdown",
      "metadata": {
        "id": "k2YvA6XGyc5j"
      },
      "source": [
        "### Ocupación"
      ]
    },
    {
      "cell_type": "markdown",
      "metadata": {
        "id": "EcR3giifyc5j"
      },
      "source": [
        "- 0: Low Income: Retired, Unemployed, Student\n",
        "- 1: NsNc  \n",
        "- 2: High income: Permanent, Self-Employed, Contract"
      ]
    },
    {
      "cell_type": "code",
      "execution_count": 109,
      "metadata": {
        "id": "Uh4lYtcKyc5k"
      },
      "outputs": [],
      "source": [
        "## transform a value inside a column to a separate boolean column\n",
        "df_train['employment'] = 1\n",
        "df_train.loc[df_train['employment_status_clients'] == 'Retired', 'employment'] = 0\n",
        "df_train.loc[df_train['employment_status_clients'] == 'Unemployed', 'employment'] = 0\n",
        "df_train.loc[df_train['employment_status_clients'] == 'Student', 'employment'] = 0\n",
        "df_train.loc[df_train['employment_status_clients'] == 'Permanent', 'employment'] = 2\n",
        "df_train.loc[df_train['employment_status_clients'] == 'Self-Employed', 'employment'] = 2\n",
        "df_train.loc[df_train['employment_status_clients'] == 'Contract', 'employment'] = 2\n",
        "#convertimos la columna a int\n",
        "df_train['employment'] = df_train['employment'].astype('Int64')\n",
        "# borrar columnas que ya no se usa\n",
        "df_train.drop(columns = ['employment_status_clients'], inplace = True)"
      ]
    },
    {
      "cell_type": "markdown",
      "metadata": {
        "id": "xwusvOc-yc5k"
      },
      "source": [
        "## EXPLORATORY DATA ANALYSIS"
      ]
    },
    {
      "cell_type": "code",
      "execution_count": 110,
      "metadata": {
        "colab": {
          "base_uri": "https://localhost:8080/"
        },
        "id": "b13nYkUQyc5k",
        "outputId": "513c8453-a1eb-4e44-d9a7-179d114fca88"
      },
      "outputs": [
        {
          "data": {
            "text/plain": [
              "flag                1.000000\n",
              "historial           0.259474\n",
              "interes             0.129760\n",
              "due_per_day         0.126102\n",
              "cuenta_ahorro       0.093573\n",
              "loannumber          0.090292\n",
              "cuenta_otra         0.086430\n",
              "referido            0.086107\n",
              "parte_mes_pago      0.078244\n",
              "employment          0.067436\n",
              "age                 0.056471\n",
              "cuenta_corriente    0.032005\n",
              "pib_capita          0.017154\n",
              "education           0.016022\n",
              "Name: flag, dtype: float64"
            ]
          },
          "execution_count": 110,
          "metadata": {},
          "output_type": "execute_result"
        }
      ],
      "source": [
        "# ver lista de correlaciones por orden respecto a la columna flag\n",
        "df_train.corr()['flag'].abs().sort_values(ascending=False)"
      ]
    },
    {
      "cell_type": "markdown",
      "metadata": {},
      "source": [
        "Después de ver que la correlación entre la educación y la columna a predecir es tan baja y que hay tantos valores vacíos, se decide prescindir de esta columna"
      ]
    },
    {
      "cell_type": "code",
      "execution_count": 111,
      "metadata": {},
      "outputs": [],
      "source": [
        "df_train.drop(columns = ['education'], inplace = True)"
      ]
    },
    {
      "cell_type": "markdown",
      "metadata": {},
      "source": [
        "La columna de pib_per_capita tiene muy poca correlación con la columna a predecir por lo que también se decide quitarla"
      ]
    },
    {
      "cell_type": "code",
      "execution_count": 112,
      "metadata": {},
      "outputs": [],
      "source": [
        "df_train.drop(columns = ['pib_capita'], inplace = True)"
      ]
    },
    {
      "cell_type": "code",
      "execution_count": 113,
      "metadata": {
        "colab": {
          "base_uri": "https://localhost:8080/",
          "height": 907
        },
        "id": "kH0Vyqm7yc5k",
        "outputId": "d9ba551c-aa98-4609-8645-a77b8d9c5d09"
      },
      "outputs": [
        {
          "data": {
            "image/png": "[encoded data removed]",
            "text/plain": [
              "<Figure size 1152x936 with 2 Axes>"
            ]
          },
          "metadata": {
            "needs_background": "light"
          },
          "output_type": "display_data"
        }
      ],
      "source": [
        "# mostrar un mapa de calor con la correlacion entre variables\n",
        "plt.figure(figsize=(16, 13))\n",
        "heatmap = sns.heatmap(df_train.corr(), vmin=-1, vmax=1, annot=True)\n",
        "hmp = heatmap.set_title('Correlation Heatmap', fontdict={'fontsize':13}, pad=12);\n",
        "hmp = hmp.get_figure()"
      ]
    },
    {
      "cell_type": "markdown",
      "metadata": {
        "id": "8enePyO6yc5k"
      },
      "source": [
        "## GUARDAR CSV"
      ]
    },
    {
      "cell_type": "code",
      "execution_count": 114,
      "metadata": {
        "id": "cdEXZe9ayc5k"
      },
      "outputs": [],
      "source": [
        "# df a csv\n",
        "df_train.to_csv(r'../datasets/own_data/train.csv', index = False)"
      ]
    }
  ],
  "metadata": {
    "colab": {
      "name": "etl.ipynb",
      "provenance": []
    },
    "interpreter": {
      "hash": "52634da84371cba311ea128a5ea7cdc41ff074b781779e754b270ff9f8153cee"
    },
    "kernelspec": {
      "display_name": "Python 3.9.6 64-bit",
      "language": "python",
      "name": "python3"
    },
    "language_info": {
      "codemirror_mode": {
        "name": "ipython",
        "version": 3
      },
      "file_extension": ".py",
      "mimetype": "text/x-python",
      "name": "python",
      "nbconvert_exporter": "python",
      "pygments_lexer": "ipython3",
      "version": "3.9.12"
    },
    "orig_nbformat": 4
  },
  "nbformat": 4,
  "nbformat_minor": 0
}
