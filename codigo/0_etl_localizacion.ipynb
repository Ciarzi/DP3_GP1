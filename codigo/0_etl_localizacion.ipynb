{
 "cells": [
  {
   "cell_type": "code",
   "execution_count": 1,
   "metadata": {},
   "outputs": [],
   "source": [
    "import pandas as pd\n",
    "import reverse_geocoder as rg"
   ]
  },
  {
   "cell_type": "code",
   "execution_count": 2,
   "metadata": {},
   "outputs": [],
   "source": [
    "df_dem_test = pd.read_csv(r'https://raw.githubusercontent.com/Ciarzi/DP3_GP1/main/datasets/test_datos_demograficos.csv')\n",
    "df_dem_train = pd.read_csv(r'https://raw.githubusercontent.com/Ciarzi/DP3_GP1/main/datasets/train_datos_demograficos.csv')"
   ]
  },
  {
   "cell_type": "code",
   "execution_count": 3,
   "metadata": {},
   "outputs": [
    {
     "name": "stderr",
     "output_type": "stream",
     "text": [
      "C:\\Users\\sergi\\AppData\\Local\\Temp/ipykernel_18760/1409091891.py:2: FutureWarning: The frame.append method is deprecated and will be removed from pandas in a future version. Use pandas.concat instead.\n",
      "  df_dem = df_dem_test.append(df_dem_train, ignore_index=True)\n"
     ]
    },
    {
     "data": {
      "text/plain": [
       "(5818, 9)"
      ]
     },
     "execution_count": 3,
     "metadata": {},
     "output_type": "execute_result"
    }
   ],
   "source": [
    "#adjuntar los dos csv\n",
    "df_dem = df_dem_test.append(df_dem_train, ignore_index=True)\n",
    "#eliminar filas que sean idénticas\n",
    "df_dem.drop_duplicates(inplace = True)\n",
    "#dimensiones del nuevo dataframe\n",
    "df_dem.shape"
   ]
  },
  {
   "cell_type": "code",
   "execution_count": 4,
   "metadata": {},
   "outputs": [],
   "source": [
    "# nos quedamos con las columnas de loocalizacion\n",
    "df_loc = df_dem[['customerid', 'longitude_gps', 'latitude_gps']]"
   ]
  },
  {
   "cell_type": "code",
   "execution_count": 5,
   "metadata": {},
   "outputs": [
    {
     "name": "stdout",
     "output_type": "stream",
     "text": [
      "Loading formatted geocoded file...\n"
     ]
    },
    {
     "data": {
      "text/plain": [
       "[{'lat': '6.61505',\n",
       "  'lon': '3.32502',\n",
       "  'name': 'Agege',\n",
       "  'admin1': 'Lagos',\n",
       "  'admin2': '',\n",
       "  'cc': 'NG'}]"
      ]
     },
     "execution_count": 5,
     "metadata": {},
     "output_type": "execute_result"
    }
   ],
   "source": [
    "# vemos que podemos sacar de las coordenadas\n",
    "rg.search((df_loc.latitude_gps[1], df_loc.longitude_gps[1]))"
   ]
  },
  {
   "cell_type": "code",
   "execution_count": 6,
   "metadata": {},
   "outputs": [
    {
     "name": "stderr",
     "output_type": "stream",
     "text": [
      "C:\\Users\\sergi\\AppData\\Local\\Temp/ipykernel_18760/2350604639.py:2: SettingWithCopyWarning: \n",
      "A value is trying to be set on a copy of a slice from a DataFrame.\n",
      "Try using .loc[row_indexer,col_indexer] = value instead\n",
      "\n",
      "See the caveats in the documentation: https://pandas.pydata.org/pandas-docs/stable/user_guide/indexing.html#returning-a-view-versus-a-copy\n",
      "  df_loc['pais'] = df_loc.apply(lambda x: rg.search((x['latitude_gps'], x['longitude_gps']))[0]['cc'], axis=1)\n"
     ]
    }
   ],
   "source": [
    "# creamos columnas con el pais de las coordenadas\n",
    "df_loc['pais'] = df_loc.apply(lambda x: rg.search((x['latitude_gps'], x['longitude_gps']))[0]['cc'], axis=1)\n"
   ]
  },
  {
   "cell_type": "code",
   "execution_count": 8,
   "metadata": {},
   "outputs": [
    {
     "name": "stderr",
     "output_type": "stream",
     "text": [
      "C:\\Users\\sergi\\AppData\\Local\\Temp/ipykernel_18760/3059800434.py:2: SettingWithCopyWarning: \n",
      "A value is trying to be set on a copy of a slice from a DataFrame.\n",
      "Try using .loc[row_indexer,col_indexer] = value instead\n",
      "\n",
      "See the caveats in the documentation: https://pandas.pydata.org/pandas-docs/stable/user_guide/indexing.html#returning-a-view-versus-a-copy\n",
      "  df_loc['estado'] = df_loc.apply(lambda x: rg.search((x['latitude_gps'], x['longitude_gps']))[0]['admin1'], axis=1)\n"
     ]
    }
   ],
   "source": [
    "# creamos columna con el estado del país de las coordenadas\n",
    "df_loc['estado'] = df_loc.apply(lambda x: rg.search((x['latitude_gps'], x['longitude_gps']))[0]['admin1'], axis=1)"
   ]
  },
  {
   "cell_type": "code",
   "execution_count": 30,
   "metadata": {},
   "outputs": [
    {
     "data": {
      "text/html": [
       "<div>\n",
       "<style scoped>\n",
       "    .dataframe tbody tr th:only-of-type {\n",
       "        vertical-align: middle;\n",
       "    }\n",
       "\n",
       "    .dataframe tbody tr th {\n",
       "        vertical-align: top;\n",
       "    }\n",
       "\n",
       "    .dataframe thead th {\n",
       "        text-align: right;\n",
       "    }\n",
       "</style>\n",
       "<table border=\"1\" class=\"dataframe\">\n",
       "  <thead>\n",
       "    <tr style=\"text-align: right;\">\n",
       "      <th></th>\n",
       "      <th>customerid</th>\n",
       "      <th>longitude_gps</th>\n",
       "      <th>latitude_gps</th>\n",
       "      <th>pais</th>\n",
       "      <th>estado</th>\n",
       "    </tr>\n",
       "  </thead>\n",
       "  <tbody>\n",
       "    <tr>\n",
       "      <th>0</th>\n",
       "      <td>8a858f305c8dd672015c93b1db645db4</td>\n",
       "      <td>5.296628</td>\n",
       "      <td>7.593965</td>\n",
       "      <td>NG</td>\n",
       "      <td>Ekiti</td>\n",
       "    </tr>\n",
       "    <tr>\n",
       "      <th>1</th>\n",
       "      <td>8a858f085a477386015a47fb049e49ca</td>\n",
       "      <td>3.294513</td>\n",
       "      <td>6.596602</td>\n",
       "      <td>NG</td>\n",
       "      <td>Lagos</td>\n",
       "    </tr>\n",
       "    <tr>\n",
       "      <th>2</th>\n",
       "      <td>8a858e6f5cd5e874015cd6f5634c39ad</td>\n",
       "      <td>8.501912</td>\n",
       "      <td>7.729364</td>\n",
       "      <td>NG</td>\n",
       "      <td>Benue</td>\n",
       "    </tr>\n",
       "    <tr>\n",
       "      <th>3</th>\n",
       "      <td>8a858e9d5bfd7037015bfdab79f61305</td>\n",
       "      <td>3.318904</td>\n",
       "      <td>6.681595</td>\n",
       "      <td>NG</td>\n",
       "      <td>Lagos</td>\n",
       "    </tr>\n",
       "    <tr>\n",
       "      <th>4</th>\n",
       "      <td>8a858fde56eb02280156eb6dafc128ac</td>\n",
       "      <td>6.354624</td>\n",
       "      <td>4.949031</td>\n",
       "      <td>NG</td>\n",
       "      <td>Bayelsa</td>\n",
       "    </tr>\n",
       "    <tr>\n",
       "      <th>...</th>\n",
       "      <td>...</td>\n",
       "      <td>...</td>\n",
       "      <td>...</td>\n",
       "      <td>...</td>\n",
       "      <td>...</td>\n",
       "    </tr>\n",
       "    <tr>\n",
       "      <th>5828</th>\n",
       "      <td>8a858f155554552501555588ca2b3b40</td>\n",
       "      <td>3.236753</td>\n",
       "      <td>7.030168</td>\n",
       "      <td>NG</td>\n",
       "      <td>Ogun</td>\n",
       "    </tr>\n",
       "    <tr>\n",
       "      <th>5829</th>\n",
       "      <td>8a858fc65cf978f4015cf97cee3a02ce</td>\n",
       "      <td>7.013750</td>\n",
       "      <td>4.875662</td>\n",
       "      <td>NG</td>\n",
       "      <td>Rivers</td>\n",
       "    </tr>\n",
       "    <tr>\n",
       "      <th>5830</th>\n",
       "      <td>8a858f4f5b66de3a015b66fc83c61902</td>\n",
       "      <td>6.295530</td>\n",
       "      <td>7.092508</td>\n",
       "      <td>NG</td>\n",
       "      <td>Edo</td>\n",
       "    </tr>\n",
       "    <tr>\n",
       "      <th>5831</th>\n",
       "      <td>8aaae7a74400b28201441c8b62514150</td>\n",
       "      <td>3.354206</td>\n",
       "      <td>6.539070</td>\n",
       "      <td>NG</td>\n",
       "      <td>Lagos</td>\n",
       "    </tr>\n",
       "    <tr>\n",
       "      <th>5832</th>\n",
       "      <td>8a85896653e2e18b0153e69c1b90265c</td>\n",
       "      <td>6.661014</td>\n",
       "      <td>7.472700</td>\n",
       "      <td>NG</td>\n",
       "      <td>Kogi</td>\n",
       "    </tr>\n",
       "  </tbody>\n",
       "</table>\n",
       "<p>5818 rows × 5 columns</p>\n",
       "</div>"
      ],
      "text/plain": [
       "                            customerid  longitude_gps  latitude_gps pais  \\\n",
       "0     8a858f305c8dd672015c93b1db645db4       5.296628      7.593965   NG   \n",
       "1     8a858f085a477386015a47fb049e49ca       3.294513      6.596602   NG   \n",
       "2     8a858e6f5cd5e874015cd6f5634c39ad       8.501912      7.729364   NG   \n",
       "3     8a858e9d5bfd7037015bfdab79f61305       3.318904      6.681595   NG   \n",
       "4     8a858fde56eb02280156eb6dafc128ac       6.354624      4.949031   NG   \n",
       "...                                ...            ...           ...  ...   \n",
       "5828  8a858f155554552501555588ca2b3b40       3.236753      7.030168   NG   \n",
       "5829  8a858fc65cf978f4015cf97cee3a02ce       7.013750      4.875662   NG   \n",
       "5830  8a858f4f5b66de3a015b66fc83c61902       6.295530      7.092508   NG   \n",
       "5831  8aaae7a74400b28201441c8b62514150       3.354206      6.539070   NG   \n",
       "5832  8a85896653e2e18b0153e69c1b90265c       6.661014      7.472700   NG   \n",
       "\n",
       "       estado  \n",
       "0       Ekiti  \n",
       "1       Lagos  \n",
       "2       Benue  \n",
       "3       Lagos  \n",
       "4     Bayelsa  \n",
       "...       ...  \n",
       "5828     Ogun  \n",
       "5829   Rivers  \n",
       "5830      Edo  \n",
       "5831    Lagos  \n",
       "5832     Kogi  \n",
       "\n",
       "[5818 rows x 5 columns]"
      ]
     },
     "execution_count": 30,
     "metadata": {},
     "output_type": "execute_result"
    }
   ],
   "source": [
    "df_loc"
   ]
  },
  {
   "cell_type": "code",
   "execution_count": 32,
   "metadata": {},
   "outputs": [
    {
     "name": "stderr",
     "output_type": "stream",
     "text": [
      "C:\\Users\\sergi\\AppData\\Local\\Temp/ipykernel_18760/1895729287.py:1: SettingWithCopyWarning: \n",
      "A value is trying to be set on a copy of a slice from a DataFrame\n",
      "\n",
      "See the caveats in the documentation: https://pandas.pydata.org/pandas-docs/stable/user_guide/indexing.html#returning-a-view-versus-a-copy\n",
      "  df_loc.drop(columns = ['longitude_gps', 'latitude_gps'], inplace = True)\n"
     ]
    }
   ],
   "source": [
    "df_loc.drop(columns = ['longitude_gps', 'latitude_gps'], inplace = True)"
   ]
  },
  {
   "cell_type": "code",
   "execution_count": 33,
   "metadata": {},
   "outputs": [],
   "source": [
    "# guardamos el df en un csv\n",
    "df_loc.to_csv(r'../datasets/own_data/datos_localizacion.csv', index = False)"
   ]
  }
 ],
 "metadata": {
  "interpreter": {
   "hash": "52634da84371cba311ea128a5ea7cdc41ff074b781779e754b270ff9f8153cee"
  },
  "kernelspec": {
   "display_name": "Python 3.9.6 64-bit",
   "language": "python",
   "name": "python3"
  },
  "language_info": {
   "codemirror_mode": {
    "name": "ipython",
    "version": 3
   },
   "file_extension": ".py",
   "mimetype": "text/x-python",
   "name": "python",
   "nbconvert_exporter": "python",
   "pygments_lexer": "ipython3",
   "version": "3.9.6"
  },
  "orig_nbformat": 4
 },
 "nbformat": 4,
 "nbformat_minor": 2
}
