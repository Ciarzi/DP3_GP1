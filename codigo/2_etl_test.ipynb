{
  "cells": [
    {
      "cell_type": "markdown",
      "metadata": {
        "id": "wy-NRh0_yc5M"
      },
      "source": [
        "# **ETL TEST**"
      ]
    },
    {
      "cell_type": "markdown",
      "metadata": {
        "id": "uCPseqYXyc5O"
      },
      "source": [
        "## CONFIGURACIÓN INICIAL"
      ]
    },
    {
      "cell_type": "code",
      "execution_count": 1,
      "metadata": {
        "colab": {
          "base_uri": "https://localhost:8080/"
        },
        "id": "xxnd7hUfyc5R",
        "outputId": "27d3ae4e-7933-4a82-aa35-0a083d3ce381"
      },
      "outputs": [
        {
          "name": "stdout",
          "output_type": "stream",
          "text": [
            "Requirement already satisfied: reverse_geocoder in c:\\python\\lib\\site-packages (1.5.1)\n",
            "Requirement already satisfied: numpy>=1.11.0 in c:\\users\\sergi\\appdata\\roaming\\python\\python39\\site-packages (from reverse_geocoder) (1.21.2)\n",
            "Requirement already satisfied: scipy>=0.17.1 in c:\\python\\lib\\site-packages (from reverse_geocoder) (1.8.0)\n",
            "Requirement already satisfied: seaborn in c:\\python\\lib\\site-packages (0.11.2)\n",
            "Requirement already satisfied: matplotlib>=2.2 in c:\\python\\lib\\site-packages (from seaborn) (3.4.3)\n",
            "Requirement already satisfied: scipy>=1.0 in c:\\python\\lib\\site-packages (from seaborn) (1.8.0)\n",
            "Requirement already satisfied: pandas>=0.23 in c:\\python\\lib\\site-packages (from seaborn) (1.4.2)\n",
            "Requirement already satisfied: numpy>=1.15 in c:\\users\\sergi\\appdata\\roaming\\python\\python39\\site-packages (from seaborn) (1.21.2)\n",
            "Requirement already satisfied: pyparsing>=2.2.1 in c:\\python\\lib\\site-packages (from matplotlib>=2.2->seaborn) (2.4.7)\n",
            "Requirement already satisfied: python-dateutil>=2.7 in c:\\users\\sergi\\appdata\\roaming\\python\\python39\\site-packages (from matplotlib>=2.2->seaborn) (2.8.2)\n",
            "Requirement already satisfied: cycler>=0.10 in c:\\python\\lib\\site-packages (from matplotlib>=2.2->seaborn) (0.10.0)\n",
            "Requirement already satisfied: kiwisolver>=1.0.1 in c:\\python\\lib\\site-packages (from matplotlib>=2.2->seaborn) (1.3.2)\n",
            "Requirement already satisfied: pillow>=6.2.0 in c:\\python\\lib\\site-packages (from matplotlib>=2.2->seaborn) (8.3.2)\n",
            "Requirement already satisfied: pytz>=2020.1 in c:\\users\\sergi\\appdata\\roaming\\python\\python39\\site-packages (from pandas>=0.23->seaborn) (2021.3)\n",
            "Requirement already satisfied: six in c:\\users\\sergi\\appdata\\roaming\\python\\python39\\site-packages (from cycler>=0.10->matplotlib>=2.2->seaborn) (1.16.0)\n"
          ]
        }
      ],
      "source": [
        "# descargar librerías\n",
        "!pip install reverse_geocoder\n",
        "!pip install seaborn"
      ]
    },
    {
      "cell_type": "code",
      "execution_count": 2,
      "metadata": {
        "id": "sEWjRk8Pyc5T"
      },
      "outputs": [],
      "source": [
        "# importar librerías\n",
        "import pandas as pd\n",
        "import datetime\n",
        "import reverse_geocoder as rg\n",
        "import matplotlib.pyplot as plt\n",
        "import seaborn as sns\n",
        "from pandas.api.types import CategoricalDtype\n",
        "from sklearn.preprocessing import LabelEncoder\n",
        "from sklearn.preprocessing import OneHotEncoder"
      ]
    },
    {
      "cell_type": "code",
      "execution_count": 3,
      "metadata": {
        "id": "rPj6WOGPyc5T"
      },
      "outputs": [],
      "source": [
        "# funcion para pasar de fecha de nacimiento a edad\n",
        "def from_dob_to_age(born):\n",
        "    today = datetime.date.today()\n",
        "    return today.year - born.year - ((today.month, today.day) < (born.month, born.day))"
      ]
    },
    {
      "cell_type": "code",
      "execution_count": 4,
      "metadata": {
        "id": "heJ46ZDqyc5U"
      },
      "outputs": [],
      "source": [
        "# leer csv\n",
        "df_perf_test = pd.read_csv(r'https://raw.githubusercontent.com/Ciarzi/DP3_GP1/main/datasets/test_performance.csv')\n",
        "df_loan_test = pd.read_csv(r'https://raw.githubusercontent.com/Ciarzi/DP3_GP1/main/datasets/test_previous_loan.csv')\n",
        "df_loan_train = pd.read_csv(r'https://raw.githubusercontent.com/Ciarzi/DP3_GP1/main/datasets/train_previous_loan.csv')\n",
        "df_dem_test = pd.read_csv(r'https://raw.githubusercontent.com/Ciarzi/DP3_GP1/main/datasets/test_datos_demograficos.csv')\n",
        "df_dem_train = pd.read_csv(r'https://raw.githubusercontent.com/Ciarzi/DP3_GP1/main/datasets/train_datos_demograficos.csv')\n",
        "df_loc = pd.read_csv(r'https://raw.githubusercontent.com/Ciarzi/DP3_GP1/main/datasets/own_data/datos_localizacion.csv')"
      ]
    },
    {
      "cell_type": "markdown",
      "metadata": {
        "id": "h8MA9p_gyc5U"
      },
      "source": [
        "## ANEXAR DATOS DE CLIENTES Y DE PRÉSTAMOS ANTIGUOS"
      ]
    },
    {
      "cell_type": "code",
      "execution_count": 5,
      "metadata": {
        "colab": {
          "base_uri": "https://localhost:8080/"
        },
        "id": "Sq2jvUj0yc5V",
        "outputId": "fb19c341-533c-4b17-d460-31d7d149630c"
      },
      "outputs": [
        {
          "name": "stderr",
          "output_type": "stream",
          "text": [
            "C:\\Users\\sergi\\AppData\\Local\\Temp/ipykernel_14064/1409091891.py:2: FutureWarning: The frame.append method is deprecated and will be removed from pandas in a future version. Use pandas.concat instead.\n",
            "  df_dem = df_dem_test.append(df_dem_train, ignore_index=True)\n"
          ]
        },
        {
          "data": {
            "text/plain": [
              "(5818, 9)"
            ]
          },
          "execution_count": 5,
          "metadata": {},
          "output_type": "execute_result"
        }
      ],
      "source": [
        "#adjuntar los dos csv\n",
        "df_dem = df_dem_test.append(df_dem_train, ignore_index=True)\n",
        "#eliminar filas que sean idénticas\n",
        "df_dem.drop_duplicates(inplace = True)\n",
        "#dimensiones del nuevo dataframe\n",
        "df_dem.shape"
      ]
    },
    {
      "cell_type": "code",
      "execution_count": 6,
      "metadata": {
        "colab": {
          "base_uri": "https://localhost:8080/"
        },
        "id": "jFiiTrHzyc5V",
        "outputId": "38303ccd-3185-4644-cd38-39c33f922b68"
      },
      "outputs": [
        {
          "name": "stderr",
          "output_type": "stream",
          "text": [
            "C:\\Users\\sergi\\AppData\\Local\\Temp/ipykernel_14064/3920205185.py:2: FutureWarning: The frame.append method is deprecated and will be removed from pandas in a future version. Use pandas.concat instead.\n",
            "  df_loan = df_loan_test.append(df_loan_train, ignore_index=True)\n"
          ]
        },
        {
          "data": {
            "text/plain": [
              "(24090, 12)"
            ]
          },
          "execution_count": 6,
          "metadata": {},
          "output_type": "execute_result"
        }
      ],
      "source": [
        "#adjuntar los dos csv\n",
        "df_loan = df_loan_test.append(df_loan_train, ignore_index=True)\n",
        "#eliminar filas que sean idénticas\n",
        "df_loan.drop_duplicates(inplace = True)\n",
        "#dimensiones del nuevo dataframe\n",
        "df_loan.shape"
      ]
    },
    {
      "cell_type": "markdown",
      "metadata": {
        "id": "h3N_BIRIyc5W"
      },
      "source": [
        "## PREPARAR DATOS PRÉSTAMOS ANTIGUOS"
      ]
    },
    {
      "cell_type": "code",
      "execution_count": 7,
      "metadata": {
        "colab": {
          "base_uri": "https://localhost:8080/",
          "height": 0
        },
        "id": "UcG9HSWRyc5X",
        "outputId": "695a1229-82fc-42aa-f01e-46688e739ffd"
      },
      "outputs": [
        {
          "data": {
            "text/html": [
              "<div>\n",
              "<style scoped>\n",
              "    .dataframe tbody tr th:only-of-type {\n",
              "        vertical-align: middle;\n",
              "    }\n",
              "\n",
              "    .dataframe tbody tr th {\n",
              "        vertical-align: top;\n",
              "    }\n",
              "\n",
              "    .dataframe thead th {\n",
              "        text-align: right;\n",
              "    }\n",
              "</style>\n",
              "<table border=\"1\" class=\"dataframe\">\n",
              "  <thead>\n",
              "    <tr style=\"text-align: right;\">\n",
              "      <th></th>\n",
              "      <th>customerid</th>\n",
              "      <th>systemloanid</th>\n",
              "      <th>loannumber</th>\n",
              "      <th>approveddate</th>\n",
              "      <th>creationdate</th>\n",
              "      <th>loanamount</th>\n",
              "      <th>totaldue</th>\n",
              "      <th>termdays</th>\n",
              "      <th>closeddate</th>\n",
              "      <th>referredby</th>\n",
              "      <th>firstduedate</th>\n",
              "      <th>firstrepaiddate</th>\n",
              "    </tr>\n",
              "  </thead>\n",
              "  <tbody>\n",
              "    <tr>\n",
              "      <th>0</th>\n",
              "      <td>8a858899538ddb8e015390510b321f08</td>\n",
              "      <td>301621635</td>\n",
              "      <td>3</td>\n",
              "      <td>2016-05-17 10:37:00.000000</td>\n",
              "      <td>2016-05-17 09:36:55.000000</td>\n",
              "      <td>10000.0</td>\n",
              "      <td>13000.0</td>\n",
              "      <td>30</td>\n",
              "      <td>2016-06-17 00:04:15.000000</td>\n",
              "      <td>NaN</td>\n",
              "      <td>2016-06-16 00:00:00.000000</td>\n",
              "      <td>2016-06-16 15:44:08.000000</td>\n",
              "    </tr>\n",
              "    <tr>\n",
              "      <th>1</th>\n",
              "      <td>8a858959537a097401537a4e316e25f7</td>\n",
              "      <td>301810201</td>\n",
              "      <td>5</td>\n",
              "      <td>2017-02-04 21:28:59.000000</td>\n",
              "      <td>2017-02-04 20:28:52.000000</td>\n",
              "      <td>30000.0</td>\n",
              "      <td>36800.0</td>\n",
              "      <td>60</td>\n",
              "      <td>2017-03-02 16:22:58.000000</td>\n",
              "      <td>NaN</td>\n",
              "      <td>2017-03-06 00:00:00.000000</td>\n",
              "      <td>2017-03-02 16:07:47.000000</td>\n",
              "    </tr>\n",
              "    <tr>\n",
              "      <th>2</th>\n",
              "      <td>8a858959537a097401537a4e316e25f7</td>\n",
              "      <td>301831255</td>\n",
              "      <td>6</td>\n",
              "      <td>2017-03-04 10:28:22.000000</td>\n",
              "      <td>2017-03-04 09:28:16.000000</td>\n",
              "      <td>30000.0</td>\n",
              "      <td>34400.0</td>\n",
              "      <td>30</td>\n",
              "      <td>2017-04-02 00:44:24.000000</td>\n",
              "      <td>NaN</td>\n",
              "      <td>2017-04-03 00:00:00.000000</td>\n",
              "      <td>2017-04-01 21:29:46.000000</td>\n",
              "    </tr>\n",
              "    <tr>\n",
              "      <th>3</th>\n",
              "      <td>8a8589c253ace09b0153af6ba58f1f31</td>\n",
              "      <td>301627292</td>\n",
              "      <td>3</td>\n",
              "      <td>2016-06-02 14:27:14.000000</td>\n",
              "      <td>2016-06-02 13:27:08.000000</td>\n",
              "      <td>10000.0</td>\n",
              "      <td>13000.0</td>\n",
              "      <td>30</td>\n",
              "      <td>2016-07-04 11:34:04.000000</td>\n",
              "      <td>NaN</td>\n",
              "      <td>2016-07-04 00:00:00.000000</td>\n",
              "      <td>2016-07-04 11:19:01.000000</td>\n",
              "    </tr>\n",
              "    <tr>\n",
              "      <th>4</th>\n",
              "      <td>8a8589c253ace09b0153af6ba58f1f31</td>\n",
              "      <td>301621095</td>\n",
              "      <td>2</td>\n",
              "      <td>2016-05-16 09:13:12.000000</td>\n",
              "      <td>2016-05-16 08:13:04.000000</td>\n",
              "      <td>10000.0</td>\n",
              "      <td>11500.0</td>\n",
              "      <td>15</td>\n",
              "      <td>2016-06-02 00:02:58.000000</td>\n",
              "      <td>NaN</td>\n",
              "      <td>2016-05-31 00:00:00.000000</td>\n",
              "      <td>2016-06-01 15:22:34.000000</td>\n",
              "    </tr>\n",
              "  </tbody>\n",
              "</table>\n",
              "</div>"
            ],
            "text/plain": [
              "                         customerid  systemloanid  loannumber  \\\n",
              "0  8a858899538ddb8e015390510b321f08     301621635           3   \n",
              "1  8a858959537a097401537a4e316e25f7     301810201           5   \n",
              "2  8a858959537a097401537a4e316e25f7     301831255           6   \n",
              "3  8a8589c253ace09b0153af6ba58f1f31     301627292           3   \n",
              "4  8a8589c253ace09b0153af6ba58f1f31     301621095           2   \n",
              "\n",
              "                 approveddate                creationdate  loanamount  \\\n",
              "0  2016-05-17 10:37:00.000000  2016-05-17 09:36:55.000000     10000.0   \n",
              "1  2017-02-04 21:28:59.000000  2017-02-04 20:28:52.000000     30000.0   \n",
              "2  2017-03-04 10:28:22.000000  2017-03-04 09:28:16.000000     30000.0   \n",
              "3  2016-06-02 14:27:14.000000  2016-06-02 13:27:08.000000     10000.0   \n",
              "4  2016-05-16 09:13:12.000000  2016-05-16 08:13:04.000000     10000.0   \n",
              "\n",
              "   totaldue  termdays                  closeddate referredby  \\\n",
              "0   13000.0        30  2016-06-17 00:04:15.000000        NaN   \n",
              "1   36800.0        60  2017-03-02 16:22:58.000000        NaN   \n",
              "2   34400.0        30  2017-04-02 00:44:24.000000        NaN   \n",
              "3   13000.0        30  2016-07-04 11:34:04.000000        NaN   \n",
              "4   11500.0        15  2016-06-02 00:02:58.000000        NaN   \n",
              "\n",
              "                 firstduedate             firstrepaiddate  \n",
              "0  2016-06-16 00:00:00.000000  2016-06-16 15:44:08.000000  \n",
              "1  2017-03-06 00:00:00.000000  2017-03-02 16:07:47.000000  \n",
              "2  2017-04-03 00:00:00.000000  2017-04-01 21:29:46.000000  \n",
              "3  2016-07-04 00:00:00.000000  2016-07-04 11:19:01.000000  \n",
              "4  2016-05-31 00:00:00.000000  2016-06-01 15:22:34.000000  "
            ]
          },
          "execution_count": 7,
          "metadata": {},
          "output_type": "execute_result"
        }
      ],
      "source": [
        "# vista previa\n",
        "df_loan.head()"
      ]
    },
    {
      "cell_type": "code",
      "execution_count": 8,
      "metadata": {
        "id": "J-l3cf2eyc5X"
      },
      "outputs": [],
      "source": [
        "#pasar columnas a fecha\n",
        "df_loan['firstduedate'] = pd.to_datetime(df_loan['firstduedate'])\n",
        "df_loan['firstrepaiddate'] = pd.to_datetime(df_loan['firstrepaiddate'])\n",
        "df_loan['firstrepaiddate'] = pd.to_datetime(df_loan['firstrepaiddate'].dt.date)"
      ]
    },
    {
      "cell_type": "code",
      "execution_count": 9,
      "metadata": {
        "id": "T_FUMhMwyc5X"
      },
      "outputs": [],
      "source": [
        "# guardar si se ha hecho el primer pago antes o después del plazo\n",
        "df_loan['pago_plazo'] = df_loan.apply(lambda x: 1 if (x['firstduedate'] >= x['firstrepaiddate']) else -3, axis=1)"
      ]
    },
    {
      "cell_type": "code",
      "execution_count": 10,
      "metadata": {
        "id": "S4Juv7lWyc5Y"
      },
      "outputs": [],
      "source": [
        "#nos quedamos con las columnas que importan\n",
        "df_loan = df_loan[['customerid','pago_plazo']]"
      ]
    },
    {
      "cell_type": "code",
      "execution_count": 11,
      "metadata": {
        "colab": {
          "base_uri": "https://localhost:8080/",
          "height": 0
        },
        "id": "7kRcjPZfyc5Y",
        "outputId": "529c0210-e39c-429b-8fab-4aae97aee0bf"
      },
      "outputs": [
        {
          "data": {
            "text/html": [
              "<div>\n",
              "<style scoped>\n",
              "    .dataframe tbody tr th:only-of-type {\n",
              "        vertical-align: middle;\n",
              "    }\n",
              "\n",
              "    .dataframe tbody tr th {\n",
              "        vertical-align: top;\n",
              "    }\n",
              "\n",
              "    .dataframe thead th {\n",
              "        text-align: right;\n",
              "    }\n",
              "</style>\n",
              "<table border=\"1\" class=\"dataframe\">\n",
              "  <thead>\n",
              "    <tr style=\"text-align: right;\">\n",
              "      <th></th>\n",
              "      <th>pago_plazo</th>\n",
              "    </tr>\n",
              "    <tr>\n",
              "      <th>customerid</th>\n",
              "      <th></th>\n",
              "    </tr>\n",
              "  </thead>\n",
              "  <tbody>\n",
              "    <tr>\n",
              "      <th>8a1088a0484472eb01484669e3ce4e0b</th>\n",
              "      <td>-3</td>\n",
              "    </tr>\n",
              "    <tr>\n",
              "      <th>8a1a1e7e4f707f8b014f797718316cad</th>\n",
              "      <td>0</td>\n",
              "    </tr>\n",
              "    <tr>\n",
              "      <th>8a1a32fc49b632520149c3b8fdf85139</th>\n",
              "      <td>3</td>\n",
              "    </tr>\n",
              "    <tr>\n",
              "      <th>8a1eb5ba49a682300149c3c068b806c7</th>\n",
              "      <td>4</td>\n",
              "    </tr>\n",
              "    <tr>\n",
              "      <th>8a1edbf14734127f0147356fdb1b1eb2</th>\n",
              "      <td>2</td>\n",
              "    </tr>\n",
              "  </tbody>\n",
              "</table>\n",
              "</div>"
            ],
            "text/plain": [
              "                                  pago_plazo\n",
              "customerid                                  \n",
              "8a1088a0484472eb01484669e3ce4e0b          -3\n",
              "8a1a1e7e4f707f8b014f797718316cad           0\n",
              "8a1a32fc49b632520149c3b8fdf85139           3\n",
              "8a1eb5ba49a682300149c3c068b806c7           4\n",
              "8a1edbf14734127f0147356fdb1b1eb2           2"
            ]
          },
          "execution_count": 11,
          "metadata": {},
          "output_type": "execute_result"
        }
      ],
      "source": [
        "#agrupa el dataframe por cliente, obtienendo para cada uno si ha pagado en plazo o no sus prestamos\n",
        "df_loan_gr = df_loan.groupby(['customerid']).sum()\n",
        "df_loan_gr.head()"
      ]
    },
    {
      "cell_type": "code",
      "execution_count": 12,
      "metadata": {
        "id": "YB2NigEryc5Z"
      },
      "outputs": [],
      "source": [
        "# pasar la columna a binario\n",
        "df_loan_gr['pagos_plazo'] = 1\n",
        "df_loan_gr.loc[df_loan_gr['pago_plazo'] < 0, 'pagos_plazo'] = 0\n",
        "df_loan_gr = df_loan_gr['pagos_plazo']"
      ]
    },
    {
      "cell_type": "markdown",
      "metadata": {
        "id": "5mVj2F-Syc5Z"
      },
      "source": [
        "## ADJUNTAR TODOS LOS DATOS EN UN SOLO DATAFRAME"
      ]
    },
    {
      "cell_type": "code",
      "execution_count": 13,
      "metadata": {
        "colab": {
          "base_uri": "https://localhost:8080/"
        },
        "id": "c_ezKTPOyc5Z",
        "outputId": "e278ba3a-7453-4384-e8e7-e05164012355"
      },
      "outputs": [
        {
          "data": {
            "text/plain": [
              "(1450, 9)"
            ]
          },
          "execution_count": 13,
          "metadata": {},
          "output_type": "execute_result"
        }
      ],
      "source": [
        "df_perf_test.shape"
      ]
    },
    {
      "cell_type": "markdown",
      "metadata": {},
      "source": [
        "Añadir información de los clientes"
      ]
    },
    {
      "cell_type": "code",
      "execution_count": 14,
      "metadata": {
        "colab": {
          "base_uri": "https://localhost:8080/"
        },
        "id": "M3prZbCpyc5a",
        "outputId": "58b54b09-b813-4e17-9183-9bb8c075a409"
      },
      "outputs": [
        {
          "data": {
            "text/plain": [
              "(1450, 17)"
            ]
          },
          "execution_count": 14,
          "metadata": {},
          "output_type": "execute_result"
        }
      ],
      "source": [
        "# se añade la información del cliente\n",
        "df_test = df_perf_test.merge(df_dem, on='customerid', how='left')\n",
        "#ver tamaño del nuvo df\n",
        "df_test.shape"
      ]
    },
    {
      "cell_type": "markdown",
      "metadata": {},
      "source": [
        "Añadir localización de los clientes, que se obtiene de un csv diferente, el cual se ha obtenido con el proceso 1_etl_localizacion.ipynb ya que es un proceso que ha tomado 3 horas, por lo que se ha guardado los resultados en un archivo para tener que ejecutarlo una única vez."
      ]
    },
    {
      "cell_type": "code",
      "execution_count": 15,
      "metadata": {},
      "outputs": [
        {
          "data": {
            "text/plain": [
              "(1450, 19)"
            ]
          },
          "execution_count": 15,
          "metadata": {},
          "output_type": "execute_result"
        }
      ],
      "source": [
        "# se añade la localización de los clientes\n",
        "df_test = df_test.merge(df_loc, on='customerid', how='left')\n",
        "#ver tamaño del nuvo df\n",
        "df_test.shape"
      ]
    },
    {
      "cell_type": "markdown",
      "metadata": {},
      "source": [
        "Añadir información de los préstamos antiguos de los clientes"
      ]
    },
    {
      "cell_type": "code",
      "execution_count": 16,
      "metadata": {
        "colab": {
          "base_uri": "https://localhost:8080/"
        },
        "id": "xOq_4Uqiyc5a",
        "outputId": "301b852f-2087-4ccc-ef4c-7fc155097312"
      },
      "outputs": [
        {
          "data": {
            "text/plain": [
              "(1450, 20)"
            ]
          },
          "execution_count": 16,
          "metadata": {},
          "output_type": "execute_result"
        }
      ],
      "source": [
        "# se añade la información de préstamos antiguos del cliente\n",
        "df_test = df_test.merge(df_loan_gr, on='customerid', how='left')\n",
        "#ver tamaño del nuvo df\n",
        "df_test.shape"
      ]
    },
    {
      "cell_type": "markdown",
      "metadata": {},
      "source": [
        "Añadir información de los préstamos antiguos de los referidos"
      ]
    },
    {
      "cell_type": "code",
      "execution_count": 17,
      "metadata": {
        "colab": {
          "base_uri": "https://localhost:8080/"
        },
        "id": "YBcr8_otyc5a",
        "outputId": "4c232ce5-1604-489e-a230-089f187cd364"
      },
      "outputs": [
        {
          "data": {
            "text/plain": [
              "(1450, 21)"
            ]
          },
          "execution_count": 17,
          "metadata": {},
          "output_type": "execute_result"
        }
      ],
      "source": [
        "# se añade la información de préstamos antiguos del referido del cliente\n",
        "df_test = df_test.merge(df_loan_gr, left_on='referredby', right_on='customerid', how='left')\n",
        "#ver tamaño del nuvo df\n",
        "df_test.shape"
      ]
    },
    {
      "cell_type": "code",
      "execution_count": 18,
      "metadata": {
        "colab": {
          "base_uri": "https://localhost:8080/",
          "height": 0
        },
        "id": "KOhQ-UF0yc5c",
        "outputId": "8b4bb04d-6ab1-413c-8840-ed9503ee9931"
      },
      "outputs": [
        {
          "data": {
            "text/html": [
              "<div>\n",
              "<style scoped>\n",
              "    .dataframe tbody tr th:only-of-type {\n",
              "        vertical-align: middle;\n",
              "    }\n",
              "\n",
              "    .dataframe tbody tr th {\n",
              "        vertical-align: top;\n",
              "    }\n",
              "\n",
              "    .dataframe thead th {\n",
              "        text-align: right;\n",
              "    }\n",
              "</style>\n",
              "<table border=\"1\" class=\"dataframe\">\n",
              "  <thead>\n",
              "    <tr style=\"text-align: right;\">\n",
              "      <th></th>\n",
              "      <th>customerid</th>\n",
              "      <th>systemloanid</th>\n",
              "      <th>loannumber</th>\n",
              "      <th>approveddate</th>\n",
              "      <th>creationdate</th>\n",
              "      <th>loanamount</th>\n",
              "      <th>totaldue</th>\n",
              "      <th>termdays</th>\n",
              "      <th>referredby</th>\n",
              "      <th>birthdate</th>\n",
              "      <th>...</th>\n",
              "      <th>longitude_gps</th>\n",
              "      <th>latitude_gps</th>\n",
              "      <th>bank_name_clients</th>\n",
              "      <th>bank_branch_clients</th>\n",
              "      <th>employment_status_clients</th>\n",
              "      <th>level_of_education_clients</th>\n",
              "      <th>pais</th>\n",
              "      <th>estado</th>\n",
              "      <th>pagos_plazo_x</th>\n",
              "      <th>pagos_plazo_y</th>\n",
              "    </tr>\n",
              "  </thead>\n",
              "  <tbody>\n",
              "    <tr>\n",
              "      <th>0</th>\n",
              "      <td>8a858899538ddb8e015390510b321f08</td>\n",
              "      <td>301998974</td>\n",
              "      <td>4</td>\n",
              "      <td>40:48.0</td>\n",
              "      <td>39:35.0</td>\n",
              "      <td>10000</td>\n",
              "      <td>12250.0</td>\n",
              "      <td>30</td>\n",
              "      <td>NaN</td>\n",
              "      <td>1983-12-16 00:00:00.000000</td>\n",
              "      <td>...</td>\n",
              "      <td>5.835219</td>\n",
              "      <td>8.274730</td>\n",
              "      <td>First Bank</td>\n",
              "      <td>NaN</td>\n",
              "      <td>Permanent</td>\n",
              "      <td>NaN</td>\n",
              "      <td>NG</td>\n",
              "      <td>Kogi</td>\n",
              "      <td>0.0</td>\n",
              "      <td>NaN</td>\n",
              "    </tr>\n",
              "    <tr>\n",
              "      <th>1</th>\n",
              "      <td>8a858959537a097401537a4e316e25f7</td>\n",
              "      <td>301963615</td>\n",
              "      <td>10</td>\n",
              "      <td>43:40.0</td>\n",
              "      <td>42:34.0</td>\n",
              "      <td>40000</td>\n",
              "      <td>44000.0</td>\n",
              "      <td>30</td>\n",
              "      <td>NaN</td>\n",
              "      <td>1986-04-06 00:00:00.000000</td>\n",
              "      <td>...</td>\n",
              "      <td>3.245768</td>\n",
              "      <td>6.601778</td>\n",
              "      <td>First Bank</td>\n",
              "      <td>NaN</td>\n",
              "      <td>Permanent</td>\n",
              "      <td>NaN</td>\n",
              "      <td>NG</td>\n",
              "      <td>Lagos</td>\n",
              "      <td>1.0</td>\n",
              "      <td>NaN</td>\n",
              "    </tr>\n",
              "    <tr>\n",
              "      <th>2</th>\n",
              "      <td>8a8589c253ace09b0153af6ba58f1f31</td>\n",
              "      <td>301982236</td>\n",
              "      <td>6</td>\n",
              "      <td>15:11.0</td>\n",
              "      <td>15:04.0</td>\n",
              "      <td>20000</td>\n",
              "      <td>24500.0</td>\n",
              "      <td>30</td>\n",
              "      <td>NaN</td>\n",
              "      <td>1981-09-05 00:00:00.000000</td>\n",
              "      <td>...</td>\n",
              "      <td>3.227945</td>\n",
              "      <td>6.586668</td>\n",
              "      <td>UBA</td>\n",
              "      <td>NaN</td>\n",
              "      <td>Permanent</td>\n",
              "      <td>NaN</td>\n",
              "      <td>NG</td>\n",
              "      <td>Lagos</td>\n",
              "      <td>0.0</td>\n",
              "      <td>NaN</td>\n",
              "    </tr>\n",
              "    <tr>\n",
              "      <th>3</th>\n",
              "      <td>8a858e095aae82b7015aae86ca1e030b</td>\n",
              "      <td>301971730</td>\n",
              "      <td>8</td>\n",
              "      <td>00:54.0</td>\n",
              "      <td>00:49.0</td>\n",
              "      <td>30000</td>\n",
              "      <td>34500.0</td>\n",
              "      <td>30</td>\n",
              "      <td>NaN</td>\n",
              "      <td>1977-11-16 00:00:00.000000</td>\n",
              "      <td>...</td>\n",
              "      <td>6.106486</td>\n",
              "      <td>7.287064</td>\n",
              "      <td>Zenith Bank</td>\n",
              "      <td>NaN</td>\n",
              "      <td>NaN</td>\n",
              "      <td>NaN</td>\n",
              "      <td>NG</td>\n",
              "      <td>Edo</td>\n",
              "      <td>1.0</td>\n",
              "      <td>NaN</td>\n",
              "    </tr>\n",
              "    <tr>\n",
              "      <th>4</th>\n",
              "      <td>8a858e225a28c713015a30db5c48383d</td>\n",
              "      <td>301959177</td>\n",
              "      <td>4</td>\n",
              "      <td>04:33.0</td>\n",
              "      <td>04:27.0</td>\n",
              "      <td>20000</td>\n",
              "      <td>24500.0</td>\n",
              "      <td>30</td>\n",
              "      <td>NaN</td>\n",
              "      <td>1975-08-25 00:00:00.000000</td>\n",
              "      <td>...</td>\n",
              "      <td>5.248368</td>\n",
              "      <td>13.059864</td>\n",
              "      <td>UBA</td>\n",
              "      <td>NaN</td>\n",
              "      <td>Permanent</td>\n",
              "      <td>NaN</td>\n",
              "      <td>NG</td>\n",
              "      <td>Sokoto</td>\n",
              "      <td>1.0</td>\n",
              "      <td>NaN</td>\n",
              "    </tr>\n",
              "  </tbody>\n",
              "</table>\n",
              "<p>5 rows × 21 columns</p>\n",
              "</div>"
            ],
            "text/plain": [
              "                         customerid  systemloanid  loannumber approveddate  \\\n",
              "0  8a858899538ddb8e015390510b321f08     301998974           4      40:48.0   \n",
              "1  8a858959537a097401537a4e316e25f7     301963615          10      43:40.0   \n",
              "2  8a8589c253ace09b0153af6ba58f1f31     301982236           6      15:11.0   \n",
              "3  8a858e095aae82b7015aae86ca1e030b     301971730           8      00:54.0   \n",
              "4  8a858e225a28c713015a30db5c48383d     301959177           4      04:33.0   \n",
              "\n",
              "  creationdate  loanamount  totaldue  termdays referredby  \\\n",
              "0      39:35.0       10000   12250.0        30        NaN   \n",
              "1      42:34.0       40000   44000.0        30        NaN   \n",
              "2      15:04.0       20000   24500.0        30        NaN   \n",
              "3      00:49.0       30000   34500.0        30        NaN   \n",
              "4      04:27.0       20000   24500.0        30        NaN   \n",
              "\n",
              "                    birthdate  ... longitude_gps  latitude_gps  \\\n",
              "0  1983-12-16 00:00:00.000000  ...      5.835219      8.274730   \n",
              "1  1986-04-06 00:00:00.000000  ...      3.245768      6.601778   \n",
              "2  1981-09-05 00:00:00.000000  ...      3.227945      6.586668   \n",
              "3  1977-11-16 00:00:00.000000  ...      6.106486      7.287064   \n",
              "4  1975-08-25 00:00:00.000000  ...      5.248368     13.059864   \n",
              "\n",
              "   bank_name_clients bank_branch_clients employment_status_clients  \\\n",
              "0         First Bank                 NaN                 Permanent   \n",
              "1         First Bank                 NaN                 Permanent   \n",
              "2                UBA                 NaN                 Permanent   \n",
              "3        Zenith Bank                 NaN                       NaN   \n",
              "4                UBA                 NaN                 Permanent   \n",
              "\n",
              "  level_of_education_clients pais  estado pagos_plazo_x  pagos_plazo_y  \n",
              "0                        NaN   NG    Kogi           0.0            NaN  \n",
              "1                        NaN   NG   Lagos           1.0            NaN  \n",
              "2                        NaN   NG   Lagos           0.0            NaN  \n",
              "3                        NaN   NG     Edo           1.0            NaN  \n",
              "4                        NaN   NG  Sokoto           1.0            NaN  \n",
              "\n",
              "[5 rows x 21 columns]"
            ]
          },
          "execution_count": 18,
          "metadata": {},
          "output_type": "execute_result"
        }
      ],
      "source": [
        "df_test.head()"
      ]
    },
    {
      "cell_type": "markdown",
      "metadata": {
        "id": "asZYlDnSyc5d"
      },
      "source": [
        "## TRANSFORMACIONES INICIALES EN EL DATASET"
      ]
    },
    {
      "cell_type": "code",
      "execution_count": 20,
      "metadata": {
        "id": "40nmRTDZyc5d"
      },
      "outputs": [],
      "source": [
        "# quitar columnas que no se usan\n",
        "# elegir las columnas\n",
        "df_test_delete = ['level_of_education_clients', 'customerid', 'systemloanid','bank_name_clients', 'bank_branch_clients', 'creationdate', 'longitude_gps', 'latitude_gps']\n",
        "# borrar las columnas elegidas\n",
        "df_test.drop(columns = df_test_delete, inplace = True)"
      ]
    },
    {
      "cell_type": "code",
      "execution_count": 21,
      "metadata": {
        "colab": {
          "base_uri": "https://localhost:8080/"
        },
        "id": "7DyTUbSjyc5d",
        "outputId": "2050cd4f-2eda-4324-b5b7-1caa5fe8398a"
      },
      "outputs": [
        {
          "data": {
            "text/plain": [
              "loannumber                     int64\n",
              "approveddate                  object\n",
              "loanamount                     int64\n",
              "totaldue                     float64\n",
              "termdays                       int64\n",
              "referredby                    object\n",
              "birthdate                     object\n",
              "bank_account_type             object\n",
              "employment_status_clients     object\n",
              "pais                          object\n",
              "estado                        object\n",
              "pagos_plazo_x                float64\n",
              "pagos_plazo_y                float64\n",
              "dtype: object"
            ]
          },
          "execution_count": 21,
          "metadata": {},
          "output_type": "execute_result"
        }
      ],
      "source": [
        "#ver tipo de datos de las columnas\n",
        "df_test.dtypes"
      ]
    },
    {
      "cell_type": "code",
      "execution_count": 22,
      "metadata": {},
      "outputs": [
        {
          "data": {
            "text/plain": [
              "0       40:48.0\n",
              "1       43:40.0\n",
              "2       15:11.0\n",
              "3       00:54.0\n",
              "4       04:33.0\n",
              "         ...   \n",
              "1445    47:02.0\n",
              "1446    00:45.0\n",
              "1447    09:40.0\n",
              "1448    47:54.0\n",
              "1449    12:09.0\n",
              "Name: approveddate, Length: 1450, dtype: object"
            ]
          },
          "execution_count": 22,
          "metadata": {},
          "output_type": "execute_result"
        }
      ],
      "source": [
        "# la columna de fecha de aprovación está en un formato extraño\n",
        "df_test['approveddate']"
      ]
    },
    {
      "cell_type": "code",
      "execution_count": 23,
      "metadata": {},
      "outputs": [],
      "source": [
        "# por tanto, no se puede usar\n",
        "df_test.drop(columns = ['approveddate'], inplace = True)"
      ]
    },
    {
      "cell_type": "code",
      "execution_count": 24,
      "metadata": {
        "id": "yvoczXDXyc5e"
      },
      "outputs": [],
      "source": [
        "# cambiar el tipo de dato de algunas columnas\n",
        "#cambiar tipo de dato\n",
        "df_test['totaldue'] = df_test['totaldue'].astype('int')\n",
        "df_test['pagos_plazo_x'] = df_test['pagos_plazo_x'].astype('Int64')\n",
        "df_test['pagos_plazo_y'] = df_test['pagos_plazo_x'].astype('Int64')\n",
        "#pasar columna a fecha\n",
        "df_test['birthdate'] = pd.to_datetime(df_test['birthdate'])"
      ]
    },
    {
      "cell_type": "code",
      "execution_count": 25,
      "metadata": {
        "colab": {
          "base_uri": "https://localhost:8080/"
        },
        "id": "oanBwhkZyc5e",
        "outputId": "c729b787-4b0b-417d-ac49-5dd300142950"
      },
      "outputs": [
        {
          "name": "stdout",
          "output_type": "stream",
          "text": [
            "loannumber                      0\n",
            "loanamount                      0\n",
            "totaldue                        0\n",
            "termdays                        0\n",
            "referredby                   1266\n",
            "birthdate                       0\n",
            "bank_account_type               0\n",
            "employment_status_clients     208\n",
            "pais                            0\n",
            "estado                          0\n",
            "pagos_plazo_x                   8\n",
            "pagos_plazo_y                   8\n",
            "dtype: int64\n"
          ]
        }
      ],
      "source": [
        "# ver registros nulos en las columnas\n",
        "print(df_test.isnull().sum())"
      ]
    },
    {
      "cell_type": "code",
      "execution_count": 26,
      "metadata": {
        "colab": {
          "base_uri": "https://localhost:8080/"
        },
        "id": "CzJsyL86yc5e",
        "outputId": "7f13e7e0-d4bd-482d-8e09-db32fa2169c0"
      },
      "outputs": [
        {
          "data": {
            "text/plain": [
              "2"
            ]
          },
          "execution_count": 26,
          "metadata": {},
          "output_type": "execute_result"
        }
      ],
      "source": [
        "# aparecen 8 registros donde los clientes no tienen datos de préstamos antiguos\n",
        "# sin embargo, la columna loannumber indica lo contrario\n",
        "df_test['loannumber'].min()"
      ]
    },
    {
      "cell_type": "code",
      "execution_count": 27,
      "metadata": {
        "id": "meDlW4_nyc5e"
      },
      "outputs": [],
      "source": [
        "# al ser tan pocos registros, se opta por borrarlos\n",
        "df_test.dropna(subset=['pagos_plazo_x'], inplace = True)"
      ]
    },
    {
      "cell_type": "code",
      "execution_count": 28,
      "metadata": {
        "colab": {
          "base_uri": "https://localhost:8080/",
          "height": 0
        },
        "id": "E0j4hL2Eyc5e",
        "outputId": "a12bf3cf-569b-4fe5-e8dc-c53f93eb83a8"
      },
      "outputs": [
        {
          "data": {
            "text/html": [
              "<div>\n",
              "<style scoped>\n",
              "    .dataframe tbody tr th:only-of-type {\n",
              "        vertical-align: middle;\n",
              "    }\n",
              "\n",
              "    .dataframe tbody tr th {\n",
              "        vertical-align: top;\n",
              "    }\n",
              "\n",
              "    .dataframe thead th {\n",
              "        text-align: right;\n",
              "    }\n",
              "</style>\n",
              "<table border=\"1\" class=\"dataframe\">\n",
              "  <thead>\n",
              "    <tr style=\"text-align: right;\">\n",
              "      <th></th>\n",
              "      <th>loannumber</th>\n",
              "      <th>loanamount</th>\n",
              "      <th>totaldue</th>\n",
              "      <th>termdays</th>\n",
              "      <th>referredby</th>\n",
              "      <th>birthdate</th>\n",
              "      <th>bank_account_type</th>\n",
              "      <th>employment_status_clients</th>\n",
              "      <th>pais</th>\n",
              "      <th>estado</th>\n",
              "      <th>pagos_plazo_x</th>\n",
              "      <th>pagos_plazo_y</th>\n",
              "    </tr>\n",
              "  </thead>\n",
              "  <tbody>\n",
              "    <tr>\n",
              "      <th>0</th>\n",
              "      <td>4</td>\n",
              "      <td>10000</td>\n",
              "      <td>12250</td>\n",
              "      <td>30</td>\n",
              "      <td>NaN</td>\n",
              "      <td>1983-12-16</td>\n",
              "      <td>Other</td>\n",
              "      <td>Permanent</td>\n",
              "      <td>NG</td>\n",
              "      <td>Kogi</td>\n",
              "      <td>0</td>\n",
              "      <td>0</td>\n",
              "    </tr>\n",
              "    <tr>\n",
              "      <th>1</th>\n",
              "      <td>10</td>\n",
              "      <td>40000</td>\n",
              "      <td>44000</td>\n",
              "      <td>30</td>\n",
              "      <td>NaN</td>\n",
              "      <td>1986-04-06</td>\n",
              "      <td>Savings</td>\n",
              "      <td>Permanent</td>\n",
              "      <td>NG</td>\n",
              "      <td>Lagos</td>\n",
              "      <td>1</td>\n",
              "      <td>1</td>\n",
              "    </tr>\n",
              "    <tr>\n",
              "      <th>2</th>\n",
              "      <td>6</td>\n",
              "      <td>20000</td>\n",
              "      <td>24500</td>\n",
              "      <td>30</td>\n",
              "      <td>NaN</td>\n",
              "      <td>1981-09-05</td>\n",
              "      <td>Savings</td>\n",
              "      <td>Permanent</td>\n",
              "      <td>NG</td>\n",
              "      <td>Lagos</td>\n",
              "      <td>0</td>\n",
              "      <td>0</td>\n",
              "    </tr>\n",
              "    <tr>\n",
              "      <th>3</th>\n",
              "      <td>8</td>\n",
              "      <td>30000</td>\n",
              "      <td>34500</td>\n",
              "      <td>30</td>\n",
              "      <td>NaN</td>\n",
              "      <td>1977-11-16</td>\n",
              "      <td>Savings</td>\n",
              "      <td>NaN</td>\n",
              "      <td>NG</td>\n",
              "      <td>Edo</td>\n",
              "      <td>1</td>\n",
              "      <td>1</td>\n",
              "    </tr>\n",
              "    <tr>\n",
              "      <th>4</th>\n",
              "      <td>4</td>\n",
              "      <td>20000</td>\n",
              "      <td>24500</td>\n",
              "      <td>30</td>\n",
              "      <td>NaN</td>\n",
              "      <td>1975-08-25</td>\n",
              "      <td>Savings</td>\n",
              "      <td>Permanent</td>\n",
              "      <td>NG</td>\n",
              "      <td>Sokoto</td>\n",
              "      <td>1</td>\n",
              "      <td>1</td>\n",
              "    </tr>\n",
              "  </tbody>\n",
              "</table>\n",
              "</div>"
            ],
            "text/plain": [
              "   loannumber  loanamount  totaldue  termdays referredby  birthdate  \\\n",
              "0           4       10000     12250        30        NaN 1983-12-16   \n",
              "1          10       40000     44000        30        NaN 1986-04-06   \n",
              "2           6       20000     24500        30        NaN 1981-09-05   \n",
              "3           8       30000     34500        30        NaN 1977-11-16   \n",
              "4           4       20000     24500        30        NaN 1975-08-25   \n",
              "\n",
              "  bank_account_type employment_status_clients pais  estado  pagos_plazo_x  \\\n",
              "0             Other                 Permanent   NG    Kogi              0   \n",
              "1           Savings                 Permanent   NG   Lagos              1   \n",
              "2           Savings                 Permanent   NG   Lagos              0   \n",
              "3           Savings                       NaN   NG     Edo              1   \n",
              "4           Savings                 Permanent   NG  Sokoto              1   \n",
              "\n",
              "   pagos_plazo_y  \n",
              "0              0  \n",
              "1              1  \n",
              "2              0  \n",
              "3              1  \n",
              "4              1  "
            ]
          },
          "execution_count": 28,
          "metadata": {},
          "output_type": "execute_result"
        }
      ],
      "source": [
        "df_test.head()"
      ]
    },
    {
      "cell_type": "markdown",
      "metadata": {
        "id": "Yy2MlJB2yc5f"
      },
      "source": [
        "## TRANSFORMACIONES EN COLUMNAS"
      ]
    },
    {
      "cell_type": "markdown",
      "metadata": {
        "id": "4RYS65Ulyc5f"
      },
      "source": [
        "### Histórico de pagos del cliente"
      ]
    },
    {
      "cell_type": "markdown",
      "metadata": {
        "id": "lFeVZuDUyc5f"
      },
      "source": [
        "- 0: El cliente tiene un mal historial de pagos\n",
        "- 1: El cliente tiene un buen historial de pagos"
      ]
    },
    {
      "cell_type": "code",
      "execution_count": 29,
      "metadata": {
        "id": "bSNjegyEyc5f"
      },
      "outputs": [],
      "source": [
        "df_test.rename(columns={'pagos_plazo_x': 'historial'}, inplace = True)\n"
      ]
    },
    {
      "cell_type": "markdown",
      "metadata": {
        "id": "mYOLhEVQyc5f"
      },
      "source": [
        "### Referido"
      ]
    },
    {
      "cell_type": "markdown",
      "metadata": {
        "id": "0aCOykfSyc5f"
      },
      "source": [
        "- 0: El cliente ha sido referido por un cliente con un mal historial de pagos\n",
        "- 1: El cliente no ha sido referido\n",
        "- 2: El cliente ha sido referido por un cliente sin historial de pagos\n",
        "- 3: El cliente ha sido referido por un cliente con un buen historial de pagos"
      ]
    },
    {
      "cell_type": "code",
      "execution_count": 30,
      "metadata": {
        "id": "nKnQu7Dxyc5g"
      },
      "outputs": [],
      "source": [
        "df_test['referido'] = 0\n",
        "df_test.loc[df_test['referredby'].isnull(), 'referido'] = 1\n",
        "df_test.loc[(df_test['referredby'].notnull()) & (df_test['pagos_plazo_y'].isnull()), 'referido'] = 2\n",
        "df_test.loc[(df_test['referredby'].notnull()) & (df_test['pagos_plazo_y'] == 1), 'referido'] = 3\n",
        "# borrar columnas que ya no se usan\n",
        "df_test.drop(columns = ['referredby', 'pagos_plazo_y'], inplace = True)"
      ]
    },
    {
      "cell_type": "markdown",
      "metadata": {
        "id": "o7MlMGeYyc5g"
      },
      "source": [
        "### Edad"
      ]
    },
    {
      "cell_type": "code",
      "execution_count": 31,
      "metadata": {
        "id": "4Wc7jQ0Kyc5g"
      },
      "outputs": [],
      "source": [
        "# pasar de fecha de nacimiento a edad\n",
        "df_test['age'] = df_test['birthdate'].apply(lambda x: from_dob_to_age(x)).astype('Int64')\n",
        "# quitar la columna que ya no se usa\n",
        "df_test.drop(columns = ['birthdate'], inplace = True)"
      ]
    },
    {
      "cell_type": "markdown",
      "metadata": {
        "id": "r2UM04PQyc5h"
      },
      "source": [
        "### Deuda por día"
      ]
    },
    {
      "cell_type": "code",
      "execution_count": 32,
      "metadata": {
        "id": "KRY1qXLfyc5h"
      },
      "outputs": [],
      "source": [
        "df_test['due_per_day'] = df_test.apply(lambda x: x['totaldue'] / x['termdays'], axis=1)\n",
        "df_test['due_per_day'] = df_test['due_per_day'].astype('int')"
      ]
    },
    {
      "cell_type": "markdown",
      "metadata": {},
      "source": [
        "### Interés"
      ]
    },
    {
      "cell_type": "code",
      "execution_count": 33,
      "metadata": {},
      "outputs": [],
      "source": [
        "df_test['interes'] = df_test.apply(lambda x: ((x['totaldue'] - x['loanamount']) / x['loanamount']) * 100, axis=1)\n",
        "# borrar columnas que ya no se usan\n",
        "df_test.drop(columns = ['termdays', 'totaldue', 'loanamount'], inplace = True)"
      ]
    },
    {
      "cell_type": "markdown",
      "metadata": {
        "id": "meof8BUlyc5i"
      },
      "source": [
        "### Tipo de cuenta del banco"
      ]
    },
    {
      "cell_type": "markdown",
      "metadata": {
        "id": "zmEjhAyryc5i"
      },
      "source": [
        "Dummies para cada tipo"
      ]
    },
    {
      "cell_type": "code",
      "execution_count": 34,
      "metadata": {
        "colab": {
          "base_uri": "https://localhost:8080/",
          "height": 487
        },
        "id": "ndFdc4XGyc5i",
        "outputId": "1d9a1eb8-0c49-440b-9284-aa664795cecd"
      },
      "outputs": [
        {
          "data": {
            "text/plain": [
              "Savings    1146\n",
              "Other       280\n",
              "Current      16\n",
              "Name: bank_account_type, dtype: int64"
            ]
          },
          "execution_count": 34,
          "metadata": {},
          "output_type": "execute_result"
        }
      ],
      "source": [
        "#ver distribución\n",
        "df_test['bank_account_type'].value_counts(dropna = False)"
      ]
    },
    {
      "cell_type": "code",
      "execution_count": 35,
      "metadata": {
        "colab": {
          "base_uri": "https://localhost:8080/",
          "height": 487
        },
        "id": "pRq4S_s_6n41",
        "outputId": "b3c30528-db5a-4970-b492-9dc19f13de0d"
      },
      "outputs": [
        {
          "data": {
            "text/html": [
              "<div>\n",
              "<style scoped>\n",
              "    .dataframe tbody tr th:only-of-type {\n",
              "        vertical-align: middle;\n",
              "    }\n",
              "\n",
              "    .dataframe tbody tr th {\n",
              "        vertical-align: top;\n",
              "    }\n",
              "\n",
              "    .dataframe thead th {\n",
              "        text-align: right;\n",
              "    }\n",
              "</style>\n",
              "<table border=\"1\" class=\"dataframe\">\n",
              "  <thead>\n",
              "    <tr style=\"text-align: right;\">\n",
              "      <th></th>\n",
              "      <th>loannumber</th>\n",
              "      <th>employment_status_clients</th>\n",
              "      <th>pais</th>\n",
              "      <th>estado</th>\n",
              "      <th>historial</th>\n",
              "      <th>referido</th>\n",
              "      <th>age</th>\n",
              "      <th>due_per_day</th>\n",
              "      <th>interes</th>\n",
              "      <th>bank_account_type_Current</th>\n",
              "      <th>bank_account_type_Other</th>\n",
              "      <th>bank_account_type_Savings</th>\n",
              "    </tr>\n",
              "  </thead>\n",
              "  <tbody>\n",
              "    <tr>\n",
              "      <th>0</th>\n",
              "      <td>4</td>\n",
              "      <td>Permanent</td>\n",
              "      <td>NG</td>\n",
              "      <td>Kogi</td>\n",
              "      <td>0</td>\n",
              "      <td>1</td>\n",
              "      <td>38</td>\n",
              "      <td>408</td>\n",
              "      <td>22.5</td>\n",
              "      <td>0</td>\n",
              "      <td>1</td>\n",
              "      <td>0</td>\n",
              "    </tr>\n",
              "    <tr>\n",
              "      <th>1</th>\n",
              "      <td>10</td>\n",
              "      <td>Permanent</td>\n",
              "      <td>NG</td>\n",
              "      <td>Lagos</td>\n",
              "      <td>1</td>\n",
              "      <td>1</td>\n",
              "      <td>36</td>\n",
              "      <td>1466</td>\n",
              "      <td>10.0</td>\n",
              "      <td>0</td>\n",
              "      <td>0</td>\n",
              "      <td>1</td>\n",
              "    </tr>\n",
              "    <tr>\n",
              "      <th>2</th>\n",
              "      <td>6</td>\n",
              "      <td>Permanent</td>\n",
              "      <td>NG</td>\n",
              "      <td>Lagos</td>\n",
              "      <td>0</td>\n",
              "      <td>1</td>\n",
              "      <td>40</td>\n",
              "      <td>816</td>\n",
              "      <td>22.5</td>\n",
              "      <td>0</td>\n",
              "      <td>0</td>\n",
              "      <td>1</td>\n",
              "    </tr>\n",
              "    <tr>\n",
              "      <th>3</th>\n",
              "      <td>8</td>\n",
              "      <td>NaN</td>\n",
              "      <td>NG</td>\n",
              "      <td>Edo</td>\n",
              "      <td>1</td>\n",
              "      <td>1</td>\n",
              "      <td>44</td>\n",
              "      <td>1150</td>\n",
              "      <td>15.0</td>\n",
              "      <td>0</td>\n",
              "      <td>0</td>\n",
              "      <td>1</td>\n",
              "    </tr>\n",
              "    <tr>\n",
              "      <th>4</th>\n",
              "      <td>4</td>\n",
              "      <td>Permanent</td>\n",
              "      <td>NG</td>\n",
              "      <td>Sokoto</td>\n",
              "      <td>1</td>\n",
              "      <td>1</td>\n",
              "      <td>46</td>\n",
              "      <td>816</td>\n",
              "      <td>22.5</td>\n",
              "      <td>0</td>\n",
              "      <td>0</td>\n",
              "      <td>1</td>\n",
              "    </tr>\n",
              "  </tbody>\n",
              "</table>\n",
              "</div>"
            ],
            "text/plain": [
              "   loannumber employment_status_clients pais  estado  historial  referido  \\\n",
              "0           4                 Permanent   NG    Kogi          0         1   \n",
              "1          10                 Permanent   NG   Lagos          1         1   \n",
              "2           6                 Permanent   NG   Lagos          0         1   \n",
              "3           8                       NaN   NG     Edo          1         1   \n",
              "4           4                 Permanent   NG  Sokoto          1         1   \n",
              "\n",
              "   age  due_per_day  interes  bank_account_type_Current  \\\n",
              "0   38          408     22.5                          0   \n",
              "1   36         1466     10.0                          0   \n",
              "2   40          816     22.5                          0   \n",
              "3   44         1150     15.0                          0   \n",
              "4   46          816     22.5                          0   \n",
              "\n",
              "   bank_account_type_Other  bank_account_type_Savings  \n",
              "0                        1                          0  \n",
              "1                        0                          1  \n",
              "2                        0                          1  \n",
              "3                        0                          1  \n",
              "4                        0                          1  "
            ]
          },
          "execution_count": 35,
          "metadata": {},
          "output_type": "execute_result"
        }
      ],
      "source": [
        "# one hot encoding\n",
        "df_test = pd.concat([df_test,pd.get_dummies(df_test['bank_account_type'], prefix='bank_account_type')],join='inner',axis=1)\n",
        "df_test.drop(['bank_account_type'],axis=1, inplace=True)\n",
        "df_test.head()"
      ]
    },
    {
      "cell_type": "code",
      "execution_count": 36,
      "metadata": {},
      "outputs": [],
      "source": [
        "# Cambiar nombre de las columnas\n",
        "cambios_nombre = {'bank_account_type_Current':'cuenta_corriente', 'bank_account_type_Other':'cuenta_otra', 'bank_account_type_Savings':'cuenta_ahorro'}\n",
        "df_test.rename(columns = cambios_nombre, inplace = True)"
      ]
    },
    {
      "cell_type": "markdown",
      "metadata": {
        "id": "miSOBVV1yc5i"
      },
      "source": [
        "### Localización"
      ]
    },
    {
      "cell_type": "code",
      "execution_count": 37,
      "metadata": {},
      "outputs": [
        {
          "data": {
            "text/plain": [
              "NG    1434\n",
              "US       2\n",
              "CN       1\n",
              "AR       1\n",
              "GH       1\n",
              "AE       1\n",
              "GB       1\n",
              "BJ       1\n",
              "Name: pais, dtype: int64"
            ]
          },
          "execution_count": 37,
          "metadata": {},
          "output_type": "execute_result"
        }
      ],
      "source": [
        "# vemos de que pais hay información\n",
        "df_test['pais'].value_counts(dropna = False)"
      ]
    },
    {
      "cell_type": "markdown",
      "metadata": {},
      "source": [
        "Más del 99% de los datos son de Nigeria. Para estos casos, se va añadir el pib per cápita del estado de Nigeria, y para los casos fuera del país, se va a usar el pib per cápita de dicho país."
      ]
    },
    {
      "cell_type": "code",
      "execution_count": 38,
      "metadata": {},
      "outputs": [],
      "source": [
        "# leemos los csv con los pib per capita de los estados de Nigeria y de los otros países que aparecen\n",
        "df_pib_nigeria = pd.read_csv(r'https://raw.githubusercontent.com/Ciarzi/DP3_GP1/main/datasets/own_data/nigeria_pib_capita.csv')\n",
        "df_pib_mundo = pd.read_csv(r'https://raw.githubusercontent.com/Ciarzi/DP3_GP1/main/datasets/own_data/mundo_pib_capita.csv')"
      ]
    },
    {
      "cell_type": "code",
      "execution_count": 39,
      "metadata": {},
      "outputs": [
        {
          "data": {
            "text/html": [
              "<div>\n",
              "<style scoped>\n",
              "    .dataframe tbody tr th:only-of-type {\n",
              "        vertical-align: middle;\n",
              "    }\n",
              "\n",
              "    .dataframe tbody tr th {\n",
              "        vertical-align: top;\n",
              "    }\n",
              "\n",
              "    .dataframe thead th {\n",
              "        text-align: right;\n",
              "    }\n",
              "</style>\n",
              "<table border=\"1\" class=\"dataframe\">\n",
              "  <thead>\n",
              "    <tr style=\"text-align: right;\">\n",
              "      <th></th>\n",
              "      <th>estado</th>\n",
              "      <th>pib_capita_estado</th>\n",
              "    </tr>\n",
              "  </thead>\n",
              "  <tbody>\n",
              "    <tr>\n",
              "      <th>0</th>\n",
              "      <td>Abuja Federal Capital Territory</td>\n",
              "      <td>US$2317</td>\n",
              "    </tr>\n",
              "    <tr>\n",
              "      <th>1</th>\n",
              "      <td>Lagos</td>\n",
              "      <td>US$2174</td>\n",
              "    </tr>\n",
              "    <tr>\n",
              "      <th>2</th>\n",
              "      <td>Rivers</td>\n",
              "      <td>US$2396</td>\n",
              "    </tr>\n",
              "    <tr>\n",
              "      <th>3</th>\n",
              "      <td>Delta</td>\n",
              "      <td>US$2452</td>\n",
              "    </tr>\n",
              "    <tr>\n",
              "      <th>4</th>\n",
              "      <td>Oyo</td>\n",
              "      <td>US$1718</td>\n",
              "    </tr>\n",
              "  </tbody>\n",
              "</table>\n",
              "</div>"
            ],
            "text/plain": [
              "                            estado pib_capita_estado\n",
              "0  Abuja Federal Capital Territory           US$2317\n",
              "1                            Lagos           US$2174\n",
              "2                           Rivers           US$2396\n",
              "3                            Delta           US$2452\n",
              "4                              Oyo           US$1718"
            ]
          },
          "execution_count": 39,
          "metadata": {},
          "output_type": "execute_result"
        }
      ],
      "source": [
        "df_pib_nigeria.head()"
      ]
    },
    {
      "cell_type": "code",
      "execution_count": 40,
      "metadata": {},
      "outputs": [],
      "source": [
        "# transformar la columna de pib per capita de nigeria\n",
        "# sacar el numero\n",
        "df_pib_nigeria['pib_capita_estado'] = df_pib_nigeria['pib_capita_estado'].apply(lambda x: x[3:])\n",
        "# pasar a tipo numero\n",
        "df_pib_nigeria['pib_capita_estado'] = df_pib_nigeria['pib_capita_estado'].astype('int')\n",
        "# pasamos de dolar a euro\n",
        "df_pib_nigeria['pib_capita_estado'] = df_pib_nigeria['pib_capita_estado'] * 0.95\n",
        "# redondear a euro\n",
        "df_pib_nigeria['pib_capita_estado'] = df_pib_nigeria['pib_capita_estado'].astype('int')"
      ]
    },
    {
      "cell_type": "code",
      "execution_count": 41,
      "metadata": {},
      "outputs": [
        {
          "data": {
            "text/html": [
              "<div>\n",
              "<style scoped>\n",
              "    .dataframe tbody tr th:only-of-type {\n",
              "        vertical-align: middle;\n",
              "    }\n",
              "\n",
              "    .dataframe tbody tr th {\n",
              "        vertical-align: top;\n",
              "    }\n",
              "\n",
              "    .dataframe thead th {\n",
              "        text-align: right;\n",
              "    }\n",
              "</style>\n",
              "<table border=\"1\" class=\"dataframe\">\n",
              "  <thead>\n",
              "    <tr style=\"text-align: right;\">\n",
              "      <th></th>\n",
              "      <th>pais</th>\n",
              "      <th>pib_capita_pais</th>\n",
              "    </tr>\n",
              "  </thead>\n",
              "  <tbody>\n",
              "    <tr>\n",
              "      <th>0</th>\n",
              "      <td>NG</td>\n",
              "      <td>0</td>\n",
              "    </tr>\n",
              "    <tr>\n",
              "      <th>1</th>\n",
              "      <td>US</td>\n",
              "      <td>63543</td>\n",
              "    </tr>\n",
              "    <tr>\n",
              "      <th>2</th>\n",
              "      <td>GB</td>\n",
              "      <td>40284</td>\n",
              "    </tr>\n",
              "    <tr>\n",
              "      <th>3</th>\n",
              "      <td>AE</td>\n",
              "      <td>43103</td>\n",
              "    </tr>\n",
              "    <tr>\n",
              "      <th>4</th>\n",
              "      <td>BJ</td>\n",
              "      <td>1291</td>\n",
              "    </tr>\n",
              "  </tbody>\n",
              "</table>\n",
              "</div>"
            ],
            "text/plain": [
              "  pais  pib_capita_pais\n",
              "0   NG                0\n",
              "1   US            63543\n",
              "2   GB            40284\n",
              "3   AE            43103\n",
              "4   BJ             1291"
            ]
          },
          "execution_count": 41,
          "metadata": {},
          "output_type": "execute_result"
        }
      ],
      "source": [
        "df_pib_mundo.head()"
      ]
    },
    {
      "cell_type": "code",
      "execution_count": 42,
      "metadata": {},
      "outputs": [],
      "source": [
        "# transformar la columna de pib per capita de los países\n",
        "# pasamos de dolar a euro\n",
        "df_pib_mundo['pib_capita_pais'] = df_pib_mundo['pib_capita_pais'] * 0.95\n",
        "# redondear a entero\n",
        "df_pib_mundo['pib_capita_pais'] = df_pib_mundo['pib_capita_pais'].astype('int')"
      ]
    },
    {
      "cell_type": "code",
      "execution_count": 43,
      "metadata": {},
      "outputs": [
        {
          "data": {
            "text/plain": [
              "(1442, 13)"
            ]
          },
          "execution_count": 43,
          "metadata": {},
          "output_type": "execute_result"
        }
      ],
      "source": [
        "# se añade el pib per capita de los otros países distintos a nigeria\n",
        "df_test = df_test.merge(df_pib_mundo, on='pais', how='left')\n",
        "#ver tamaño del nuvo df\n",
        "df_test.shape"
      ]
    },
    {
      "cell_type": "code",
      "execution_count": 44,
      "metadata": {},
      "outputs": [
        {
          "data": {
            "text/plain": [
              "(1442, 14)"
            ]
          },
          "execution_count": 44,
          "metadata": {},
          "output_type": "execute_result"
        }
      ],
      "source": [
        "# se añade el pib per capita de los datos de Nigeria\n",
        "df_test = df_test.merge(df_pib_nigeria, on='estado', how='left')\n",
        "#ver tamaño del nuvo df\n",
        "df_test.shape"
      ]
    },
    {
      "cell_type": "code",
      "execution_count": 45,
      "metadata": {},
      "outputs": [],
      "source": [
        "# se crea la columna final de pib per cápita\n",
        "df_test['pib_capita'] = df_test['pib_capita_pais']\n",
        "df_test.loc[df_test['pib_capita'] == 0, 'pib_capita'] = df_test['pib_capita_estado']"
      ]
    },
    {
      "cell_type": "code",
      "execution_count": 46,
      "metadata": {},
      "outputs": [],
      "source": [
        "#quitar columnas que ya no se usan\n",
        "df_test.drop(columns = ['pais', 'estado', 'pib_capita_pais', 'pib_capita_estado'], inplace = True)"
      ]
    },
    {
      "cell_type": "markdown",
      "metadata": {
        "id": "k2YvA6XGyc5j"
      },
      "source": [
        "### Ocupación"
      ]
    },
    {
      "cell_type": "markdown",
      "metadata": {
        "id": "EcR3giifyc5j"
      },
      "source": [
        "- 0: Low Income: Retired, Unemployed, Student\n",
        "- 1: NsNc  \n",
        "- 2: High income: Permanent, Self-Employed, Contract"
      ]
    },
    {
      "cell_type": "code",
      "execution_count": 47,
      "metadata": {
        "id": "Uh4lYtcKyc5k"
      },
      "outputs": [],
      "source": [
        "## transform a value inside a column to a separate boolean column\n",
        "df_test['employment'] = 1\n",
        "df_test.loc[df_test['employment_status_clients'] == 'Retired', 'employment'] = 0\n",
        "df_test.loc[df_test['employment_status_clients'] == 'Unemployed', 'employment'] = 0\n",
        "df_test.loc[df_test['employment_status_clients'] == 'Student', 'employment'] = 0\n",
        "df_test.loc[df_test['employment_status_clients'] == 'Permanent', 'employment'] = 2\n",
        "df_test.loc[df_test['employment_status_clients'] == 'Self-Employed', 'employment'] = 2\n",
        "df_test.loc[df_test['employment_status_clients'] == 'Contract', 'employment'] = 2\n",
        "#convertimos la columna a int\n",
        "df_test['employment'] = df_test['employment'].astype('Int64')\n",
        "# borrar columnas que ya no se usa\n",
        "df_test.drop(columns = ['employment_status_clients'], inplace = True)"
      ]
    },
    {
      "cell_type": "markdown",
      "metadata": {
        "id": "8enePyO6yc5k"
      },
      "source": [
        "## GUARDAR CSV"
      ]
    },
    {
      "cell_type": "code",
      "execution_count": 49,
      "metadata": {
        "id": "cdEXZe9ayc5k"
      },
      "outputs": [],
      "source": [
        "# df a csv\n",
        "df_test.to_csv(r'../datasets/own_data/test.csv', index = False)"
      ]
    }
  ],
  "metadata": {
    "colab": {
      "name": "etl.ipynb",
      "provenance": []
    },
    "interpreter": {
      "hash": "52634da84371cba311ea128a5ea7cdc41ff074b781779e754b270ff9f8153cee"
    },
    "kernelspec": {
      "display_name": "Python 3.9.6 64-bit",
      "language": "python",
      "name": "python3"
    },
    "language_info": {
      "codemirror_mode": {
        "name": "ipython",
        "version": 3
      },
      "file_extension": ".py",
      "mimetype": "text/x-python",
      "name": "python",
      "nbconvert_exporter": "python",
      "pygments_lexer": "ipython3",
      "version": "3.9.6"
    },
    "orig_nbformat": 4
  },
  "nbformat": 4,
  "nbformat_minor": 0
}
