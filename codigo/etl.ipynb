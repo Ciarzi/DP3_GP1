{
  "nbformat": 4,
  "nbformat_minor": 0,
  "metadata": {
    "colab": {
      "name": "Copia de Untitled3.ipynb",
      "provenance": [],
      "collapsed_sections": []
    },
    "kernelspec": {
      "name": "python3",
      "display_name": "Python 3"
    },
    "language_info": {
      "name": "python"
    }
  },
  "cells": [
    {
      "cell_type": "markdown",
      "source": [
        "##CONFIGURACION INICIAL"
      ],
      "metadata": {
        "id": "OHwAGYqqs-13"
      }
    },
    {
      "cell_type": "code",
      "source": [
        "!pip install reverse_geocoder"
      ],
      "metadata": {
        "colab": {
          "base_uri": "https://localhost:8080/"
        },
        "id": "Llzxu4xDUav6",
        "outputId": "7221916b-3d74-40ec-b549-df06fd058b2e"
      },
      "execution_count": 114,
      "outputs": [
        {
          "output_type": "stream",
          "name": "stdout",
          "text": [
            "Collecting reverse_geocoder\n",
            "  Downloading reverse_geocoder-1.5.1.tar.gz (2.2 MB)\n",
            "\u001b[K     |████████████████████████████████| 2.2 MB 5.1 MB/s \n",
            "\u001b[?25hRequirement already satisfied: numpy>=1.11.0 in /usr/local/lib/python3.7/dist-packages (from reverse_geocoder) (1.21.6)\n",
            "Requirement already satisfied: scipy>=0.17.1 in /usr/local/lib/python3.7/dist-packages (from reverse_geocoder) (1.4.1)\n",
            "Building wheels for collected packages: reverse-geocoder\n",
            "  Building wheel for reverse-geocoder (setup.py) ... \u001b[?25l\u001b[?25hdone\n",
            "  Created wheel for reverse-geocoder: filename=reverse_geocoder-1.5.1-py3-none-any.whl size=2268088 sha256=dbdd8fd9953e9eb550b512483c65ac606fbfb817dfaadcf1d60a4b27892deaef\n",
            "  Stored in directory: /root/.cache/pip/wheels/34/6e/70/5423639428a2cac8ea7eb467214a4254b549b381f306a9c790\n",
            "Successfully built reverse-geocoder\n",
            "Installing collected packages: reverse-geocoder\n",
            "Successfully installed reverse-geocoder-1.5.1\n"
          ]
        }
      ]
    },
    {
      "cell_type": "code",
      "source": [
        "# Importar librerías a usar\n",
        "import pandas as pd\n",
        "import datetime\n",
        "import numpy as np\n",
        "import reverse_geocoder as rg"
      ],
      "metadata": {
        "id": "B1p6QyHQlNMx"
      },
      "execution_count": 115,
      "outputs": []
    },
    {
      "cell_type": "code",
      "source": [
        "# funcion para pasar de fecha de nacimiento a edad\n",
        "def from_dob_to_age(born):\n",
        "    today = datetime.date.today()\n",
        "    return today.year - born.year - ((today.month, today.day) < (born.month, born.day))"
      ],
      "metadata": {
        "id": "OERmHhWTlOYA"
      },
      "execution_count": 44,
      "outputs": []
    },
    {
      "cell_type": "code",
      "source": [
        "# Leer los csv de train\n",
        "df_perf_test = pd.read_csv(r'https://raw.githubusercontent.com/Ciarzi/DP3_GP1/main/datasets/test_performance.csv')\n",
        "df_perf_train = pd.read_csv(r'https://raw.githubusercontent.com/Ciarzi/DP3_GP1/main/datasets/train_performance.csv')\n",
        "df_loan_test = pd.read_csv(r'https://raw.githubusercontent.com/Ciarzi/DP3_GP1/main/datasets/test_previous_loan.csv')\n",
        "df_loan_train = pd.read_csv(r'https://raw.githubusercontent.com/Ciarzi/DP3_GP1/main/datasets/train_previous_loan.csv')\n",
        "df_dem_test = pd.read_csv(r'https://raw.githubusercontent.com/Ciarzi/DP3_GP1/main/datasets/test_datos_demograficos.csv')\n",
        "df_dem_train = pd.read_csv(r'https://raw.githubusercontent.com/Ciarzi/DP3_GP1/main/datasets/train_datos_demograficos.csv')"
      ],
      "metadata": {
        "id": "lEnbhezzlPNB"
      },
      "execution_count": 68,
      "outputs": []
    },
    {
      "cell_type": "markdown",
      "source": [
        "##ADJUNTAR LOS DOS CSV DE DATOS DEMOGRÁFICOS Y LOS DOS CSV DE HISTÓRICO DE PRÉSTAMOS"
      ],
      "metadata": {
        "id": "XNz7ukvB25d7"
      }
    },
    {
      "cell_type": "markdown",
      "source": [
        "ADJUNTAR LOS DATOS DE CLIENTES"
      ],
      "metadata": {
        "id": "YG-FrLvK6Bir"
      }
    },
    {
      "cell_type": "code",
      "source": [
        "#dimensiones de test de datos demográficos\n",
        "df_dem_test.shape"
      ],
      "metadata": {
        "colab": {
          "base_uri": "https://localhost:8080/"
        },
        "id": "ORNX7Hf624yT",
        "outputId": "952aabe1-53e2-4f0d-a5d7-7d2124e29886"
      },
      "execution_count": 71,
      "outputs": [
        {
          "output_type": "execute_result",
          "data": {
            "text/plain": [
              "(1487, 9)"
            ]
          },
          "metadata": {},
          "execution_count": 71
        }
      ]
    },
    {
      "cell_type": "code",
      "source": [
        "#dimensiones de test de datos demográficos\n",
        "df_dem_train.shape"
      ],
      "metadata": {
        "colab": {
          "base_uri": "https://localhost:8080/"
        },
        "id": "q2SZtqZb3e3T",
        "outputId": "a33ef568-1c8a-4c83-ca12-08ce723e2433"
      },
      "execution_count": 72,
      "outputs": [
        {
          "output_type": "execute_result",
          "data": {
            "text/plain": [
              "(4346, 9)"
            ]
          },
          "metadata": {},
          "execution_count": 72
        }
      ]
    },
    {
      "cell_type": "code",
      "source": [
        "#adjuntar los dos csv\n",
        "df_dem = df_dem_test.append(df_dem_train, ignore_index=True)"
      ],
      "metadata": {
        "id": "O9joz2yw3kRA"
      },
      "execution_count": 73,
      "outputs": []
    },
    {
      "cell_type": "code",
      "source": [
        "#eliminar filas que sean idénticas\n",
        "df_dem.drop_duplicates(inplace = True)"
      ],
      "metadata": {
        "id": "ZopLq73h9c60"
      },
      "execution_count": 74,
      "outputs": []
    },
    {
      "cell_type": "code",
      "source": [
        "#dimensiones del nuevo dataframe\n",
        "df_dem.shape"
      ],
      "metadata": {
        "colab": {
          "base_uri": "https://localhost:8080/"
        },
        "id": "s0jaiLSn4DcS",
        "outputId": "37fe0fb3-8451-4634-b47a-946af3efe1bf"
      },
      "execution_count": 75,
      "outputs": [
        {
          "output_type": "execute_result",
          "data": {
            "text/plain": [
              "(5818, 9)"
            ]
          },
          "metadata": {},
          "execution_count": 75
        }
      ]
    },
    {
      "cell_type": "markdown",
      "source": [
        "ADJUNTAR LOS DATOS DE HISTÓRICO DE PRÉSTAMOS"
      ],
      "metadata": {
        "id": "J9widlam6EMR"
      }
    },
    {
      "cell_type": "code",
      "source": [
        "#dimensiones de test de histórico de préstamos\n",
        "df_loan_test.shape"
      ],
      "metadata": {
        "colab": {
          "base_uri": "https://localhost:8080/"
        },
        "id": "-zOJwuzX6KoO",
        "outputId": "cc7060ee-b230-4ad7-c556-a0a46c558948"
      },
      "execution_count": 76,
      "outputs": [
        {
          "output_type": "execute_result",
          "data": {
            "text/plain": [
              "(5907, 12)"
            ]
          },
          "metadata": {},
          "execution_count": 76
        }
      ]
    },
    {
      "cell_type": "code",
      "source": [
        "#dimensiones de test de histórico de préstamos\n",
        "df_loan_train.shape"
      ],
      "metadata": {
        "colab": {
          "base_uri": "https://localhost:8080/"
        },
        "id": "s6jhx4KO6REi",
        "outputId": "5fd04a5f-80df-45f0-cfb6-5a883ef87c03"
      },
      "execution_count": 77,
      "outputs": [
        {
          "output_type": "execute_result",
          "data": {
            "text/plain": [
              "(18183, 12)"
            ]
          },
          "metadata": {},
          "execution_count": 77
        }
      ]
    },
    {
      "cell_type": "code",
      "source": [
        "#adjuntar los dos csv\n",
        "df_loan = df_loan_test.append(df_loan_train, ignore_index=True)"
      ],
      "metadata": {
        "id": "FC0IFedf6SJU"
      },
      "execution_count": 78,
      "outputs": []
    },
    {
      "cell_type": "code",
      "source": [
        "#eliminar filas que sean idénticas\n",
        "df_loan.drop_duplicates(inplace = True)"
      ],
      "metadata": {
        "id": "--9FFEHM97AN"
      },
      "execution_count": 79,
      "outputs": []
    },
    {
      "cell_type": "code",
      "source": [
        "#dimensiones del nuevo dataframe\n",
        "df_loan.shape"
      ],
      "metadata": {
        "colab": {
          "base_uri": "https://localhost:8080/"
        },
        "id": "wxAvmrnf6i3u",
        "outputId": "1147d57b-3776-4c58-8fa7-8e1c3f61903e"
      },
      "execution_count": 80,
      "outputs": [
        {
          "output_type": "execute_result",
          "data": {
            "text/plain": [
              "(24090, 12)"
            ]
          },
          "metadata": {},
          "execution_count": 80
        }
      ]
    },
    {
      "cell_type": "markdown",
      "source": [
        "##JUNTAR LOS DATASETS"
      ],
      "metadata": {
        "id": "P0Fi3LastBwM"
      }
    },
    {
      "cell_type": "code",
      "source": [
        "# Primero, al dataset con los prestamos se va a añadir la informacion de los datos del cliente que han pedido el prestamo\n",
        "# De los clientes que piden prestamo, hay algunos de los que no tenemos información. Por tanto, hemos excluido los registros\n",
        "# de estos prestamos\n",
        "df_train = df_perf_train.merge(df_dem, on='customerid', how='inner')"
      ],
      "metadata": {
        "id": "tf_vU7EDlQDF"
      },
      "execution_count": 81,
      "outputs": []
    },
    {
      "cell_type": "code",
      "source": [
        "df_train.shape"
      ],
      "metadata": {
        "colab": {
          "base_uri": "https://localhost:8080/"
        },
        "id": "XvItdiSfwsD8",
        "outputId": "71d10f04-0587-4636-f6f0-c270e1223ed1"
      },
      "execution_count": 82,
      "outputs": [
        {
          "output_type": "execute_result",
          "data": {
            "text/plain": [
              "(4368, 18)"
            ]
          },
          "metadata": {},
          "execution_count": 82
        }
      ]
    },
    {
      "cell_type": "markdown",
      "source": [
        "##INSPECCIÓN DEL DATASET"
      ],
      "metadata": {
        "id": "DCEtWaeKuAsI"
      }
    },
    {
      "cell_type": "code",
      "source": [
        "#vista primera del df\n",
        "df_train"
      ],
      "metadata": {
        "colab": {
          "base_uri": "https://localhost:8080/",
          "height": 661
        },
        "id": "rOC-zsFLraZi",
        "outputId": "e53a0812-b75b-4d18-9c12-b6a8c0382d3f"
      },
      "execution_count": 105,
      "outputs": [
        {
          "output_type": "execute_result",
          "data": {
            "text/plain": [
              "                            customerid  loannumber        approveddate  \\\n",
              "0     8a2a81a74ce8c05d014cfb32a0da1049          12 2017-07-25 08:22:56   \n",
              "1     8a85886e54beabf90154c0a29ae757c0           2 2017-07-05 17:04:41   \n",
              "2     8a8588f35438fe12015444567666018e           7 2017-07-06 14:52:57   \n",
              "3     8a85890754145ace015429211b513e16           3 2017-07-27 19:00:41   \n",
              "4     8a858970548359cc0154883481981866           9 2017-07-03 23:42:45   \n",
              "...                                ...         ...                 ...   \n",
              "4363  8a858e6d58b0cc520158beeb14b22a5a           2 2017-07-30 09:19:42   \n",
              "4364  8a858ee85cf400f5015cf44ab1c42d5c           2 2017-07-27 15:35:47   \n",
              "4365  8a858f365b2547f3015b284597147c94           3 2017-07-25 16:25:57   \n",
              "4366  8a858f935ca09667015ca0ee3bc63f51           2 2017-07-14 13:50:27   \n",
              "4367  8a858fd458639fcc015868eb14b542ad           8 2017-07-06 21:01:06   \n",
              "\n",
              "      totaldue  termdays good_bad_flag bank_account_type  longitude_gps  \\\n",
              "0        34500        30          Good             Other       3.432010   \n",
              "1        17250        30          Good           Savings       3.885298   \n",
              "2        22250        15          Good             Other      11.139350   \n",
              "3        11500        15          Good           Savings       3.985770   \n",
              "4        44000        30          Good             Other       7.457913   \n",
              "...        ...       ...           ...               ...            ...   \n",
              "4363     13000        30           Bad           Savings       6.981903   \n",
              "4364     13000        30           Bad           Savings       4.607358   \n",
              "4365     11500        15           Bad           Savings       3.976842   \n",
              "4366     13000        30           Bad           Savings       3.986089   \n",
              "4367     34500        30           Bad           Savings       3.725655   \n",
              "\n",
              "      latitude_gps bank_name_clients employment_status_clients  \\\n",
              "0         6.433055      Diamond Bank                 Permanent   \n",
              "1         7.320700           GT Bank                 Permanent   \n",
              "2        10.292041           EcoBank                 Permanent   \n",
              "3         7.491708        First Bank                 Permanent   \n",
              "4         9.076574           GT Bank                 Permanent   \n",
              "...            ...               ...                       ...   \n",
              "4363      4.785397           EcoBank                       NaN   \n",
              "4364      8.460608              FCMB                 Permanent   \n",
              "4365      7.409129        First Bank                 Permanent   \n",
              "4366      7.386796         Skye Bank                 Permanent   \n",
              "4367      6.474430           GT Bank                       NaN   \n",
              "\n",
              "     level_of_education_clients  referido  age  \n",
              "0                 Post-Graduate         0   50  \n",
              "1                      Graduate         0   36  \n",
              "2                           NaN         0   37  \n",
              "3                           NaN         0   44  \n",
              "4                       Primary         0   35  \n",
              "...                         ...       ...  ...  \n",
              "4363                        NaN         0   43  \n",
              "4364                        NaN         0   32  \n",
              "4365                        NaN         0   32  \n",
              "4366                        NaN         1   31  \n",
              "4367                        NaN         0   33  \n",
              "\n",
              "[4368 rows x 14 columns]"
            ],
            "text/html": [
              "\n",
              "  <div id=\"df-14af343d-6f2a-4060-a55a-2a462d43934a\">\n",
              "    <div class=\"colab-df-container\">\n",
              "      <div>\n",
              "<style scoped>\n",
              "    .dataframe tbody tr th:only-of-type {\n",
              "        vertical-align: middle;\n",
              "    }\n",
              "\n",
              "    .dataframe tbody tr th {\n",
              "        vertical-align: top;\n",
              "    }\n",
              "\n",
              "    .dataframe thead th {\n",
              "        text-align: right;\n",
              "    }\n",
              "</style>\n",
              "<table border=\"1\" class=\"dataframe\">\n",
              "  <thead>\n",
              "    <tr style=\"text-align: right;\">\n",
              "      <th></th>\n",
              "      <th>customerid</th>\n",
              "      <th>loannumber</th>\n",
              "      <th>approveddate</th>\n",
              "      <th>totaldue</th>\n",
              "      <th>termdays</th>\n",
              "      <th>good_bad_flag</th>\n",
              "      <th>bank_account_type</th>\n",
              "      <th>longitude_gps</th>\n",
              "      <th>latitude_gps</th>\n",
              "      <th>bank_name_clients</th>\n",
              "      <th>employment_status_clients</th>\n",
              "      <th>level_of_education_clients</th>\n",
              "      <th>referido</th>\n",
              "      <th>age</th>\n",
              "    </tr>\n",
              "  </thead>\n",
              "  <tbody>\n",
              "    <tr>\n",
              "      <th>0</th>\n",
              "      <td>8a2a81a74ce8c05d014cfb32a0da1049</td>\n",
              "      <td>12</td>\n",
              "      <td>2017-07-25 08:22:56</td>\n",
              "      <td>34500</td>\n",
              "      <td>30</td>\n",
              "      <td>Good</td>\n",
              "      <td>Other</td>\n",
              "      <td>3.432010</td>\n",
              "      <td>6.433055</td>\n",
              "      <td>Diamond Bank</td>\n",
              "      <td>Permanent</td>\n",
              "      <td>Post-Graduate</td>\n",
              "      <td>0</td>\n",
              "      <td>50</td>\n",
              "    </tr>\n",
              "    <tr>\n",
              "      <th>1</th>\n",
              "      <td>8a85886e54beabf90154c0a29ae757c0</td>\n",
              "      <td>2</td>\n",
              "      <td>2017-07-05 17:04:41</td>\n",
              "      <td>17250</td>\n",
              "      <td>30</td>\n",
              "      <td>Good</td>\n",
              "      <td>Savings</td>\n",
              "      <td>3.885298</td>\n",
              "      <td>7.320700</td>\n",
              "      <td>GT Bank</td>\n",
              "      <td>Permanent</td>\n",
              "      <td>Graduate</td>\n",
              "      <td>0</td>\n",
              "      <td>36</td>\n",
              "    </tr>\n",
              "    <tr>\n",
              "      <th>2</th>\n",
              "      <td>8a8588f35438fe12015444567666018e</td>\n",
              "      <td>7</td>\n",
              "      <td>2017-07-06 14:52:57</td>\n",
              "      <td>22250</td>\n",
              "      <td>15</td>\n",
              "      <td>Good</td>\n",
              "      <td>Other</td>\n",
              "      <td>11.139350</td>\n",
              "      <td>10.292041</td>\n",
              "      <td>EcoBank</td>\n",
              "      <td>Permanent</td>\n",
              "      <td>NaN</td>\n",
              "      <td>0</td>\n",
              "      <td>37</td>\n",
              "    </tr>\n",
              "    <tr>\n",
              "      <th>3</th>\n",
              "      <td>8a85890754145ace015429211b513e16</td>\n",
              "      <td>3</td>\n",
              "      <td>2017-07-27 19:00:41</td>\n",
              "      <td>11500</td>\n",
              "      <td>15</td>\n",
              "      <td>Good</td>\n",
              "      <td>Savings</td>\n",
              "      <td>3.985770</td>\n",
              "      <td>7.491708</td>\n",
              "      <td>First Bank</td>\n",
              "      <td>Permanent</td>\n",
              "      <td>NaN</td>\n",
              "      <td>0</td>\n",
              "      <td>44</td>\n",
              "    </tr>\n",
              "    <tr>\n",
              "      <th>4</th>\n",
              "      <td>8a858970548359cc0154883481981866</td>\n",
              "      <td>9</td>\n",
              "      <td>2017-07-03 23:42:45</td>\n",
              "      <td>44000</td>\n",
              "      <td>30</td>\n",
              "      <td>Good</td>\n",
              "      <td>Other</td>\n",
              "      <td>7.457913</td>\n",
              "      <td>9.076574</td>\n",
              "      <td>GT Bank</td>\n",
              "      <td>Permanent</td>\n",
              "      <td>Primary</td>\n",
              "      <td>0</td>\n",
              "      <td>35</td>\n",
              "    </tr>\n",
              "    <tr>\n",
              "      <th>...</th>\n",
              "      <td>...</td>\n",
              "      <td>...</td>\n",
              "      <td>...</td>\n",
              "      <td>...</td>\n",
              "      <td>...</td>\n",
              "      <td>...</td>\n",
              "      <td>...</td>\n",
              "      <td>...</td>\n",
              "      <td>...</td>\n",
              "      <td>...</td>\n",
              "      <td>...</td>\n",
              "      <td>...</td>\n",
              "      <td>...</td>\n",
              "      <td>...</td>\n",
              "    </tr>\n",
              "    <tr>\n",
              "      <th>4363</th>\n",
              "      <td>8a858e6d58b0cc520158beeb14b22a5a</td>\n",
              "      <td>2</td>\n",
              "      <td>2017-07-30 09:19:42</td>\n",
              "      <td>13000</td>\n",
              "      <td>30</td>\n",
              "      <td>Bad</td>\n",
              "      <td>Savings</td>\n",
              "      <td>6.981903</td>\n",
              "      <td>4.785397</td>\n",
              "      <td>EcoBank</td>\n",
              "      <td>NaN</td>\n",
              "      <td>NaN</td>\n",
              "      <td>0</td>\n",
              "      <td>43</td>\n",
              "    </tr>\n",
              "    <tr>\n",
              "      <th>4364</th>\n",
              "      <td>8a858ee85cf400f5015cf44ab1c42d5c</td>\n",
              "      <td>2</td>\n",
              "      <td>2017-07-27 15:35:47</td>\n",
              "      <td>13000</td>\n",
              "      <td>30</td>\n",
              "      <td>Bad</td>\n",
              "      <td>Savings</td>\n",
              "      <td>4.607358</td>\n",
              "      <td>8.460608</td>\n",
              "      <td>FCMB</td>\n",
              "      <td>Permanent</td>\n",
              "      <td>NaN</td>\n",
              "      <td>0</td>\n",
              "      <td>32</td>\n",
              "    </tr>\n",
              "    <tr>\n",
              "      <th>4365</th>\n",
              "      <td>8a858f365b2547f3015b284597147c94</td>\n",
              "      <td>3</td>\n",
              "      <td>2017-07-25 16:25:57</td>\n",
              "      <td>11500</td>\n",
              "      <td>15</td>\n",
              "      <td>Bad</td>\n",
              "      <td>Savings</td>\n",
              "      <td>3.976842</td>\n",
              "      <td>7.409129</td>\n",
              "      <td>First Bank</td>\n",
              "      <td>Permanent</td>\n",
              "      <td>NaN</td>\n",
              "      <td>0</td>\n",
              "      <td>32</td>\n",
              "    </tr>\n",
              "    <tr>\n",
              "      <th>4366</th>\n",
              "      <td>8a858f935ca09667015ca0ee3bc63f51</td>\n",
              "      <td>2</td>\n",
              "      <td>2017-07-14 13:50:27</td>\n",
              "      <td>13000</td>\n",
              "      <td>30</td>\n",
              "      <td>Bad</td>\n",
              "      <td>Savings</td>\n",
              "      <td>3.986089</td>\n",
              "      <td>7.386796</td>\n",
              "      <td>Skye Bank</td>\n",
              "      <td>Permanent</td>\n",
              "      <td>NaN</td>\n",
              "      <td>1</td>\n",
              "      <td>31</td>\n",
              "    </tr>\n",
              "    <tr>\n",
              "      <th>4367</th>\n",
              "      <td>8a858fd458639fcc015868eb14b542ad</td>\n",
              "      <td>8</td>\n",
              "      <td>2017-07-06 21:01:06</td>\n",
              "      <td>34500</td>\n",
              "      <td>30</td>\n",
              "      <td>Bad</td>\n",
              "      <td>Savings</td>\n",
              "      <td>3.725655</td>\n",
              "      <td>6.474430</td>\n",
              "      <td>GT Bank</td>\n",
              "      <td>NaN</td>\n",
              "      <td>NaN</td>\n",
              "      <td>0</td>\n",
              "      <td>33</td>\n",
              "    </tr>\n",
              "  </tbody>\n",
              "</table>\n",
              "<p>4368 rows × 14 columns</p>\n",
              "</div>\n",
              "      <button class=\"colab-df-convert\" onclick=\"convertToInteractive('df-14af343d-6f2a-4060-a55a-2a462d43934a')\"\n",
              "              title=\"Convert this dataframe to an interactive table.\"\n",
              "              style=\"display:none;\">\n",
              "        \n",
              "  <svg xmlns=\"http://www.w3.org/2000/svg\" height=\"24px\"viewBox=\"0 0 24 24\"\n",
              "       width=\"24px\">\n",
              "    <path d=\"M0 0h24v24H0V0z\" fill=\"none\"/>\n",
              "    <path d=\"M18.56 5.44l.94 2.06.94-2.06 2.06-.94-2.06-.94-.94-2.06-.94 2.06-2.06.94zm-11 1L8.5 8.5l.94-2.06 2.06-.94-2.06-.94L8.5 2.5l-.94 2.06-2.06.94zm10 10l.94 2.06.94-2.06 2.06-.94-2.06-.94-.94-2.06-.94 2.06-2.06.94z\"/><path d=\"M17.41 7.96l-1.37-1.37c-.4-.4-.92-.59-1.43-.59-.52 0-1.04.2-1.43.59L10.3 9.45l-7.72 7.72c-.78.78-.78 2.05 0 2.83L4 21.41c.39.39.9.59 1.41.59.51 0 1.02-.2 1.41-.59l7.78-7.78 2.81-2.81c.8-.78.8-2.07 0-2.86zM5.41 20L4 18.59l7.72-7.72 1.47 1.35L5.41 20z\"/>\n",
              "  </svg>\n",
              "      </button>\n",
              "      \n",
              "  <style>\n",
              "    .colab-df-container {\n",
              "      display:flex;\n",
              "      flex-wrap:wrap;\n",
              "      gap: 12px;\n",
              "    }\n",
              "\n",
              "    .colab-df-convert {\n",
              "      background-color: #E8F0FE;\n",
              "      border: none;\n",
              "      border-radius: 50%;\n",
              "      cursor: pointer;\n",
              "      display: none;\n",
              "      fill: #1967D2;\n",
              "      height: 32px;\n",
              "      padding: 0 0 0 0;\n",
              "      width: 32px;\n",
              "    }\n",
              "\n",
              "    .colab-df-convert:hover {\n",
              "      background-color: #E2EBFA;\n",
              "      box-shadow: 0px 1px 2px rgba(60, 64, 67, 0.3), 0px 1px 3px 1px rgba(60, 64, 67, 0.15);\n",
              "      fill: #174EA6;\n",
              "    }\n",
              "\n",
              "    [theme=dark] .colab-df-convert {\n",
              "      background-color: #3B4455;\n",
              "      fill: #D2E3FC;\n",
              "    }\n",
              "\n",
              "    [theme=dark] .colab-df-convert:hover {\n",
              "      background-color: #434B5C;\n",
              "      box-shadow: 0px 1px 3px 1px rgba(0, 0, 0, 0.15);\n",
              "      filter: drop-shadow(0px 1px 2px rgba(0, 0, 0, 0.3));\n",
              "      fill: #FFFFFF;\n",
              "    }\n",
              "  </style>\n",
              "\n",
              "      <script>\n",
              "        const buttonEl =\n",
              "          document.querySelector('#df-14af343d-6f2a-4060-a55a-2a462d43934a button.colab-df-convert');\n",
              "        buttonEl.style.display =\n",
              "          google.colab.kernel.accessAllowed ? 'block' : 'none';\n",
              "\n",
              "        async function convertToInteractive(key) {\n",
              "          const element = document.querySelector('#df-14af343d-6f2a-4060-a55a-2a462d43934a');\n",
              "          const dataTable =\n",
              "            await google.colab.kernel.invokeFunction('convertToInteractive',\n",
              "                                                     [key], {});\n",
              "          if (!dataTable) return;\n",
              "\n",
              "          const docLinkHtml = 'Like what you see? Visit the ' +\n",
              "            '<a target=\"_blank\" href=https://colab.research.google.com/notebooks/data_table.ipynb>data table notebook</a>'\n",
              "            + ' to learn more about interactive tables.';\n",
              "          element.innerHTML = '';\n",
              "          dataTable['output_type'] = 'display_data';\n",
              "          await google.colab.output.renderOutput(dataTable, element);\n",
              "          const docLink = document.createElement('div');\n",
              "          docLink.innerHTML = docLinkHtml;\n",
              "          element.appendChild(docLink);\n",
              "        }\n",
              "      </script>\n",
              "    </div>\n",
              "  </div>\n",
              "  "
            ]
          },
          "metadata": {},
          "execution_count": 105
        }
      ]
    },
    {
      "cell_type": "code",
      "source": [
        "#ver distribucion de una columna\n",
        "df_train['employment_status_clients'].value_counts(dropna = False)"
      ],
      "metadata": {
        "colab": {
          "base_uri": "https://localhost:8080/"
        },
        "id": "gGRQPv9Ct8DX",
        "outputId": "8d1f16e4-8f77-48ab-c2a1-3d12bb16a677"
      },
      "execution_count": 110,
      "outputs": [
        {
          "output_type": "execute_result",
          "data": {
            "text/plain": [
              "Permanent        3130\n",
              "NaN               657\n",
              "Self-Employed     368\n",
              "Student           142\n",
              "Unemployed         62\n",
              "Retired             7\n",
              "Contract            2\n",
              "Name: employment_status_clients, dtype: int64"
            ]
          },
          "metadata": {},
          "execution_count": 110
        }
      ]
    },
    {
      "cell_type": "markdown",
      "source": [
        "##AJUSTES INICIALES DEL DATASET"
      ],
      "metadata": {
        "id": "ojTTQfZXtINK"
      }
    },
    {
      "cell_type": "markdown",
      "source": [
        "QUITAR COLUMNAS QUE NO SE USAN"
      ],
      "metadata": {
        "id": "vBhUZaNktWzY"
      }
    },
    {
      "cell_type": "code",
      "source": [
        "#ANTES DE QUITAR UNA COLUMNA, HACER PRUEBA PARA VER QUE NO GUARDAN NINGUNA RELACIÓN CON LA COLUMNA DE PREDICCIÓN (random tree pe)\n",
        "\n",
        "#quitar columnas que no se usan\n",
        "# elegir las columnas\n",
        "df_train_delete = ['systemloanid', 'bank_branch_clients', 'creationdate', 'loanamount']\n",
        "# borrar las columnas elegidas\n",
        "df_train.drop(columns = df_train_delete, inplace = True)"
      ],
      "metadata": {
        "id": "kwJnN3dKrwBS"
      },
      "execution_count": 98,
      "outputs": []
    },
    {
      "cell_type": "markdown",
      "source": [
        "CAMBIAR TIPO DE DATO DE LAS COLUMNAS"
      ],
      "metadata": {
        "id": "5xooyBz6tZDm"
      }
    },
    {
      "cell_type": "code",
      "source": [
        "#ver tipo de datos de las columnas\n",
        "df_train.dtypes"
      ],
      "metadata": {
        "colab": {
          "base_uri": "https://localhost:8080/"
        },
        "id": "fOzXfusVmohp",
        "outputId": "a66a0f31-663d-48c0-ab5d-1d39bef0e9a2"
      },
      "execution_count": 99,
      "outputs": [
        {
          "output_type": "execute_result",
          "data": {
            "text/plain": [
              "customerid                     object\n",
              "loannumber                      int64\n",
              "approveddate                   object\n",
              "totaldue                      float64\n",
              "termdays                        int64\n",
              "referredby                     object\n",
              "good_bad_flag                  object\n",
              "birthdate                      object\n",
              "bank_account_type              object\n",
              "longitude_gps                 float64\n",
              "latitude_gps                  float64\n",
              "bank_name_clients              object\n",
              "employment_status_clients      object\n",
              "level_of_education_clients     object\n",
              "dtype: object"
            ]
          },
          "metadata": {},
          "execution_count": 99
        }
      ]
    },
    {
      "cell_type": "code",
      "source": [
        "#cambiar tipo de dato\n",
        "df_train['totaldue'] = df_train['totaldue'].astype('int')\n",
        "#pasar columna a fecha\n",
        "df_train['approveddate'] = pd.to_datetime(df_train['approveddate'])\n",
        "df_train['birthdate'] = pd.to_datetime(df_train['birthdate'])"
      ],
      "metadata": {
        "id": "WupnYDIxmi9S"
      },
      "execution_count": 100,
      "outputs": []
    },
    {
      "cell_type": "markdown",
      "source": [
        "###QUITAR FILAS QUE TENGAN VALORES VACÍOS"
      ],
      "metadata": {
        "id": "qFRi0MOvsDMr"
      }
    },
    {
      "cell_type": "code",
      "source": [
        "#ver valores vacíos por columna\n",
        "print(df_train.isnull().sum())"
      ],
      "metadata": {
        "colab": {
          "base_uri": "https://localhost:8080/"
        },
        "id": "qTuJvqyVsCkJ",
        "outputId": "b59e76ab-a1fd-40b2-b2b5-e18a4df50bfc"
      },
      "execution_count": 101,
      "outputs": [
        {
          "output_type": "stream",
          "name": "stdout",
          "text": [
            "customerid                       0\n",
            "loannumber                       0\n",
            "approveddate                     0\n",
            "totaldue                         0\n",
            "termdays                         0\n",
            "referredby                    3781\n",
            "good_bad_flag                    0\n",
            "birthdate                        0\n",
            "bank_account_type                0\n",
            "longitude_gps                    0\n",
            "latitude_gps                     0\n",
            "bank_name_clients                0\n",
            "employment_status_clients      657\n",
            "level_of_education_clients    3763\n",
            "dtype: int64\n"
          ]
        }
      ]
    },
    {
      "cell_type": "markdown",
      "source": [
        "Los valores vacíos van a desaparecer luego de las transformaciones"
      ],
      "metadata": {
        "id": "gSlDFwXGJNpT"
      }
    },
    {
      "cell_type": "markdown",
      "source": [
        "##TRANSFORMACIONES EN ALGUNAS COLUMNAS"
      ],
      "metadata": {
        "id": "3z7WoB_itnbB"
      }
    },
    {
      "cell_type": "markdown",
      "source": [
        "COLUMNADA BOOLEANA PARA SI HA SIDO REFERIDO"
      ],
      "metadata": {
        "id": "i_GHb_Ajxwnf"
      }
    },
    {
      "cell_type": "code",
      "source": [
        "## transform a value inside a column to a separate boolean column\n",
        "df_train['referredby'].fillna(0, inplace = True)\n",
        "df_train['referido'] = 1\n",
        "df_train.loc[df_train['referredby'] == 0, 'referido'] = 0\n",
        "#convertimos la columna a int\n",
        "df_train['referido'] = df_train['referido'].astype('Int64')\n",
        "#quitamos la columna que ya no se usa\n",
        "df_train.drop(columns = ['referredby'], inplace = True)"
      ],
      "metadata": {
        "id": "QAwacDE3xvLG"
      },
      "execution_count": 102,
      "outputs": []
    },
    {
      "cell_type": "markdown",
      "source": [
        "DE FECHA DE NACIMIENTO A EDAD"
      ],
      "metadata": {
        "id": "Pb6_mFM0tsIX"
      }
    },
    {
      "cell_type": "code",
      "source": [
        "# pasar de fecha de nacimiento a edad\n",
        "df_train['age'] = df_train['birthdate'].apply(lambda x: from_dob_to_age(x)).astype('Int64')\n",
        "#quitar la columna de birthdate\n",
        "df_train.drop(columns = ['birthdate'], inplace = True)"
      ],
      "metadata": {
        "id": "XjUPrjxTlRW_"
      },
      "execution_count": 104,
      "outputs": []
    },
    {
      "cell_type": "markdown",
      "source": [
        "DE COORDENADAS A PAÍS"
      ],
      "metadata": {
        "id": "uKr8wsXYufw7"
      }
    },
    {
      "cell_type": "code",
      "source": [
        "#coordinates a país\n",
        "coordenadas =(9.076574, 7.457913)\n",
        "ciudad = rg.search(coordenadas)\n",
        "print(ciudad)"
      ],
      "metadata": {
        "colab": {
          "base_uri": "https://localhost:8080/"
        },
        "id": "9aAUPvIoXL_m",
        "outputId": "8d92f87b-dc01-4f7b-f493-d32baa87615b"
      },
      "execution_count": 119,
      "outputs": [
        {
          "output_type": "stream",
          "name": "stdout",
          "text": [
            "[OrderedDict([('lat', '9.05785'), ('lon', '7.49508'), ('name', 'Abuja'), ('admin1', 'Abuja Federal Capital Territory'), ('admin2', ''), ('cc', 'NG')])]\n"
          ]
        }
      ]
    },
    {
      "cell_type": "code",
      "source": [
        "#coordinates a país\n",
        "df_train['pais'] = ''\n",
        "for line in df_train.index:\n",
        "  coordenadas =(df_train['latitude_gps'][line], df_train['longitude_gps'][line])\n",
        "  pais = rg.search(coordenadas)[0]['cc']\n",
        "  df_train['pais'][line] = ciudad"
      ],
      "metadata": {
        "id": "sf9kasXklUoi"
      },
      "execution_count": null,
      "outputs": []
    },
    {
      "cell_type": "markdown",
      "source": [
        "DE UNA COLUMNA DE EDUCACIÓN A VARIAS BOOLEANAS"
      ],
      "metadata": {
        "id": "IWHIM7xeulvo"
      }
    },
    {
      "cell_type": "code",
      "source": [
        "\"\"\"\n",
        "NaN              3763    0\n",
        "Graduate          444    3\n",
        "Secondary          88    2\n",
        "Post-Graduate      66    4\n",
        "Primary             7    1\n",
        "\"\"\"\n",
        "\n",
        "## transform a value inside a column to a separate boolean column\n",
        "df_train['nivel_educacion'] = 0\n",
        "df_train.loc[df_train['level_of_education_clients'] == 'Primary', 'nivel_educacion'] = 1\n",
        "df_train.loc[df_train['level_of_education_clients'] != 'Secondary', 'nivel_educacion'] = 2\n",
        "df_train.loc[df_train['level_of_education_clients'] != 'Graduate', 'nivel_educacion'] = 3\n",
        "df_train.loc[df_train['level_of_education_clients'] != 'Post-Graduate', 'nivel_educacion'] = 4\n",
        "#convertimos la columna a int\n",
        "df_train['nivel_educacion'] = df_train['nivel_educacion'].astype('Int64')"
      ],
      "metadata": {
        "id": "3QVk2xy_lWDv"
      },
      "execution_count": 109,
      "outputs": []
    },
    {
      "cell_type": "markdown",
      "source": [
        "LABEL ENCODING CON LA COLUMNA OCUPACIÓN"
      ],
      "metadata": {
        "id": "gzUC01EpPB8q"
      }
    },
    {
      "cell_type": "code",
      "source": [
        "\"\"\"\n",
        "NaN              3763    0\n",
        "Graduate          444    3\n",
        "Secondary          88    2\n",
        "Post-Graduate      66    4\n",
        "Primary             7    1\n",
        "\"\"\"\n",
        "\n",
        "## transform a value inside a column to a separate boolean column\n",
        "df_train['nivel_educacion'] = 0\n",
        "df_train.loc[df_train['level_of_education_clients'] == 'Primary', 'nivel_educacion'] = 1\n",
        "df_train.loc[df_train['level_of_education_clients'] != 'Secondary', 'nivel_educacion'] = 2\n",
        "df_train.loc[df_train['level_of_education_clients'] != 'Graduate', 'nivel_educacion'] = 3\n",
        "df_train.loc[df_train['level_of_education_clients'] != 'Post-Graduate', 'nivel_educacion'] = 4\n",
        "#convertimos la columna a int\n",
        "df_train['nivel_educacion'] = df_train['nivel_educacion'].astype('Int64')"
      ],
      "metadata": {
        "id": "rMw4J2K1O_-j"
      },
      "execution_count": null,
      "outputs": []
    },
    {
      "cell_type": "code",
      "source": [
        "# elegir las columnas del dataset que se van a borrar\n",
        "df_train_delete = ['systemloanid']\n",
        "# borrar las columnas elegidas\n",
        "df_train.drop(columns = df_train_delete, inplace = True)"
      ],
      "metadata": {
        "id": "P7h1o9WQlXb5"
      },
      "execution_count": null,
      "outputs": []
    },
    {
      "cell_type": "markdown",
      "source": [
        "##GUARDAR DATASET"
      ],
      "metadata": {
        "id": "37iYHjosvrlh"
      }
    },
    {
      "cell_type": "code",
      "source": [
        "# df a csv\n",
        "df_train.to_csv(r'/content/sample_data/TRAIN.csv', index = False)"
      ],
      "metadata": {
        "id": "FdVMQpAhlZpw"
      },
      "execution_count": 30,
      "outputs": []
    },
    {
      "cell_type": "markdown",
      "source": [
        "https://www.jeremyjordan.me/preparing-data-for-a-machine-learning-model/"
      ],
      "metadata": {
        "id": "hJE3XaKhvvjZ"
      }
    }
  ]
}