{
  "nbformat": 4,
  "nbformat_minor": 0,
  "metadata": {
    "colab": {
      "name": "Copia de Untitled3.ipynb",
      "provenance": [],
      "collapsed_sections": []
    },
    "kernelspec": {
      "name": "python3",
      "display_name": "Python 3"
    },
    "language_info": {
      "name": "python"
    }
  },
  "cells": [
    {
      "cell_type": "markdown",
      "source": [
        "##CONFIGURACION INICIAL"
      ],
      "metadata": {
        "id": "OHwAGYqqs-13"
      }
    },
    {
      "cell_type": "code",
      "source": [
        "# Importar librerías a usar\n",
        "import pandas as pd\n",
        "import datetime\n",
        "import numpy as np"
      ],
      "metadata": {
        "id": "B1p6QyHQlNMx"
      },
      "execution_count": null,
      "outputs": []
    },
    {
      "cell_type": "code",
      "source": [
        "# funcion para pasar de fecha de nacimiento a edad\n",
        "def from_dob_to_age(born):\n",
        "    today = datetime.date.today()\n",
        "    return today.year - born.year - ((today.month, today.day) < (born.month, born.day))"
      ],
      "metadata": {
        "id": "OERmHhWTlOYA"
      },
      "execution_count": null,
      "outputs": []
    },
    {
      "cell_type": "code",
      "source": [
        "# Leer los csv de train\n",
        "df_dem_train = pd.read_csv(r'/content/sample_data/train_datos_demograficos.csv')\n",
        "#df_perf_train = pd.read_csv(r'datos_origen/train_performance.csv')\n",
        "df_loan_train = pd.read_csv(r'/content/sample_data/test_previous_loan.csv')"
      ],
      "metadata": {
        "id": "lEnbhezzlPNB"
      },
      "execution_count": null,
      "outputs": []
    },
    {
      "cell_type": "markdown",
      "source": [
        "##JUNTAR LOS DATASETS"
      ],
      "metadata": {
        "id": "P0Fi3LastBwM"
      }
    },
    {
      "cell_type": "code",
      "source": [
        "# tenemos un dataset con los clientes y otro dataset con los prestamos\n",
        "# se va a hacer un join para tener un df con los prestamos, incluyendo en cada uno los datos del cliente\n",
        "df_train = df_loan_train.merge(df_dem_train, on='customerid', how='inner')"
      ],
      "metadata": {
        "id": "tf_vU7EDlQDF"
      },
      "execution_count": null,
      "outputs": []
    },
    {
      "cell_type": "markdown",
      "source": [
        "##INSPECCIÓN DEL DATASET"
      ],
      "metadata": {
        "id": "DCEtWaeKuAsI"
      }
    },
    {
      "cell_type": "code",
      "source": [
        "df_train['creationdate2'] = df_train['creationdate'] + pd.DateOffset(days=30)"
      ],
      "metadata": {
        "id": "Go2A5ZZ11uil"
      },
      "execution_count": null,
      "outputs": []
    },
    {
      "cell_type": "code",
      "source": [
        "#vista primera del df\n",
        "df_train"
      ],
      "metadata": {
        "colab": {
          "base_uri": "https://localhost:8080/",
          "height": 661
        },
        "id": "rOC-zsFLraZi",
        "outputId": "93712c5c-2f75-48c8-d941-6cf6d3810c4a"
      },
      "execution_count": null,
      "outputs": [
        {
          "output_type": "execute_result",
          "data": {
            "text/plain": [
              "                            customerid  loannumber  \\\n",
              "0     8a858899538ddb8e015390510b321f08           3   \n",
              "1     8a858899538ddb8e015390510b321f08           1   \n",
              "2     8a858899538ddb8e015390510b321f08           2   \n",
              "3     8a858959537a097401537a4e316e25f7           5   \n",
              "4     8a858959537a097401537a4e316e25f7           6   \n",
              "...                                ...         ...   \n",
              "4312  8a858f8e5986f510015987965aa9183a           1   \n",
              "4313  8a858eba5c884d2a015c9c11f8233e98           1   \n",
              "4314  8a858e705b3a03c7015b3b10e6ae5eda           1   \n",
              "4315  8a858f7b5ca7abe3015cac08f7d43c87           1   \n",
              "4316  8a858fab5b9105dc015b975e594e394a           1   \n",
              "\n",
              "                    approveddate  loanamount  termdays  \\\n",
              "0     2016-05-17 10:37:00.000000       10000        30   \n",
              "1     2016-03-21 19:47:23.000000        6000        15   \n",
              "2     2016-04-05 21:20:10.000000       10000        30   \n",
              "3     2017-02-04 21:28:59.000000       30000        60   \n",
              "4     2017-03-04 10:28:22.000000       30000        30   \n",
              "...                          ...         ...       ...   \n",
              "4312  2017-06-11 09:54:00.000000       10000        30   \n",
              "4313  2017-06-12 12:42:31.000000       10000        30   \n",
              "4314  2017-06-23 20:39:32.000000       10000        30   \n",
              "4315  2017-06-15 15:12:48.000000       10000        30   \n",
              "4316  2017-06-26 15:46:28.000000       10000        30   \n",
              "\n",
              "                            referredby                firstduedate  \\\n",
              "0                                  NaN  2016-06-16 00:00:00.000000   \n",
              "1                                  NaN  2016-04-05 00:00:00.000000   \n",
              "2                                  NaN  2016-05-05 00:00:00.000000   \n",
              "3                                  NaN  2017-03-06 00:00:00.000000   \n",
              "4                                  NaN  2017-04-03 00:00:00.000000   \n",
              "...                                ...                         ...   \n",
              "4312  8a858eae5bb5beb8015bc89b9225473d  2017-07-14 00:00:00.000000   \n",
              "4313  8a858e3d5c3b5122015c43f776bd4a3a  2017-07-12 00:00:00.000000   \n",
              "4314                               NaN  2017-07-24 00:00:00.000000   \n",
              "4315  8a858e8a5c1c14b8015c20ef0e5e1da8  2017-07-17 00:00:00.000000   \n",
              "4316                               NaN  2017-07-26 00:00:00.000000   \n",
              "\n",
              "                 firstrepaiddate                   birthdate  \\\n",
              "0     2016-06-16 15:44:08.000000  1983-12-16 00:00:00.000000   \n",
              "1     2016-04-04 12:30:36.000000  1983-12-16 00:00:00.000000   \n",
              "2     2016-05-16 18:49:23.000000  1983-12-16 00:00:00.000000   \n",
              "3     2017-03-02 16:07:47.000000  1986-04-06 00:00:00.000000   \n",
              "4     2017-04-01 21:29:46.000000  1986-04-06 00:00:00.000000   \n",
              "...                          ...                         ...   \n",
              "4312  2017-07-11 18:55:37.000000  1979-07-01 00:00:00.000000   \n",
              "4313  2017-07-06 13:41:47.000000  1994-03-24 00:00:00.000000   \n",
              "4314  2017-07-22 15:32:53.000000  1984-10-29 00:00:00.000000   \n",
              "4315  2017-07-01 18:27:59.000000  1993-11-20 00:00:00.000000   \n",
              "4316  2017-07-13 13:02:34.000000  1984-06-03 00:00:00.000000   \n",
              "\n",
              "     bank_account_type  longitude_gps  latitude_gps bank_name_clients  \\\n",
              "0                Other       5.835219      8.274730        First Bank   \n",
              "1                Other       5.835219      8.274730        First Bank   \n",
              "2                Other       5.835219      8.274730        First Bank   \n",
              "3              Savings       3.245768      6.601778        First Bank   \n",
              "4              Savings       3.245768      6.601778        First Bank   \n",
              "...                ...            ...           ...               ...   \n",
              "4312           Savings       3.374096      6.599176      Diamond Bank   \n",
              "4313           Savings       3.371172      6.442101     Fidelity Bank   \n",
              "4314           Savings       7.482938      9.029408               UBA   \n",
              "4315           Savings       7.497822      5.539069      Diamond Bank   \n",
              "4316           Current       3.256948      6.708042              FCMB   \n",
              "\n",
              "     employment_status_clients level_of_education_clients       creationdate2  \n",
              "0                    Permanent                        NaN 2016-06-16 09:36:55  \n",
              "1                    Permanent                        NaN 2016-04-20 18:47:15  \n",
              "2                    Permanent                        NaN 2016-05-05 20:20:02  \n",
              "3                    Permanent                        NaN 2017-03-06 20:28:52  \n",
              "4                    Permanent                        NaN 2017-04-03 09:28:16  \n",
              "...                        ...                        ...                 ...  \n",
              "4312                 Permanent                  Secondary 2017-07-11 08:53:52  \n",
              "4313                 Permanent                        NaN 2017-07-12 11:41:21  \n",
              "4314                 Permanent                        NaN 2017-07-23 19:38:24  \n",
              "4315                 Permanent                        NaN 2017-07-15 14:11:39  \n",
              "4316                 Permanent                        NaN 2017-07-26 14:45:20  \n",
              "\n",
              "[4317 rows x 16 columns]"
            ],
            "text/html": [
              "\n",
              "  <div id=\"df-8896f57f-06ac-40d4-b7c9-3b94c9c5a52a\">\n",
              "    <div class=\"colab-df-container\">\n",
              "      <div>\n",
              "<style scoped>\n",
              "    .dataframe tbody tr th:only-of-type {\n",
              "        vertical-align: middle;\n",
              "    }\n",
              "\n",
              "    .dataframe tbody tr th {\n",
              "        vertical-align: top;\n",
              "    }\n",
              "\n",
              "    .dataframe thead th {\n",
              "        text-align: right;\n",
              "    }\n",
              "</style>\n",
              "<table border=\"1\" class=\"dataframe\">\n",
              "  <thead>\n",
              "    <tr style=\"text-align: right;\">\n",
              "      <th></th>\n",
              "      <th>customerid</th>\n",
              "      <th>loannumber</th>\n",
              "      <th>approveddate</th>\n",
              "      <th>loanamount</th>\n",
              "      <th>termdays</th>\n",
              "      <th>referredby</th>\n",
              "      <th>firstduedate</th>\n",
              "      <th>firstrepaiddate</th>\n",
              "      <th>birthdate</th>\n",
              "      <th>bank_account_type</th>\n",
              "      <th>longitude_gps</th>\n",
              "      <th>latitude_gps</th>\n",
              "      <th>bank_name_clients</th>\n",
              "      <th>employment_status_clients</th>\n",
              "      <th>level_of_education_clients</th>\n",
              "      <th>creationdate2</th>\n",
              "    </tr>\n",
              "  </thead>\n",
              "  <tbody>\n",
              "    <tr>\n",
              "      <th>0</th>\n",
              "      <td>8a858899538ddb8e015390510b321f08</td>\n",
              "      <td>3</td>\n",
              "      <td>2016-05-17 10:37:00.000000</td>\n",
              "      <td>10000</td>\n",
              "      <td>30</td>\n",
              "      <td>NaN</td>\n",
              "      <td>2016-06-16 00:00:00.000000</td>\n",
              "      <td>2016-06-16 15:44:08.000000</td>\n",
              "      <td>1983-12-16 00:00:00.000000</td>\n",
              "      <td>Other</td>\n",
              "      <td>5.835219</td>\n",
              "      <td>8.274730</td>\n",
              "      <td>First Bank</td>\n",
              "      <td>Permanent</td>\n",
              "      <td>NaN</td>\n",
              "      <td>2016-06-16 09:36:55</td>\n",
              "    </tr>\n",
              "    <tr>\n",
              "      <th>1</th>\n",
              "      <td>8a858899538ddb8e015390510b321f08</td>\n",
              "      <td>1</td>\n",
              "      <td>2016-03-21 19:47:23.000000</td>\n",
              "      <td>6000</td>\n",
              "      <td>15</td>\n",
              "      <td>NaN</td>\n",
              "      <td>2016-04-05 00:00:00.000000</td>\n",
              "      <td>2016-04-04 12:30:36.000000</td>\n",
              "      <td>1983-12-16 00:00:00.000000</td>\n",
              "      <td>Other</td>\n",
              "      <td>5.835219</td>\n",
              "      <td>8.274730</td>\n",
              "      <td>First Bank</td>\n",
              "      <td>Permanent</td>\n",
              "      <td>NaN</td>\n",
              "      <td>2016-04-20 18:47:15</td>\n",
              "    </tr>\n",
              "    <tr>\n",
              "      <th>2</th>\n",
              "      <td>8a858899538ddb8e015390510b321f08</td>\n",
              "      <td>2</td>\n",
              "      <td>2016-04-05 21:20:10.000000</td>\n",
              "      <td>10000</td>\n",
              "      <td>30</td>\n",
              "      <td>NaN</td>\n",
              "      <td>2016-05-05 00:00:00.000000</td>\n",
              "      <td>2016-05-16 18:49:23.000000</td>\n",
              "      <td>1983-12-16 00:00:00.000000</td>\n",
              "      <td>Other</td>\n",
              "      <td>5.835219</td>\n",
              "      <td>8.274730</td>\n",
              "      <td>First Bank</td>\n",
              "      <td>Permanent</td>\n",
              "      <td>NaN</td>\n",
              "      <td>2016-05-05 20:20:02</td>\n",
              "    </tr>\n",
              "    <tr>\n",
              "      <th>3</th>\n",
              "      <td>8a858959537a097401537a4e316e25f7</td>\n",
              "      <td>5</td>\n",
              "      <td>2017-02-04 21:28:59.000000</td>\n",
              "      <td>30000</td>\n",
              "      <td>60</td>\n",
              "      <td>NaN</td>\n",
              "      <td>2017-03-06 00:00:00.000000</td>\n",
              "      <td>2017-03-02 16:07:47.000000</td>\n",
              "      <td>1986-04-06 00:00:00.000000</td>\n",
              "      <td>Savings</td>\n",
              "      <td>3.245768</td>\n",
              "      <td>6.601778</td>\n",
              "      <td>First Bank</td>\n",
              "      <td>Permanent</td>\n",
              "      <td>NaN</td>\n",
              "      <td>2017-03-06 20:28:52</td>\n",
              "    </tr>\n",
              "    <tr>\n",
              "      <th>4</th>\n",
              "      <td>8a858959537a097401537a4e316e25f7</td>\n",
              "      <td>6</td>\n",
              "      <td>2017-03-04 10:28:22.000000</td>\n",
              "      <td>30000</td>\n",
              "      <td>30</td>\n",
              "      <td>NaN</td>\n",
              "      <td>2017-04-03 00:00:00.000000</td>\n",
              "      <td>2017-04-01 21:29:46.000000</td>\n",
              "      <td>1986-04-06 00:00:00.000000</td>\n",
              "      <td>Savings</td>\n",
              "      <td>3.245768</td>\n",
              "      <td>6.601778</td>\n",
              "      <td>First Bank</td>\n",
              "      <td>Permanent</td>\n",
              "      <td>NaN</td>\n",
              "      <td>2017-04-03 09:28:16</td>\n",
              "    </tr>\n",
              "    <tr>\n",
              "      <th>...</th>\n",
              "      <td>...</td>\n",
              "      <td>...</td>\n",
              "      <td>...</td>\n",
              "      <td>...</td>\n",
              "      <td>...</td>\n",
              "      <td>...</td>\n",
              "      <td>...</td>\n",
              "      <td>...</td>\n",
              "      <td>...</td>\n",
              "      <td>...</td>\n",
              "      <td>...</td>\n",
              "      <td>...</td>\n",
              "      <td>...</td>\n",
              "      <td>...</td>\n",
              "      <td>...</td>\n",
              "      <td>...</td>\n",
              "    </tr>\n",
              "    <tr>\n",
              "      <th>4312</th>\n",
              "      <td>8a858f8e5986f510015987965aa9183a</td>\n",
              "      <td>1</td>\n",
              "      <td>2017-06-11 09:54:00.000000</td>\n",
              "      <td>10000</td>\n",
              "      <td>30</td>\n",
              "      <td>8a858eae5bb5beb8015bc89b9225473d</td>\n",
              "      <td>2017-07-14 00:00:00.000000</td>\n",
              "      <td>2017-07-11 18:55:37.000000</td>\n",
              "      <td>1979-07-01 00:00:00.000000</td>\n",
              "      <td>Savings</td>\n",
              "      <td>3.374096</td>\n",
              "      <td>6.599176</td>\n",
              "      <td>Diamond Bank</td>\n",
              "      <td>Permanent</td>\n",
              "      <td>Secondary</td>\n",
              "      <td>2017-07-11 08:53:52</td>\n",
              "    </tr>\n",
              "    <tr>\n",
              "      <th>4313</th>\n",
              "      <td>8a858eba5c884d2a015c9c11f8233e98</td>\n",
              "      <td>1</td>\n",
              "      <td>2017-06-12 12:42:31.000000</td>\n",
              "      <td>10000</td>\n",
              "      <td>30</td>\n",
              "      <td>8a858e3d5c3b5122015c43f776bd4a3a</td>\n",
              "      <td>2017-07-12 00:00:00.000000</td>\n",
              "      <td>2017-07-06 13:41:47.000000</td>\n",
              "      <td>1994-03-24 00:00:00.000000</td>\n",
              "      <td>Savings</td>\n",
              "      <td>3.371172</td>\n",
              "      <td>6.442101</td>\n",
              "      <td>Fidelity Bank</td>\n",
              "      <td>Permanent</td>\n",
              "      <td>NaN</td>\n",
              "      <td>2017-07-12 11:41:21</td>\n",
              "    </tr>\n",
              "    <tr>\n",
              "      <th>4314</th>\n",
              "      <td>8a858e705b3a03c7015b3b10e6ae5eda</td>\n",
              "      <td>1</td>\n",
              "      <td>2017-06-23 20:39:32.000000</td>\n",
              "      <td>10000</td>\n",
              "      <td>30</td>\n",
              "      <td>NaN</td>\n",
              "      <td>2017-07-24 00:00:00.000000</td>\n",
              "      <td>2017-07-22 15:32:53.000000</td>\n",
              "      <td>1984-10-29 00:00:00.000000</td>\n",
              "      <td>Savings</td>\n",
              "      <td>7.482938</td>\n",
              "      <td>9.029408</td>\n",
              "      <td>UBA</td>\n",
              "      <td>Permanent</td>\n",
              "      <td>NaN</td>\n",
              "      <td>2017-07-23 19:38:24</td>\n",
              "    </tr>\n",
              "    <tr>\n",
              "      <th>4315</th>\n",
              "      <td>8a858f7b5ca7abe3015cac08f7d43c87</td>\n",
              "      <td>1</td>\n",
              "      <td>2017-06-15 15:12:48.000000</td>\n",
              "      <td>10000</td>\n",
              "      <td>30</td>\n",
              "      <td>8a858e8a5c1c14b8015c20ef0e5e1da8</td>\n",
              "      <td>2017-07-17 00:00:00.000000</td>\n",
              "      <td>2017-07-01 18:27:59.000000</td>\n",
              "      <td>1993-11-20 00:00:00.000000</td>\n",
              "      <td>Savings</td>\n",
              "      <td>7.497822</td>\n",
              "      <td>5.539069</td>\n",
              "      <td>Diamond Bank</td>\n",
              "      <td>Permanent</td>\n",
              "      <td>NaN</td>\n",
              "      <td>2017-07-15 14:11:39</td>\n",
              "    </tr>\n",
              "    <tr>\n",
              "      <th>4316</th>\n",
              "      <td>8a858fab5b9105dc015b975e594e394a</td>\n",
              "      <td>1</td>\n",
              "      <td>2017-06-26 15:46:28.000000</td>\n",
              "      <td>10000</td>\n",
              "      <td>30</td>\n",
              "      <td>NaN</td>\n",
              "      <td>2017-07-26 00:00:00.000000</td>\n",
              "      <td>2017-07-13 13:02:34.000000</td>\n",
              "      <td>1984-06-03 00:00:00.000000</td>\n",
              "      <td>Current</td>\n",
              "      <td>3.256948</td>\n",
              "      <td>6.708042</td>\n",
              "      <td>FCMB</td>\n",
              "      <td>Permanent</td>\n",
              "      <td>NaN</td>\n",
              "      <td>2017-07-26 14:45:20</td>\n",
              "    </tr>\n",
              "  </tbody>\n",
              "</table>\n",
              "<p>4317 rows × 16 columns</p>\n",
              "</div>\n",
              "      <button class=\"colab-df-convert\" onclick=\"convertToInteractive('df-8896f57f-06ac-40d4-b7c9-3b94c9c5a52a')\"\n",
              "              title=\"Convert this dataframe to an interactive table.\"\n",
              "              style=\"display:none;\">\n",
              "        \n",
              "  <svg xmlns=\"http://www.w3.org/2000/svg\" height=\"24px\"viewBox=\"0 0 24 24\"\n",
              "       width=\"24px\">\n",
              "    <path d=\"M0 0h24v24H0V0z\" fill=\"none\"/>\n",
              "    <path d=\"M18.56 5.44l.94 2.06.94-2.06 2.06-.94-2.06-.94-.94-2.06-.94 2.06-2.06.94zm-11 1L8.5 8.5l.94-2.06 2.06-.94-2.06-.94L8.5 2.5l-.94 2.06-2.06.94zm10 10l.94 2.06.94-2.06 2.06-.94-2.06-.94-.94-2.06-.94 2.06-2.06.94z\"/><path d=\"M17.41 7.96l-1.37-1.37c-.4-.4-.92-.59-1.43-.59-.52 0-1.04.2-1.43.59L10.3 9.45l-7.72 7.72c-.78.78-.78 2.05 0 2.83L4 21.41c.39.39.9.59 1.41.59.51 0 1.02-.2 1.41-.59l7.78-7.78 2.81-2.81c.8-.78.8-2.07 0-2.86zM5.41 20L4 18.59l7.72-7.72 1.47 1.35L5.41 20z\"/>\n",
              "  </svg>\n",
              "      </button>\n",
              "      \n",
              "  <style>\n",
              "    .colab-df-container {\n",
              "      display:flex;\n",
              "      flex-wrap:wrap;\n",
              "      gap: 12px;\n",
              "    }\n",
              "\n",
              "    .colab-df-convert {\n",
              "      background-color: #E8F0FE;\n",
              "      border: none;\n",
              "      border-radius: 50%;\n",
              "      cursor: pointer;\n",
              "      display: none;\n",
              "      fill: #1967D2;\n",
              "      height: 32px;\n",
              "      padding: 0 0 0 0;\n",
              "      width: 32px;\n",
              "    }\n",
              "\n",
              "    .colab-df-convert:hover {\n",
              "      background-color: #E2EBFA;\n",
              "      box-shadow: 0px 1px 2px rgba(60, 64, 67, 0.3), 0px 1px 3px 1px rgba(60, 64, 67, 0.15);\n",
              "      fill: #174EA6;\n",
              "    }\n",
              "\n",
              "    [theme=dark] .colab-df-convert {\n",
              "      background-color: #3B4455;\n",
              "      fill: #D2E3FC;\n",
              "    }\n",
              "\n",
              "    [theme=dark] .colab-df-convert:hover {\n",
              "      background-color: #434B5C;\n",
              "      box-shadow: 0px 1px 3px 1px rgba(0, 0, 0, 0.15);\n",
              "      filter: drop-shadow(0px 1px 2px rgba(0, 0, 0, 0.3));\n",
              "      fill: #FFFFFF;\n",
              "    }\n",
              "  </style>\n",
              "\n",
              "      <script>\n",
              "        const buttonEl =\n",
              "          document.querySelector('#df-8896f57f-06ac-40d4-b7c9-3b94c9c5a52a button.colab-df-convert');\n",
              "        buttonEl.style.display =\n",
              "          google.colab.kernel.accessAllowed ? 'block' : 'none';\n",
              "\n",
              "        async function convertToInteractive(key) {\n",
              "          const element = document.querySelector('#df-8896f57f-06ac-40d4-b7c9-3b94c9c5a52a');\n",
              "          const dataTable =\n",
              "            await google.colab.kernel.invokeFunction('convertToInteractive',\n",
              "                                                     [key], {});\n",
              "          if (!dataTable) return;\n",
              "\n",
              "          const docLinkHtml = 'Like what you see? Visit the ' +\n",
              "            '<a target=\"_blank\" href=https://colab.research.google.com/notebooks/data_table.ipynb>data table notebook</a>'\n",
              "            + ' to learn more about interactive tables.';\n",
              "          element.innerHTML = '';\n",
              "          dataTable['output_type'] = 'display_data';\n",
              "          await google.colab.output.renderOutput(dataTable, element);\n",
              "          const docLink = document.createElement('div');\n",
              "          docLink.innerHTML = docLinkHtml;\n",
              "          element.appendChild(docLink);\n",
              "        }\n",
              "      </script>\n",
              "    </div>\n",
              "  </div>\n",
              "  "
            ]
          },
          "metadata": {},
          "execution_count": 130
        }
      ]
    },
    {
      "cell_type": "markdown",
      "source": [
        "15 dias - 15\n",
        "30 dias - 30\n",
        "60 dias - 30\n",
        "90 dias -"
      ],
      "metadata": {
        "id": "HV9Ce_g55VR1"
      }
    },
    {
      "cell_type": "code",
      "source": [
        "#ver distribucion de una columna\n",
        "df_train['termdays'].value_counts(dropna=False)"
      ],
      "metadata": {
        "colab": {
          "base_uri": "https://localhost:8080/"
        },
        "id": "gGRQPv9Ct8DX",
        "outputId": "243db226-786c-488a-b49e-2d97795c210f"
      },
      "execution_count": null,
      "outputs": [
        {
          "output_type": "execute_result",
          "data": {
            "text/plain": [
              "30    2688\n",
              "15    1382\n",
              "60     238\n",
              "90       9\n",
              "Name: termdays, dtype: int64"
            ]
          },
          "metadata": {},
          "execution_count": 115
        }
      ]
    },
    {
      "cell_type": "markdown",
      "source": [
        "##AJUSTES INICIALES DEL DATASET"
      ],
      "metadata": {
        "id": "ojTTQfZXtINK"
      }
    },
    {
      "cell_type": "markdown",
      "source": [
        "QUITAR COLUMNAS QUE NO SE USAN"
      ],
      "metadata": {
        "id": "vBhUZaNktWzY"
      }
    },
    {
      "cell_type": "code",
      "source": [
        "#quitar columnas que no se usan\n",
        "# elegir las columnas\n",
        "df_train_delete = ['systemloanid', 'creationdate', 'closeddate', 'bank_branch_clients', 'totaldue']\n",
        "# borrar las columnas elegidas\n",
        "df_train.drop(columns = df_train_delete, inplace = True)"
      ],
      "metadata": {
        "id": "kwJnN3dKrwBS"
      },
      "execution_count": null,
      "outputs": []
    },
    {
      "cell_type": "markdown",
      "source": [
        "CAMBIAR TIPO DE DATO DE LAS COLUMNAS"
      ],
      "metadata": {
        "id": "5xooyBz6tZDm"
      }
    },
    {
      "cell_type": "code",
      "source": [
        "#ver tipo de datos de las columnas\n",
        "df_train.dtypes"
      ],
      "metadata": {
        "colab": {
          "base_uri": "https://localhost:8080/"
        },
        "id": "fOzXfusVmohp",
        "outputId": "2bc31ab9-387c-437d-864a-bf2ea147db0c"
      },
      "execution_count": null,
      "outputs": [
        {
          "output_type": "execute_result",
          "data": {
            "text/plain": [
              "customerid                            object\n",
              "systemloanid                           int64\n",
              "loannumber                             int64\n",
              "approveddate                          object\n",
              "creationdate                  datetime64[ns]\n",
              "loanamount                             int64\n",
              "totaldue                             float64\n",
              "termdays                               int64\n",
              "closeddate                            object\n",
              "referredby                            object\n",
              "firstduedate                          object\n",
              "firstrepaiddate                       object\n",
              "birthdate                             object\n",
              "bank_account_type                     object\n",
              "longitude_gps                        float64\n",
              "latitude_gps                         float64\n",
              "bank_name_clients                     object\n",
              "bank_branch_clients                   object\n",
              "employment_status_clients             object\n",
              "level_of_education_clients            object\n",
              "dtype: object"
            ]
          },
          "metadata": {},
          "execution_count": 121
        }
      ]
    },
    {
      "cell_type": "code",
      "source": [
        "#cambiar tipo de dato\n",
        "df_train['loanamount'] = df_train['loanamount'].astype('int')\n",
        "#pasar columna a fecha\n",
        "df_train['creationdate'] = pd.to_datetime(df_train['creationdate'])"
      ],
      "metadata": {
        "id": "WupnYDIxmi9S"
      },
      "execution_count": null,
      "outputs": []
    },
    {
      "cell_type": "markdown",
      "source": [
        "###QUITAR FILAS QUE TENGAN VALORES VACÍOS"
      ],
      "metadata": {
        "id": "qFRi0MOvsDMr"
      }
    },
    {
      "cell_type": "code",
      "source": [
        "#ver valores vacíos por columna\n",
        "print(df_train.isnull().sum())"
      ],
      "metadata": {
        "colab": {
          "base_uri": "https://localhost:8080/"
        },
        "id": "qTuJvqyVsCkJ",
        "outputId": "4625e8af-e35a-4b0b-b28d-327649ff7f2e"
      },
      "execution_count": null,
      "outputs": [
        {
          "output_type": "stream",
          "name": "stdout",
          "text": [
            "customerid                       0\n",
            "systemloanid                     0\n",
            "loannumber                       0\n",
            "approveddate                     0\n",
            "creationdate                     0\n",
            "loanamount                       0\n",
            "totaldue                         0\n",
            "termdays                         0\n",
            "closeddate                       0\n",
            "referredby                    4070\n",
            "firstduedate                     0\n",
            "firstrepaiddate                  0\n",
            "birthdate                        0\n",
            "bank_account_type                0\n",
            "longitude_gps                    0\n",
            "latitude_gps                     0\n",
            "bank_name_clients                0\n",
            "bank_branch_clients           4277\n",
            "employment_status_clients      452\n",
            "level_of_education_clients    3230\n",
            "dtype: int64\n"
          ]
        }
      ]
    },
    {
      "cell_type": "code",
      "source": [
        "#eliminar filas\n",
        "df_train.dropna(subset=['name', 'toy'], inplace = True)\n",
        "df_train.shape"
      ],
      "metadata": {
        "id": "bY3K-v8Ithys"
      },
      "execution_count": null,
      "outputs": []
    },
    {
      "cell_type": "markdown",
      "source": [
        "##TRANSFORMACIONES EN ALGUNAS COLUMNAS"
      ],
      "metadata": {
        "id": "3z7WoB_itnbB"
      }
    },
    {
      "cell_type": "markdown",
      "source": [
        "COLUMNADA BOOLEANA PARA SI HA SIDO REFERIDO"
      ],
      "metadata": {
        "id": "i_GHb_Ajxwnf"
      }
    },
    {
      "cell_type": "code",
      "source": [
        "## transform a value inside a column to a separate boolean column\n",
        "df_train['referredby'].fillna(0, inplace = True)\n",
        "df_train['referido'] = 1\n",
        "df_train.loc[df_train['referredby'] == 0, 'referido'] = 0\n",
        "#convertimos la columna a int\n",
        "df_train['referido'] = df_train['referido'].astype('Int64')\n",
        "#quitamos la columna que ya no se usa\n",
        "df_train.drop(columns = ['referredby'], inplace = True)"
      ],
      "metadata": {
        "id": "QAwacDE3xvLG"
      },
      "execution_count": null,
      "outputs": []
    },
    {
      "cell_type": "markdown",
      "source": [
        "DE FECHA DE NACIMIENTO A EDAD"
      ],
      "metadata": {
        "id": "Pb6_mFM0tsIX"
      }
    },
    {
      "cell_type": "code",
      "source": [
        "# pasar de fecha de nacimiento a edad\n",
        "df_train['age'] = pd.to_datetime(df_train['birthdate'])\n",
        "df_train['age'] = df_train['age'].apply(lambda x: from_dob_to_age(x)).astype('Int64')\n",
        "#quitar la columna de birthdate\n",
        "df_train.drop(columns = ['birthdate'], inplace = True)"
      ],
      "metadata": {
        "id": "XjUPrjxTlRW_"
      },
      "execution_count": null,
      "outputs": []
    },
    {
      "cell_type": "markdown",
      "source": [
        "DE COORDENADAS A PAÍS"
      ],
      "metadata": {
        "id": "uKr8wsXYufw7"
      }
    },
    {
      "cell_type": "code",
      "source": [
        "#coordinates to city, country...\n",
        "df_train['longitude_gps']\n",
        "df_train['latitude_gps']"
      ],
      "metadata": {
        "id": "sf9kasXklUoi"
      },
      "execution_count": null,
      "outputs": []
    },
    {
      "cell_type": "markdown",
      "source": [
        "DE UNA COLUMNA DE EDUCACIÓN A VARIAS BOOLEANAS"
      ],
      "metadata": {
        "id": "IWHIM7xeulvo"
      }
    },
    {
      "cell_type": "code",
      "source": [
        "## transform a value inside a column to a separate boolean column\n",
        "df_train.loc[df_train['level_of_education_clients'] == 'Post-Graduate', 'Post-Graduate'] = 1\n",
        "df_train.loc[df_train['level_of_education_clients'] != 'Post-Graduate', 'Post-Graduate'] = 0\n",
        "#convertimos la columna a int\n",
        "df_train['Post-Graduate'] = df_train['Post-Graduate'].astype('Int64')"
      ],
      "metadata": {
        "id": "3QVk2xy_lWDv"
      },
      "execution_count": null,
      "outputs": []
    },
    {
      "cell_type": "code",
      "source": [
        "# elegir las columnas del dataset que se van a borrar\n",
        "df_train_delete = ['systemloanid', 'birthdate', 'approveddate', 'creationdate', 'bank_branch_clients']\n",
        "# borrar las columnas elegidas\n",
        "df_train.drop(columns = df_train_delete, inplace = True)"
      ],
      "metadata": {
        "id": "P7h1o9WQlXb5"
      },
      "execution_count": null,
      "outputs": []
    },
    {
      "cell_type": "markdown",
      "source": [
        "##GUARDAR DATASET"
      ],
      "metadata": {
        "id": "37iYHjosvrlh"
      }
    },
    {
      "cell_type": "code",
      "source": [
        "# df a csv\n",
        "df_train.to_csv(r'datos_origen/TRAIN.csv', index = False)"
      ],
      "metadata": {
        "id": "FdVMQpAhlZpw"
      },
      "execution_count": null,
      "outputs": []
    },
    {
      "cell_type": "markdown",
      "source": [
        "https://www.jeremyjordan.me/preparing-data-for-a-machine-learning-model/"
      ],
      "metadata": {
        "id": "hJE3XaKhvvjZ"
      }
    }
  ]
}