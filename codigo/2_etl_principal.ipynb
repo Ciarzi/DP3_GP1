{
  "cells": [
    {
      "cell_type": "markdown",
      "metadata": {
        "id": "wy-NRh0_yc5M"
      },
      "source": [
        "# **ETL**"
      ]
    },
    {
      "cell_type": "markdown",
      "metadata": {
        "id": "uCPseqYXyc5O"
      },
      "source": [
        "## CONFIGURACIÓN INICIAL"
      ]
    },
    {
      "cell_type": "code",
      "execution_count": 166,
      "metadata": {
        "colab": {
          "base_uri": "https://localhost:8080/"
        },
        "id": "xxnd7hUfyc5R",
        "outputId": "27d3ae4e-7933-4a82-aa35-0a083d3ce381"
      },
      "outputs": [
        {
          "name": "stdout",
          "output_type": "stream",
          "text": [
            "Requirement already satisfied: reverse_geocoder in c:\\python\\lib\\site-packages (1.5.1)\n",
            "Requirement already satisfied: numpy>=1.11.0 in c:\\users\\sergi\\appdata\\roaming\\python\\python39\\site-packages (from reverse_geocoder) (1.21.2)\n",
            "Requirement already satisfied: scipy>=0.17.1 in c:\\python\\lib\\site-packages (from reverse_geocoder) (1.8.0)\n",
            "Requirement already satisfied: seaborn in c:\\python\\lib\\site-packages (0.11.2)\n",
            "Requirement already satisfied: scipy>=1.0 in c:\\python\\lib\\site-packages (from seaborn) (1.8.0)\n",
            "Requirement already satisfied: numpy>=1.15 in c:\\users\\sergi\\appdata\\roaming\\python\\python39\\site-packages (from seaborn) (1.21.2)\n",
            "Requirement already satisfied: matplotlib>=2.2 in c:\\python\\lib\\site-packages (from seaborn) (3.4.3)\n",
            "Requirement already satisfied: pandas>=0.23 in c:\\python\\lib\\site-packages (from seaborn) (1.4.2)\n",
            "Requirement already satisfied: pillow>=6.2.0 in c:\\python\\lib\\site-packages (from matplotlib>=2.2->seaborn) (8.3.2)\n",
            "Requirement already satisfied: pyparsing>=2.2.1 in c:\\python\\lib\\site-packages (from matplotlib>=2.2->seaborn) (2.4.7)\n",
            "Requirement already satisfied: kiwisolver>=1.0.1 in c:\\python\\lib\\site-packages (from matplotlib>=2.2->seaborn) (1.3.2)\n",
            "Requirement already satisfied: python-dateutil>=2.7 in c:\\users\\sergi\\appdata\\roaming\\python\\python39\\site-packages (from matplotlib>=2.2->seaborn) (2.8.2)\n",
            "Requirement already satisfied: cycler>=0.10 in c:\\python\\lib\\site-packages (from matplotlib>=2.2->seaborn) (0.10.0)\n",
            "Requirement already satisfied: pytz>=2020.1 in c:\\users\\sergi\\appdata\\roaming\\python\\python39\\site-packages (from pandas>=0.23->seaborn) (2021.3)\n",
            "Requirement already satisfied: six in c:\\users\\sergi\\appdata\\roaming\\python\\python39\\site-packages (from cycler>=0.10->matplotlib>=2.2->seaborn) (1.16.0)\n"
          ]
        }
      ],
      "source": [
        "# descargar librerías\n",
        "!pip install reverse_geocoder\n",
        "!pip install seaborn"
      ]
    },
    {
      "cell_type": "code",
      "execution_count": 167,
      "metadata": {
        "id": "sEWjRk8Pyc5T"
      },
      "outputs": [],
      "source": [
        "# importar librerías\n",
        "import pandas as pd\n",
        "import datetime\n",
        "import reverse_geocoder as rg\n",
        "import matplotlib.pyplot as plt\n",
        "import seaborn as sns\n",
        "from pandas.api.types import CategoricalDtype\n",
        "from sklearn.preprocessing import LabelEncoder\n",
        "from sklearn.preprocessing import OneHotEncoder"
      ]
    },
    {
      "cell_type": "code",
      "execution_count": 168,
      "metadata": {
        "id": "rPj6WOGPyc5T"
      },
      "outputs": [],
      "source": [
        "# funcion para pasar de fecha de nacimiento a edad\n",
        "def from_dob_to_age(born):\n",
        "    today = datetime.date.today()\n",
        "    return today.year - born.year - ((today.month, today.day) < (born.month, born.day))"
      ]
    },
    {
      "cell_type": "code",
      "execution_count": 169,
      "metadata": {
        "id": "heJ46ZDqyc5U"
      },
      "outputs": [],
      "source": [
        "# leer csv\n",
        "df_perf_test = pd.read_csv(r'https://raw.githubusercontent.com/Ciarzi/DP3_GP1/main/datasets/test_performance.csv')\n",
        "df_perf_train = pd.read_csv(r'https://raw.githubusercontent.com/Ciarzi/DP3_GP1/main/datasets/train_performance.csv')\n",
        "df_loan_test = pd.read_csv(r'https://raw.githubusercontent.com/Ciarzi/DP3_GP1/main/datasets/test_previous_loan.csv')\n",
        "df_loan_train = pd.read_csv(r'https://raw.githubusercontent.com/Ciarzi/DP3_GP1/main/datasets/train_previous_loan.csv')\n",
        "df_dem_test = pd.read_csv(r'https://raw.githubusercontent.com/Ciarzi/DP3_GP1/main/datasets/test_datos_demograficos.csv')\n",
        "df_dem_train = pd.read_csv(r'https://raw.githubusercontent.com/Ciarzi/DP3_GP1/main/datasets/train_datos_demograficos.csv')"
      ]
    },
    {
      "cell_type": "markdown",
      "metadata": {
        "id": "h8MA9p_gyc5U"
      },
      "source": [
        "## ANEXAR DATOS DE PRÉSTAMOS ANTIGUOS Y CLIENTES"
      ]
    },
    {
      "cell_type": "code",
      "execution_count": 170,
      "metadata": {
        "colab": {
          "base_uri": "https://localhost:8080/"
        },
        "id": "Sq2jvUj0yc5V",
        "outputId": "fb19c341-533c-4b17-d460-31d7d149630c"
      },
      "outputs": [
        {
          "name": "stderr",
          "output_type": "stream",
          "text": [
            "C:\\Users\\sergi\\AppData\\Local\\Temp/ipykernel_21388/1409091891.py:2: FutureWarning: The frame.append method is deprecated and will be removed from pandas in a future version. Use pandas.concat instead.\n",
            "  df_dem = df_dem_test.append(df_dem_train, ignore_index=True)\n"
          ]
        },
        {
          "data": {
            "text/plain": [
              "(5818, 9)"
            ]
          },
          "execution_count": 170,
          "metadata": {},
          "output_type": "execute_result"
        }
      ],
      "source": [
        "#adjuntar los dos csv\n",
        "df_dem = df_dem_test.append(df_dem_train, ignore_index=True)\n",
        "#eliminar filas que sean idénticas\n",
        "df_dem.drop_duplicates(inplace = True)\n",
        "#dimensiones del nuevo dataframe\n",
        "df_dem.shape"
      ]
    },
    {
      "cell_type": "code",
      "execution_count": 171,
      "metadata": {
        "colab": {
          "base_uri": "https://localhost:8080/"
        },
        "id": "jFiiTrHzyc5V",
        "outputId": "38303ccd-3185-4644-cd38-39c33f922b68"
      },
      "outputs": [
        {
          "name": "stderr",
          "output_type": "stream",
          "text": [
            "C:\\Users\\sergi\\AppData\\Local\\Temp/ipykernel_21388/3920205185.py:2: FutureWarning: The frame.append method is deprecated and will be removed from pandas in a future version. Use pandas.concat instead.\n",
            "  df_loan = df_loan_test.append(df_loan_train, ignore_index=True)\n"
          ]
        },
        {
          "data": {
            "text/plain": [
              "(24090, 12)"
            ]
          },
          "execution_count": 171,
          "metadata": {},
          "output_type": "execute_result"
        }
      ],
      "source": [
        "#adjuntar los dos csv\n",
        "df_loan = df_loan_test.append(df_loan_train, ignore_index=True)\n",
        "#eliminar filas que sean idénticas\n",
        "df_loan.drop_duplicates(inplace = True)\n",
        "#dimensiones del nuevo dataframe\n",
        "df_loan.shape"
      ]
    },
    {
      "cell_type": "markdown",
      "metadata": {
        "id": "h3N_BIRIyc5W"
      },
      "source": [
        "## PREPARAR DATOS PRÉSTAMOS ANTIGUOS"
      ]
    },
    {
      "cell_type": "code",
      "execution_count": 172,
      "metadata": {
        "colab": {
          "base_uri": "https://localhost:8080/",
          "height": 0
        },
        "id": "UcG9HSWRyc5X",
        "outputId": "695a1229-82fc-42aa-f01e-46688e739ffd"
      },
      "outputs": [
        {
          "data": {
            "text/html": [
              "<div>\n",
              "<style scoped>\n",
              "    .dataframe tbody tr th:only-of-type {\n",
              "        vertical-align: middle;\n",
              "    }\n",
              "\n",
              "    .dataframe tbody tr th {\n",
              "        vertical-align: top;\n",
              "    }\n",
              "\n",
              "    .dataframe thead th {\n",
              "        text-align: right;\n",
              "    }\n",
              "</style>\n",
              "<table border=\"1\" class=\"dataframe\">\n",
              "  <thead>\n",
              "    <tr style=\"text-align: right;\">\n",
              "      <th></th>\n",
              "      <th>customerid</th>\n",
              "      <th>systemloanid</th>\n",
              "      <th>loannumber</th>\n",
              "      <th>approveddate</th>\n",
              "      <th>creationdate</th>\n",
              "      <th>loanamount</th>\n",
              "      <th>totaldue</th>\n",
              "      <th>termdays</th>\n",
              "      <th>closeddate</th>\n",
              "      <th>referredby</th>\n",
              "      <th>firstduedate</th>\n",
              "      <th>firstrepaiddate</th>\n",
              "    </tr>\n",
              "  </thead>\n",
              "  <tbody>\n",
              "    <tr>\n",
              "      <th>0</th>\n",
              "      <td>8a858899538ddb8e015390510b321f08</td>\n",
              "      <td>301621635</td>\n",
              "      <td>3</td>\n",
              "      <td>2016-05-17 10:37:00.000000</td>\n",
              "      <td>2016-05-17 09:36:55.000000</td>\n",
              "      <td>10000.0</td>\n",
              "      <td>13000.0</td>\n",
              "      <td>30</td>\n",
              "      <td>2016-06-17 00:04:15.000000</td>\n",
              "      <td>NaN</td>\n",
              "      <td>2016-06-16 00:00:00.000000</td>\n",
              "      <td>2016-06-16 15:44:08.000000</td>\n",
              "    </tr>\n",
              "    <tr>\n",
              "      <th>1</th>\n",
              "      <td>8a858959537a097401537a4e316e25f7</td>\n",
              "      <td>301810201</td>\n",
              "      <td>5</td>\n",
              "      <td>2017-02-04 21:28:59.000000</td>\n",
              "      <td>2017-02-04 20:28:52.000000</td>\n",
              "      <td>30000.0</td>\n",
              "      <td>36800.0</td>\n",
              "      <td>60</td>\n",
              "      <td>2017-03-02 16:22:58.000000</td>\n",
              "      <td>NaN</td>\n",
              "      <td>2017-03-06 00:00:00.000000</td>\n",
              "      <td>2017-03-02 16:07:47.000000</td>\n",
              "    </tr>\n",
              "    <tr>\n",
              "      <th>2</th>\n",
              "      <td>8a858959537a097401537a4e316e25f7</td>\n",
              "      <td>301831255</td>\n",
              "      <td>6</td>\n",
              "      <td>2017-03-04 10:28:22.000000</td>\n",
              "      <td>2017-03-04 09:28:16.000000</td>\n",
              "      <td>30000.0</td>\n",
              "      <td>34400.0</td>\n",
              "      <td>30</td>\n",
              "      <td>2017-04-02 00:44:24.000000</td>\n",
              "      <td>NaN</td>\n",
              "      <td>2017-04-03 00:00:00.000000</td>\n",
              "      <td>2017-04-01 21:29:46.000000</td>\n",
              "    </tr>\n",
              "    <tr>\n",
              "      <th>3</th>\n",
              "      <td>8a8589c253ace09b0153af6ba58f1f31</td>\n",
              "      <td>301627292</td>\n",
              "      <td>3</td>\n",
              "      <td>2016-06-02 14:27:14.000000</td>\n",
              "      <td>2016-06-02 13:27:08.000000</td>\n",
              "      <td>10000.0</td>\n",
              "      <td>13000.0</td>\n",
              "      <td>30</td>\n",
              "      <td>2016-07-04 11:34:04.000000</td>\n",
              "      <td>NaN</td>\n",
              "      <td>2016-07-04 00:00:00.000000</td>\n",
              "      <td>2016-07-04 11:19:01.000000</td>\n",
              "    </tr>\n",
              "    <tr>\n",
              "      <th>4</th>\n",
              "      <td>8a8589c253ace09b0153af6ba58f1f31</td>\n",
              "      <td>301621095</td>\n",
              "      <td>2</td>\n",
              "      <td>2016-05-16 09:13:12.000000</td>\n",
              "      <td>2016-05-16 08:13:04.000000</td>\n",
              "      <td>10000.0</td>\n",
              "      <td>11500.0</td>\n",
              "      <td>15</td>\n",
              "      <td>2016-06-02 00:02:58.000000</td>\n",
              "      <td>NaN</td>\n",
              "      <td>2016-05-31 00:00:00.000000</td>\n",
              "      <td>2016-06-01 15:22:34.000000</td>\n",
              "    </tr>\n",
              "    <tr>\n",
              "      <th>...</th>\n",
              "      <td>...</td>\n",
              "      <td>...</td>\n",
              "      <td>...</td>\n",
              "      <td>...</td>\n",
              "      <td>...</td>\n",
              "      <td>...</td>\n",
              "      <td>...</td>\n",
              "      <td>...</td>\n",
              "      <td>...</td>\n",
              "      <td>...</td>\n",
              "      <td>...</td>\n",
              "      <td>...</td>\n",
              "    </tr>\n",
              "    <tr>\n",
              "      <th>24085</th>\n",
              "      <td>8a858899538ddb8e0153a2b555421fc5</td>\n",
              "      <td>301611754</td>\n",
              "      <td>2</td>\n",
              "      <td>2016-04-16 13:36:34.000000</td>\n",
              "      <td>2016-04-16 12:36:28.000000</td>\n",
              "      <td>10000.0</td>\n",
              "      <td>13000.0</td>\n",
              "      <td>30</td>\n",
              "      <td>2016-05-14 00:04:52.000000</td>\n",
              "      <td>NaN</td>\n",
              "      <td>2016-05-16 00:00:00.000000</td>\n",
              "      <td>2016-05-13 18:05:07.000000</td>\n",
              "    </tr>\n",
              "    <tr>\n",
              "      <th>24086</th>\n",
              "      <td>8a858899538ddb8e0153a2b555421fc5</td>\n",
              "      <td>301761267</td>\n",
              "      <td>9</td>\n",
              "      <td>2016-11-18 14:26:07.000000</td>\n",
              "      <td>2016-11-18 13:25:51.000000</td>\n",
              "      <td>30000.0</td>\n",
              "      <td>34400.0</td>\n",
              "      <td>30</td>\n",
              "      <td>2016-12-13 16:08:57.000000</td>\n",
              "      <td>NaN</td>\n",
              "      <td>2016-12-19 00:00:00.000000</td>\n",
              "      <td>2016-12-13 15:53:48.000000</td>\n",
              "    </tr>\n",
              "    <tr>\n",
              "      <th>24087</th>\n",
              "      <td>8a858899538ddb8e0153a2b555421fc5</td>\n",
              "      <td>301631653</td>\n",
              "      <td>4</td>\n",
              "      <td>2016-06-12 15:30:56.000000</td>\n",
              "      <td>2016-06-12 14:30:50.000000</td>\n",
              "      <td>10000.0</td>\n",
              "      <td>13000.0</td>\n",
              "      <td>30</td>\n",
              "      <td>2016-07-09 15:39:00.000000</td>\n",
              "      <td>NaN</td>\n",
              "      <td>2016-07-12 00:00:00.000000</td>\n",
              "      <td>2016-07-09 15:23:56.000000</td>\n",
              "    </tr>\n",
              "    <tr>\n",
              "      <th>24088</th>\n",
              "      <td>8a858f0656b7820c0156c92ca3ba436f</td>\n",
              "      <td>301697691</td>\n",
              "      <td>1</td>\n",
              "      <td>2016-08-27 20:03:45.000000</td>\n",
              "      <td>2016-08-27 19:03:34.000000</td>\n",
              "      <td>10000.0</td>\n",
              "      <td>13000.0</td>\n",
              "      <td>30</td>\n",
              "      <td>2016-10-15 10:17:54.000000</td>\n",
              "      <td>NaN</td>\n",
              "      <td>2016-09-26 00:00:00.000000</td>\n",
              "      <td>2016-10-15 10:02:45.000000</td>\n",
              "    </tr>\n",
              "    <tr>\n",
              "      <th>24089</th>\n",
              "      <td>8a858faf5679a838015688de3028143d</td>\n",
              "      <td>301715255</td>\n",
              "      <td>2</td>\n",
              "      <td>2016-09-14 23:42:14.000000</td>\n",
              "      <td>2016-09-14 22:42:05.000000</td>\n",
              "      <td>10000.0</td>\n",
              "      <td>13000.0</td>\n",
              "      <td>30</td>\n",
              "      <td>2016-09-29 19:51:04.000000</td>\n",
              "      <td>NaN</td>\n",
              "      <td>2016-10-14 00:00:00.000000</td>\n",
              "      <td>2016-09-29 19:35:55.000000</td>\n",
              "    </tr>\n",
              "  </tbody>\n",
              "</table>\n",
              "<p>24090 rows × 12 columns</p>\n",
              "</div>"
            ],
            "text/plain": [
              "                             customerid  systemloanid  loannumber  \\\n",
              "0      8a858899538ddb8e015390510b321f08     301621635           3   \n",
              "1      8a858959537a097401537a4e316e25f7     301810201           5   \n",
              "2      8a858959537a097401537a4e316e25f7     301831255           6   \n",
              "3      8a8589c253ace09b0153af6ba58f1f31     301627292           3   \n",
              "4      8a8589c253ace09b0153af6ba58f1f31     301621095           2   \n",
              "...                                 ...           ...         ...   \n",
              "24085  8a858899538ddb8e0153a2b555421fc5     301611754           2   \n",
              "24086  8a858899538ddb8e0153a2b555421fc5     301761267           9   \n",
              "24087  8a858899538ddb8e0153a2b555421fc5     301631653           4   \n",
              "24088  8a858f0656b7820c0156c92ca3ba436f     301697691           1   \n",
              "24089  8a858faf5679a838015688de3028143d     301715255           2   \n",
              "\n",
              "                     approveddate                creationdate  loanamount  \\\n",
              "0      2016-05-17 10:37:00.000000  2016-05-17 09:36:55.000000     10000.0   \n",
              "1      2017-02-04 21:28:59.000000  2017-02-04 20:28:52.000000     30000.0   \n",
              "2      2017-03-04 10:28:22.000000  2017-03-04 09:28:16.000000     30000.0   \n",
              "3      2016-06-02 14:27:14.000000  2016-06-02 13:27:08.000000     10000.0   \n",
              "4      2016-05-16 09:13:12.000000  2016-05-16 08:13:04.000000     10000.0   \n",
              "...                           ...                         ...         ...   \n",
              "24085  2016-04-16 13:36:34.000000  2016-04-16 12:36:28.000000     10000.0   \n",
              "24086  2016-11-18 14:26:07.000000  2016-11-18 13:25:51.000000     30000.0   \n",
              "24087  2016-06-12 15:30:56.000000  2016-06-12 14:30:50.000000     10000.0   \n",
              "24088  2016-08-27 20:03:45.000000  2016-08-27 19:03:34.000000     10000.0   \n",
              "24089  2016-09-14 23:42:14.000000  2016-09-14 22:42:05.000000     10000.0   \n",
              "\n",
              "       totaldue  termdays                  closeddate referredby  \\\n",
              "0       13000.0        30  2016-06-17 00:04:15.000000        NaN   \n",
              "1       36800.0        60  2017-03-02 16:22:58.000000        NaN   \n",
              "2       34400.0        30  2017-04-02 00:44:24.000000        NaN   \n",
              "3       13000.0        30  2016-07-04 11:34:04.000000        NaN   \n",
              "4       11500.0        15  2016-06-02 00:02:58.000000        NaN   \n",
              "...         ...       ...                         ...        ...   \n",
              "24085   13000.0        30  2016-05-14 00:04:52.000000        NaN   \n",
              "24086   34400.0        30  2016-12-13 16:08:57.000000        NaN   \n",
              "24087   13000.0        30  2016-07-09 15:39:00.000000        NaN   \n",
              "24088   13000.0        30  2016-10-15 10:17:54.000000        NaN   \n",
              "24089   13000.0        30  2016-09-29 19:51:04.000000        NaN   \n",
              "\n",
              "                     firstduedate             firstrepaiddate  \n",
              "0      2016-06-16 00:00:00.000000  2016-06-16 15:44:08.000000  \n",
              "1      2017-03-06 00:00:00.000000  2017-03-02 16:07:47.000000  \n",
              "2      2017-04-03 00:00:00.000000  2017-04-01 21:29:46.000000  \n",
              "3      2016-07-04 00:00:00.000000  2016-07-04 11:19:01.000000  \n",
              "4      2016-05-31 00:00:00.000000  2016-06-01 15:22:34.000000  \n",
              "...                           ...                         ...  \n",
              "24085  2016-05-16 00:00:00.000000  2016-05-13 18:05:07.000000  \n",
              "24086  2016-12-19 00:00:00.000000  2016-12-13 15:53:48.000000  \n",
              "24087  2016-07-12 00:00:00.000000  2016-07-09 15:23:56.000000  \n",
              "24088  2016-09-26 00:00:00.000000  2016-10-15 10:02:45.000000  \n",
              "24089  2016-10-14 00:00:00.000000  2016-09-29 19:35:55.000000  \n",
              "\n",
              "[24090 rows x 12 columns]"
            ]
          },
          "execution_count": 172,
          "metadata": {},
          "output_type": "execute_result"
        }
      ],
      "source": [
        "# vista previa\n",
        "df_loan"
      ]
    },
    {
      "cell_type": "code",
      "execution_count": 173,
      "metadata": {
        "id": "J-l3cf2eyc5X"
      },
      "outputs": [],
      "source": [
        "#pasar columnas a fecha\n",
        "df_loan['firstduedate'] = pd.to_datetime(df_loan['firstduedate'])\n",
        "df_loan['firstrepaiddate'] = pd.to_datetime(df_loan['firstrepaiddate'])\n",
        "df_loan['firstrepaiddate'] = pd.to_datetime(df_loan['firstrepaiddate'].dt.date)"
      ]
    },
    {
      "cell_type": "code",
      "execution_count": 174,
      "metadata": {
        "id": "T_FUMhMwyc5X"
      },
      "outputs": [],
      "source": [
        "# guardar si se ha hecho el primer pago antes o después del plazo\n",
        "df_loan['pago_plazo'] = df_loan.apply(lambda x: 1 if (x['firstduedate'] >= x['firstrepaiddate']) else -3, axis=1)"
      ]
    },
    {
      "cell_type": "code",
      "execution_count": 175,
      "metadata": {
        "id": "S4Juv7lWyc5Y"
      },
      "outputs": [],
      "source": [
        "#nos quedamos con las columnas que importan\n",
        "df_loan = df_loan[['customerid','pago_plazo']]"
      ]
    },
    {
      "cell_type": "code",
      "execution_count": 176,
      "metadata": {
        "colab": {
          "base_uri": "https://localhost:8080/",
          "height": 0
        },
        "id": "7kRcjPZfyc5Y",
        "outputId": "529c0210-e39c-429b-8fab-4aae97aee0bf"
      },
      "outputs": [
        {
          "data": {
            "text/html": [
              "<div>\n",
              "<style scoped>\n",
              "    .dataframe tbody tr th:only-of-type {\n",
              "        vertical-align: middle;\n",
              "    }\n",
              "\n",
              "    .dataframe tbody tr th {\n",
              "        vertical-align: top;\n",
              "    }\n",
              "\n",
              "    .dataframe thead th {\n",
              "        text-align: right;\n",
              "    }\n",
              "</style>\n",
              "<table border=\"1\" class=\"dataframe\">\n",
              "  <thead>\n",
              "    <tr style=\"text-align: right;\">\n",
              "      <th></th>\n",
              "      <th>pago_plazo</th>\n",
              "    </tr>\n",
              "    <tr>\n",
              "      <th>customerid</th>\n",
              "      <th></th>\n",
              "    </tr>\n",
              "  </thead>\n",
              "  <tbody>\n",
              "    <tr>\n",
              "      <th>8a1088a0484472eb01484669e3ce4e0b</th>\n",
              "      <td>-3</td>\n",
              "    </tr>\n",
              "    <tr>\n",
              "      <th>8a1a1e7e4f707f8b014f797718316cad</th>\n",
              "      <td>0</td>\n",
              "    </tr>\n",
              "    <tr>\n",
              "      <th>8a1a32fc49b632520149c3b8fdf85139</th>\n",
              "      <td>3</td>\n",
              "    </tr>\n",
              "    <tr>\n",
              "      <th>8a1eb5ba49a682300149c3c068b806c7</th>\n",
              "      <td>4</td>\n",
              "    </tr>\n",
              "    <tr>\n",
              "      <th>8a1edbf14734127f0147356fdb1b1eb2</th>\n",
              "      <td>2</td>\n",
              "    </tr>\n",
              "    <tr>\n",
              "      <th>...</th>\n",
              "      <td>...</td>\n",
              "    </tr>\n",
              "    <tr>\n",
              "      <th>8a858fff5c79144c015c7bdbfc086ce1</th>\n",
              "      <td>1</td>\n",
              "    </tr>\n",
              "    <tr>\n",
              "      <th>8aaae7a74400b28201441c8b62514150</th>\n",
              "      <td>3</td>\n",
              "    </tr>\n",
              "    <tr>\n",
              "      <th>8aab10f748cf78ff0148d11fac1447a6</th>\n",
              "      <td>-3</td>\n",
              "    </tr>\n",
              "    <tr>\n",
              "      <th>8aab160f499477da014999ba2f0f578b</th>\n",
              "      <td>-1</td>\n",
              "    </tr>\n",
              "    <tr>\n",
              "      <th>8addcb0645aff34b0145b25fe1616ee0</th>\n",
              "      <td>4</td>\n",
              "    </tr>\n",
              "  </tbody>\n",
              "</table>\n",
              "<p>5801 rows × 1 columns</p>\n",
              "</div>"
            ],
            "text/plain": [
              "                                  pago_plazo\n",
              "customerid                                  \n",
              "8a1088a0484472eb01484669e3ce4e0b          -3\n",
              "8a1a1e7e4f707f8b014f797718316cad           0\n",
              "8a1a32fc49b632520149c3b8fdf85139           3\n",
              "8a1eb5ba49a682300149c3c068b806c7           4\n",
              "8a1edbf14734127f0147356fdb1b1eb2           2\n",
              "...                                      ...\n",
              "8a858fff5c79144c015c7bdbfc086ce1           1\n",
              "8aaae7a74400b28201441c8b62514150           3\n",
              "8aab10f748cf78ff0148d11fac1447a6          -3\n",
              "8aab160f499477da014999ba2f0f578b          -1\n",
              "8addcb0645aff34b0145b25fe1616ee0           4\n",
              "\n",
              "[5801 rows x 1 columns]"
            ]
          },
          "execution_count": 176,
          "metadata": {},
          "output_type": "execute_result"
        }
      ],
      "source": [
        "#agrupa el dataframe por cliente, obtienendo para cada uno si ha pagado en plazo o no sus prestamos\n",
        "df_loan_gr = df_loan.groupby(['customerid']).sum()\n",
        "df_loan_gr"
      ]
    },
    {
      "cell_type": "code",
      "execution_count": 177,
      "metadata": {
        "id": "YB2NigEryc5Z"
      },
      "outputs": [],
      "source": [
        "# pasar la columna a binario\n",
        "df_loan_gr['pagos_plazo'] = 1\n",
        "df_loan_gr.loc[df_loan_gr['pago_plazo'] < 0, 'pagos_plazo'] = 0\n",
        "df_loan_gr = df_loan_gr['pagos_plazo']"
      ]
    },
    {
      "cell_type": "markdown",
      "metadata": {
        "id": "5mVj2F-Syc5Z"
      },
      "source": [
        "## ADJUNTAR TODOS LOS DATOS EN UN SOLO DATAFRAME"
      ]
    },
    {
      "cell_type": "code",
      "execution_count": 178,
      "metadata": {
        "colab": {
          "base_uri": "https://localhost:8080/"
        },
        "id": "c_ezKTPOyc5Z",
        "outputId": "e278ba3a-7453-4384-e8e7-e05164012355"
      },
      "outputs": [
        {
          "data": {
            "text/plain": [
              "(4368, 10)"
            ]
          },
          "execution_count": 178,
          "metadata": {},
          "output_type": "execute_result"
        }
      ],
      "source": [
        "df_perf_train.shape"
      ]
    },
    {
      "cell_type": "code",
      "execution_count": 179,
      "metadata": {
        "colab": {
          "base_uri": "https://localhost:8080/"
        },
        "id": "M3prZbCpyc5a",
        "outputId": "58b54b09-b813-4e17-9183-9bb8c075a409"
      },
      "outputs": [
        {
          "data": {
            "text/plain": [
              "(4368, 18)"
            ]
          },
          "execution_count": 179,
          "metadata": {},
          "output_type": "execute_result"
        }
      ],
      "source": [
        "# primero se añade la información del cliente\n",
        "df_train = df_perf_train.merge(df_dem, on='customerid', how='left')\n",
        "#ver tamaño del nuvo df\n",
        "df_train.shape"
      ]
    },
    {
      "cell_type": "code",
      "execution_count": 180,
      "metadata": {
        "colab": {
          "base_uri": "https://localhost:8080/"
        },
        "id": "xOq_4Uqiyc5a",
        "outputId": "301b852f-2087-4ccc-ef4c-7fc155097312"
      },
      "outputs": [
        {
          "data": {
            "text/plain": [
              "(4368, 19)"
            ]
          },
          "execution_count": 180,
          "metadata": {},
          "output_type": "execute_result"
        }
      ],
      "source": [
        "# se añade la información de préstamos antiguos del cliente\n",
        "df_train = df_train.merge(df_loan_gr, on='customerid', how='left')\n",
        "#ver tamaño del nuvo df\n",
        "df_train.shape"
      ]
    },
    {
      "cell_type": "code",
      "execution_count": 181,
      "metadata": {
        "colab": {
          "base_uri": "https://localhost:8080/"
        },
        "id": "YBcr8_otyc5a",
        "outputId": "4c232ce5-1604-489e-a230-089f187cd364"
      },
      "outputs": [
        {
          "data": {
            "text/plain": [
              "(4368, 20)"
            ]
          },
          "execution_count": 181,
          "metadata": {},
          "output_type": "execute_result"
        }
      ],
      "source": [
        "# se añade la información de préstamos antiguos del referido del cliente\n",
        "df_train = df_train.merge(df_loan_gr, left_on='referredby', right_on='customerid', how='left')\n",
        "#ver tamaño del nuvo df\n",
        "df_train.shape"
      ]
    },
    {
      "cell_type": "code",
      "execution_count": 182,
      "metadata": {
        "colab": {
          "base_uri": "https://localhost:8080/",
          "height": 0
        },
        "id": "KOhQ-UF0yc5c",
        "outputId": "8b4bb04d-6ab1-413c-8840-ed9503ee9931"
      },
      "outputs": [
        {
          "data": {
            "text/html": [
              "<div>\n",
              "<style scoped>\n",
              "    .dataframe tbody tr th:only-of-type {\n",
              "        vertical-align: middle;\n",
              "    }\n",
              "\n",
              "    .dataframe tbody tr th {\n",
              "        vertical-align: top;\n",
              "    }\n",
              "\n",
              "    .dataframe thead th {\n",
              "        text-align: right;\n",
              "    }\n",
              "</style>\n",
              "<table border=\"1\" class=\"dataframe\">\n",
              "  <thead>\n",
              "    <tr style=\"text-align: right;\">\n",
              "      <th></th>\n",
              "      <th>customerid</th>\n",
              "      <th>systemloanid</th>\n",
              "      <th>loannumber</th>\n",
              "      <th>approveddate</th>\n",
              "      <th>creationdate</th>\n",
              "      <th>loanamount</th>\n",
              "      <th>totaldue</th>\n",
              "      <th>termdays</th>\n",
              "      <th>referredby</th>\n",
              "      <th>good_bad_flag</th>\n",
              "      <th>birthdate</th>\n",
              "      <th>bank_account_type</th>\n",
              "      <th>longitude_gps</th>\n",
              "      <th>latitude_gps</th>\n",
              "      <th>bank_name_clients</th>\n",
              "      <th>bank_branch_clients</th>\n",
              "      <th>employment_status_clients</th>\n",
              "      <th>level_of_education_clients</th>\n",
              "      <th>pagos_plazo_x</th>\n",
              "      <th>pagos_plazo_y</th>\n",
              "    </tr>\n",
              "  </thead>\n",
              "  <tbody>\n",
              "    <tr>\n",
              "      <th>0</th>\n",
              "      <td>8a2a81a74ce8c05d014cfb32a0da1049</td>\n",
              "      <td>301994762</td>\n",
              "      <td>12</td>\n",
              "      <td>2017-07-25 08:22:56.000000</td>\n",
              "      <td>2017-07-25 07:22:47.000000</td>\n",
              "      <td>30000.0</td>\n",
              "      <td>34500.0</td>\n",
              "      <td>30</td>\n",
              "      <td>NaN</td>\n",
              "      <td>Good</td>\n",
              "      <td>1972-01-15 00:00:00.000000</td>\n",
              "      <td>Other</td>\n",
              "      <td>3.432010</td>\n",
              "      <td>6.433055</td>\n",
              "      <td>Diamond Bank</td>\n",
              "      <td>NaN</td>\n",
              "      <td>Permanent</td>\n",
              "      <td>Post-Graduate</td>\n",
              "      <td>0.0</td>\n",
              "      <td>NaN</td>\n",
              "    </tr>\n",
              "    <tr>\n",
              "      <th>1</th>\n",
              "      <td>8a85886e54beabf90154c0a29ae757c0</td>\n",
              "      <td>301965204</td>\n",
              "      <td>2</td>\n",
              "      <td>2017-07-05 17:04:41.000000</td>\n",
              "      <td>2017-07-05 16:04:18.000000</td>\n",
              "      <td>15000.0</td>\n",
              "      <td>17250.0</td>\n",
              "      <td>30</td>\n",
              "      <td>NaN</td>\n",
              "      <td>Good</td>\n",
              "      <td>1985-08-23 00:00:00.000000</td>\n",
              "      <td>Savings</td>\n",
              "      <td>3.885298</td>\n",
              "      <td>7.320700</td>\n",
              "      <td>GT Bank</td>\n",
              "      <td>DUGBE,IBADAN</td>\n",
              "      <td>Permanent</td>\n",
              "      <td>Graduate</td>\n",
              "      <td>NaN</td>\n",
              "      <td>NaN</td>\n",
              "    </tr>\n",
              "    <tr>\n",
              "      <th>2</th>\n",
              "      <td>8a8588f35438fe12015444567666018e</td>\n",
              "      <td>301966580</td>\n",
              "      <td>7</td>\n",
              "      <td>2017-07-06 14:52:57.000000</td>\n",
              "      <td>2017-07-06 13:52:51.000000</td>\n",
              "      <td>20000.0</td>\n",
              "      <td>22250.0</td>\n",
              "      <td>15</td>\n",
              "      <td>NaN</td>\n",
              "      <td>Good</td>\n",
              "      <td>1984-09-18 00:00:00.000000</td>\n",
              "      <td>Other</td>\n",
              "      <td>11.139350</td>\n",
              "      <td>10.292041</td>\n",
              "      <td>EcoBank</td>\n",
              "      <td>NaN</td>\n",
              "      <td>Permanent</td>\n",
              "      <td>NaN</td>\n",
              "      <td>1.0</td>\n",
              "      <td>NaN</td>\n",
              "    </tr>\n",
              "    <tr>\n",
              "      <th>3</th>\n",
              "      <td>8a85890754145ace015429211b513e16</td>\n",
              "      <td>301999343</td>\n",
              "      <td>3</td>\n",
              "      <td>2017-07-27 19:00:41.000000</td>\n",
              "      <td>2017-07-27 18:00:35.000000</td>\n",
              "      <td>10000.0</td>\n",
              "      <td>11500.0</td>\n",
              "      <td>15</td>\n",
              "      <td>NaN</td>\n",
              "      <td>Good</td>\n",
              "      <td>1977-10-10 00:00:00.000000</td>\n",
              "      <td>Savings</td>\n",
              "      <td>3.985770</td>\n",
              "      <td>7.491708</td>\n",
              "      <td>First Bank</td>\n",
              "      <td>NaN</td>\n",
              "      <td>Permanent</td>\n",
              "      <td>NaN</td>\n",
              "      <td>0.0</td>\n",
              "      <td>NaN</td>\n",
              "    </tr>\n",
              "    <tr>\n",
              "      <th>4</th>\n",
              "      <td>8a858970548359cc0154883481981866</td>\n",
              "      <td>301962360</td>\n",
              "      <td>9</td>\n",
              "      <td>2017-07-03 23:42:45.000000</td>\n",
              "      <td>2017-07-03 22:42:39.000000</td>\n",
              "      <td>40000.0</td>\n",
              "      <td>44000.0</td>\n",
              "      <td>30</td>\n",
              "      <td>NaN</td>\n",
              "      <td>Good</td>\n",
              "      <td>1986-09-07 00:00:00.000000</td>\n",
              "      <td>Other</td>\n",
              "      <td>7.457913</td>\n",
              "      <td>9.076574</td>\n",
              "      <td>GT Bank</td>\n",
              "      <td>NaN</td>\n",
              "      <td>Permanent</td>\n",
              "      <td>Primary</td>\n",
              "      <td>1.0</td>\n",
              "      <td>NaN</td>\n",
              "    </tr>\n",
              "    <tr>\n",
              "      <th>...</th>\n",
              "      <td>...</td>\n",
              "      <td>...</td>\n",
              "      <td>...</td>\n",
              "      <td>...</td>\n",
              "      <td>...</td>\n",
              "      <td>...</td>\n",
              "      <td>...</td>\n",
              "      <td>...</td>\n",
              "      <td>...</td>\n",
              "      <td>...</td>\n",
              "      <td>...</td>\n",
              "      <td>...</td>\n",
              "      <td>...</td>\n",
              "      <td>...</td>\n",
              "      <td>...</td>\n",
              "      <td>...</td>\n",
              "      <td>...</td>\n",
              "      <td>...</td>\n",
              "      <td>...</td>\n",
              "      <td>...</td>\n",
              "    </tr>\n",
              "    <tr>\n",
              "      <th>4363</th>\n",
              "      <td>8a858e6d58b0cc520158beeb14b22a5a</td>\n",
              "      <td>302003163</td>\n",
              "      <td>2</td>\n",
              "      <td>2017-07-30 09:19:42.000000</td>\n",
              "      <td>2017-07-30 08:18:30.000000</td>\n",
              "      <td>10000.0</td>\n",
              "      <td>13000.0</td>\n",
              "      <td>30</td>\n",
              "      <td>NaN</td>\n",
              "      <td>Bad</td>\n",
              "      <td>1978-10-19 00:00:00.000000</td>\n",
              "      <td>Savings</td>\n",
              "      <td>6.981903</td>\n",
              "      <td>4.785397</td>\n",
              "      <td>EcoBank</td>\n",
              "      <td>NaN</td>\n",
              "      <td>NaN</td>\n",
              "      <td>NaN</td>\n",
              "      <td>0.0</td>\n",
              "      <td>NaN</td>\n",
              "    </tr>\n",
              "    <tr>\n",
              "      <th>4364</th>\n",
              "      <td>8a858ee85cf400f5015cf44ab1c42d5c</td>\n",
              "      <td>301998967</td>\n",
              "      <td>2</td>\n",
              "      <td>2017-07-27 15:35:47.000000</td>\n",
              "      <td>2017-07-27 14:35:40.000000</td>\n",
              "      <td>10000.0</td>\n",
              "      <td>13000.0</td>\n",
              "      <td>30</td>\n",
              "      <td>NaN</td>\n",
              "      <td>Bad</td>\n",
              "      <td>1989-12-04 00:00:00.000000</td>\n",
              "      <td>Savings</td>\n",
              "      <td>4.607358</td>\n",
              "      <td>8.460608</td>\n",
              "      <td>FCMB</td>\n",
              "      <td>NaN</td>\n",
              "      <td>Permanent</td>\n",
              "      <td>NaN</td>\n",
              "      <td>1.0</td>\n",
              "      <td>NaN</td>\n",
              "    </tr>\n",
              "    <tr>\n",
              "      <th>4365</th>\n",
              "      <td>8a858f365b2547f3015b284597147c94</td>\n",
              "      <td>301995576</td>\n",
              "      <td>3</td>\n",
              "      <td>2017-07-25 16:25:57.000000</td>\n",
              "      <td>2017-07-25 15:24:47.000000</td>\n",
              "      <td>10000.0</td>\n",
              "      <td>11500.0</td>\n",
              "      <td>15</td>\n",
              "      <td>NaN</td>\n",
              "      <td>Bad</td>\n",
              "      <td>1989-11-21 00:00:00.000000</td>\n",
              "      <td>Savings</td>\n",
              "      <td>3.976842</td>\n",
              "      <td>7.409129</td>\n",
              "      <td>First Bank</td>\n",
              "      <td>NaN</td>\n",
              "      <td>Permanent</td>\n",
              "      <td>NaN</td>\n",
              "      <td>0.0</td>\n",
              "      <td>NaN</td>\n",
              "    </tr>\n",
              "    <tr>\n",
              "      <th>4366</th>\n",
              "      <td>8a858f935ca09667015ca0ee3bc63f51</td>\n",
              "      <td>301977679</td>\n",
              "      <td>2</td>\n",
              "      <td>2017-07-14 13:50:27.000000</td>\n",
              "      <td>2017-07-14 12:50:21.000000</td>\n",
              "      <td>10000.0</td>\n",
              "      <td>13000.0</td>\n",
              "      <td>30</td>\n",
              "      <td>8a858eda5c8863ff015c9dead65807bb</td>\n",
              "      <td>Bad</td>\n",
              "      <td>1990-06-11 00:00:00.000000</td>\n",
              "      <td>Savings</td>\n",
              "      <td>3.986089</td>\n",
              "      <td>7.386796</td>\n",
              "      <td>Skye Bank</td>\n",
              "      <td>NaN</td>\n",
              "      <td>Permanent</td>\n",
              "      <td>NaN</td>\n",
              "      <td>1.0</td>\n",
              "      <td>1.0</td>\n",
              "    </tr>\n",
              "    <tr>\n",
              "      <th>4367</th>\n",
              "      <td>8a858fd458639fcc015868eb14b542ad</td>\n",
              "      <td>301967124</td>\n",
              "      <td>8</td>\n",
              "      <td>2017-07-06 21:01:06.000000</td>\n",
              "      <td>2017-07-06 20:01:01.000000</td>\n",
              "      <td>30000.0</td>\n",
              "      <td>34500.0</td>\n",
              "      <td>30</td>\n",
              "      <td>NaN</td>\n",
              "      <td>Bad</td>\n",
              "      <td>1988-08-16 00:00:00.000000</td>\n",
              "      <td>Savings</td>\n",
              "      <td>3.725655</td>\n",
              "      <td>6.474430</td>\n",
              "      <td>GT Bank</td>\n",
              "      <td>NaN</td>\n",
              "      <td>NaN</td>\n",
              "      <td>NaN</td>\n",
              "      <td>1.0</td>\n",
              "      <td>NaN</td>\n",
              "    </tr>\n",
              "  </tbody>\n",
              "</table>\n",
              "<p>4368 rows × 20 columns</p>\n",
              "</div>"
            ],
            "text/plain": [
              "                            customerid  systemloanid  loannumber  \\\n",
              "0     8a2a81a74ce8c05d014cfb32a0da1049     301994762          12   \n",
              "1     8a85886e54beabf90154c0a29ae757c0     301965204           2   \n",
              "2     8a8588f35438fe12015444567666018e     301966580           7   \n",
              "3     8a85890754145ace015429211b513e16     301999343           3   \n",
              "4     8a858970548359cc0154883481981866     301962360           9   \n",
              "...                                ...           ...         ...   \n",
              "4363  8a858e6d58b0cc520158beeb14b22a5a     302003163           2   \n",
              "4364  8a858ee85cf400f5015cf44ab1c42d5c     301998967           2   \n",
              "4365  8a858f365b2547f3015b284597147c94     301995576           3   \n",
              "4366  8a858f935ca09667015ca0ee3bc63f51     301977679           2   \n",
              "4367  8a858fd458639fcc015868eb14b542ad     301967124           8   \n",
              "\n",
              "                    approveddate                creationdate  loanamount  \\\n",
              "0     2017-07-25 08:22:56.000000  2017-07-25 07:22:47.000000     30000.0   \n",
              "1     2017-07-05 17:04:41.000000  2017-07-05 16:04:18.000000     15000.0   \n",
              "2     2017-07-06 14:52:57.000000  2017-07-06 13:52:51.000000     20000.0   \n",
              "3     2017-07-27 19:00:41.000000  2017-07-27 18:00:35.000000     10000.0   \n",
              "4     2017-07-03 23:42:45.000000  2017-07-03 22:42:39.000000     40000.0   \n",
              "...                          ...                         ...         ...   \n",
              "4363  2017-07-30 09:19:42.000000  2017-07-30 08:18:30.000000     10000.0   \n",
              "4364  2017-07-27 15:35:47.000000  2017-07-27 14:35:40.000000     10000.0   \n",
              "4365  2017-07-25 16:25:57.000000  2017-07-25 15:24:47.000000     10000.0   \n",
              "4366  2017-07-14 13:50:27.000000  2017-07-14 12:50:21.000000     10000.0   \n",
              "4367  2017-07-06 21:01:06.000000  2017-07-06 20:01:01.000000     30000.0   \n",
              "\n",
              "      totaldue  termdays                        referredby good_bad_flag  \\\n",
              "0      34500.0        30                               NaN          Good   \n",
              "1      17250.0        30                               NaN          Good   \n",
              "2      22250.0        15                               NaN          Good   \n",
              "3      11500.0        15                               NaN          Good   \n",
              "4      44000.0        30                               NaN          Good   \n",
              "...        ...       ...                               ...           ...   \n",
              "4363   13000.0        30                               NaN           Bad   \n",
              "4364   13000.0        30                               NaN           Bad   \n",
              "4365   11500.0        15                               NaN           Bad   \n",
              "4366   13000.0        30  8a858eda5c8863ff015c9dead65807bb           Bad   \n",
              "4367   34500.0        30                               NaN           Bad   \n",
              "\n",
              "                       birthdate bank_account_type  longitude_gps  \\\n",
              "0     1972-01-15 00:00:00.000000             Other       3.432010   \n",
              "1     1985-08-23 00:00:00.000000           Savings       3.885298   \n",
              "2     1984-09-18 00:00:00.000000             Other      11.139350   \n",
              "3     1977-10-10 00:00:00.000000           Savings       3.985770   \n",
              "4     1986-09-07 00:00:00.000000             Other       7.457913   \n",
              "...                          ...               ...            ...   \n",
              "4363  1978-10-19 00:00:00.000000           Savings       6.981903   \n",
              "4364  1989-12-04 00:00:00.000000           Savings       4.607358   \n",
              "4365  1989-11-21 00:00:00.000000           Savings       3.976842   \n",
              "4366  1990-06-11 00:00:00.000000           Savings       3.986089   \n",
              "4367  1988-08-16 00:00:00.000000           Savings       3.725655   \n",
              "\n",
              "      latitude_gps bank_name_clients bank_branch_clients  \\\n",
              "0         6.433055      Diamond Bank                 NaN   \n",
              "1         7.320700           GT Bank        DUGBE,IBADAN   \n",
              "2        10.292041           EcoBank                 NaN   \n",
              "3         7.491708        First Bank                 NaN   \n",
              "4         9.076574           GT Bank                 NaN   \n",
              "...            ...               ...                 ...   \n",
              "4363      4.785397           EcoBank                 NaN   \n",
              "4364      8.460608              FCMB                 NaN   \n",
              "4365      7.409129        First Bank                 NaN   \n",
              "4366      7.386796         Skye Bank                 NaN   \n",
              "4367      6.474430           GT Bank                 NaN   \n",
              "\n",
              "     employment_status_clients level_of_education_clients  pagos_plazo_x  \\\n",
              "0                    Permanent              Post-Graduate            0.0   \n",
              "1                    Permanent                   Graduate            NaN   \n",
              "2                    Permanent                        NaN            1.0   \n",
              "3                    Permanent                        NaN            0.0   \n",
              "4                    Permanent                    Primary            1.0   \n",
              "...                        ...                        ...            ...   \n",
              "4363                       NaN                        NaN            0.0   \n",
              "4364                 Permanent                        NaN            1.0   \n",
              "4365                 Permanent                        NaN            0.0   \n",
              "4366                 Permanent                        NaN            1.0   \n",
              "4367                       NaN                        NaN            1.0   \n",
              "\n",
              "      pagos_plazo_y  \n",
              "0               NaN  \n",
              "1               NaN  \n",
              "2               NaN  \n",
              "3               NaN  \n",
              "4               NaN  \n",
              "...             ...  \n",
              "4363            NaN  \n",
              "4364            NaN  \n",
              "4365            NaN  \n",
              "4366            1.0  \n",
              "4367            NaN  \n",
              "\n",
              "[4368 rows x 20 columns]"
            ]
          },
          "execution_count": 182,
          "metadata": {},
          "output_type": "execute_result"
        }
      ],
      "source": [
        "df_train"
      ]
    },
    {
      "cell_type": "markdown",
      "metadata": {
        "id": "asZYlDnSyc5d"
      },
      "source": [
        "## TRANSFORMACIONES INICIALES EN EL DATASET"
      ]
    },
    {
      "cell_type": "code",
      "execution_count": 183,
      "metadata": {
        "id": "40nmRTDZyc5d"
      },
      "outputs": [],
      "source": [
        "# quitar columnas que no se usan\n",
        "# elegir las columnas\n",
        "df_train_delete = ['customerid', 'systemloanid','bank_name_clients', 'bank_branch_clients', 'creationdate']\n",
        "# borrar las columnas elegidas\n",
        "df_train.drop(columns = df_train_delete, inplace = True)"
      ]
    },
    {
      "cell_type": "code",
      "execution_count": 184,
      "metadata": {
        "colab": {
          "base_uri": "https://localhost:8080/"
        },
        "id": "7DyTUbSjyc5d",
        "outputId": "2050cd4f-2eda-4324-b5b7-1caa5fe8398a"
      },
      "outputs": [
        {
          "data": {
            "text/plain": [
              "loannumber                      int64\n",
              "approveddate                   object\n",
              "loanamount                    float64\n",
              "totaldue                      float64\n",
              "termdays                        int64\n",
              "referredby                     object\n",
              "good_bad_flag                  object\n",
              "birthdate                      object\n",
              "bank_account_type              object\n",
              "longitude_gps                 float64\n",
              "latitude_gps                  float64\n",
              "employment_status_clients      object\n",
              "level_of_education_clients     object\n",
              "pagos_plazo_x                 float64\n",
              "pagos_plazo_y                 float64\n",
              "dtype: object"
            ]
          },
          "execution_count": 184,
          "metadata": {},
          "output_type": "execute_result"
        }
      ],
      "source": [
        "#ver tipo de datos de las columnas\n",
        "df_train.dtypes"
      ]
    },
    {
      "cell_type": "code",
      "execution_count": 185,
      "metadata": {
        "id": "yvoczXDXyc5e"
      },
      "outputs": [],
      "source": [
        "# cambiar el tipo de dato de algunas columnas\n",
        "#cambiar tipo de dato\n",
        "df_train['totaldue'] = df_train['totaldue'].astype('int')\n",
        "df_train['pagos_plazo_x'] = df_train['pagos_plazo_x'].astype('Int64')\n",
        "df_train['pagos_plazo_y'] = df_train['pagos_plazo_x'].astype('Int64')\n",
        "#pasar columna a fecha\n",
        "df_train['birthdate'] = pd.to_datetime(df_train['birthdate'])\n",
        "df_train['approveddate'] = pd.to_datetime(df_train['approveddate'])"
      ]
    },
    {
      "cell_type": "code",
      "execution_count": 186,
      "metadata": {
        "colab": {
          "base_uri": "https://localhost:8080/"
        },
        "id": "oanBwhkZyc5e",
        "outputId": "c729b787-4b0b-417d-ac49-5dd300142950"
      },
      "outputs": [
        {
          "name": "stdout",
          "output_type": "stream",
          "text": [
            "loannumber                       0\n",
            "approveddate                     0\n",
            "loanamount                       0\n",
            "totaldue                         0\n",
            "termdays                         0\n",
            "referredby                    3781\n",
            "good_bad_flag                    0\n",
            "birthdate                        0\n",
            "bank_account_type                0\n",
            "longitude_gps                    0\n",
            "latitude_gps                     0\n",
            "employment_status_clients      657\n",
            "level_of_education_clients    3763\n",
            "pagos_plazo_x                    9\n",
            "pagos_plazo_y                    9\n",
            "dtype: int64\n"
          ]
        }
      ],
      "source": [
        "# ver registros nulos en las columnas\n",
        "print(df_train.isnull().sum())"
      ]
    },
    {
      "cell_type": "code",
      "execution_count": 187,
      "metadata": {
        "colab": {
          "base_uri": "https://localhost:8080/"
        },
        "id": "CzJsyL86yc5e",
        "outputId": "7f13e7e0-d4bd-482d-8e09-db32fa2169c0"
      },
      "outputs": [
        {
          "data": {
            "text/plain": [
              "2"
            ]
          },
          "execution_count": 187,
          "metadata": {},
          "output_type": "execute_result"
        }
      ],
      "source": [
        "# aparecen algunos 9 registros donde los clientes no tienen datos de préstamos antiguos\n",
        "# sin embargo, la columna loannumber indica lo contrario\n",
        "df_train['loannumber'].min()"
      ]
    },
    {
      "cell_type": "code",
      "execution_count": 188,
      "metadata": {
        "id": "meDlW4_nyc5e"
      },
      "outputs": [],
      "source": [
        "# al ser tan pocos registros, se opta por borrarlos\n",
        "df_train.dropna(subset=['pagos_plazo_x'], inplace = True)"
      ]
    },
    {
      "cell_type": "code",
      "execution_count": 189,
      "metadata": {
        "colab": {
          "base_uri": "https://localhost:8080/",
          "height": 0
        },
        "id": "E0j4hL2Eyc5e",
        "outputId": "a12bf3cf-569b-4fe5-e8dc-c53f93eb83a8"
      },
      "outputs": [
        {
          "data": {
            "text/html": [
              "<div>\n",
              "<style scoped>\n",
              "    .dataframe tbody tr th:only-of-type {\n",
              "        vertical-align: middle;\n",
              "    }\n",
              "\n",
              "    .dataframe tbody tr th {\n",
              "        vertical-align: top;\n",
              "    }\n",
              "\n",
              "    .dataframe thead th {\n",
              "        text-align: right;\n",
              "    }\n",
              "</style>\n",
              "<table border=\"1\" class=\"dataframe\">\n",
              "  <thead>\n",
              "    <tr style=\"text-align: right;\">\n",
              "      <th></th>\n",
              "      <th>loannumber</th>\n",
              "      <th>approveddate</th>\n",
              "      <th>loanamount</th>\n",
              "      <th>totaldue</th>\n",
              "      <th>termdays</th>\n",
              "      <th>referredby</th>\n",
              "      <th>good_bad_flag</th>\n",
              "      <th>birthdate</th>\n",
              "      <th>bank_account_type</th>\n",
              "      <th>longitude_gps</th>\n",
              "      <th>latitude_gps</th>\n",
              "      <th>employment_status_clients</th>\n",
              "      <th>level_of_education_clients</th>\n",
              "      <th>pagos_plazo_x</th>\n",
              "      <th>pagos_plazo_y</th>\n",
              "    </tr>\n",
              "  </thead>\n",
              "  <tbody>\n",
              "    <tr>\n",
              "      <th>0</th>\n",
              "      <td>12</td>\n",
              "      <td>2017-07-25 08:22:56</td>\n",
              "      <td>30000.0</td>\n",
              "      <td>34500</td>\n",
              "      <td>30</td>\n",
              "      <td>NaN</td>\n",
              "      <td>Good</td>\n",
              "      <td>1972-01-15</td>\n",
              "      <td>Other</td>\n",
              "      <td>3.432010</td>\n",
              "      <td>6.433055</td>\n",
              "      <td>Permanent</td>\n",
              "      <td>Post-Graduate</td>\n",
              "      <td>0</td>\n",
              "      <td>0</td>\n",
              "    </tr>\n",
              "    <tr>\n",
              "      <th>2</th>\n",
              "      <td>7</td>\n",
              "      <td>2017-07-06 14:52:57</td>\n",
              "      <td>20000.0</td>\n",
              "      <td>22250</td>\n",
              "      <td>15</td>\n",
              "      <td>NaN</td>\n",
              "      <td>Good</td>\n",
              "      <td>1984-09-18</td>\n",
              "      <td>Other</td>\n",
              "      <td>11.139350</td>\n",
              "      <td>10.292041</td>\n",
              "      <td>Permanent</td>\n",
              "      <td>NaN</td>\n",
              "      <td>1</td>\n",
              "      <td>1</td>\n",
              "    </tr>\n",
              "    <tr>\n",
              "      <th>3</th>\n",
              "      <td>3</td>\n",
              "      <td>2017-07-27 19:00:41</td>\n",
              "      <td>10000.0</td>\n",
              "      <td>11500</td>\n",
              "      <td>15</td>\n",
              "      <td>NaN</td>\n",
              "      <td>Good</td>\n",
              "      <td>1977-10-10</td>\n",
              "      <td>Savings</td>\n",
              "      <td>3.985770</td>\n",
              "      <td>7.491708</td>\n",
              "      <td>Permanent</td>\n",
              "      <td>NaN</td>\n",
              "      <td>0</td>\n",
              "      <td>0</td>\n",
              "    </tr>\n",
              "    <tr>\n",
              "      <th>4</th>\n",
              "      <td>9</td>\n",
              "      <td>2017-07-03 23:42:45</td>\n",
              "      <td>40000.0</td>\n",
              "      <td>44000</td>\n",
              "      <td>30</td>\n",
              "      <td>NaN</td>\n",
              "      <td>Good</td>\n",
              "      <td>1986-09-07</td>\n",
              "      <td>Other</td>\n",
              "      <td>7.457913</td>\n",
              "      <td>9.076574</td>\n",
              "      <td>Permanent</td>\n",
              "      <td>Primary</td>\n",
              "      <td>1</td>\n",
              "      <td>1</td>\n",
              "    </tr>\n",
              "    <tr>\n",
              "      <th>5</th>\n",
              "      <td>8</td>\n",
              "      <td>2017-07-19 21:46:24</td>\n",
              "      <td>30000.0</td>\n",
              "      <td>39000</td>\n",
              "      <td>60</td>\n",
              "      <td>NaN</td>\n",
              "      <td>Good</td>\n",
              "      <td>1972-12-22</td>\n",
              "      <td>Savings</td>\n",
              "      <td>3.311981</td>\n",
              "      <td>6.633271</td>\n",
              "      <td>Permanent</td>\n",
              "      <td>NaN</td>\n",
              "      <td>1</td>\n",
              "      <td>1</td>\n",
              "    </tr>\n",
              "    <tr>\n",
              "      <th>...</th>\n",
              "      <td>...</td>\n",
              "      <td>...</td>\n",
              "      <td>...</td>\n",
              "      <td>...</td>\n",
              "      <td>...</td>\n",
              "      <td>...</td>\n",
              "      <td>...</td>\n",
              "      <td>...</td>\n",
              "      <td>...</td>\n",
              "      <td>...</td>\n",
              "      <td>...</td>\n",
              "      <td>...</td>\n",
              "      <td>...</td>\n",
              "      <td>...</td>\n",
              "      <td>...</td>\n",
              "    </tr>\n",
              "    <tr>\n",
              "      <th>4363</th>\n",
              "      <td>2</td>\n",
              "      <td>2017-07-30 09:19:42</td>\n",
              "      <td>10000.0</td>\n",
              "      <td>13000</td>\n",
              "      <td>30</td>\n",
              "      <td>NaN</td>\n",
              "      <td>Bad</td>\n",
              "      <td>1978-10-19</td>\n",
              "      <td>Savings</td>\n",
              "      <td>6.981903</td>\n",
              "      <td>4.785397</td>\n",
              "      <td>NaN</td>\n",
              "      <td>NaN</td>\n",
              "      <td>0</td>\n",
              "      <td>0</td>\n",
              "    </tr>\n",
              "    <tr>\n",
              "      <th>4364</th>\n",
              "      <td>2</td>\n",
              "      <td>2017-07-27 15:35:47</td>\n",
              "      <td>10000.0</td>\n",
              "      <td>13000</td>\n",
              "      <td>30</td>\n",
              "      <td>NaN</td>\n",
              "      <td>Bad</td>\n",
              "      <td>1989-12-04</td>\n",
              "      <td>Savings</td>\n",
              "      <td>4.607358</td>\n",
              "      <td>8.460608</td>\n",
              "      <td>Permanent</td>\n",
              "      <td>NaN</td>\n",
              "      <td>1</td>\n",
              "      <td>1</td>\n",
              "    </tr>\n",
              "    <tr>\n",
              "      <th>4365</th>\n",
              "      <td>3</td>\n",
              "      <td>2017-07-25 16:25:57</td>\n",
              "      <td>10000.0</td>\n",
              "      <td>11500</td>\n",
              "      <td>15</td>\n",
              "      <td>NaN</td>\n",
              "      <td>Bad</td>\n",
              "      <td>1989-11-21</td>\n",
              "      <td>Savings</td>\n",
              "      <td>3.976842</td>\n",
              "      <td>7.409129</td>\n",
              "      <td>Permanent</td>\n",
              "      <td>NaN</td>\n",
              "      <td>0</td>\n",
              "      <td>0</td>\n",
              "    </tr>\n",
              "    <tr>\n",
              "      <th>4366</th>\n",
              "      <td>2</td>\n",
              "      <td>2017-07-14 13:50:27</td>\n",
              "      <td>10000.0</td>\n",
              "      <td>13000</td>\n",
              "      <td>30</td>\n",
              "      <td>8a858eda5c8863ff015c9dead65807bb</td>\n",
              "      <td>Bad</td>\n",
              "      <td>1990-06-11</td>\n",
              "      <td>Savings</td>\n",
              "      <td>3.986089</td>\n",
              "      <td>7.386796</td>\n",
              "      <td>Permanent</td>\n",
              "      <td>NaN</td>\n",
              "      <td>1</td>\n",
              "      <td>1</td>\n",
              "    </tr>\n",
              "    <tr>\n",
              "      <th>4367</th>\n",
              "      <td>8</td>\n",
              "      <td>2017-07-06 21:01:06</td>\n",
              "      <td>30000.0</td>\n",
              "      <td>34500</td>\n",
              "      <td>30</td>\n",
              "      <td>NaN</td>\n",
              "      <td>Bad</td>\n",
              "      <td>1988-08-16</td>\n",
              "      <td>Savings</td>\n",
              "      <td>3.725655</td>\n",
              "      <td>6.474430</td>\n",
              "      <td>NaN</td>\n",
              "      <td>NaN</td>\n",
              "      <td>1</td>\n",
              "      <td>1</td>\n",
              "    </tr>\n",
              "  </tbody>\n",
              "</table>\n",
              "<p>4359 rows × 15 columns</p>\n",
              "</div>"
            ],
            "text/plain": [
              "      loannumber        approveddate  loanamount  totaldue  termdays  \\\n",
              "0             12 2017-07-25 08:22:56     30000.0     34500        30   \n",
              "2              7 2017-07-06 14:52:57     20000.0     22250        15   \n",
              "3              3 2017-07-27 19:00:41     10000.0     11500        15   \n",
              "4              9 2017-07-03 23:42:45     40000.0     44000        30   \n",
              "5              8 2017-07-19 21:46:24     30000.0     39000        60   \n",
              "...          ...                 ...         ...       ...       ...   \n",
              "4363           2 2017-07-30 09:19:42     10000.0     13000        30   \n",
              "4364           2 2017-07-27 15:35:47     10000.0     13000        30   \n",
              "4365           3 2017-07-25 16:25:57     10000.0     11500        15   \n",
              "4366           2 2017-07-14 13:50:27     10000.0     13000        30   \n",
              "4367           8 2017-07-06 21:01:06     30000.0     34500        30   \n",
              "\n",
              "                            referredby good_bad_flag  birthdate  \\\n",
              "0                                  NaN          Good 1972-01-15   \n",
              "2                                  NaN          Good 1984-09-18   \n",
              "3                                  NaN          Good 1977-10-10   \n",
              "4                                  NaN          Good 1986-09-07   \n",
              "5                                  NaN          Good 1972-12-22   \n",
              "...                                ...           ...        ...   \n",
              "4363                               NaN           Bad 1978-10-19   \n",
              "4364                               NaN           Bad 1989-12-04   \n",
              "4365                               NaN           Bad 1989-11-21   \n",
              "4366  8a858eda5c8863ff015c9dead65807bb           Bad 1990-06-11   \n",
              "4367                               NaN           Bad 1988-08-16   \n",
              "\n",
              "     bank_account_type  longitude_gps  latitude_gps employment_status_clients  \\\n",
              "0                Other       3.432010      6.433055                 Permanent   \n",
              "2                Other      11.139350     10.292041                 Permanent   \n",
              "3              Savings       3.985770      7.491708                 Permanent   \n",
              "4                Other       7.457913      9.076574                 Permanent   \n",
              "5              Savings       3.311981      6.633271                 Permanent   \n",
              "...                ...            ...           ...                       ...   \n",
              "4363           Savings       6.981903      4.785397                       NaN   \n",
              "4364           Savings       4.607358      8.460608                 Permanent   \n",
              "4365           Savings       3.976842      7.409129                 Permanent   \n",
              "4366           Savings       3.986089      7.386796                 Permanent   \n",
              "4367           Savings       3.725655      6.474430                       NaN   \n",
              "\n",
              "     level_of_education_clients  pagos_plazo_x  pagos_plazo_y  \n",
              "0                 Post-Graduate              0              0  \n",
              "2                           NaN              1              1  \n",
              "3                           NaN              0              0  \n",
              "4                       Primary              1              1  \n",
              "5                           NaN              1              1  \n",
              "...                         ...            ...            ...  \n",
              "4363                        NaN              0              0  \n",
              "4364                        NaN              1              1  \n",
              "4365                        NaN              0              0  \n",
              "4366                        NaN              1              1  \n",
              "4367                        NaN              1              1  \n",
              "\n",
              "[4359 rows x 15 columns]"
            ]
          },
          "execution_count": 189,
          "metadata": {},
          "output_type": "execute_result"
        }
      ],
      "source": [
        "df_train"
      ]
    },
    {
      "cell_type": "markdown",
      "metadata": {
        "id": "Yy2MlJB2yc5f"
      },
      "source": [
        "## TRANSFORMACIONES EN COLUMNAS"
      ]
    },
    {
      "cell_type": "markdown",
      "metadata": {
        "id": "4RYS65Ulyc5f"
      },
      "source": [
        "### Histórico de pagos del cliente"
      ]
    },
    {
      "cell_type": "markdown",
      "metadata": {
        "id": "lFeVZuDUyc5f"
      },
      "source": [
        "- 0: El cliente tiene un mal historial de pagos\n",
        "- 1: El cliente tiene un buen historial de pagos"
      ]
    },
    {
      "cell_type": "code",
      "execution_count": 190,
      "metadata": {
        "id": "bSNjegyEyc5f"
      },
      "outputs": [],
      "source": [
        "df_train.rename(columns={'pagos_plazo_x': 'historial'}, inplace = True)\n"
      ]
    },
    {
      "cell_type": "markdown",
      "metadata": {
        "id": "mYOLhEVQyc5f"
      },
      "source": [
        "### Referido"
      ]
    },
    {
      "cell_type": "markdown",
      "metadata": {
        "id": "0aCOykfSyc5f"
      },
      "source": [
        "- 0: El cliente ha sido referido por un cliente con un mal historial de pagos\n",
        "- 1: El cliente no ha sido referido\n",
        "- 2: El cliente ha sido referido por un cliente sin historial de pagos\n",
        "- 3: El cliente ha sido referido por un cliente con un buen historial de pagos"
      ]
    },
    {
      "cell_type": "code",
      "execution_count": 191,
      "metadata": {
        "id": "nKnQu7Dxyc5g"
      },
      "outputs": [],
      "source": [
        "df_train['referido'] = 0\n",
        "df_train.loc[df_train['referredby'].isnull(), 'referido'] = 1\n",
        "df_train.loc[(df_train['referredby'].notnull()) & (df_train['pagos_plazo_y'].isnull()), 'referido'] = 2\n",
        "df_train.loc[(df_train['referredby'].notnull()) & (df_train['pagos_plazo_y'] == 1), 'referido'] = 3\n",
        "# borrar columnas que ya no se usan\n",
        "df_train.drop(columns = ['referredby', 'pagos_plazo_y'], inplace = True)"
      ]
    },
    {
      "cell_type": "markdown",
      "metadata": {
        "id": "NbdEUsvgyc5g"
      },
      "source": [
        "### Columna a predecir"
      ]
    },
    {
      "cell_type": "code",
      "execution_count": 192,
      "metadata": {
        "id": "LZhoe0reyc5g"
      },
      "outputs": [],
      "source": [
        "df_train['flag'] = 0\n",
        "df_train.loc[df_train['good_bad_flag'] == 'Good', 'flag'] = 1\n",
        "#convertimos la columna a int\n",
        "df_train['flag'] = df_train['flag'].astype('Int64')\n",
        "# quitar la columna que ya no se usa\n",
        "df_train.drop(columns = ['good_bad_flag'], inplace = True)"
      ]
    },
    {
      "cell_type": "markdown",
      "metadata": {
        "id": "o7MlMGeYyc5g"
      },
      "source": [
        "### Edad"
      ]
    },
    {
      "cell_type": "code",
      "execution_count": 193,
      "metadata": {
        "id": "4Wc7jQ0Kyc5g"
      },
      "outputs": [],
      "source": [
        "# pasar de fecha de nacimiento a edad\n",
        "df_train['age'] = df_train['birthdate'].apply(lambda x: from_dob_to_age(x)).astype('Int64')\n",
        "# quitar la columna que ya no se usa\n",
        "df_train.drop(columns = ['birthdate'], inplace = True)"
      ]
    },
    {
      "cell_type": "markdown",
      "metadata": {
        "id": "9A6IswUByc5h"
      },
      "source": [
        "### Parte del mes del pago"
      ]
    },
    {
      "cell_type": "markdown",
      "metadata": {
        "id": "MCZVOQIbyc5h"
      },
      "source": [
        "- 0: Final de mes\n",
        "- 1: Mitad de mes\n",
        "- 2: Principio de mes"
      ]
    },
    {
      "cell_type": "code",
      "execution_count": 194,
      "metadata": {
        "id": "kKm_VUuAyc5h"
      },
      "outputs": [],
      "source": [
        "# a partir de approveddate y termdays, se crea la columna firstduedate\n",
        "df_train['firstduedate'] = df_train.apply(lambda x: x['approveddate'] + pd.DateOffset(15) if x['termdays'] == 15 else x['approveddate'] + pd.DateOffset(30), axis=1)\n"
      ]
    },
    {
      "cell_type": "code",
      "execution_count": 195,
      "metadata": {
        "id": "8iQy67T1yc5h"
      },
      "outputs": [],
      "source": [
        "# se divide en si el dia de pago es a principio de mes, a mitad o a final\n",
        "df_train.loc[df_train['firstduedate'].dt.day <= 10, 'parte_mes_pago'] = 3\n",
        "df_train.loc[(df_train['firstduedate'].dt.day > 10) & (df_train['firstduedate'].dt.day <= 20), 'parte_mes_pago'] = 2\n",
        "df_train.loc[df_train['firstduedate'].dt.day > 20, 'parte_mes_pago'] = 1\n",
        "#cambiar tipo de dato\n",
        "df_train['parte_mes_pago'] = df_train['parte_mes_pago'].astype('Int64')\n",
        "# borrar columnas que ya no se usan\n",
        "df_train.drop(columns = ['approveddate', 'firstduedate'], inplace = True)"
      ]
    },
    {
      "cell_type": "markdown",
      "metadata": {
        "id": "r2UM04PQyc5h"
      },
      "source": [
        "### Deuda por día"
      ]
    },
    {
      "cell_type": "code",
      "execution_count": 196,
      "metadata": {
        "id": "KRY1qXLfyc5h"
      },
      "outputs": [],
      "source": [
        "df_train['due_per_day'] = df_train.apply(lambda x: x['totaldue'] / x['termdays'], axis=1)\n",
        "df_train['due_per_day'] = df_train['due_per_day'].astype('int')"
      ]
    },
    {
      "cell_type": "markdown",
      "metadata": {},
      "source": [
        "### Interés"
      ]
    },
    {
      "cell_type": "code",
      "execution_count": 197,
      "metadata": {},
      "outputs": [],
      "source": [
        "df_train['interes'] = df_train.apply(lambda x: (x['totaldue'] - x['loanamount']) / x['termdays'], axis=1)\n",
        "# borrar columnas que ya no se usan\n",
        "df_train.drop(columns = ['termdays', 'totaldue', 'loanamount'], inplace = True)"
      ]
    },
    {
      "cell_type": "markdown",
      "metadata": {
        "id": "meof8BUlyc5i"
      },
      "source": [
        "### Tipo de cuenta del banco"
      ]
    },
    {
      "cell_type": "markdown",
      "metadata": {
        "id": "zmEjhAyryc5i"
      },
      "source": [
        "Dummies para cada tipo"
      ]
    },
    {
      "cell_type": "code",
      "execution_count": 198,
      "metadata": {
        "colab": {
          "base_uri": "https://localhost:8080/",
          "height": 487
        },
        "id": "ndFdc4XGyc5i",
        "outputId": "1d9a1eb8-0c49-440b-9284-aa664795cecd"
      },
      "outputs": [
        {
          "data": {
            "text/plain": [
              "Savings    3409\n",
              "Other       886\n",
              "Current      64\n",
              "Name: bank_account_type, dtype: int64"
            ]
          },
          "execution_count": 198,
          "metadata": {},
          "output_type": "execute_result"
        }
      ],
      "source": [
        "#ver distribución\n",
        "df_train['bank_account_type'].value_counts(dropna = False)"
      ]
    },
    {
      "cell_type": "code",
      "execution_count": 199,
      "metadata": {
        "id": "kNbA38W5yc5i"
      },
      "outputs": [
        {
          "data": {
            "text/plain": [
              "\"\\ndf_train['account_type'] = 0\\ndf_train.loc[df_train['bank_account_type'] == 'Current', 'account_type'] = 1\\ndf_train.loc[df_train['bank_account_type'] == 'Savings', 'account_type'] = 2\\n#borrar columnas que ya no se usa\\ndf_train.drop(columns = ['bank_account_type'], inplace = True)\\n\""
            ]
          },
          "execution_count": 199,
          "metadata": {},
          "output_type": "execute_result"
        }
      ],
      "source": [
        "# Inicialmente se decide hacer un label encoding, pero finalmente se usa un one hot encoding\n",
        "'''\n",
        "df_train['account_type'] = 0\n",
        "df_train.loc[df_train['bank_account_type'] == 'Current', 'account_type'] = 1\n",
        "df_train.loc[df_train['bank_account_type'] == 'Savings', 'account_type'] = 2\n",
        "#borrar columnas que ya no se usa\n",
        "df_train.drop(columns = ['bank_account_type'], inplace = True)\n",
        "'''"
      ]
    },
    {
      "cell_type": "code",
      "execution_count": 200,
      "metadata": {
        "colab": {
          "base_uri": "https://localhost:8080/",
          "height": 487
        },
        "id": "pRq4S_s_6n41",
        "outputId": "b3c30528-db5a-4970-b492-9dc19f13de0d"
      },
      "outputs": [
        {
          "data": {
            "text/html": [
              "<div>\n",
              "<style scoped>\n",
              "    .dataframe tbody tr th:only-of-type {\n",
              "        vertical-align: middle;\n",
              "    }\n",
              "\n",
              "    .dataframe tbody tr th {\n",
              "        vertical-align: top;\n",
              "    }\n",
              "\n",
              "    .dataframe thead th {\n",
              "        text-align: right;\n",
              "    }\n",
              "</style>\n",
              "<table border=\"1\" class=\"dataframe\">\n",
              "  <thead>\n",
              "    <tr style=\"text-align: right;\">\n",
              "      <th></th>\n",
              "      <th>loannumber</th>\n",
              "      <th>longitude_gps</th>\n",
              "      <th>latitude_gps</th>\n",
              "      <th>employment_status_clients</th>\n",
              "      <th>level_of_education_clients</th>\n",
              "      <th>historial</th>\n",
              "      <th>referido</th>\n",
              "      <th>flag</th>\n",
              "      <th>age</th>\n",
              "      <th>parte_mes_pago</th>\n",
              "      <th>due_per_day</th>\n",
              "      <th>interes</th>\n",
              "      <th>bank_account_type_Current</th>\n",
              "      <th>bank_account_type_Other</th>\n",
              "      <th>bank_account_type_Savings</th>\n",
              "    </tr>\n",
              "  </thead>\n",
              "  <tbody>\n",
              "    <tr>\n",
              "      <th>0</th>\n",
              "      <td>12</td>\n",
              "      <td>3.432010</td>\n",
              "      <td>6.433055</td>\n",
              "      <td>Permanent</td>\n",
              "      <td>Post-Graduate</td>\n",
              "      <td>0</td>\n",
              "      <td>1</td>\n",
              "      <td>1</td>\n",
              "      <td>50</td>\n",
              "      <td>1</td>\n",
              "      <td>1150</td>\n",
              "      <td>150.000000</td>\n",
              "      <td>0</td>\n",
              "      <td>1</td>\n",
              "      <td>0</td>\n",
              "    </tr>\n",
              "    <tr>\n",
              "      <th>2</th>\n",
              "      <td>7</td>\n",
              "      <td>11.139350</td>\n",
              "      <td>10.292041</td>\n",
              "      <td>Permanent</td>\n",
              "      <td>NaN</td>\n",
              "      <td>1</td>\n",
              "      <td>1</td>\n",
              "      <td>1</td>\n",
              "      <td>37</td>\n",
              "      <td>1</td>\n",
              "      <td>1483</td>\n",
              "      <td>150.000000</td>\n",
              "      <td>0</td>\n",
              "      <td>1</td>\n",
              "      <td>0</td>\n",
              "    </tr>\n",
              "    <tr>\n",
              "      <th>3</th>\n",
              "      <td>3</td>\n",
              "      <td>3.985770</td>\n",
              "      <td>7.491708</td>\n",
              "      <td>Permanent</td>\n",
              "      <td>NaN</td>\n",
              "      <td>0</td>\n",
              "      <td>1</td>\n",
              "      <td>1</td>\n",
              "      <td>44</td>\n",
              "      <td>2</td>\n",
              "      <td>766</td>\n",
              "      <td>100.000000</td>\n",
              "      <td>0</td>\n",
              "      <td>0</td>\n",
              "      <td>1</td>\n",
              "    </tr>\n",
              "    <tr>\n",
              "      <th>4</th>\n",
              "      <td>9</td>\n",
              "      <td>7.457913</td>\n",
              "      <td>9.076574</td>\n",
              "      <td>Permanent</td>\n",
              "      <td>Primary</td>\n",
              "      <td>1</td>\n",
              "      <td>1</td>\n",
              "      <td>1</td>\n",
              "      <td>35</td>\n",
              "      <td>3</td>\n",
              "      <td>1466</td>\n",
              "      <td>133.333333</td>\n",
              "      <td>0</td>\n",
              "      <td>1</td>\n",
              "      <td>0</td>\n",
              "    </tr>\n",
              "    <tr>\n",
              "      <th>5</th>\n",
              "      <td>8</td>\n",
              "      <td>3.311981</td>\n",
              "      <td>6.633271</td>\n",
              "      <td>Permanent</td>\n",
              "      <td>NaN</td>\n",
              "      <td>1</td>\n",
              "      <td>1</td>\n",
              "      <td>1</td>\n",
              "      <td>49</td>\n",
              "      <td>2</td>\n",
              "      <td>650</td>\n",
              "      <td>150.000000</td>\n",
              "      <td>0</td>\n",
              "      <td>0</td>\n",
              "      <td>1</td>\n",
              "    </tr>\n",
              "    <tr>\n",
              "      <th>...</th>\n",
              "      <td>...</td>\n",
              "      <td>...</td>\n",
              "      <td>...</td>\n",
              "      <td>...</td>\n",
              "      <td>...</td>\n",
              "      <td>...</td>\n",
              "      <td>...</td>\n",
              "      <td>...</td>\n",
              "      <td>...</td>\n",
              "      <td>...</td>\n",
              "      <td>...</td>\n",
              "      <td>...</td>\n",
              "      <td>...</td>\n",
              "      <td>...</td>\n",
              "      <td>...</td>\n",
              "    </tr>\n",
              "    <tr>\n",
              "      <th>4363</th>\n",
              "      <td>2</td>\n",
              "      <td>6.981903</td>\n",
              "      <td>4.785397</td>\n",
              "      <td>NaN</td>\n",
              "      <td>NaN</td>\n",
              "      <td>0</td>\n",
              "      <td>1</td>\n",
              "      <td>0</td>\n",
              "      <td>43</td>\n",
              "      <td>1</td>\n",
              "      <td>433</td>\n",
              "      <td>100.000000</td>\n",
              "      <td>0</td>\n",
              "      <td>0</td>\n",
              "      <td>1</td>\n",
              "    </tr>\n",
              "    <tr>\n",
              "      <th>4364</th>\n",
              "      <td>2</td>\n",
              "      <td>4.607358</td>\n",
              "      <td>8.460608</td>\n",
              "      <td>Permanent</td>\n",
              "      <td>NaN</td>\n",
              "      <td>1</td>\n",
              "      <td>1</td>\n",
              "      <td>0</td>\n",
              "      <td>32</td>\n",
              "      <td>1</td>\n",
              "      <td>433</td>\n",
              "      <td>100.000000</td>\n",
              "      <td>0</td>\n",
              "      <td>0</td>\n",
              "      <td>1</td>\n",
              "    </tr>\n",
              "    <tr>\n",
              "      <th>4365</th>\n",
              "      <td>3</td>\n",
              "      <td>3.976842</td>\n",
              "      <td>7.409129</td>\n",
              "      <td>Permanent</td>\n",
              "      <td>NaN</td>\n",
              "      <td>0</td>\n",
              "      <td>1</td>\n",
              "      <td>0</td>\n",
              "      <td>32</td>\n",
              "      <td>3</td>\n",
              "      <td>766</td>\n",
              "      <td>100.000000</td>\n",
              "      <td>0</td>\n",
              "      <td>0</td>\n",
              "      <td>1</td>\n",
              "    </tr>\n",
              "    <tr>\n",
              "      <th>4366</th>\n",
              "      <td>2</td>\n",
              "      <td>3.986089</td>\n",
              "      <td>7.386796</td>\n",
              "      <td>Permanent</td>\n",
              "      <td>NaN</td>\n",
              "      <td>1</td>\n",
              "      <td>3</td>\n",
              "      <td>0</td>\n",
              "      <td>31</td>\n",
              "      <td>2</td>\n",
              "      <td>433</td>\n",
              "      <td>100.000000</td>\n",
              "      <td>0</td>\n",
              "      <td>0</td>\n",
              "      <td>1</td>\n",
              "    </tr>\n",
              "    <tr>\n",
              "      <th>4367</th>\n",
              "      <td>8</td>\n",
              "      <td>3.725655</td>\n",
              "      <td>6.474430</td>\n",
              "      <td>NaN</td>\n",
              "      <td>NaN</td>\n",
              "      <td>1</td>\n",
              "      <td>1</td>\n",
              "      <td>0</td>\n",
              "      <td>33</td>\n",
              "      <td>3</td>\n",
              "      <td>1150</td>\n",
              "      <td>150.000000</td>\n",
              "      <td>0</td>\n",
              "      <td>0</td>\n",
              "      <td>1</td>\n",
              "    </tr>\n",
              "  </tbody>\n",
              "</table>\n",
              "<p>4359 rows × 15 columns</p>\n",
              "</div>"
            ],
            "text/plain": [
              "      loannumber  longitude_gps  latitude_gps employment_status_clients  \\\n",
              "0             12       3.432010      6.433055                 Permanent   \n",
              "2              7      11.139350     10.292041                 Permanent   \n",
              "3              3       3.985770      7.491708                 Permanent   \n",
              "4              9       7.457913      9.076574                 Permanent   \n",
              "5              8       3.311981      6.633271                 Permanent   \n",
              "...          ...            ...           ...                       ...   \n",
              "4363           2       6.981903      4.785397                       NaN   \n",
              "4364           2       4.607358      8.460608                 Permanent   \n",
              "4365           3       3.976842      7.409129                 Permanent   \n",
              "4366           2       3.986089      7.386796                 Permanent   \n",
              "4367           8       3.725655      6.474430                       NaN   \n",
              "\n",
              "     level_of_education_clients  historial  referido  flag  age  \\\n",
              "0                 Post-Graduate          0         1     1   50   \n",
              "2                           NaN          1         1     1   37   \n",
              "3                           NaN          0         1     1   44   \n",
              "4                       Primary          1         1     1   35   \n",
              "5                           NaN          1         1     1   49   \n",
              "...                         ...        ...       ...   ...  ...   \n",
              "4363                        NaN          0         1     0   43   \n",
              "4364                        NaN          1         1     0   32   \n",
              "4365                        NaN          0         1     0   32   \n",
              "4366                        NaN          1         3     0   31   \n",
              "4367                        NaN          1         1     0   33   \n",
              "\n",
              "      parte_mes_pago  due_per_day     interes  bank_account_type_Current  \\\n",
              "0                  1         1150  150.000000                          0   \n",
              "2                  1         1483  150.000000                          0   \n",
              "3                  2          766  100.000000                          0   \n",
              "4                  3         1466  133.333333                          0   \n",
              "5                  2          650  150.000000                          0   \n",
              "...              ...          ...         ...                        ...   \n",
              "4363               1          433  100.000000                          0   \n",
              "4364               1          433  100.000000                          0   \n",
              "4365               3          766  100.000000                          0   \n",
              "4366               2          433  100.000000                          0   \n",
              "4367               3         1150  150.000000                          0   \n",
              "\n",
              "      bank_account_type_Other  bank_account_type_Savings  \n",
              "0                           1                          0  \n",
              "2                           1                          0  \n",
              "3                           0                          1  \n",
              "4                           1                          0  \n",
              "5                           0                          1  \n",
              "...                       ...                        ...  \n",
              "4363                        0                          1  \n",
              "4364                        0                          1  \n",
              "4365                        0                          1  \n",
              "4366                        0                          1  \n",
              "4367                        0                          1  \n",
              "\n",
              "[4359 rows x 15 columns]"
            ]
          },
          "execution_count": 200,
          "metadata": {},
          "output_type": "execute_result"
        }
      ],
      "source": [
        "df_train = pd.concat([df_train,pd.get_dummies(df_train['bank_account_type'], prefix='bank_account_type')],join='inner',axis=1)\n",
        "df_train.drop(['bank_account_type'],axis=1, inplace=True)\n",
        "df_train"
      ]
    },
    {
      "cell_type": "code",
      "execution_count": 201,
      "metadata": {},
      "outputs": [],
      "source": [
        "# Cambiar nombre de las columnas\n",
        "cambios_nombre = {'bank_account_type_Current':'cuenta_corriente', 'bank_account_type_Other':'cuenta_otra', 'bank_account_type_Savings':'cuenta_ahorro'}\n",
        "df_train.rename(columns = cambios_nombre, inplace = True)"
      ]
    },
    {
      "cell_type": "markdown",
      "metadata": {
        "id": "miSOBVV1yc5i"
      },
      "source": [
        "### Localización"
      ]
    },
    {
      "cell_type": "markdown",
      "metadata": {},
      "source": [
        "A partir de la localización se ha sacado el país. Sin embargo, se ha visto que la mayoría de datos son del mismo país, y no ofrece valor significante"
      ]
    },
    {
      "cell_type": "code",
      "execution_count": 157,
      "metadata": {
        "colab": {
          "base_uri": "https://localhost:8080/",
          "height": 0
        },
        "id": "rloDXiRDyc5i",
        "outputId": "ada62c14-e10b-453e-81cb-6f3d29caeba9"
      },
      "outputs": [
        {
          "data": {
            "text/plain": [
              "\"\\ndf_train['pais'] = df_train.apply(lambda x: rg.search((x['latitude_gps'], x['longitude_gps']))[0]['cc'], axis=1)\\n# borrar columnas que ya no se usan\\ndf_train.drop(columns = ['latitude_gps', 'longitude_gps'], inplace = True)\\n\""
            ]
          },
          "execution_count": 157,
          "metadata": {},
          "output_type": "execute_result"
        }
      ],
      "source": [
        "# Después\n",
        "'''\n",
        "df_train['pais'] = df_train.apply(lambda x: rg.search((x['latitude_gps'], x['longitude_gps']))[0]['cc'], axis=1)\n",
        "# borrar columnas que ya no se usan\n",
        "df_train.drop(columns = ['latitude_gps', 'longitude_gps'], inplace = True)\n",
        "'''"
      ]
    },
    {
      "cell_type": "code",
      "execution_count": 158,
      "metadata": {},
      "outputs": [
        {
          "data": {
            "text/plain": [
              "\"\\ndf_train['pais'].value_counts(dropna = False)\\n\""
            ]
          },
          "execution_count": 158,
          "metadata": {},
          "output_type": "execute_result"
        }
      ],
      "source": [
        "# ver distribución de la columna\n",
        "'''\n",
        "df_train['pais'].value_counts(dropna = False)\n",
        "'''"
      ]
    },
    {
      "cell_type": "code",
      "execution_count": 159,
      "metadata": {},
      "outputs": [],
      "source": [
        "# borrar columnas que ya no se usan\n",
        "df_train.drop(columns = ['latitude_gps', 'longitude_gps'], inplace = True)"
      ]
    },
    {
      "cell_type": "markdown",
      "metadata": {
        "id": "pq0-4xS0yc5j"
      },
      "source": [
        "### Educación"
      ]
    },
    {
      "cell_type": "markdown",
      "metadata": {
        "id": "jjp_oCaCyc5j"
      },
      "source": [
        "- 0: NsNc\n",
        "- 1: Primary or Secondary\n",
        "- 2: Graduate\n",
        "- 3: Post-Graduate"
      ]
    },
    {
      "cell_type": "code",
      "execution_count": 160,
      "metadata": {
        "id": "NzEVLU88yc5j"
      },
      "outputs": [],
      "source": [
        "## transform a value inside a column to a separate boolean column\n",
        "df_train['education'] = 0\n",
        "df_train.loc[df_train['level_of_education_clients'] == 'Primary', 'education'] = 1\n",
        "df_train.loc[df_train['level_of_education_clients'] == 'Secondary', 'education'] = 1\n",
        "df_train.loc[df_train['level_of_education_clients'] == 'Graduate', 'education'] = 2\n",
        "df_train.loc[df_train['level_of_education_clients'] == 'Post-Graduate', 'education'] = 3\n",
        "#convertimos la columna a int\n",
        "df_train['education'] = df_train['education'].astype('Int64')\n",
        "# borrar columnas que ya no se usa\n",
        "df_train.drop(columns = ['level_of_education_clients'], inplace = True)"
      ]
    },
    {
      "cell_type": "markdown",
      "metadata": {
        "id": "k2YvA6XGyc5j"
      },
      "source": [
        "### Ocupación"
      ]
    },
    {
      "cell_type": "markdown",
      "metadata": {
        "id": "EcR3giifyc5j"
      },
      "source": [
        "- 0: Low Income: Retired, Unemployed, Student\n",
        "- 1: NsNc  \n",
        "- 2: High income: Permanent, Self-Employed, Contract"
      ]
    },
    {
      "cell_type": "code",
      "execution_count": 161,
      "metadata": {
        "id": "Uh4lYtcKyc5k"
      },
      "outputs": [],
      "source": [
        "## transform a value inside a column to a separate boolean column\n",
        "df_train['employment'] = 1\n",
        "df_train.loc[df_train['employment_status_clients'] == 'Retired', 'employment'] = 0\n",
        "df_train.loc[df_train['employment_status_clients'] == 'Unemployed', 'employment'] = 0\n",
        "df_train.loc[df_train['employment_status_clients'] == 'Student', 'employment'] = 0\n",
        "df_train.loc[df_train['employment_status_clients'] == 'Permanent', 'employment'] = 2\n",
        "df_train.loc[df_train['employment_status_clients'] == 'Self-Employed', 'employment'] = 2\n",
        "df_train.loc[df_train['employment_status_clients'] == 'Contract', 'employment'] = 2\n",
        "#convertimos la columna a int\n",
        "df_train['employment'] = df_train['employment'].astype('Int64')\n",
        "# borrar columnas que ya no se usa\n",
        "df_train.drop(columns = ['employment_status_clients'], inplace = True)"
      ]
    },
    {
      "cell_type": "markdown",
      "metadata": {
        "id": "xwusvOc-yc5k"
      },
      "source": [
        "## EXPLORATORY DATA ANALYSIS"
      ]
    },
    {
      "cell_type": "code",
      "execution_count": 162,
      "metadata": {
        "colab": {
          "base_uri": "https://localhost:8080/"
        },
        "id": "b13nYkUQyc5k",
        "outputId": "513c8453-a1eb-4e44-d9a7-179d114fca88"
      },
      "outputs": [
        {
          "data": {
            "text/plain": [
              "flag                1.000000\n",
              "historial           0.259103\n",
              "due_per_day         0.125954\n",
              "cuenta_ahorro       0.092672\n",
              "loannumber          0.090276\n",
              "referido            0.086199\n",
              "cuenta_otra         0.085495\n",
              "parte_mes_pago      0.078748\n",
              "employment          0.067204\n",
              "interes             0.062601\n",
              "age                 0.056257\n",
              "cuenta_corriente    0.032045\n",
              "education           0.016182\n",
              "Name: flag, dtype: float64"
            ]
          },
          "execution_count": 162,
          "metadata": {},
          "output_type": "execute_result"
        }
      ],
      "source": [
        "# ver lista de correlaciones por orden respecto a la columna flag\n",
        "df_train.corr()['flag'].abs().sort_values(ascending=False)"
      ]
    },
    {
      "cell_type": "markdown",
      "metadata": {},
      "source": [
        "Después de ver que la correlación entre la educación y la columna a predecir es tan baja y que hay tantos valores vacíos, se decide prescindir de esta columna"
      ]
    },
    {
      "cell_type": "code",
      "execution_count": 163,
      "metadata": {},
      "outputs": [],
      "source": [
        "df_train.drop(columns = ['education'], inplace = True)"
      ]
    },
    {
      "cell_type": "code",
      "execution_count": 164,
      "metadata": {
        "colab": {
          "base_uri": "https://localhost:8080/",
          "height": 907
        },
        "id": "kH0Vyqm7yc5k",
        "outputId": "d9ba551c-aa98-4609-8645-a77b8d9c5d09"
      },
      "outputs": [
        {
          "data": {
            "image/png": "[encoded data removed]",
            "text/plain": [
              "<Figure size 1152x936 with 2 Axes>"
            ]
          },
          "metadata": {
            "needs_background": "light"
          },
          "output_type": "display_data"
        }
      ],
      "source": [
        "# mostrar un mapa de calor con la correlacion entre variables\n",
        "plt.figure(figsize=(16, 13))\n",
        "heatmap = sns.heatmap(df_train.corr(), vmin=-1, vmax=1, annot=True)\n",
        "hmp = heatmap.set_title('Correlation Heatmap', fontdict={'fontsize':13}, pad=12);\n",
        "hmp = hmp.get_figure()"
      ]
    },
    {
      "cell_type": "markdown",
      "metadata": {
        "id": "8enePyO6yc5k"
      },
      "source": [
        "## GUARDAR CSV"
      ]
    },
    {
      "cell_type": "code",
      "execution_count": 165,
      "metadata": {
        "id": "cdEXZe9ayc5k"
      },
      "outputs": [],
      "source": [
        "# df a csv\n",
        "df_train.to_csv(r'../datasets/own_data/train.csv', index = False)"
      ]
    }
  ],
  "metadata": {
    "colab": {
      "name": "etl.ipynb",
      "provenance": []
    },
    "interpreter": {
      "hash": "52634da84371cba311ea128a5ea7cdc41ff074b781779e754b270ff9f8153cee"
    },
    "kernelspec": {
      "display_name": "Python 3.9.6 64-bit",
      "language": "python",
      "name": "python3"
    },
    "language_info": {
      "codemirror_mode": {
        "name": "ipython",
        "version": 3
      },
      "file_extension": ".py",
      "mimetype": "text/x-python",
      "name": "python",
      "nbconvert_exporter": "python",
      "pygments_lexer": "ipython3",
      "version": "3.9.6"
    },
    "orig_nbformat": 4
  },
  "nbformat": 4,
  "nbformat_minor": 0
}
