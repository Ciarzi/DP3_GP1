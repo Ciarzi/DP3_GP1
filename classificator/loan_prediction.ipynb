{
  "nbformat": 4,
  "nbformat_minor": 0,
  "metadata": {
    "colab": {
      "name": "loan_prediction.ipynb",
      "provenance": []
    },
    "kernelspec": {
      "name": "python3",
      "display_name": "Python 3"
    },
    "language_info": {
      "name": "python"
    }
  },
  "cells": [
    {
      "cell_type": "code",
      "execution_count": 1,
      "metadata": {
        "id": "fMG6QLHkYIjN"
      },
      "outputs": [],
      "source": [
        "import pandas as pd\n",
        "import numpy as np\n",
        "from sklearn.model_selection import train_test_split\n",
        "from sklearn.model_selection import GridSearchCV\n",
        "from sklearn.metrics import accuracy_score\n",
        "import xgboost as xgb\n",
        "from sklearn.decomposition import PCA\n",
        "import matplotlib.pyplot as plt\n",
        "from sklearn.metrics import confusion_matrix\n",
        "from sklearn.metrics import plot_confusion_matrix"
      ]
    },
    {
      "cell_type": "code",
      "source": [
        "url = 'https://raw.githubusercontent.com/Ciarzi/DP3_GP1/main/datasets/own_data/cluster_train.csv'\n",
        "df = pd.read_csv(url)"
      ],
      "metadata": {
        "id": "l7g2XqGRYMRH"
      },
      "execution_count": 2,
      "outputs": []
    },
    {
      "cell_type": "markdown",
      "source": [
        "# Formateo de los datos\n",
        "Separamos las columnas que usaremos para realizar clasificaciones (*x*) de las columnas que queremos predecir (*y*)."
      ],
      "metadata": {
        "id": "bfovLUk0ZO_c"
      }
    },
    {
      "cell_type": "code",
      "source": [
        "x = df.loc[:,df.columns!='flag']\n",
        "y = df.loc[:,'flag']\n",
        "x.shape, y.shape, df.shape"
      ],
      "metadata": {
        "colab": {
          "base_uri": "https://localhost:8080/"
        },
        "id": "EElH28h0YQ2T",
        "outputId": "dbea379d-a820-4475-f90c-99de4c0cfb3e"
      },
      "execution_count": 3,
      "outputs": [
        {
          "output_type": "execute_result",
          "data": {
            "text/plain": [
              "((4358, 12), (4358,), (4358, 13))"
            ]
          },
          "metadata": {},
          "execution_count": 3
        }
      ]
    },
    {
      "cell_type": "markdown",
      "source": [
        "Las dos opciones no están representadas de manera proporcionada, por lo que estratificamos la muestra para que haya el mismo porcentaje de personas que han pagado el préstamo en el training set y en el testing set."
      ],
      "metadata": {
        "id": "mZNi91t7ZUQU"
      }
    },
    {
      "cell_type": "code",
      "source": [
        "sum(y)/len(y) #Obtenemos el porcentaje de personas que han pagado el préstamo"
      ],
      "metadata": {
        "colab": {
          "base_uri": "https://localhost:8080/"
        },
        "id": "5_THNgRNZEYU",
        "outputId": "65c6e8c2-5df0-4a48-d318-cf8e6d3b9af0"
      },
      "execution_count": 4,
      "outputs": [
        {
          "output_type": "execute_result",
          "data": {
            "text/plain": [
              "0.7824690224873795"
            ]
          },
          "metadata": {},
          "execution_count": 4
        }
      ]
    },
    {
      "cell_type": "code",
      "source": [
        "x_train, x_test, y_train, y_test = train_test_split(x, y, random_state = 40, stratify = y) #Obtenemos 4 datasets\n"
      ],
      "metadata": {
        "id": "xtxh9h5vZu-3"
      },
      "execution_count": 5,
      "outputs": []
    },
    {
      "cell_type": "code",
      "source": [
        "sum(y_train/len(y_train)) #Datos de entrenamiento"
      ],
      "metadata": {
        "colab": {
          "base_uri": "https://localhost:8080/"
        },
        "id": "iHnJWx3BZZWU",
        "outputId": "664d290c-400e-4ff0-f7ea-fc778f334b6a"
      },
      "execution_count": 6,
      "outputs": [
        {
          "output_type": "execute_result",
          "data": {
            "text/plain": [
              "0.7824357405140463"
            ]
          },
          "metadata": {},
          "execution_count": 6
        }
      ]
    },
    {
      "cell_type": "code",
      "source": [
        "sum(y_test/len(y_test)) #Datos de test"
      ],
      "metadata": {
        "colab": {
          "base_uri": "https://localhost:8080/"
        },
        "id": "sXTCD7OeZbsT",
        "outputId": "596b4f77-bb52-492e-c688-d547a0c1b77e"
      },
      "execution_count": 7,
      "outputs": [
        {
          "output_type": "execute_result",
          "data": {
            "text/plain": [
              "0.7825688073394335"
            ]
          },
          "metadata": {},
          "execution_count": 7
        }
      ]
    },
    {
      "cell_type": "markdown",
      "source": [
        "# Optimización (PCA)\n",
        "Reducirá las features correlacionadas para reducir las dimensiones, comprobamos si aumenta la accuracy"
      ],
      "metadata": {
        "id": "i2Al_YxPaOzH"
      }
    },
    {
      "cell_type": "code",
      "source": [
        "pca = PCA(n_components = 1)\n",
        "x_train_scaled = pca.fit_transform(x_train)\n",
        "print(x_train_scaled[:10])"
      ],
      "metadata": {
        "colab": {
          "base_uri": "https://localhost:8080/"
        },
        "id": "GjuHPpadaN8R",
        "outputId": "7ad3c026-461a-4304-b047-5682cdfa3913"
      },
      "execution_count": 8,
      "outputs": [
        {
          "output_type": "stream",
          "name": "stdout",
          "text": [
            "[[ 369.76147994]\n",
            " [  73.59310326]\n",
            " [-309.49022303]\n",
            " [-309.48742607]\n",
            " [-309.48536232]\n",
            " [-309.48713672]\n",
            " [  73.61387343]\n",
            " [-309.48641118]\n",
            " [-309.48774939]\n",
            " [ -92.49740509]]\n"
          ]
        }
      ]
    },
    {
      "cell_type": "code",
      "source": [
        "plt.scatter(x_train_scaled, y_train)\n",
        "plt.show()\n",
        "#al haber reducido las dimensione vemos que no hay una correlación directa"
      ],
      "metadata": {
        "colab": {
          "base_uri": "https://localhost:8080/",
          "height": 265
        },
        "id": "XgBDDd6mafur",
        "outputId": "33f1e369-a880-4c20-962e-fdd3158c5e18"
      },
      "execution_count": 26,
      "outputs": [
        {
          "output_type": "display_data",
          "data": {
            "text/plain": [
              "<Figure size 432x288 with 1 Axes>"
            ],
            "image/png": "[encoded data removed]"
          },
          "metadata": {
            "needs_background": "light"
          }
        }
      ]
    },
    {
      "cell_type": "markdown",
      "source": [
        "# Creación del modelo con XGBoost usando XGBClassifier\n",
        "Empleamos LOGLOSS ya que tiene en cuenta la certeza de la clasificación y es la mejor opción en caso de que los datos a analizar no estén balanceados."
      ],
      "metadata": {
        "id": "VhQOYmNSa3V7"
      }
    },
    {
      "cell_type": "code",
      "source": [
        "clf_xgb = xgb.XGBClassifier(objective = 'binary:logistic', #clasificar entre 0 y 1\n",
        "                            missing = None,\n",
        "                            seed = 24) \n",
        "clf_xgb.fit(x_train,\n",
        "            y_train,\n",
        "            verbose = True, # nos informa de lo que está haciendo\n",
        "            early_stopping_rounds = 10, #si en estas rondas no mejora el score (función de pérdida) detendrá el entrenamiento\n",
        "            eval_metric = 'logloss', #evalua lo bunas que son las predicciones\n",
        "            eval_set = [(x_test, y_test)]) #entrena en el dataset de entrenameinto pero evalua cuantos arboles debe crear usando el testing dataset"
      ],
      "metadata": {
        "colab": {
          "base_uri": "https://localhost:8080/"
        },
        "id": "auFFC2haa3o7",
        "outputId": "c83776e7-e176-4523-d6f7-4618a536f433"
      },
      "execution_count": 10,
      "outputs": [
        {
          "output_type": "stream",
          "name": "stdout",
          "text": [
            "[0]\tvalidation_0-logloss:0.656619\n",
            "Will train until validation_0-logloss hasn't improved in 10 rounds.\n",
            "[1]\tvalidation_0-logloss:0.627135\n",
            "[2]\tvalidation_0-logloss:0.6025\n",
            "[3]\tvalidation_0-logloss:0.582252\n",
            "[4]\tvalidation_0-logloss:0.565862\n",
            "[5]\tvalidation_0-logloss:0.551838\n",
            "[6]\tvalidation_0-logloss:0.539746\n",
            "[7]\tvalidation_0-logloss:0.530104\n",
            "[8]\tvalidation_0-logloss:0.521933\n",
            "[9]\tvalidation_0-logloss:0.515122\n",
            "[10]\tvalidation_0-logloss:0.509534\n",
            "[11]\tvalidation_0-logloss:0.50508\n",
            "[12]\tvalidation_0-logloss:0.500994\n",
            "[13]\tvalidation_0-logloss:0.497441\n",
            "[14]\tvalidation_0-logloss:0.494808\n",
            "[15]\tvalidation_0-logloss:0.492567\n",
            "[16]\tvalidation_0-logloss:0.490932\n",
            "[17]\tvalidation_0-logloss:0.489166\n",
            "[18]\tvalidation_0-logloss:0.487895\n",
            "[19]\tvalidation_0-logloss:0.486886\n",
            "[20]\tvalidation_0-logloss:0.485823\n",
            "[21]\tvalidation_0-logloss:0.485074\n",
            "[22]\tvalidation_0-logloss:0.484582\n",
            "[23]\tvalidation_0-logloss:0.484122\n",
            "[24]\tvalidation_0-logloss:0.48381\n",
            "[25]\tvalidation_0-logloss:0.48355\n",
            "[26]\tvalidation_0-logloss:0.483379\n",
            "[27]\tvalidation_0-logloss:0.483281\n",
            "[28]\tvalidation_0-logloss:0.482903\n",
            "[29]\tvalidation_0-logloss:0.482621\n",
            "[30]\tvalidation_0-logloss:0.482601\n",
            "[31]\tvalidation_0-logloss:0.482368\n",
            "[32]\tvalidation_0-logloss:0.481766\n",
            "[33]\tvalidation_0-logloss:0.481814\n",
            "[34]\tvalidation_0-logloss:0.481759\n",
            "[35]\tvalidation_0-logloss:0.481746\n",
            "[36]\tvalidation_0-logloss:0.481706\n",
            "[37]\tvalidation_0-logloss:0.481718\n",
            "[38]\tvalidation_0-logloss:0.481894\n",
            "[39]\tvalidation_0-logloss:0.482261\n",
            "[40]\tvalidation_0-logloss:0.481988\n",
            "[41]\tvalidation_0-logloss:0.482089\n",
            "[42]\tvalidation_0-logloss:0.482015\n",
            "[43]\tvalidation_0-logloss:0.482114\n",
            "[44]\tvalidation_0-logloss:0.482224\n",
            "[45]\tvalidation_0-logloss:0.482338\n",
            "[46]\tvalidation_0-logloss:0.482281\n",
            "Stopping. Best iteration:\n",
            "[36]\tvalidation_0-logloss:0.481706\n",
            "\n"
          ]
        },
        {
          "output_type": "execute_result",
          "data": {
            "text/plain": [
              "XGBClassifier(seed=24)"
            ]
          },
          "metadata": {},
          "execution_count": 10
        }
      ]
    },
    {
      "cell_type": "markdown",
      "source": [
        "Comprobamos en el dataset de test y dibujamos una matriz de confusión."
      ],
      "metadata": {
        "id": "0w_yKzSGcace"
      }
    },
    {
      "cell_type": "code",
      "source": [
        "plot_confusion_matrix(clf_xgb,\n",
        "                      x_test,\n",
        "                      y_test,\n",
        "                      values_format = 'd')"
      ],
      "metadata": {
        "colab": {
          "base_uri": "https://localhost:8080/",
          "height": 356
        },
        "id": "CIrA09h9cRb7",
        "outputId": "ff1dad1f-de69-400e-d9b6-e87eb4490c59"
      },
      "execution_count": 11,
      "outputs": [
        {
          "output_type": "stream",
          "name": "stderr",
          "text": [
            "/usr/local/lib/python3.7/dist-packages/sklearn/utils/deprecation.py:87: FutureWarning: Function plot_confusion_matrix is deprecated; Function `plot_confusion_matrix` is deprecated in 1.0 and will be removed in 1.2. Use one of the class methods: ConfusionMatrixDisplay.from_predictions or ConfusionMatrixDisplay.from_estimator.\n",
            "  warnings.warn(msg, category=FutureWarning)\n"
          ]
        },
        {
          "output_type": "execute_result",
          "data": {
            "text/plain": [
              "<sklearn.metrics._plot.confusion_matrix.ConfusionMatrixDisplay at 0x7fc5115a5d90>"
            ]
          },
          "metadata": {},
          "execution_count": 11
        },
        {
          "output_type": "display_data",
          "data": {
            "text/plain": [
              "<Figure size 432x288 with 2 Axes>"
            ],
            "image/png": "[encoded data removed]"
          },
          "metadata": {
            "needs_background": "light"
          }
        }
      ]
    },
    {
      "cell_type": "markdown",
      "source": [
        "#Pruebas parar mejorar el resultado\n",
        "De las 237 personas que no han pagado, hemos clasificado bien a 195 (**83,54%**) y de las 853 personas que han pagado, hemos clasificado bien a 860 (**96,13%**). Como los datos no están repartidos correctamente (237 contra 820) hemos de obtener más datos de personas que no pagaron, por lo que cuando configuremos los hiperparámetros usaremos la función ```\n",
        "scale_pos_weight``` para obtener un mejor resultado 🙂"
      ],
      "metadata": {
        "id": "c8mod22ZcxZg"
      }
    },
    {
      "cell_type": "code",
      "source": [
        "#Ronda 1\n",
        "param_grid = {\n",
        "    'max_depth' : [3, 4, 5], #La profundidad de los árboles de decisión\n",
        "    'learning_rate' : [0.1, 0.01, 0.05], #La frecuencia con la que la red neuronal refresca lo que ha aprendido\n",
        "    'gamma' : [0, 0.25, 1.0], # Reduce el tamaño de los árboles de decisión al eliminar secciones del árbol que no son necesarias\n",
        "    'reg_lambda' : [0, 1.0, 10.0], # Gestiona el overfitting\n",
        "    'scale_pos_weight' : [1, 3, 5] \n",
        "}"
      ],
      "metadata": {
        "id": "Qy0DacvYc1JE"
      },
      "execution_count": 12,
      "outputs": []
    },
    {
      "cell_type": "code",
      "source": [
        "#Ronda 2\n",
        "param_grid = {\n",
        "    'max_depth' : [3],\n",
        "    'learning_rate' : [0.01],\n",
        "    'gamma' : [1],\n",
        "    'reg_lambda' : [1],\n",
        "    'scale_pos_weight' : [1]\n",
        "}"
      ],
      "metadata": {
        "id": "8b7lrl_bc3nC"
      },
      "execution_count": 16,
      "outputs": []
    },
    {
      "cell_type": "code",
      "source": [
        "optimal_params = GridSearchCV(\n",
        "    estimator = xgb.XGBClassifier(objective = 'binary:logistic',\n",
        "                                  seed = 24,\n",
        "                                  subsample = 0.9, # Para acelerar las validación cruzada empleamos un subset aleatorio del 90% (por árbol)\n",
        "                                  colsample_bytree = 0.5), # Elegimos (por arbol) el 50% de las columnas del dataset para reducir el overfitting (y la velocidad)\n",
        "    param_grid = param_grid,\n",
        "    scoring = 'roc_auc',\n",
        "    verbose = 0,\n",
        "    n_jobs = 10,\n",
        "    cv = 3\n",
        ")"
      ],
      "metadata": {
        "id": "gWcUXmOic55r"
      },
      "execution_count": 17,
      "outputs": []
    },
    {
      "cell_type": "code",
      "source": [
        "optimal_params.fit(x_train,\n",
        "                   y_train,\n",
        "                   verbose = True,\n",
        "                   early_stopping_rounds = 10,\n",
        "                   eval_metric = 'logloss',\n",
        "                   eval_set = [(x_test, y_test)])\n",
        "print(optimal_params.best_params_)"
      ],
      "metadata": {
        "colab": {
          "base_uri": "https://localhost:8080/"
        },
        "id": "T14TrB2_c8yg",
        "outputId": "62779d07-df0b-400c-be16-3b01f0c63674"
      },
      "execution_count": 18,
      "outputs": [
        {
          "output_type": "stream",
          "name": "stdout",
          "text": [
            "[0]\tvalidation_0-logloss:0.689334\n",
            "Will train until validation_0-logloss hasn't improved in 10 rounds.\n",
            "[1]\tvalidation_0-logloss:0.686071\n",
            "[2]\tvalidation_0-logloss:0.682482\n",
            "[3]\tvalidation_0-logloss:0.679359\n",
            "[4]\tvalidation_0-logloss:0.675839\n",
            "[5]\tvalidation_0-logloss:0.672875\n",
            "[6]\tvalidation_0-logloss:0.669523\n",
            "[7]\tvalidation_0-logloss:0.666198\n",
            "[8]\tvalidation_0-logloss:0.663332\n",
            "[9]\tvalidation_0-logloss:0.660557\n",
            "[10]\tvalidation_0-logloss:0.657413\n",
            "[11]\tvalidation_0-logloss:0.654349\n",
            "[12]\tvalidation_0-logloss:0.651292\n",
            "[13]\tvalidation_0-logloss:0.648303\n",
            "[14]\tvalidation_0-logloss:0.645784\n",
            "[15]\tvalidation_0-logloss:0.643303\n",
            "[16]\tvalidation_0-logloss:0.640462\n",
            "[17]\tvalidation_0-logloss:0.637678\n",
            "[18]\tvalidation_0-logloss:0.63525\n",
            "[19]\tvalidation_0-logloss:0.632958\n",
            "[20]\tvalidation_0-logloss:0.630656\n",
            "[21]\tvalidation_0-logloss:0.628351\n",
            "[22]\tvalidation_0-logloss:0.626079\n",
            "[23]\tvalidation_0-logloss:0.623572\n",
            "[24]\tvalidation_0-logloss:0.621122\n",
            "[25]\tvalidation_0-logloss:0.618951\n",
            "[26]\tvalidation_0-logloss:0.61683\n",
            "[27]\tvalidation_0-logloss:0.614532\n",
            "[28]\tvalidation_0-logloss:0.612238\n",
            "[29]\tvalidation_0-logloss:0.609959\n",
            "[30]\tvalidation_0-logloss:0.60773\n",
            "[31]\tvalidation_0-logloss:0.605825\n",
            "[32]\tvalidation_0-logloss:0.603674\n",
            "[33]\tvalidation_0-logloss:0.601602\n",
            "[34]\tvalidation_0-logloss:0.59954\n",
            "[35]\tvalidation_0-logloss:0.597805\n",
            "[36]\tvalidation_0-logloss:0.596148\n",
            "[37]\tvalidation_0-logloss:0.59445\n",
            "[38]\tvalidation_0-logloss:0.592747\n",
            "[39]\tvalidation_0-logloss:0.590854\n",
            "[40]\tvalidation_0-logloss:0.589007\n",
            "[41]\tvalidation_0-logloss:0.58741\n",
            "[42]\tvalidation_0-logloss:0.585582\n",
            "[43]\tvalidation_0-logloss:0.583848\n",
            "[44]\tvalidation_0-logloss:0.582102\n",
            "[45]\tvalidation_0-logloss:0.580398\n",
            "[46]\tvalidation_0-logloss:0.578682\n",
            "[47]\tvalidation_0-logloss:0.577241\n",
            "[48]\tvalidation_0-logloss:0.575674\n",
            "[49]\tvalidation_0-logloss:0.574257\n",
            "[50]\tvalidation_0-logloss:0.572952\n",
            "[51]\tvalidation_0-logloss:0.571381\n",
            "[52]\tvalidation_0-logloss:0.569871\n",
            "[53]\tvalidation_0-logloss:0.56858\n",
            "[54]\tvalidation_0-logloss:0.567092\n",
            "[55]\tvalidation_0-logloss:0.565619\n",
            "[56]\tvalidation_0-logloss:0.56418\n",
            "[57]\tvalidation_0-logloss:0.562802\n",
            "[58]\tvalidation_0-logloss:0.561409\n",
            "[59]\tvalidation_0-logloss:0.560248\n",
            "[60]\tvalidation_0-logloss:0.558981\n",
            "[61]\tvalidation_0-logloss:0.557652\n",
            "[62]\tvalidation_0-logloss:0.556561\n",
            "[63]\tvalidation_0-logloss:0.555284\n",
            "[64]\tvalidation_0-logloss:0.554014\n",
            "[65]\tvalidation_0-logloss:0.553006\n",
            "[66]\tvalidation_0-logloss:0.551819\n",
            "[67]\tvalidation_0-logloss:0.550632\n",
            "[68]\tvalidation_0-logloss:0.549452\n",
            "[69]\tvalidation_0-logloss:0.548443\n",
            "[70]\tvalidation_0-logloss:0.547506\n",
            "[71]\tvalidation_0-logloss:0.546571\n",
            "[72]\tvalidation_0-logloss:0.545473\n",
            "[73]\tvalidation_0-logloss:0.544369\n",
            "[74]\tvalidation_0-logloss:0.543424\n",
            "[75]\tvalidation_0-logloss:0.542319\n",
            "[76]\tvalidation_0-logloss:0.541462\n",
            "[77]\tvalidation_0-logloss:0.540431\n",
            "[78]\tvalidation_0-logloss:0.539397\n",
            "[79]\tvalidation_0-logloss:0.538577\n",
            "[80]\tvalidation_0-logloss:0.537597\n",
            "[81]\tvalidation_0-logloss:0.536816\n",
            "[82]\tvalidation_0-logloss:0.536019\n",
            "[83]\tvalidation_0-logloss:0.535074\n",
            "[84]\tvalidation_0-logloss:0.534329\n",
            "[85]\tvalidation_0-logloss:0.53342\n",
            "[86]\tvalidation_0-logloss:0.532728\n",
            "[87]\tvalidation_0-logloss:0.532064\n",
            "[88]\tvalidation_0-logloss:0.531415\n",
            "[89]\tvalidation_0-logloss:0.530536\n",
            "[90]\tvalidation_0-logloss:0.529651\n",
            "[91]\tvalidation_0-logloss:0.528975\n",
            "[92]\tvalidation_0-logloss:0.52834\n",
            "[93]\tvalidation_0-logloss:0.527508\n",
            "[94]\tvalidation_0-logloss:0.526759\n",
            "[95]\tvalidation_0-logloss:0.526151\n",
            "[96]\tvalidation_0-logloss:0.5256\n",
            "[97]\tvalidation_0-logloss:0.524843\n",
            "[98]\tvalidation_0-logloss:0.5241\n",
            "[99]\tvalidation_0-logloss:0.523347\n",
            "{'gamma': 1, 'learning_rate': 0.01, 'max_depth': 3, 'reg_lambda': 1, 'scale_pos_weight': 1}\n"
          ]
        }
      ]
    },
    {
      "cell_type": "markdown",
      "source": [
        "# Validamos el conjunto de entrenamiento (*x_train* e *y_train*)"
      ],
      "metadata": {
        "id": "eYaFbtaQdSd1"
      }
    },
    {
      "cell_type": "code",
      "source": [
        "optimal_params.best_estimator_"
      ],
      "metadata": {
        "colab": {
          "base_uri": "https://localhost:8080/"
        },
        "id": "sXZwWEgfeupJ",
        "outputId": "0f6acdf3-c0d7-4af4-fdb7-de99e5771f45"
      },
      "execution_count": 19,
      "outputs": [
        {
          "output_type": "execute_result",
          "data": {
            "text/plain": [
              "XGBClassifier(colsample_bytree=0.5, gamma=1, learning_rate=0.01, seed=24,\n",
              "              subsample=0.9)"
            ]
          },
          "metadata": {},
          "execution_count": 19
        }
      ]
    },
    {
      "cell_type": "code",
      "source": [
        "optimal_params.best_score_"
      ],
      "metadata": {
        "colab": {
          "base_uri": "https://localhost:8080/"
        },
        "id": "Y2KH37nnewly",
        "outputId": "351d8895-5342-4fe8-bb83-330c4ddab108"
      },
      "execution_count": 20,
      "outputs": [
        {
          "output_type": "execute_result",
          "data": {
            "text/plain": [
              "0.700152357687549"
            ]
          },
          "metadata": {},
          "execution_count": 20
        }
      ]
    },
    {
      "cell_type": "code",
      "source": [
        "best_xgb = optimal_params.best_estimator_\n",
        "y_preds = best_xgb.predict(x_train)\n",
        "\n",
        "comp = pd.DataFrame ({'Datos' : y_train, 'Predicciones' : y_preds}) # Creamos el dataframe de comparación\n",
        "comp.head(10)"
      ],
      "metadata": {
        "colab": {
          "base_uri": "https://localhost:8080/",
          "height": 363
        },
        "id": "5ucVleylezRI",
        "outputId": "0bea9c74-7037-46f0-9483-8274bf891c9c"
      },
      "execution_count": 21,
      "outputs": [
        {
          "output_type": "execute_result",
          "data": {
            "text/plain": [
              "      Datos  Predicciones\n",
              "1341      1             1\n",
              "2205      0             1\n",
              "3650      1             1\n",
              "1273      1             1\n",
              "1200      1             1\n",
              "717       0             1\n",
              "1407      1             1\n",
              "2338      0             1\n",
              "4236      1             1\n",
              "1768      1             1"
            ],
            "text/html": [
              "\n",
              "  <div id=\"df-07fdb04a-fd3e-4669-ab5b-b60c19cc5c13\">\n",
              "    <div class=\"colab-df-container\">\n",
              "      <div>\n",
              "<style scoped>\n",
              "    .dataframe tbody tr th:only-of-type {\n",
              "        vertical-align: middle;\n",
              "    }\n",
              "\n",
              "    .dataframe tbody tr th {\n",
              "        vertical-align: top;\n",
              "    }\n",
              "\n",
              "    .dataframe thead th {\n",
              "        text-align: right;\n",
              "    }\n",
              "</style>\n",
              "<table border=\"1\" class=\"dataframe\">\n",
              "  <thead>\n",
              "    <tr style=\"text-align: right;\">\n",
              "      <th></th>\n",
              "      <th>Datos</th>\n",
              "      <th>Predicciones</th>\n",
              "    </tr>\n",
              "  </thead>\n",
              "  <tbody>\n",
              "    <tr>\n",
              "      <th>1341</th>\n",
              "      <td>1</td>\n",
              "      <td>1</td>\n",
              "    </tr>\n",
              "    <tr>\n",
              "      <th>2205</th>\n",
              "      <td>0</td>\n",
              "      <td>1</td>\n",
              "    </tr>\n",
              "    <tr>\n",
              "      <th>3650</th>\n",
              "      <td>1</td>\n",
              "      <td>1</td>\n",
              "    </tr>\n",
              "    <tr>\n",
              "      <th>1273</th>\n",
              "      <td>1</td>\n",
              "      <td>1</td>\n",
              "    </tr>\n",
              "    <tr>\n",
              "      <th>1200</th>\n",
              "      <td>1</td>\n",
              "      <td>1</td>\n",
              "    </tr>\n",
              "    <tr>\n",
              "      <th>717</th>\n",
              "      <td>0</td>\n",
              "      <td>1</td>\n",
              "    </tr>\n",
              "    <tr>\n",
              "      <th>1407</th>\n",
              "      <td>1</td>\n",
              "      <td>1</td>\n",
              "    </tr>\n",
              "    <tr>\n",
              "      <th>2338</th>\n",
              "      <td>0</td>\n",
              "      <td>1</td>\n",
              "    </tr>\n",
              "    <tr>\n",
              "      <th>4236</th>\n",
              "      <td>1</td>\n",
              "      <td>1</td>\n",
              "    </tr>\n",
              "    <tr>\n",
              "      <th>1768</th>\n",
              "      <td>1</td>\n",
              "      <td>1</td>\n",
              "    </tr>\n",
              "  </tbody>\n",
              "</table>\n",
              "</div>\n",
              "      <button class=\"colab-df-convert\" onclick=\"convertToInteractive('df-07fdb04a-fd3e-4669-ab5b-b60c19cc5c13')\"\n",
              "              title=\"Convert this dataframe to an interactive table.\"\n",
              "              style=\"display:none;\">\n",
              "        \n",
              "  <svg xmlns=\"http://www.w3.org/2000/svg\" height=\"24px\"viewBox=\"0 0 24 24\"\n",
              "       width=\"24px\">\n",
              "    <path d=\"M0 0h24v24H0V0z\" fill=\"none\"/>\n",
              "    <path d=\"M18.56 5.44l.94 2.06.94-2.06 2.06-.94-2.06-.94-.94-2.06-.94 2.06-2.06.94zm-11 1L8.5 8.5l.94-2.06 2.06-.94-2.06-.94L8.5 2.5l-.94 2.06-2.06.94zm10 10l.94 2.06.94-2.06 2.06-.94-2.06-.94-.94-2.06-.94 2.06-2.06.94z\"/><path d=\"M17.41 7.96l-1.37-1.37c-.4-.4-.92-.59-1.43-.59-.52 0-1.04.2-1.43.59L10.3 9.45l-7.72 7.72c-.78.78-.78 2.05 0 2.83L4 21.41c.39.39.9.59 1.41.59.51 0 1.02-.2 1.41-.59l7.78-7.78 2.81-2.81c.8-.78.8-2.07 0-2.86zM5.41 20L4 18.59l7.72-7.72 1.47 1.35L5.41 20z\"/>\n",
              "  </svg>\n",
              "      </button>\n",
              "      \n",
              "  <style>\n",
              "    .colab-df-container {\n",
              "      display:flex;\n",
              "      flex-wrap:wrap;\n",
              "      gap: 12px;\n",
              "    }\n",
              "\n",
              "    .colab-df-convert {\n",
              "      background-color: #E8F0FE;\n",
              "      border: none;\n",
              "      border-radius: 50%;\n",
              "      cursor: pointer;\n",
              "      display: none;\n",
              "      fill: #1967D2;\n",
              "      height: 32px;\n",
              "      padding: 0 0 0 0;\n",
              "      width: 32px;\n",
              "    }\n",
              "\n",
              "    .colab-df-convert:hover {\n",
              "      background-color: #E2EBFA;\n",
              "      box-shadow: 0px 1px 2px rgba(60, 64, 67, 0.3), 0px 1px 3px 1px rgba(60, 64, 67, 0.15);\n",
              "      fill: #174EA6;\n",
              "    }\n",
              "\n",
              "    [theme=dark] .colab-df-convert {\n",
              "      background-color: #3B4455;\n",
              "      fill: #D2E3FC;\n",
              "    }\n",
              "\n",
              "    [theme=dark] .colab-df-convert:hover {\n",
              "      background-color: #434B5C;\n",
              "      box-shadow: 0px 1px 3px 1px rgba(0, 0, 0, 0.15);\n",
              "      filter: drop-shadow(0px 1px 2px rgba(0, 0, 0, 0.3));\n",
              "      fill: #FFFFFF;\n",
              "    }\n",
              "  </style>\n",
              "\n",
              "      <script>\n",
              "        const buttonEl =\n",
              "          document.querySelector('#df-07fdb04a-fd3e-4669-ab5b-b60c19cc5c13 button.colab-df-convert');\n",
              "        buttonEl.style.display =\n",
              "          google.colab.kernel.accessAllowed ? 'block' : 'none';\n",
              "\n",
              "        async function convertToInteractive(key) {\n",
              "          const element = document.querySelector('#df-07fdb04a-fd3e-4669-ab5b-b60c19cc5c13');\n",
              "          const dataTable =\n",
              "            await google.colab.kernel.invokeFunction('convertToInteractive',\n",
              "                                                     [key], {});\n",
              "          if (!dataTable) return;\n",
              "\n",
              "          const docLinkHtml = 'Like what you see? Visit the ' +\n",
              "            '<a target=\"_blank\" href=https://colab.research.google.com/notebooks/data_table.ipynb>data table notebook</a>'\n",
              "            + ' to learn more about interactive tables.';\n",
              "          element.innerHTML = '';\n",
              "          dataTable['output_type'] = 'display_data';\n",
              "          await google.colab.output.renderOutput(dataTable, element);\n",
              "          const docLink = document.createElement('div');\n",
              "          docLink.innerHTML = docLinkHtml;\n",
              "          element.appendChild(docLink);\n",
              "        }\n",
              "      </script>\n",
              "    </div>\n",
              "  </div>\n",
              "  "
            ]
          },
          "metadata": {},
          "execution_count": 21
        }
      ]
    },
    {
      "cell_type": "code",
      "source": [
        "acc = accuracy_score(y_train, y_preds) # Comprobamos el ratio de acierto\n",
        "acc"
      ],
      "metadata": {
        "colab": {
          "base_uri": "https://localhost:8080/"
        },
        "id": "41DlZdz7e82i",
        "outputId": "a5489721-6810-42c9-8372-620d110a1a2a"
      },
      "execution_count": 22,
      "outputs": [
        {
          "output_type": "execute_result",
          "data": {
            "text/plain": [
              "0.7858017135862914"
            ]
          },
          "metadata": {},
          "execution_count": 22
        }
      ]
    },
    {
      "cell_type": "markdown",
      "source": [
        "#Presentación del árbol de decisión\n",
        "Repetimos el código anterior, pero indicando que solo queremos crear el primer arbol para poder dibujarlo.\n",
        "¿Lo entiendo? Vagamente.  ¿Es bonito? Para nada. ✅"
      ],
      "metadata": {
        "id": "0yA3hKEPjcmL"
      }
    },
    {
      "cell_type": "code",
      "source": [
        "clf_xgb = xgb.XGBClassifier(seed = 20,\n",
        "                            objective = 'binary:logistic',\n",
        "                            gamma = 1,\n",
        "                            learn_rate = 0.05,\n",
        "                            max_depth = 5,\n",
        "                            reg_lambda = 0,\n",
        "                            scale_pos_weight = 3,\n",
        "                            subsample = 0.9,\n",
        "                            colsampole_bytree = 0.5,\n",
        "                            n_estimators = 1) #Indicamos solo un árbol\n",
        "clf_xgb.fit(x_train, y_train)"
      ],
      "metadata": {
        "colab": {
          "base_uri": "https://localhost:8080/"
        },
        "id": "pGC5amX-jg3_",
        "outputId": "1ba4341b-19c3-4eba-bac2-9004c1392b6e"
      },
      "execution_count": 23,
      "outputs": [
        {
          "output_type": "execute_result",
          "data": {
            "text/plain": [
              "XGBClassifier(colsampole_bytree=0.5, gamma=1, learn_rate=0.05, max_depth=5,\n",
              "              n_estimators=1, reg_lambda=0, scale_pos_weight=3, seed=20,\n",
              "              subsample=0.9)"
            ]
          },
          "metadata": {},
          "execution_count": 23
        }
      ]
    },
    {
      "cell_type": "code",
      "source": [
        "bst = clf_xgb.get_booster()\n",
        "for importance_type in ('weight', 'gain', 'cover', 'total_gain', 'total_cover'):\n",
        "  print('%s: ' % importance_type, bst.get_score(importance_type = importance_type))"
      ],
      "metadata": {
        "colab": {
          "base_uri": "https://localhost:8080/"
        },
        "id": "xMwt_b9GjoVb",
        "outputId": "30ab61bd-f72e-4a28-8a23-4f9fc59f77e0"
      },
      "execution_count": 24,
      "outputs": [
        {
          "output_type": "stream",
          "name": "stdout",
          "text": [
            "weight:  {'historial': 1, 'loannumber': 4, 'employment': 3, 'interes': 6, 'age': 4, 'parte_mes_pago': 3, 'due_per_day': 4, 'cuenta_ahorro': 1}\n",
            "gain:  {'historial': 93.9023438, 'loannumber': 10.3686986075, 'employment': 4.46895345, 'interes': 4.2318143856666675, 'age': 5.253263717499999, 'parte_mes_pago': 4.46919759, 'due_per_day': 5.190403945, 'cuenta_ahorro': 4.86273193}\n",
            "cover:  {'historial': 1885.5, 'loannumber': 290.0, 'employment': 562.5, 'interes': 408.0, 'age': 167.0, 'parte_mes_pago': 267.5833333333333, 'due_per_day': 120.75, 'cuenta_ahorro': 189.25}\n",
            "total_gain:  {'historial': 93.9023438, 'loannumber': 41.47479443, 'employment': 13.406860349999999, 'interes': 25.390886314000003, 'age': 21.013054869999998, 'parte_mes_pago': 13.40759277, 'due_per_day': 20.76161578, 'cuenta_ahorro': 4.86273193}\n",
            "total_cover:  {'historial': 1885.5, 'loannumber': 1160.0, 'employment': 1687.5, 'interes': 2448.0, 'age': 668.0, 'parte_mes_pago': 802.75, 'due_per_day': 483.0, 'cuenta_ahorro': 189.25}\n"
          ]
        }
      ]
    },
    {
      "cell_type": "code",
      "source": [
        "node_params = {'shape' : 'box',\n",
        "               'style' : 'filled, rounded',\n",
        "               'fillcolor' : '#78cbe'}\n",
        "leaf_params = {'shape' : 'box',\n",
        "               'style' : 'filled',\n",
        "               'fillcolor' : '#e48038'}\n",
        "\n",
        "xgb.to_graphviz(clf_xgb,\n",
        "                num_trees = 0,\n",
        "                size = \"12,12\",\n",
        "                condition_node_params = node_params,\n",
        "                leaf_node_params = leaf_params)"
      ],
      "metadata": {
        "colab": {
          "base_uri": "https://localhost:8080/",
          "height": 194
        },
        "id": "CKkkLNMBjqA0",
        "outputId": "90dfed9b-e766-476f-ec18-43c8a63b05f6"
      },
      "execution_count": 25,
      "outputs": [
        {
          "output_type": "execute_result",
          "data": {
            "text/plain": [
              "<graphviz.dot.Digraph at 0x7fc50c22c390>"
            ],
            "image/svg+xml": "<?xml version=\"1.0\" encoding=\"UTF-8\" standalone=\"no\"?>\n<!DOCTYPE svg PUBLIC \"-//W3C//DTD SVG 1.1//EN\"\n \"http://www.w3.org/Graphics/SVG/1.1/DTD/svg11.dtd\">\n<!-- Generated by graphviz version 2.40.1 (20161225.0304)\n -->\n<!-- Title: %3 Pages: 1 -->\n<svg width=\"864pt\" height=\"130pt\"\n viewBox=\"0.00 0.00 864.00 130.12\" xmlns=\"http://www.w3.org/2000/svg\" xmlns:xlink=\"http://www.w3.org/1999/xlink\">\n<g id=\"graph0\" class=\"graph\" transform=\"scale(.2717 .2717) rotate(0) translate(4 475)\">\n<title>%3</title>\n<polygon fill=\"#ffffff\" stroke=\"transparent\" points=\"-4,4 -4,-475 3176.5,-475 3176.5,4 -4,4\"/>\n<!-- 0 -->\n<g id=\"node1\" class=\"node\">\n<title>0</title>\n<path fill=\"#78cb0e\" stroke=\"#000000\" d=\"M1883.5,-471C1883.5,-471 1829.5,-471 1829.5,-471 1823.5,-471 1817.5,-465 1817.5,-459 1817.5,-459 1817.5,-447 1817.5,-447 1817.5,-441 1823.5,-435 1829.5,-435 1829.5,-435 1883.5,-435 1883.5,-435 1889.5,-435 1895.5,-441 1895.5,-447 1895.5,-447 1895.5,-459 1895.5,-459 1895.5,-465 1889.5,-471 1883.5,-471\"/>\n<text text-anchor=\"middle\" x=\"1856.5\" y=\"-449.3\" font-family=\"Times,serif\" font-size=\"14.00\" fill=\"#000000\">historial&lt;1</text>\n</g>\n<!-- 1 -->\n<g id=\"node2\" class=\"node\">\n<title>1</title>\n<path fill=\"#78cb0e\" stroke=\"#000000\" d=\"M1459,-384C1459,-384 1382,-384 1382,-384 1376,-384 1370,-378 1370,-372 1370,-372 1370,-360 1370,-360 1370,-354 1376,-348 1382,-348 1382,-348 1459,-348 1459,-348 1465,-348 1471,-354 1471,-360 1471,-360 1471,-372 1471,-372 1471,-378 1465,-384 1459,-384\"/>\n<text text-anchor=\"middle\" x=\"1420.5\" y=\"-362.3\" font-family=\"Times,serif\" font-size=\"14.00\" fill=\"#000000\">loannumber&lt;5</text>\n</g>\n<!-- 0&#45;&gt;1 -->\n<g id=\"edge1\" class=\"edge\">\n<title>0&#45;&gt;1</title>\n<path fill=\"none\" stroke=\"#0000ff\" d=\"M1817.4242,-445.2028C1741.1699,-429.9869 1572.0578,-396.242 1481.1348,-378.0992\"/>\n<polygon fill=\"#0000ff\" stroke=\"#0000ff\" points=\"1481.7397,-374.6509 1471.2481,-376.1263 1480.3699,-381.5156 1481.7397,-374.6509\"/>\n<text text-anchor=\"middle\" x=\"1701\" y=\"-405.8\" font-family=\"Times,serif\" font-size=\"14.00\" fill=\"#000000\">yes, missing</text>\n</g>\n<!-- 2 -->\n<g id=\"node3\" class=\"node\">\n<title>2</title>\n<path fill=\"#78cb0e\" stroke=\"#000000\" d=\"M2241.5,-384C2241.5,-384 2177.5,-384 2177.5,-384 2171.5,-384 2165.5,-378 2165.5,-372 2165.5,-372 2165.5,-360 2165.5,-360 2165.5,-354 2171.5,-348 2177.5,-348 2177.5,-348 2241.5,-348 2241.5,-348 2247.5,-348 2253.5,-354 2253.5,-360 2253.5,-360 2253.5,-372 2253.5,-372 2253.5,-378 2247.5,-384 2241.5,-384\"/>\n<text text-anchor=\"middle\" x=\"2209.5\" y=\"-362.3\" font-family=\"Times,serif\" font-size=\"14.00\" fill=\"#000000\">interes&lt;27.5</text>\n</g>\n<!-- 0&#45;&gt;2 -->\n<g id=\"edge2\" class=\"edge\">\n<title>0&#45;&gt;2</title>\n<path fill=\"none\" stroke=\"#ff0000\" d=\"M1895.6259,-443.3571C1958.8887,-427.7654 2083.7724,-396.9867 2155.4727,-379.3155\"/>\n<polygon fill=\"#ff0000\" stroke=\"#ff0000\" points=\"2156.3531,-382.7033 2165.225,-376.912 2154.678,-375.9067 2156.3531,-382.7033\"/>\n<text text-anchor=\"middle\" x=\"2062.5\" y=\"-405.8\" font-family=\"Times,serif\" font-size=\"14.00\" fill=\"#000000\">no</text>\n</g>\n<!-- 3 -->\n<g id=\"node4\" class=\"node\">\n<title>3</title>\n<path fill=\"#78cb0e\" stroke=\"#000000\" d=\"M852.5,-297C852.5,-297 772.5,-297 772.5,-297 766.5,-297 760.5,-291 760.5,-285 760.5,-285 760.5,-273 760.5,-273 760.5,-267 766.5,-261 772.5,-261 772.5,-261 852.5,-261 852.5,-261 858.5,-261 864.5,-267 864.5,-273 864.5,-273 864.5,-285 864.5,-285 864.5,-291 858.5,-297 852.5,-297\"/>\n<text text-anchor=\"middle\" x=\"812.5\" y=\"-275.3\" font-family=\"Times,serif\" font-size=\"14.00\" fill=\"#000000\">employment&lt;2</text>\n</g>\n<!-- 1&#45;&gt;3 -->\n<g id=\"edge3\" class=\"edge\">\n<title>1&#45;&gt;3</title>\n<path fill=\"none\" stroke=\"#0000ff\" d=\"M1369.9681,-358.7693C1259.3515,-342.9409 996.0188,-305.2601 875.1272,-287.9615\"/>\n<polygon fill=\"#0000ff\" stroke=\"#0000ff\" points=\"875.322,-284.4538 864.9271,-286.5019 874.3304,-291.3832 875.322,-284.4538\"/>\n<text text-anchor=\"middle\" x=\"1189\" y=\"-318.8\" font-family=\"Times,serif\" font-size=\"14.00\" fill=\"#000000\">yes, missing</text>\n</g>\n<!-- 4 -->\n<g id=\"node5\" class=\"node\">\n<title>4</title>\n<path fill=\"#78cb0e\" stroke=\"#000000\" d=\"M1465.5,-297C1465.5,-297 1375.5,-297 1375.5,-297 1369.5,-297 1363.5,-291 1363.5,-285 1363.5,-285 1363.5,-273 1363.5,-273 1363.5,-267 1369.5,-261 1375.5,-261 1375.5,-261 1465.5,-261 1465.5,-261 1471.5,-261 1477.5,-267 1477.5,-273 1477.5,-273 1477.5,-285 1477.5,-285 1477.5,-291 1471.5,-297 1465.5,-297\"/>\n<text text-anchor=\"middle\" x=\"1420.5\" y=\"-275.3\" font-family=\"Times,serif\" font-size=\"14.00\" fill=\"#000000\">cuenta_ahorro&lt;1</text>\n</g>\n<!-- 1&#45;&gt;4 -->\n<g id=\"edge4\" class=\"edge\">\n<title>1&#45;&gt;4</title>\n<path fill=\"none\" stroke=\"#ff0000\" d=\"M1420.5,-347.9735C1420.5,-336.1918 1420.5,-320.5607 1420.5,-307.1581\"/>\n<polygon fill=\"#ff0000\" stroke=\"#ff0000\" points=\"1424.0001,-307.0033 1420.5,-297.0034 1417.0001,-307.0034 1424.0001,-307.0033\"/>\n<text text-anchor=\"middle\" x=\"1428.5\" y=\"-318.8\" font-family=\"Times,serif\" font-size=\"14.00\" fill=\"#000000\">no</text>\n</g>\n<!-- 5 -->\n<g id=\"node32\" class=\"node\">\n<title>5</title>\n<path fill=\"#78cb0e\" stroke=\"#000000\" d=\"M2249.5,-297C2249.5,-297 2169.5,-297 2169.5,-297 2163.5,-297 2157.5,-291 2157.5,-285 2157.5,-285 2157.5,-273 2157.5,-273 2157.5,-267 2163.5,-261 2169.5,-261 2169.5,-261 2249.5,-261 2249.5,-261 2255.5,-261 2261.5,-267 2261.5,-273 2261.5,-273 2261.5,-285 2261.5,-285 2261.5,-291 2255.5,-297 2249.5,-297\"/>\n<text text-anchor=\"middle\" x=\"2209.5\" y=\"-275.3\" font-family=\"Times,serif\" font-size=\"14.00\" fill=\"#000000\">employment&lt;2</text>\n</g>\n<!-- 2&#45;&gt;5 -->\n<g id=\"edge31\" class=\"edge\">\n<title>2&#45;&gt;5</title>\n<path fill=\"none\" stroke=\"#0000ff\" d=\"M2209.5,-347.9735C2209.5,-336.1918 2209.5,-320.5607 2209.5,-307.1581\"/>\n<polygon fill=\"#0000ff\" stroke=\"#0000ff\" points=\"2213.0001,-307.0033 2209.5,-297.0034 2206.0001,-307.0034 2213.0001,-307.0033\"/>\n<text text-anchor=\"middle\" x=\"2245\" y=\"-318.8\" font-family=\"Times,serif\" font-size=\"14.00\" fill=\"#000000\">yes, missing</text>\n</g>\n<!-- 6 -->\n<g id=\"node33\" class=\"node\">\n<title>6</title>\n<path fill=\"#78cb0e\" stroke=\"#000000\" d=\"M2641,-297C2641,-297 2606,-297 2606,-297 2600,-297 2594,-291 2594,-285 2594,-285 2594,-273 2594,-273 2594,-267 2600,-261 2606,-261 2606,-261 2641,-261 2641,-261 2647,-261 2653,-267 2653,-273 2653,-273 2653,-285 2653,-285 2653,-291 2647,-297 2641,-297\"/>\n<text text-anchor=\"middle\" x=\"2623.5\" y=\"-275.3\" font-family=\"Times,serif\" font-size=\"14.00\" fill=\"#000000\">age&lt;28</text>\n</g>\n<!-- 2&#45;&gt;6 -->\n<g id=\"edge32\" class=\"edge\">\n<title>2&#45;&gt;6</title>\n<path fill=\"none\" stroke=\"#ff0000\" d=\"M2253.8053,-356.6895C2335.0555,-339.6151 2506.6469,-303.5561 2584.0979,-287.2801\"/>\n<polygon fill=\"#ff0000\" stroke=\"#ff0000\" points=\"2584.8777,-290.6928 2593.9441,-285.211 2583.4381,-283.8424 2584.8777,-290.6928\"/>\n<text text-anchor=\"middle\" x=\"2449.5\" y=\"-318.8\" font-family=\"Times,serif\" font-size=\"14.00\" fill=\"#000000\">no</text>\n</g>\n<!-- 7 -->\n<g id=\"node6\" class=\"node\">\n<title>7</title>\n<path fill=\"#78cb0e\" stroke=\"#000000\" d=\"M476,-210C476,-210 405,-210 405,-210 399,-210 393,-204 393,-198 393,-198 393,-186 393,-186 393,-180 399,-174 405,-174 405,-174 476,-174 476,-174 482,-174 488,-180 488,-186 488,-186 488,-198 488,-198 488,-204 482,-210 476,-210\"/>\n<text text-anchor=\"middle\" x=\"440.5\" y=\"-188.3\" font-family=\"Times,serif\" font-size=\"14.00\" fill=\"#000000\">interes&lt;18.75</text>\n</g>\n<!-- 3&#45;&gt;7 -->\n<g id=\"edge5\" class=\"edge\">\n<title>3&#45;&gt;7</title>\n<path fill=\"none\" stroke=\"#0000ff\" d=\"M760.3833,-266.8114C691.2494,-250.643 569.6201,-222.1974 497.9169,-205.4282\"/>\n<polygon fill=\"#0000ff\" stroke=\"#0000ff\" points=\"498.6756,-202.0112 488.1413,-203.1419 497.0815,-208.8273 498.6756,-202.0112\"/>\n<text text-anchor=\"middle\" x=\"685\" y=\"-231.8\" font-family=\"Times,serif\" font-size=\"14.00\" fill=\"#000000\">yes, missing</text>\n</g>\n<!-- 8 -->\n<g id=\"node7\" class=\"node\">\n<title>8</title>\n<path fill=\"#78cb0e\" stroke=\"#000000\" d=\"M863.5,-210C863.5,-210 761.5,-210 761.5,-210 755.5,-210 749.5,-204 749.5,-198 749.5,-198 749.5,-186 749.5,-186 749.5,-180 755.5,-174 761.5,-174 761.5,-174 863.5,-174 863.5,-174 869.5,-174 875.5,-180 875.5,-186 875.5,-186 875.5,-198 875.5,-198 875.5,-204 869.5,-210 863.5,-210\"/>\n<text text-anchor=\"middle\" x=\"812.5\" y=\"-188.3\" font-family=\"Times,serif\" font-size=\"14.00\" fill=\"#000000\">parte_mes_pago&lt;3</text>\n</g>\n<!-- 3&#45;&gt;8 -->\n<g id=\"edge6\" class=\"edge\">\n<title>3&#45;&gt;8</title>\n<path fill=\"none\" stroke=\"#ff0000\" d=\"M812.5,-260.9735C812.5,-249.1918 812.5,-233.5607 812.5,-220.1581\"/>\n<polygon fill=\"#ff0000\" stroke=\"#ff0000\" points=\"816.0001,-220.0033 812.5,-210.0034 809.0001,-220.0034 816.0001,-220.0033\"/>\n<text text-anchor=\"middle\" x=\"820.5\" y=\"-231.8\" font-family=\"Times,serif\" font-size=\"14.00\" fill=\"#000000\">no</text>\n</g>\n<!-- 9 -->\n<g id=\"node20\" class=\"node\">\n<title>9</title>\n<path fill=\"#78cb0e\" stroke=\"#000000\" d=\"M1331,-210C1331,-210 1296,-210 1296,-210 1290,-210 1284,-204 1284,-198 1284,-198 1284,-186 1284,-186 1284,-180 1290,-174 1296,-174 1296,-174 1331,-174 1331,-174 1337,-174 1343,-180 1343,-186 1343,-186 1343,-198 1343,-198 1343,-204 1337,-210 1331,-210\"/>\n<text text-anchor=\"middle\" x=\"1313.5\" y=\"-188.3\" font-family=\"Times,serif\" font-size=\"14.00\" fill=\"#000000\">age&lt;28</text>\n</g>\n<!-- 4&#45;&gt;9 -->\n<g id=\"edge19\" class=\"edge\">\n<title>4&#45;&gt;9</title>\n<path fill=\"none\" stroke=\"#0000ff\" d=\"M1398.3295,-260.9735C1382.5481,-248.1419 1361.1511,-230.7443 1343.7953,-216.6326\"/>\n<polygon fill=\"#0000ff\" stroke=\"#0000ff\" points=\"1345.6091,-213.5964 1335.6421,-210.0034 1341.193,-219.0277 1345.6091,-213.5964\"/>\n<text text-anchor=\"middle\" x=\"1409\" y=\"-231.8\" font-family=\"Times,serif\" font-size=\"14.00\" fill=\"#000000\">yes, missing</text>\n</g>\n<!-- 10 -->\n<g id=\"node21\" class=\"node\">\n<title>10</title>\n<path fill=\"#78cb0e\" stroke=\"#000000\" d=\"M1578.5,-210C1578.5,-210 1476.5,-210 1476.5,-210 1470.5,-210 1464.5,-204 1464.5,-198 1464.5,-198 1464.5,-186 1464.5,-186 1464.5,-180 1470.5,-174 1476.5,-174 1476.5,-174 1578.5,-174 1578.5,-174 1584.5,-174 1590.5,-180 1590.5,-186 1590.5,-186 1590.5,-198 1590.5,-198 1590.5,-204 1584.5,-210 1578.5,-210\"/>\n<text text-anchor=\"middle\" x=\"1527.5\" y=\"-188.3\" font-family=\"Times,serif\" font-size=\"14.00\" fill=\"#000000\">parte_mes_pago&lt;3</text>\n</g>\n<!-- 4&#45;&gt;10 -->\n<g id=\"edge20\" class=\"edge\">\n<title>4&#45;&gt;10</title>\n<path fill=\"none\" stroke=\"#ff0000\" d=\"M1442.6705,-260.9735C1458.4519,-248.1419 1479.8489,-230.7443 1497.2047,-216.6326\"/>\n<polygon fill=\"#ff0000\" stroke=\"#ff0000\" points=\"1499.807,-219.0277 1505.3579,-210.0034 1495.3909,-213.5964 1499.807,-219.0277\"/>\n<text text-anchor=\"middle\" x=\"1488.5\" y=\"-231.8\" font-family=\"Times,serif\" font-size=\"14.00\" fill=\"#000000\">no</text>\n</g>\n<!-- 15 -->\n<g id=\"node8\" class=\"node\">\n<title>15</title>\n<path fill=\"#78cb0e\" stroke=\"#000000\" d=\"M231,-123C231,-123 196,-123 196,-123 190,-123 184,-117 184,-111 184,-111 184,-99 184,-99 184,-93 190,-87 196,-87 196,-87 231,-87 231,-87 237,-87 243,-93 243,-99 243,-99 243,-111 243,-111 243,-117 237,-123 231,-123\"/>\n<text text-anchor=\"middle\" x=\"213.5\" y=\"-101.3\" font-family=\"Times,serif\" font-size=\"14.00\" fill=\"#000000\">age&lt;39</text>\n</g>\n<!-- 7&#45;&gt;15 -->\n<g id=\"edge7\" class=\"edge\">\n<title>7&#45;&gt;15</title>\n<path fill=\"none\" stroke=\"#0000ff\" d=\"M393.4655,-173.9735C351.8039,-158.0063 291.6951,-134.969 252.6134,-119.9906\"/>\n<polygon fill=\"#0000ff\" stroke=\"#0000ff\" points=\"253.7447,-116.676 243.1544,-116.3654 251.2395,-123.2124 253.7447,-116.676\"/>\n<text text-anchor=\"middle\" x=\"377\" y=\"-144.8\" font-family=\"Times,serif\" font-size=\"14.00\" fill=\"#000000\">yes, missing</text>\n</g>\n<!-- 16 -->\n<g id=\"node9\" class=\"node\">\n<title>16</title>\n<path fill=\"#78cb0e\" stroke=\"#000000\" d=\"M479,-123C479,-123 402,-123 402,-123 396,-123 390,-117 390,-111 390,-111 390,-99 390,-99 390,-93 396,-87 402,-87 402,-87 479,-87 479,-87 485,-87 491,-93 491,-99 491,-99 491,-111 491,-111 491,-117 485,-123 479,-123\"/>\n<text text-anchor=\"middle\" x=\"440.5\" y=\"-101.3\" font-family=\"Times,serif\" font-size=\"14.00\" fill=\"#000000\">loannumber&lt;4</text>\n</g>\n<!-- 7&#45;&gt;16 -->\n<g id=\"edge8\" class=\"edge\">\n<title>7&#45;&gt;16</title>\n<path fill=\"none\" stroke=\"#ff0000\" d=\"M440.5,-173.9735C440.5,-162.1918 440.5,-146.5607 440.5,-133.1581\"/>\n<polygon fill=\"#ff0000\" stroke=\"#ff0000\" points=\"444.0001,-133.0033 440.5,-123.0034 437.0001,-133.0034 444.0001,-133.0033\"/>\n<text text-anchor=\"middle\" x=\"448.5\" y=\"-144.8\" font-family=\"Times,serif\" font-size=\"14.00\" fill=\"#000000\">no</text>\n</g>\n<!-- 17 -->\n<g id=\"node14\" class=\"node\">\n<title>17</title>\n<path fill=\"#78cb0e\" stroke=\"#000000\" d=\"M802.5,-123C802.5,-123 704.5,-123 704.5,-123 698.5,-123 692.5,-117 692.5,-111 692.5,-111 692.5,-99 692.5,-99 692.5,-93 698.5,-87 704.5,-87 704.5,-87 802.5,-87 802.5,-87 808.5,-87 814.5,-93 814.5,-99 814.5,-99 814.5,-111 814.5,-111 814.5,-117 808.5,-123 802.5,-123\"/>\n<text text-anchor=\"middle\" x=\"753.5\" y=\"-101.3\" font-family=\"Times,serif\" font-size=\"14.00\" fill=\"#000000\">due_per_day&lt;964</text>\n</g>\n<!-- 8&#45;&gt;17 -->\n<g id=\"edge13\" class=\"edge\">\n<title>8&#45;&gt;17</title>\n<path fill=\"none\" stroke=\"#0000ff\" d=\"M800.2752,-173.9735C791.9688,-161.7252 780.8411,-145.3165 771.5232,-131.5766\"/>\n<polygon fill=\"#0000ff\" stroke=\"#0000ff\" points=\"774.2186,-129.3153 765.7092,-123.0034 768.4252,-133.2442 774.2186,-129.3153\"/>\n<text text-anchor=\"middle\" x=\"823\" y=\"-144.8\" font-family=\"Times,serif\" font-size=\"14.00\" fill=\"#000000\">yes, missing</text>\n</g>\n<!-- 18 -->\n<g id=\"node15\" class=\"node\">\n<title>18</title>\n<path fill=\"#78cb0e\" stroke=\"#000000\" d=\"M927.5,-123C927.5,-123 863.5,-123 863.5,-123 857.5,-123 851.5,-117 851.5,-111 851.5,-111 851.5,-99 851.5,-99 851.5,-93 857.5,-87 863.5,-87 863.5,-87 927.5,-87 927.5,-87 933.5,-87 939.5,-93 939.5,-99 939.5,-99 939.5,-111 939.5,-111 939.5,-117 933.5,-123 927.5,-123\"/>\n<text text-anchor=\"middle\" x=\"895.5\" y=\"-101.3\" font-family=\"Times,serif\" font-size=\"14.00\" fill=\"#000000\">interes&lt;27.5</text>\n</g>\n<!-- 8&#45;&gt;18 -->\n<g id=\"edge14\" class=\"edge\">\n<title>8&#45;&gt;18</title>\n<path fill=\"none\" stroke=\"#ff0000\" d=\"M840.5847,-173.955C847.8176,-168.636 855.3018,-162.4877 861.5,-156 868.4099,-148.7674 874.8295,-139.97 880.1871,-131.7322\"/>\n<polygon fill=\"#ff0000\" stroke=\"#ff0000\" points=\"883.2395,-133.4518 885.5569,-123.1135 877.2983,-129.7501 883.2395,-133.4518\"/>\n<text text-anchor=\"middle\" x=\"881.5\" y=\"-144.8\" font-family=\"Times,serif\" font-size=\"14.00\" fill=\"#000000\">no</text>\n</g>\n<!-- 31 -->\n<g id=\"node10\" class=\"node\">\n<title>31</title>\n<polygon fill=\"#e48038\" stroke=\"#000000\" points=\"131,-36 0,-36 0,0 131,0 131,-36\"/>\n<text text-anchor=\"middle\" x=\"65.5\" y=\"-14.3\" font-family=\"Times,serif\" font-size=\"14.00\" fill=\"#000000\">leaf=0.0270270258</text>\n</g>\n<!-- 15&#45;&gt;31 -->\n<g id=\"edge9\" class=\"edge\">\n<title>15&#45;&gt;31</title>\n<path fill=\"none\" stroke=\"#0000ff\" d=\"M183.7219,-92.058C169.7223,-85.6342 152.9668,-77.4504 138.5,-69 124.6164,-60.8903 109.9654,-50.9527 97.4618,-42.0109\"/>\n<polygon fill=\"#0000ff\" stroke=\"#0000ff\" points=\"99.336,-39.0467 89.1844,-36.0141 95.2292,-44.7154 99.336,-39.0467\"/>\n<text text-anchor=\"middle\" x=\"174\" y=\"-57.8\" font-family=\"Times,serif\" font-size=\"14.00\" fill=\"#000000\">yes, missing</text>\n</g>\n<!-- 32 -->\n<g id=\"node11\" class=\"node\">\n<title>32</title>\n<polygon fill=\"#e48038\" stroke=\"#000000\" points=\"277.5,-36 149.5,-36 149.5,0 277.5,0 277.5,-36\"/>\n<text text-anchor=\"middle\" x=\"213.5\" y=\"-14.3\" font-family=\"Times,serif\" font-size=\"14.00\" fill=\"#000000\">leaf=&#45;0.200000003</text>\n</g>\n<!-- 15&#45;&gt;32 -->\n<g id=\"edge10\" class=\"edge\">\n<title>15&#45;&gt;32</title>\n<path fill=\"none\" stroke=\"#ff0000\" d=\"M213.5,-86.9735C213.5,-75.1918 213.5,-59.5607 213.5,-46.1581\"/>\n<polygon fill=\"#ff0000\" stroke=\"#ff0000\" points=\"217.0001,-46.0033 213.5,-36.0034 210.0001,-46.0034 217.0001,-46.0033\"/>\n<text text-anchor=\"middle\" x=\"221.5\" y=\"-57.8\" font-family=\"Times,serif\" font-size=\"14.00\" fill=\"#000000\">no</text>\n</g>\n<!-- 33 -->\n<g id=\"node12\" class=\"node\">\n<title>33</title>\n<polygon fill=\"#e48038\" stroke=\"#000000\" points=\"427,-36 296,-36 296,0 427,0 427,-36\"/>\n<text text-anchor=\"middle\" x=\"361.5\" y=\"-14.3\" font-family=\"Times,serif\" font-size=\"14.00\" fill=\"#000000\">leaf=0.0637362674</text>\n</g>\n<!-- 16&#45;&gt;33 -->\n<g id=\"edge11\" class=\"edge\">\n<title>16&#45;&gt;33</title>\n<path fill=\"none\" stroke=\"#0000ff\" d=\"M406.4625,-86.9274C398.9163,-81.8376 391.4145,-75.8045 385.5,-69 379.6582,-62.2791 374.937,-53.8921 371.2778,-45.8727\"/>\n<polygon fill=\"#0000ff\" stroke=\"#0000ff\" points=\"374.4126,-44.2959 367.3372,-36.4099 367.9505,-46.9869 374.4126,-44.2959\"/>\n<text text-anchor=\"middle\" x=\"421\" y=\"-57.8\" font-family=\"Times,serif\" font-size=\"14.00\" fill=\"#000000\">yes, missing</text>\n</g>\n<!-- 34 -->\n<g id=\"node13\" class=\"node\">\n<title>34</title>\n<polygon fill=\"#e48038\" stroke=\"#000000\" points=\"524,-36 445,-36 445,0 524,0 524,-36\"/>\n<text text-anchor=\"middle\" x=\"484.5\" y=\"-14.3\" font-family=\"Times,serif\" font-size=\"14.00\" fill=\"#000000\">leaf=0.125</text>\n</g>\n<!-- 16&#45;&gt;34 -->\n<g id=\"edge12\" class=\"edge\">\n<title>16&#45;&gt;34</title>\n<path fill=\"none\" stroke=\"#ff0000\" d=\"M449.6168,-86.9735C455.7524,-74.8418 463.9522,-58.6287 470.8601,-44.9698\"/>\n<polygon fill=\"#ff0000\" stroke=\"#ff0000\" points=\"474.005,-46.5066 475.3949,-36.0034 467.7584,-43.3474 474.005,-46.5066\"/>\n<text text-anchor=\"middle\" x=\"473.5\" y=\"-57.8\" font-family=\"Times,serif\" font-size=\"14.00\" fill=\"#000000\">no</text>\n</g>\n<!-- 35 -->\n<g id=\"node16\" class=\"node\">\n<title>35</title>\n<polygon fill=\"#e48038\" stroke=\"#000000\" points=\"673,-36 542,-36 542,0 673,0 673,-36\"/>\n<text text-anchor=\"middle\" x=\"607.5\" y=\"-14.3\" font-family=\"Times,serif\" font-size=\"14.00\" fill=\"#000000\">leaf=0.0910755172</text>\n</g>\n<!-- 17&#45;&gt;35 -->\n<g id=\"edge15\" class=\"edge\">\n<title>17&#45;&gt;35</title>\n<path fill=\"none\" stroke=\"#0000ff\" d=\"M712.3398,-86.8395C701.1539,-81.4765 689.1841,-75.3351 678.5,-69 664.9233,-60.9498 650.6599,-51.0234 638.5085,-42.0738\"/>\n<polygon fill=\"#0000ff\" stroke=\"#0000ff\" points=\"640.5743,-39.2483 630.4677,-36.0691 636.3858,-44.8569 640.5743,-39.2483\"/>\n<text text-anchor=\"middle\" x=\"714\" y=\"-57.8\" font-family=\"Times,serif\" font-size=\"14.00\" fill=\"#000000\">yes, missing</text>\n</g>\n<!-- 36 -->\n<g id=\"node17\" class=\"node\">\n<title>36</title>\n<polygon fill=\"#e48038\" stroke=\"#000000\" points=\"815.5,-36 691.5,-36 691.5,0 815.5,0 815.5,-36\"/>\n<text text-anchor=\"middle\" x=\"753.5\" y=\"-14.3\" font-family=\"Times,serif\" font-size=\"14.00\" fill=\"#000000\">leaf=0.200000003</text>\n</g>\n<!-- 17&#45;&gt;36 -->\n<g id=\"edge16\" class=\"edge\">\n<title>17&#45;&gt;36</title>\n<path fill=\"none\" stroke=\"#ff0000\" d=\"M753.5,-86.9735C753.5,-75.1918 753.5,-59.5607 753.5,-46.1581\"/>\n<polygon fill=\"#ff0000\" stroke=\"#ff0000\" points=\"757.0001,-46.0033 753.5,-36.0034 750.0001,-46.0034 757.0001,-46.0033\"/>\n<text text-anchor=\"middle\" x=\"761.5\" y=\"-57.8\" font-family=\"Times,serif\" font-size=\"14.00\" fill=\"#000000\">no</text>\n</g>\n<!-- 37 -->\n<g id=\"node18\" class=\"node\">\n<title>37</title>\n<polygon fill=\"#e48038\" stroke=\"#000000\" points=\"957.5,-36 833.5,-36 833.5,0 957.5,0 957.5,-36\"/>\n<text text-anchor=\"middle\" x=\"895.5\" y=\"-14.3\" font-family=\"Times,serif\" font-size=\"14.00\" fill=\"#000000\">leaf=0.159124091</text>\n</g>\n<!-- 18&#45;&gt;37 -->\n<g id=\"edge17\" class=\"edge\">\n<title>18&#45;&gt;37</title>\n<path fill=\"none\" stroke=\"#0000ff\" d=\"M895.5,-86.9735C895.5,-75.1918 895.5,-59.5607 895.5,-46.1581\"/>\n<polygon fill=\"#0000ff\" stroke=\"#0000ff\" points=\"899.0001,-46.0033 895.5,-36.0034 892.0001,-46.0034 899.0001,-46.0033\"/>\n<text text-anchor=\"middle\" x=\"931\" y=\"-57.8\" font-family=\"Times,serif\" font-size=\"14.00\" fill=\"#000000\">yes, missing</text>\n</g>\n<!-- 38 -->\n<g id=\"node19\" class=\"node\">\n<title>38</title>\n<polygon fill=\"#e48038\" stroke=\"#000000\" points=\"1091.5,-36 975.5,-36 975.5,0 1091.5,0 1091.5,-36\"/>\n<text text-anchor=\"middle\" x=\"1033.5\" y=\"-14.3\" font-family=\"Times,serif\" font-size=\"14.00\" fill=\"#000000\">leaf=0.10559006</text>\n</g>\n<!-- 18&#45;&gt;38 -->\n<g id=\"edge18\" class=\"edge\">\n<title>18&#45;&gt;38</title>\n<path fill=\"none\" stroke=\"#ff0000\" d=\"M937.6891,-86.8676C948.6474,-81.5912 960.2469,-75.4858 970.5,-69 982.7252,-61.2668 995.2906,-51.5208 1005.9518,-42.6253\"/>\n<polygon fill=\"#ff0000\" stroke=\"#ff0000\" points=\"1008.3479,-45.1821 1013.6961,-36.0361 1003.8117,-39.8507 1008.3479,-45.1821\"/>\n<text text-anchor=\"middle\" x=\"999.5\" y=\"-57.8\" font-family=\"Times,serif\" font-size=\"14.00\" fill=\"#000000\">no</text>\n</g>\n<!-- 19 -->\n<g id=\"node22\" class=\"node\">\n<title>19</title>\n<polygon fill=\"#e48038\" stroke=\"#000000\" points=\"1248,-123 1117,-123 1117,-87 1248,-87 1248,-123\"/>\n<text text-anchor=\"middle\" x=\"1182.5\" y=\"-101.3\" font-family=\"Times,serif\" font-size=\"14.00\" fill=\"#000000\">leaf=0.0666666701</text>\n</g>\n<!-- 9&#45;&gt;19 -->\n<g id=\"edge21\" class=\"edge\">\n<title>9&#45;&gt;19</title>\n<path fill=\"none\" stroke=\"#0000ff\" d=\"M1283.9343,-180.1994C1269.6709,-173.9189 1252.6321,-165.526 1238.5,-156 1227.5961,-148.65 1216.6659,-139.2602 1207.3939,-130.5457\"/>\n<polygon fill=\"#0000ff\" stroke=\"#0000ff\" points=\"1209.6593,-127.868 1200.0322,-123.444 1204.7992,-132.9059 1209.6593,-127.868\"/>\n<text text-anchor=\"middle\" x=\"1274\" y=\"-144.8\" font-family=\"Times,serif\" font-size=\"14.00\" fill=\"#000000\">yes, missing</text>\n</g>\n<!-- 20 -->\n<g id=\"node23\" class=\"node\">\n<title>20</title>\n<path fill=\"#78cb0e\" stroke=\"#000000\" d=\"M1349,-123C1349,-123 1278,-123 1278,-123 1272,-123 1266,-117 1266,-111 1266,-111 1266,-99 1266,-99 1266,-93 1272,-87 1278,-87 1278,-87 1349,-87 1349,-87 1355,-87 1361,-93 1361,-99 1361,-99 1361,-111 1361,-111 1361,-117 1355,-123 1349,-123\"/>\n<text text-anchor=\"middle\" x=\"1313.5\" y=\"-101.3\" font-family=\"Times,serif\" font-size=\"14.00\" fill=\"#000000\">interes&lt;26.25</text>\n</g>\n<!-- 9&#45;&gt;20 -->\n<g id=\"edge22\" class=\"edge\">\n<title>9&#45;&gt;20</title>\n<path fill=\"none\" stroke=\"#ff0000\" d=\"M1313.5,-173.9735C1313.5,-162.1918 1313.5,-146.5607 1313.5,-133.1581\"/>\n<polygon fill=\"#ff0000\" stroke=\"#ff0000\" points=\"1317.0001,-133.0033 1313.5,-123.0034 1310.0001,-133.0034 1317.0001,-133.0033\"/>\n<text text-anchor=\"middle\" x=\"1321.5\" y=\"-144.8\" font-family=\"Times,serif\" font-size=\"14.00\" fill=\"#000000\">no</text>\n</g>\n<!-- 21 -->\n<g id=\"node26\" class=\"node\">\n<title>21</title>\n<path fill=\"#78cb0e\" stroke=\"#000000\" d=\"M1580.5,-123C1580.5,-123 1474.5,-123 1474.5,-123 1468.5,-123 1462.5,-117 1462.5,-111 1462.5,-111 1462.5,-99 1462.5,-99 1462.5,-93 1468.5,-87 1474.5,-87 1474.5,-87 1580.5,-87 1580.5,-87 1586.5,-87 1592.5,-93 1592.5,-99 1592.5,-99 1592.5,-111 1592.5,-111 1592.5,-117 1586.5,-123 1580.5,-123\"/>\n<text text-anchor=\"middle\" x=\"1527.5\" y=\"-101.3\" font-family=\"Times,serif\" font-size=\"14.00\" fill=\"#000000\">due_per_day&lt;1475</text>\n</g>\n<!-- 10&#45;&gt;21 -->\n<g id=\"edge25\" class=\"edge\">\n<title>10&#45;&gt;21</title>\n<path fill=\"none\" stroke=\"#0000ff\" d=\"M1527.5,-173.9735C1527.5,-162.1918 1527.5,-146.5607 1527.5,-133.1581\"/>\n<polygon fill=\"#0000ff\" stroke=\"#0000ff\" points=\"1531.0001,-133.0033 1527.5,-123.0034 1524.0001,-133.0034 1531.0001,-133.0033\"/>\n<text text-anchor=\"middle\" x=\"1563\" y=\"-144.8\" font-family=\"Times,serif\" font-size=\"14.00\" fill=\"#000000\">yes, missing</text>\n</g>\n<!-- 22 -->\n<g id=\"node27\" class=\"node\">\n<title>22</title>\n<path fill=\"#78cb0e\" stroke=\"#000000\" d=\"M1779,-123C1779,-123 1708,-123 1708,-123 1702,-123 1696,-117 1696,-111 1696,-111 1696,-99 1696,-99 1696,-93 1702,-87 1708,-87 1708,-87 1779,-87 1779,-87 1785,-87 1791,-93 1791,-99 1791,-99 1791,-111 1791,-111 1791,-117 1785,-123 1779,-123\"/>\n<text text-anchor=\"middle\" x=\"1743.5\" y=\"-101.3\" font-family=\"Times,serif\" font-size=\"14.00\" fill=\"#000000\">interes&lt;14.25</text>\n</g>\n<!-- 10&#45;&gt;22 -->\n<g id=\"edge26\" class=\"edge\">\n<title>10&#45;&gt;22</title>\n<path fill=\"none\" stroke=\"#ff0000\" d=\"M1572.2553,-173.9735C1606.2853,-160.267 1653.2499,-141.3507 1689.3897,-126.7944\"/>\n<polygon fill=\"#ff0000\" stroke=\"#ff0000\" points=\"1690.8338,-129.9861 1698.802,-123.0034 1688.2185,-123.493 1690.8338,-129.9861\"/>\n<text text-anchor=\"middle\" x=\"1656.5\" y=\"-144.8\" font-family=\"Times,serif\" font-size=\"14.00\" fill=\"#000000\">no</text>\n</g>\n<!-- 41 -->\n<g id=\"node24\" class=\"node\">\n<title>41</title>\n<polygon fill=\"#e48038\" stroke=\"#000000\" points=\"1233.5,-36 1109.5,-36 1109.5,0 1233.5,0 1233.5,-36\"/>\n<text text-anchor=\"middle\" x=\"1171.5\" y=\"-14.3\" font-family=\"Times,serif\" font-size=\"14.00\" fill=\"#000000\">leaf=0.180392161</text>\n</g>\n<!-- 20&#45;&gt;41 -->\n<g id=\"edge23\" class=\"edge\">\n<title>20&#45;&gt;41</title>\n<path fill=\"none\" stroke=\"#0000ff\" d=\"M1271.8318,-86.8472C1260.7584,-81.5284 1248.9721,-75.4072 1238.5,-69 1225.6563,-61.1418 1212.3017,-51.3511 1200.9266,-42.455\"/>\n<polygon fill=\"#0000ff\" stroke=\"#0000ff\" points=\"1203.0348,-39.6598 1193.0291,-36.1759 1198.6783,-45.139 1203.0348,-39.6598\"/>\n<text text-anchor=\"middle\" x=\"1274\" y=\"-57.8\" font-family=\"Times,serif\" font-size=\"14.00\" fill=\"#000000\">yes, missing</text>\n</g>\n<!-- 42 -->\n<g id=\"node25\" class=\"node\">\n<title>42</title>\n<polygon fill=\"#e48038\" stroke=\"#000000\" points=\"1375.5,-36 1251.5,-36 1251.5,0 1375.5,0 1375.5,-36\"/>\n<text text-anchor=\"middle\" x=\"1313.5\" y=\"-14.3\" font-family=\"Times,serif\" font-size=\"14.00\" fill=\"#000000\">leaf=0.144827589</text>\n</g>\n<!-- 20&#45;&gt;42 -->\n<g id=\"edge24\" class=\"edge\">\n<title>20&#45;&gt;42</title>\n<path fill=\"none\" stroke=\"#ff0000\" d=\"M1313.5,-86.9735C1313.5,-75.1918 1313.5,-59.5607 1313.5,-46.1581\"/>\n<polygon fill=\"#ff0000\" stroke=\"#ff0000\" points=\"1317.0001,-46.0033 1313.5,-36.0034 1310.0001,-46.0034 1317.0001,-46.0033\"/>\n<text text-anchor=\"middle\" x=\"1321.5\" y=\"-57.8\" font-family=\"Times,serif\" font-size=\"14.00\" fill=\"#000000\">no</text>\n</g>\n<!-- 43 -->\n<g id=\"node28\" class=\"node\">\n<title>43</title>\n<polygon fill=\"#e48038\" stroke=\"#000000\" points=\"1517.5,-36 1393.5,-36 1393.5,0 1517.5,0 1517.5,-36\"/>\n<text text-anchor=\"middle\" x=\"1455.5\" y=\"-14.3\" font-family=\"Times,serif\" font-size=\"14.00\" fill=\"#000000\">leaf=0.120855622</text>\n</g>\n<!-- 21&#45;&gt;43 -->\n<g id=\"edge27\" class=\"edge\">\n<title>21&#45;&gt;43</title>\n<path fill=\"none\" stroke=\"#0000ff\" d=\"M1512.5816,-86.9735C1502.2519,-74.4919 1488.3468,-57.6899 1476.8471,-43.7944\"/>\n<polygon fill=\"#0000ff\" stroke=\"#0000ff\" points=\"1479.4714,-41.4758 1470.3993,-36.0034 1474.0787,-45.9388 1479.4714,-41.4758\"/>\n<text text-anchor=\"middle\" x=\"1532\" y=\"-57.8\" font-family=\"Times,serif\" font-size=\"14.00\" fill=\"#000000\">yes, missing</text>\n</g>\n<!-- 44 -->\n<g id=\"node29\" class=\"node\">\n<title>44</title>\n<polygon fill=\"#e48038\" stroke=\"#000000\" points=\"1663.5,-36 1535.5,-36 1535.5,0 1663.5,0 1663.5,-36\"/>\n<text text-anchor=\"middle\" x=\"1599.5\" y=\"-14.3\" font-family=\"Times,serif\" font-size=\"14.00\" fill=\"#000000\">leaf=&#45;0.200000003</text>\n</g>\n<!-- 21&#45;&gt;44 -->\n<g id=\"edge28\" class=\"edge\">\n<title>21&#45;&gt;44</title>\n<path fill=\"none\" stroke=\"#ff0000\" d=\"M1553.2192,-86.718C1559.6405,-81.4427 1566.1998,-75.3753 1571.5,-69 1577.4408,-61.8542 1582.7279,-53.2578 1587.0638,-45.1763\"/>\n<polygon fill=\"#ff0000\" stroke=\"#ff0000\" points=\"1590.2942,-46.5448 1591.6991,-36.0435 1584.0521,-43.3766 1590.2942,-46.5448\"/>\n<text text-anchor=\"middle\" x=\"1590.5\" y=\"-57.8\" font-family=\"Times,serif\" font-size=\"14.00\" fill=\"#000000\">no</text>\n</g>\n<!-- 45 -->\n<g id=\"node30\" class=\"node\">\n<title>45</title>\n<polygon fill=\"#e48038\" stroke=\"#000000\" points=\"1805.5,-36 1681.5,-36 1681.5,0 1805.5,0 1805.5,-36\"/>\n<text text-anchor=\"middle\" x=\"1743.5\" y=\"-14.3\" font-family=\"Times,serif\" font-size=\"14.00\" fill=\"#000000\">leaf=0.200000003</text>\n</g>\n<!-- 22&#45;&gt;45 -->\n<g id=\"edge29\" class=\"edge\">\n<title>22&#45;&gt;45</title>\n<path fill=\"none\" stroke=\"#0000ff\" d=\"M1743.5,-86.9735C1743.5,-75.1918 1743.5,-59.5607 1743.5,-46.1581\"/>\n<polygon fill=\"#0000ff\" stroke=\"#0000ff\" points=\"1747.0001,-46.0033 1743.5,-36.0034 1740.0001,-46.0034 1747.0001,-46.0033\"/>\n<text text-anchor=\"middle\" x=\"1779\" y=\"-57.8\" font-family=\"Times,serif\" font-size=\"14.00\" fill=\"#000000\">yes, missing</text>\n</g>\n<!-- 46 -->\n<g id=\"node31\" class=\"node\">\n<title>46</title>\n<polygon fill=\"#e48038\" stroke=\"#000000\" points=\"1917.5,-36 1823.5,-36 1823.5,0 1917.5,0 1917.5,-36\"/>\n<text text-anchor=\"middle\" x=\"1870.5\" y=\"-14.3\" font-family=\"Times,serif\" font-size=\"14.00\" fill=\"#000000\">leaf=0.15625</text>\n</g>\n<!-- 22&#45;&gt;46 -->\n<g id=\"edge30\" class=\"edge\">\n<title>22&#45;&gt;46</title>\n<path fill=\"none\" stroke=\"#ff0000\" d=\"M1787.2983,-86.9485C1797.8963,-81.7879 1808.9217,-75.7173 1818.5,-69 1828.9095,-61.6997 1839.1636,-52.2667 1847.7788,-43.5023\"/>\n<polygon fill=\"#ff0000\" stroke=\"#ff0000\" points=\"1850.5233,-45.6958 1854.8904,-36.0428 1845.4568,-40.8656 1850.5233,-45.6958\"/>\n<text text-anchor=\"middle\" x=\"1844.5\" y=\"-57.8\" font-family=\"Times,serif\" font-size=\"14.00\" fill=\"#000000\">no</text>\n</g>\n<!-- 11 -->\n<g id=\"node34\" class=\"node\">\n<title>11</title>\n<path fill=\"#78cb0e\" stroke=\"#000000\" d=\"M2191,-210C2191,-210 2086,-210 2086,-210 2080,-210 2074,-204 2074,-198 2074,-198 2074,-186 2074,-186 2074,-180 2080,-174 2086,-174 2086,-174 2191,-174 2191,-174 2197,-174 2203,-180 2203,-186 2203,-186 2203,-198 2203,-198 2203,-204 2197,-210 2191,-210\"/>\n<text text-anchor=\"middle\" x=\"2138.5\" y=\"-188.3\" font-family=\"Times,serif\" font-size=\"14.00\" fill=\"#000000\">due_per_day&lt;1123</text>\n</g>\n<!-- 5&#45;&gt;11 -->\n<g id=\"edge33\" class=\"edge\">\n<title>5&#45;&gt;11</title>\n<path fill=\"none\" stroke=\"#0000ff\" d=\"M2191.3813,-260.7331C2186.1066,-255.1739 2180.4383,-248.9562 2175.5,-243 2169.1422,-235.3316 2162.6258,-226.6656 2156.8681,-218.682\"/>\n<polygon fill=\"#0000ff\" stroke=\"#0000ff\" points=\"2159.6059,-216.4923 2150.9617,-210.3663 2153.899,-220.5458 2159.6059,-216.4923\"/>\n<text text-anchor=\"middle\" x=\"2211\" y=\"-231.8\" font-family=\"Times,serif\" font-size=\"14.00\" fill=\"#000000\">yes, missing</text>\n</g>\n<!-- 12 -->\n<g id=\"node35\" class=\"node\">\n<title>12</title>\n<path fill=\"#78cb0e\" stroke=\"#000000\" d=\"M2316,-210C2316,-210 2245,-210 2245,-210 2239,-210 2233,-204 2233,-198 2233,-198 2233,-186 2233,-186 2233,-180 2239,-174 2245,-174 2245,-174 2316,-174 2316,-174 2322,-174 2328,-180 2328,-186 2328,-186 2328,-198 2328,-198 2328,-204 2322,-210 2316,-210\"/>\n<text text-anchor=\"middle\" x=\"2280.5\" y=\"-188.3\" font-family=\"Times,serif\" font-size=\"14.00\" fill=\"#000000\">interes&lt;8.125</text>\n</g>\n<!-- 5&#45;&gt;12 -->\n<g id=\"edge34\" class=\"edge\">\n<title>5&#45;&gt;12</title>\n<path fill=\"none\" stroke=\"#ff0000\" d=\"M2229.8755,-260.673C2235.5104,-255.2141 2241.4581,-249.0649 2246.5,-243 2252.7946,-235.4281 2258.9809,-226.667 2264.3147,-218.5656\"/>\n<polygon fill=\"#ff0000\" stroke=\"#ff0000\" points=\"2267.2783,-220.4278 2269.7326,-210.1211 2261.3867,-216.6477 2267.2783,-220.4278\"/>\n<text text-anchor=\"middle\" x=\"2266.5\" y=\"-231.8\" font-family=\"Times,serif\" font-size=\"14.00\" fill=\"#000000\">no</text>\n</g>\n<!-- 13 -->\n<g id=\"node44\" class=\"node\">\n<title>13</title>\n<path fill=\"#78cb0e\" stroke=\"#000000\" d=\"M2641,-210C2641,-210 2606,-210 2606,-210 2600,-210 2594,-204 2594,-198 2594,-198 2594,-186 2594,-186 2594,-180 2600,-174 2606,-174 2606,-174 2641,-174 2641,-174 2647,-174 2653,-180 2653,-186 2653,-186 2653,-198 2653,-198 2653,-204 2647,-210 2641,-210\"/>\n<text text-anchor=\"middle\" x=\"2623.5\" y=\"-188.3\" font-family=\"Times,serif\" font-size=\"14.00\" fill=\"#000000\">age&lt;27</text>\n</g>\n<!-- 6&#45;&gt;13 -->\n<g id=\"edge43\" class=\"edge\">\n<title>6&#45;&gt;13</title>\n<path fill=\"none\" stroke=\"#0000ff\" d=\"M2623.5,-260.9735C2623.5,-249.1918 2623.5,-233.5607 2623.5,-220.1581\"/>\n<polygon fill=\"#0000ff\" stroke=\"#0000ff\" points=\"2627.0001,-220.0033 2623.5,-210.0034 2620.0001,-220.0034 2627.0001,-220.0033\"/>\n<text text-anchor=\"middle\" x=\"2659\" y=\"-231.8\" font-family=\"Times,serif\" font-size=\"14.00\" fill=\"#000000\">yes, missing</text>\n</g>\n<!-- 14 -->\n<g id=\"node45\" class=\"node\">\n<title>14</title>\n<path fill=\"#78cb0e\" stroke=\"#000000\" d=\"M2870.5,-210C2870.5,-210 2790.5,-210 2790.5,-210 2784.5,-210 2778.5,-204 2778.5,-198 2778.5,-198 2778.5,-186 2778.5,-186 2778.5,-180 2784.5,-174 2790.5,-174 2790.5,-174 2870.5,-174 2870.5,-174 2876.5,-174 2882.5,-180 2882.5,-186 2882.5,-186 2882.5,-198 2882.5,-198 2882.5,-204 2876.5,-210 2870.5,-210\"/>\n<text text-anchor=\"middle\" x=\"2830.5\" y=\"-188.3\" font-family=\"Times,serif\" font-size=\"14.00\" fill=\"#000000\">employment&lt;1</text>\n</g>\n<!-- 6&#45;&gt;14 -->\n<g id=\"edge44\" class=\"edge\">\n<title>6&#45;&gt;14</title>\n<path fill=\"none\" stroke=\"#ff0000\" d=\"M2653.1581,-266.535C2685.7589,-252.8332 2738.7546,-230.5597 2778.3364,-213.9238\"/>\n<polygon fill=\"#ff0000\" stroke=\"#ff0000\" points=\"2779.7173,-217.1401 2787.58,-210.0388 2777.005,-210.6869 2779.7173,-217.1401\"/>\n<text text-anchor=\"middle\" x=\"2747.5\" y=\"-231.8\" font-family=\"Times,serif\" font-size=\"14.00\" fill=\"#000000\">no</text>\n</g>\n<!-- 23 -->\n<g id=\"node36\" class=\"node\">\n<title>23</title>\n<path fill=\"#78cb0e\" stroke=\"#000000\" d=\"M2046.5,-123C2046.5,-123 1948.5,-123 1948.5,-123 1942.5,-123 1936.5,-117 1936.5,-111 1936.5,-111 1936.5,-99 1936.5,-99 1936.5,-93 1942.5,-87 1948.5,-87 1948.5,-87 2046.5,-87 2046.5,-87 2052.5,-87 2058.5,-93 2058.5,-99 2058.5,-99 2058.5,-111 2058.5,-111 2058.5,-117 2052.5,-123 2046.5,-123\"/>\n<text text-anchor=\"middle\" x=\"1997.5\" y=\"-101.3\" font-family=\"Times,serif\" font-size=\"14.00\" fill=\"#000000\">due_per_day&lt;937</text>\n</g>\n<!-- 11&#45;&gt;23 -->\n<g id=\"edge35\" class=\"edge\">\n<title>11&#45;&gt;23</title>\n<path fill=\"none\" stroke=\"#0000ff\" d=\"M2096.8005,-173.898C2085.7273,-168.5791 2073.9488,-162.4451 2063.5,-156 2050.9289,-148.2457 2037.8977,-138.5743 2026.7688,-129.7444\"/>\n<polygon fill=\"#0000ff\" stroke=\"#0000ff\" points=\"2028.647,-126.7624 2018.6684,-123.2019 2024.2487,-132.208 2028.647,-126.7624\"/>\n<text text-anchor=\"middle\" x=\"2099\" y=\"-144.8\" font-family=\"Times,serif\" font-size=\"14.00\" fill=\"#000000\">yes, missing</text>\n</g>\n<!-- 24 -->\n<g id=\"node37\" class=\"node\">\n<title>24</title>\n<polygon fill=\"#e48038\" stroke=\"#000000\" points=\"2200.5,-123 2076.5,-123 2076.5,-87 2200.5,-87 2200.5,-123\"/>\n<text text-anchor=\"middle\" x=\"2138.5\" y=\"-101.3\" font-family=\"Times,serif\" font-size=\"14.00\" fill=\"#000000\">leaf=0.183193281</text>\n</g>\n<!-- 11&#45;&gt;24 -->\n<g id=\"edge36\" class=\"edge\">\n<title>11&#45;&gt;24</title>\n<path fill=\"none\" stroke=\"#ff0000\" d=\"M2138.5,-173.9735C2138.5,-162.1918 2138.5,-146.5607 2138.5,-133.1581\"/>\n<polygon fill=\"#ff0000\" stroke=\"#ff0000\" points=\"2142.0001,-133.0033 2138.5,-123.0034 2135.0001,-133.0034 2142.0001,-133.0033\"/>\n<text text-anchor=\"middle\" x=\"2146.5\" y=\"-144.8\" font-family=\"Times,serif\" font-size=\"14.00\" fill=\"#000000\">no</text>\n</g>\n<!-- 25 -->\n<g id=\"node40\" class=\"node\">\n<title>25</title>\n<polygon fill=\"#e48038\" stroke=\"#000000\" points=\"2342.5,-123 2218.5,-123 2218.5,-87 2342.5,-87 2342.5,-123\"/>\n<text text-anchor=\"middle\" x=\"2280.5\" y=\"-101.3\" font-family=\"Times,serif\" font-size=\"14.00\" fill=\"#000000\">leaf=0.200000003</text>\n</g>\n<!-- 12&#45;&gt;25 -->\n<g id=\"edge39\" class=\"edge\">\n<title>12&#45;&gt;25</title>\n<path fill=\"none\" stroke=\"#0000ff\" d=\"M2280.5,-173.9735C2280.5,-162.1918 2280.5,-146.5607 2280.5,-133.1581\"/>\n<polygon fill=\"#0000ff\" stroke=\"#0000ff\" points=\"2284.0001,-133.0033 2280.5,-123.0034 2277.0001,-133.0034 2284.0001,-133.0033\"/>\n<text text-anchor=\"middle\" x=\"2316\" y=\"-144.8\" font-family=\"Times,serif\" font-size=\"14.00\" fill=\"#000000\">yes, missing</text>\n</g>\n<!-- 26 -->\n<g id=\"node41\" class=\"node\">\n<title>26</title>\n<path fill=\"#78cb0e\" stroke=\"#000000\" d=\"M2458,-123C2458,-123 2373,-123 2373,-123 2367,-123 2361,-117 2361,-111 2361,-111 2361,-99 2361,-99 2361,-93 2367,-87 2373,-87 2373,-87 2458,-87 2458,-87 2464,-87 2470,-93 2470,-99 2470,-99 2470,-111 2470,-111 2470,-117 2464,-123 2458,-123\"/>\n<text text-anchor=\"middle\" x=\"2415.5\" y=\"-101.3\" font-family=\"Times,serif\" font-size=\"14.00\" fill=\"#000000\">loannumber&lt;16</text>\n</g>\n<!-- 12&#45;&gt;26 -->\n<g id=\"edge40\" class=\"edge\">\n<title>12&#45;&gt;26</title>\n<path fill=\"none\" stroke=\"#ff0000\" d=\"M2323.1869,-173.8446C2334.0282,-168.6093 2345.4465,-162.5295 2355.5,-156 2367.1704,-148.4203 2379.046,-138.8053 2389.1186,-129.9718\"/>\n<polygon fill=\"#ff0000\" stroke=\"#ff0000\" points=\"2391.6634,-132.3909 2396.7716,-123.1089 2386.9899,-127.1795 2391.6634,-132.3909\"/>\n<text text-anchor=\"middle\" x=\"2383.5\" y=\"-144.8\" font-family=\"Times,serif\" font-size=\"14.00\" fill=\"#000000\">no</text>\n</g>\n<!-- 47 -->\n<g id=\"node38\" class=\"node\">\n<title>47</title>\n<polygon fill=\"#e48038\" stroke=\"#000000\" points=\"2059.5,-36 1935.5,-36 1935.5,0 2059.5,0 2059.5,-36\"/>\n<text text-anchor=\"middle\" x=\"1997.5\" y=\"-14.3\" font-family=\"Times,serif\" font-size=\"14.00\" fill=\"#000000\">leaf=0.172093019</text>\n</g>\n<!-- 23&#45;&gt;47 -->\n<g id=\"edge37\" class=\"edge\">\n<title>23&#45;&gt;47</title>\n<path fill=\"none\" stroke=\"#0000ff\" d=\"M1997.5,-86.9735C1997.5,-75.1918 1997.5,-59.5607 1997.5,-46.1581\"/>\n<polygon fill=\"#0000ff\" stroke=\"#0000ff\" points=\"2001.0001,-46.0033 1997.5,-36.0034 1994.0001,-46.0034 2001.0001,-46.0033\"/>\n<text text-anchor=\"middle\" x=\"2033\" y=\"-57.8\" font-family=\"Times,serif\" font-size=\"14.00\" fill=\"#000000\">yes, missing</text>\n</g>\n<!-- 48 -->\n<g id=\"node39\" class=\"node\">\n<title>48</title>\n<polygon fill=\"#e48038\" stroke=\"#000000\" points=\"2209,-36 2078,-36 2078,0 2209,0 2209,-36\"/>\n<text text-anchor=\"middle\" x=\"2143.5\" y=\"-14.3\" font-family=\"Times,serif\" font-size=\"14.00\" fill=\"#000000\">leaf=0.0181818195</text>\n</g>\n<!-- 23&#45;&gt;48 -->\n<g id=\"edge38\" class=\"edge\">\n<title>23&#45;&gt;48</title>\n<path fill=\"none\" stroke=\"#ff0000\" d=\"M2038.6602,-86.8395C2049.8461,-81.4765 2061.8159,-75.3351 2072.5,-69 2086.0767,-60.9498 2100.3401,-51.0234 2112.4915,-42.0738\"/>\n<polygon fill=\"#ff0000\" stroke=\"#ff0000\" points=\"2114.6142,-44.8569 2120.5323,-36.0691 2110.4257,-39.2483 2114.6142,-44.8569\"/>\n<text text-anchor=\"middle\" x=\"2103.5\" y=\"-57.8\" font-family=\"Times,serif\" font-size=\"14.00\" fill=\"#000000\">no</text>\n</g>\n<!-- 51 -->\n<g id=\"node42\" class=\"node\">\n<title>51</title>\n<polygon fill=\"#e48038\" stroke=\"#000000\" points=\"2403.5,-36 2287.5,-36 2287.5,0 2403.5,0 2403.5,-36\"/>\n<text text-anchor=\"middle\" x=\"2345.5\" y=\"-14.3\" font-family=\"Times,serif\" font-size=\"14.00\" fill=\"#000000\">leaf=0.18438527</text>\n</g>\n<!-- 26&#45;&gt;51 -->\n<g id=\"edge41\" class=\"edge\">\n<title>26&#45;&gt;51</title>\n<path fill=\"none\" stroke=\"#0000ff\" d=\"M2388.9756,-86.9632C2382.41,-81.6861 2375.7577,-75.5563 2370.5,-69 2364.8245,-61.9227 2359.9995,-53.3455 2356.1467,-45.2606\"/>\n<polygon fill=\"#0000ff\" stroke=\"#0000ff\" points=\"2359.3406,-43.8288 2352.0778,-36.115 2352.945,-46.6743 2359.3406,-43.8288\"/>\n<text text-anchor=\"middle\" x=\"2406\" y=\"-57.8\" font-family=\"Times,serif\" font-size=\"14.00\" fill=\"#000000\">yes, missing</text>\n</g>\n<!-- 52 -->\n<g id=\"node43\" class=\"node\">\n<title>52</title>\n<polygon fill=\"#e48038\" stroke=\"#000000\" points=\"2545.5,-36 2421.5,-36 2421.5,0 2545.5,0 2545.5,-36\"/>\n<text text-anchor=\"middle\" x=\"2483.5\" y=\"-14.3\" font-family=\"Times,serif\" font-size=\"14.00\" fill=\"#000000\">leaf=0.123076931</text>\n</g>\n<!-- 26&#45;&gt;52 -->\n<g id=\"edge42\" class=\"edge\">\n<title>26&#45;&gt;52</title>\n<path fill=\"none\" stroke=\"#ff0000\" d=\"M2429.5896,-86.9735C2439.2543,-74.6085 2452.2328,-58.0036 2463.0338,-44.1847\"/>\n<polygon fill=\"#ff0000\" stroke=\"#ff0000\" points=\"2466.0278,-46.0376 2469.4284,-36.0034 2460.5126,-41.7269 2466.0278,-46.0376\"/>\n<text text-anchor=\"middle\" x=\"2462.5\" y=\"-57.8\" font-family=\"Times,serif\" font-size=\"14.00\" fill=\"#000000\">no</text>\n</g>\n<!-- 27 -->\n<g id=\"node46\" class=\"node\">\n<title>27</title>\n<polygon fill=\"#e48038\" stroke=\"#000000\" points=\"2612.5,-123 2488.5,-123 2488.5,-87 2612.5,-87 2612.5,-123\"/>\n<text text-anchor=\"middle\" x=\"2550.5\" y=\"-101.3\" font-family=\"Times,serif\" font-size=\"14.00\" fill=\"#000000\">leaf=0.178947374</text>\n</g>\n<!-- 13&#45;&gt;27 -->\n<g id=\"edge45\" class=\"edge\">\n<title>13&#45;&gt;27</title>\n<path fill=\"none\" stroke=\"#0000ff\" d=\"M2608.3744,-173.9735C2597.9012,-161.4919 2583.803,-144.6899 2572.1435,-130.7944\"/>\n<polygon fill=\"#0000ff\" stroke=\"#0000ff\" points=\"2574.7153,-128.4142 2565.6063,-123.0034 2569.3529,-132.9136 2574.7153,-128.4142\"/>\n<text text-anchor=\"middle\" x=\"2627\" y=\"-144.8\" font-family=\"Times,serif\" font-size=\"14.00\" fill=\"#000000\">yes, missing</text>\n</g>\n<!-- 28 -->\n<g id=\"node47\" class=\"node\">\n<title>28</title>\n<polygon fill=\"#e48038\" stroke=\"#000000\" points=\"2762,-123 2631,-123 2631,-87 2762,-87 2762,-123\"/>\n<text text-anchor=\"middle\" x=\"2696.5\" y=\"-101.3\" font-family=\"Times,serif\" font-size=\"14.00\" fill=\"#000000\">leaf=0.0250000004</text>\n</g>\n<!-- 13&#45;&gt;28 -->\n<g id=\"edge46\" class=\"edge\">\n<title>13&#45;&gt;28</title>\n<path fill=\"none\" stroke=\"#ff0000\" d=\"M2648.0429,-173.9111C2654.4599,-168.5485 2661.0883,-162.3892 2666.5,-156 2672.578,-148.824 2678.1454,-140.2584 2682.7902,-132.2148\"/>\n<polygon fill=\"#ff0000\" stroke=\"#ff0000\" points=\"2685.8556,-133.9037 2687.6202,-123.4569 2679.726,-130.5232 2685.8556,-133.9037\"/>\n<text text-anchor=\"middle\" x=\"2685.5\" y=\"-144.8\" font-family=\"Times,serif\" font-size=\"14.00\" fill=\"#000000\">no</text>\n</g>\n<!-- 29 -->\n<g id=\"node48\" class=\"node\">\n<title>29</title>\n<path fill=\"#78cb0e\" stroke=\"#000000\" d=\"M2869,-123C2869,-123 2792,-123 2792,-123 2786,-123 2780,-117 2780,-111 2780,-111 2780,-99 2780,-99 2780,-93 2786,-87 2792,-87 2792,-87 2869,-87 2869,-87 2875,-87 2881,-93 2881,-99 2881,-99 2881,-111 2881,-111 2881,-117 2875,-123 2869,-123\"/>\n<text text-anchor=\"middle\" x=\"2830.5\" y=\"-101.3\" font-family=\"Times,serif\" font-size=\"14.00\" fill=\"#000000\">loannumber&lt;3</text>\n</g>\n<!-- 14&#45;&gt;29 -->\n<g id=\"edge47\" class=\"edge\">\n<title>14&#45;&gt;29</title>\n<path fill=\"none\" stroke=\"#0000ff\" d=\"M2830.5,-173.9735C2830.5,-162.1918 2830.5,-146.5607 2830.5,-133.1581\"/>\n<polygon fill=\"#0000ff\" stroke=\"#0000ff\" points=\"2834.0001,-133.0033 2830.5,-123.0034 2827.0001,-133.0034 2834.0001,-133.0033\"/>\n<text text-anchor=\"middle\" x=\"2866\" y=\"-144.8\" font-family=\"Times,serif\" font-size=\"14.00\" fill=\"#000000\">yes, missing</text>\n</g>\n<!-- 30 -->\n<g id=\"node49\" class=\"node\">\n<title>30</title>\n<path fill=\"#78cb0e\" stroke=\"#000000\" d=\"M3023.5,-123C3023.5,-123 2921.5,-123 2921.5,-123 2915.5,-123 2909.5,-117 2909.5,-111 2909.5,-111 2909.5,-99 2909.5,-99 2909.5,-93 2915.5,-87 2921.5,-87 2921.5,-87 3023.5,-87 3023.5,-87 3029.5,-87 3035.5,-93 3035.5,-99 3035.5,-99 3035.5,-111 3035.5,-111 3035.5,-117 3029.5,-123 3023.5,-123\"/>\n<text text-anchor=\"middle\" x=\"2972.5\" y=\"-101.3\" font-family=\"Times,serif\" font-size=\"14.00\" fill=\"#000000\">parte_mes_pago&lt;3</text>\n</g>\n<!-- 14&#45;&gt;30 -->\n<g id=\"edge48\" class=\"edge\">\n<title>14&#45;&gt;30</title>\n<path fill=\"none\" stroke=\"#ff0000\" d=\"M2872.1682,-173.8472C2883.2416,-168.5284 2895.0279,-162.4072 2905.5,-156 2918.3437,-148.1418 2931.6983,-138.3511 2943.0734,-129.455\"/>\n<polygon fill=\"#ff0000\" stroke=\"#ff0000\" points=\"2945.3217,-132.139 2950.9709,-123.1759 2940.9652,-126.6598 2945.3217,-132.139\"/>\n<text text-anchor=\"middle\" x=\"2935.5\" y=\"-144.8\" font-family=\"Times,serif\" font-size=\"14.00\" fill=\"#000000\">no</text>\n</g>\n<!-- 57 -->\n<g id=\"node50\" class=\"node\">\n<title>57</title>\n<polygon fill=\"#e48038\" stroke=\"#000000\" points=\"2747,-36 2624,-36 2624,0 2747,0 2747,-36\"/>\n<text text-anchor=\"middle\" x=\"2685.5\" y=\"-14.3\" font-family=\"Times,serif\" font-size=\"14.00\" fill=\"#000000\">leaf=0.160000011</text>\n</g>\n<!-- 29&#45;&gt;57 -->\n<g id=\"edge49\" class=\"edge\">\n<title>29&#45;&gt;57</title>\n<path fill=\"none\" stroke=\"#0000ff\" d=\"M2789.3115,-86.8871C2778.1255,-81.5243 2766.1627,-75.371 2755.5,-69 2742.2052,-61.0563 2728.2769,-51.2489 2716.3771,-42.3634\"/>\n<polygon fill=\"#0000ff\" stroke=\"#0000ff\" points=\"2718.1923,-39.3475 2708.1087,-36.0961 2713.9639,-44.9261 2718.1923,-39.3475\"/>\n<text text-anchor=\"middle\" x=\"2791\" y=\"-57.8\" font-family=\"Times,serif\" font-size=\"14.00\" fill=\"#000000\">yes, missing</text>\n</g>\n<!-- 58 -->\n<g id=\"node51\" class=\"node\">\n<title>58</title>\n<polygon fill=\"#e48038\" stroke=\"#000000\" points=\"2896,-36 2765,-36 2765,0 2896,0 2896,-36\"/>\n<text text-anchor=\"middle\" x=\"2830.5\" y=\"-14.3\" font-family=\"Times,serif\" font-size=\"14.00\" fill=\"#000000\">leaf=0.0571428612</text>\n</g>\n<!-- 29&#45;&gt;58 -->\n<g id=\"edge50\" class=\"edge\">\n<title>29&#45;&gt;58</title>\n<path fill=\"none\" stroke=\"#ff0000\" d=\"M2830.5,-86.9735C2830.5,-75.1918 2830.5,-59.5607 2830.5,-46.1581\"/>\n<polygon fill=\"#ff0000\" stroke=\"#ff0000\" points=\"2834.0001,-46.0033 2830.5,-36.0034 2827.0001,-46.0034 2834.0001,-46.0033\"/>\n<text text-anchor=\"middle\" x=\"2838.5\" y=\"-57.8\" font-family=\"Times,serif\" font-size=\"14.00\" fill=\"#000000\">no</text>\n</g>\n<!-- 59 -->\n<g id=\"node52\" class=\"node\">\n<title>59</title>\n<polygon fill=\"#e48038\" stroke=\"#000000\" points=\"3030.5,-36 2914.5,-36 2914.5,0 3030.5,0 3030.5,-36\"/>\n<text text-anchor=\"middle\" x=\"2972.5\" y=\"-14.3\" font-family=\"Times,serif\" font-size=\"14.00\" fill=\"#000000\">leaf=0.16661562</text>\n</g>\n<!-- 30&#45;&gt;59 -->\n<g id=\"edge51\" class=\"edge\">\n<title>30&#45;&gt;59</title>\n<path fill=\"none\" stroke=\"#0000ff\" d=\"M2972.5,-86.9735C2972.5,-75.1918 2972.5,-59.5607 2972.5,-46.1581\"/>\n<polygon fill=\"#0000ff\" stroke=\"#0000ff\" points=\"2976.0001,-46.0033 2972.5,-36.0034 2969.0001,-46.0034 2976.0001,-46.0033\"/>\n<text text-anchor=\"middle\" x=\"3008\" y=\"-57.8\" font-family=\"Times,serif\" font-size=\"14.00\" fill=\"#000000\">yes, missing</text>\n</g>\n<!-- 60 -->\n<g id=\"node53\" class=\"node\">\n<title>60</title>\n<polygon fill=\"#e48038\" stroke=\"#000000\" points=\"3172.5,-36 3048.5,-36 3048.5,0 3172.5,0 3172.5,-36\"/>\n<text text-anchor=\"middle\" x=\"3110.5\" y=\"-14.3\" font-family=\"Times,serif\" font-size=\"14.00\" fill=\"#000000\">leaf=0.178082198</text>\n</g>\n<!-- 30&#45;&gt;60 -->\n<g id=\"edge52\" class=\"edge\">\n<title>30&#45;&gt;60</title>\n<path fill=\"none\" stroke=\"#ff0000\" d=\"M3014.6891,-86.8676C3025.6474,-81.5912 3037.2469,-75.4858 3047.5,-69 3059.7252,-61.2668 3072.2906,-51.5208 3082.9518,-42.6253\"/>\n<polygon fill=\"#ff0000\" stroke=\"#ff0000\" points=\"3085.3479,-45.1821 3090.6961,-36.0361 3080.8117,-39.8507 3085.3479,-45.1821\"/>\n<text text-anchor=\"middle\" x=\"3075.5\" y=\"-57.8\" font-family=\"Times,serif\" font-size=\"14.00\" fill=\"#000000\">no</text>\n</g>\n</g>\n</svg>\n"
          },
          "metadata": {},
          "execution_count": 25
        }
      ]
    }
  ]
}