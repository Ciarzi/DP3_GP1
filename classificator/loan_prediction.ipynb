{
  "nbformat": 4,
  "nbformat_minor": 0,
  "metadata": {
    "colab": {
      "name": "loan_prediction.ipynb",
      "provenance": []
    },
    "kernelspec": {
      "name": "python3",
      "display_name": "Python 3"
    },
    "language_info": {
      "name": "python"
    }
  },
  "cells": [
    {
      "cell_type": "code",
      "execution_count": 1,
      "metadata": {
        "id": "fMG6QLHkYIjN"
      },
      "outputs": [],
      "source": [
        "import pandas as pd\n",
        "import numpy as np\n",
        "from sklearn.model_selection import train_test_split\n",
        "from sklearn.model_selection import GridSearchCV\n",
        "from sklearn.metrics import accuracy_score\n",
        "import xgboost as xgb\n",
        "from sklearn.decomposition import PCA\n",
        "import matplotlib.pyplot as plt\n",
        "from sklearn.metrics import confusion_matrix\n",
        "from sklearn.metrics import plot_confusion_matrix"
      ]
    },
    {
      "cell_type": "code",
      "source": [
        "url = 'https://raw.githubusercontent.com/Ciarzi/DP3_GP1/main/datasets/own_data/cluster_train.csv'\n",
        "df = pd.read_csv(url)"
      ],
      "metadata": {
        "id": "l7g2XqGRYMRH"
      },
      "execution_count": 2,
      "outputs": []
    },
    {
      "cell_type": "markdown",
      "source": [
        "# Formateo de los datos\n",
        "Separamos las columnas que usaremos para realizar clasificaciones (*x*) de las columnas que queremos predecir (*y*)."
      ],
      "metadata": {
        "id": "bfovLUk0ZO_c"
      }
    },
    {
      "cell_type": "code",
      "source": [
        "x = df.loc[:,df.columns!='flag']\n",
        "y = df.loc[:,'flag']\n",
        "x.shape, y.shape, df.shape"
      ],
      "metadata": {
        "colab": {
          "base_uri": "https://localhost:8080/"
        },
        "id": "EElH28h0YQ2T",
        "outputId": "f3f6f3a9-a759-4e3b-d2c7-54594225106f"
      },
      "execution_count": 3,
      "outputs": [
        {
          "output_type": "execute_result",
          "data": {
            "text/plain": [
              "((4358, 12), (4358,), (4358, 13))"
            ]
          },
          "metadata": {},
          "execution_count": 3
        }
      ]
    },
    {
      "cell_type": "markdown",
      "source": [
        "Las dos opciones no están representadas de manera proporcionada, por lo que estratificamos la muestra para que haya el mismo porcentaje de personas que han pagado el préstamo en el training set y en el testing set."
      ],
      "metadata": {
        "id": "mZNi91t7ZUQU"
      }
    },
    {
      "cell_type": "code",
      "source": [
        "sum(y)/len(y) #Obtenemos el porcentaje de personas que han pagado el préstamo"
      ],
      "metadata": {
        "colab": {
          "base_uri": "https://localhost:8080/"
        },
        "id": "5_THNgRNZEYU",
        "outputId": "3bc01b52-8b8d-4a7b-845a-2a64206dbc3a"
      },
      "execution_count": 4,
      "outputs": [
        {
          "output_type": "execute_result",
          "data": {
            "text/plain": [
              "0.7824690224873795"
            ]
          },
          "metadata": {},
          "execution_count": 4
        }
      ]
    },
    {
      "cell_type": "code",
      "source": [
        "x_train, x_test, y_train, y_test = train_test_split(x, y, random_state = 50, stratify = y) #Obtenemos 4 datasets\n"
      ],
      "metadata": {
        "id": "xtxh9h5vZu-3"
      },
      "execution_count": 5,
      "outputs": []
    },
    {
      "cell_type": "code",
      "source": [
        "sum(y_train/len(y_train)) #Datos de entrenamiento"
      ],
      "metadata": {
        "colab": {
          "base_uri": "https://localhost:8080/"
        },
        "id": "iHnJWx3BZZWU",
        "outputId": "48268e4c-c475-4750-c2d3-f8227f55c80c"
      },
      "execution_count": 6,
      "outputs": [
        {
          "output_type": "execute_result",
          "data": {
            "text/plain": [
              "0.7824357405140463"
            ]
          },
          "metadata": {},
          "execution_count": 6
        }
      ]
    },
    {
      "cell_type": "code",
      "source": [
        "sum(y_test/len(y_test)) #Datos de test"
      ],
      "metadata": {
        "colab": {
          "base_uri": "https://localhost:8080/"
        },
        "id": "sXTCD7OeZbsT",
        "outputId": "a44f407c-83e0-4c4d-a966-0f7f3c88804f"
      },
      "execution_count": 7,
      "outputs": [
        {
          "output_type": "execute_result",
          "data": {
            "text/plain": [
              "0.7825688073394335"
            ]
          },
          "metadata": {},
          "execution_count": 7
        }
      ]
    },
    {
      "cell_type": "markdown",
      "source": [
        "# Optimización (PCA)\n",
        "Reducirá las features correlacionadas para reducir las dimensiones y comprobamos si aumenta la precisión."
      ],
      "metadata": {
        "id": "i2Al_YxPaOzH"
      }
    },
    {
      "cell_type": "code",
      "source": [
        "pca = PCA(n_components = 1)\n",
        "x_train_scaled = pca.fit_transform(x_train)\n",
        "print(x_train_scaled[:10])"
      ],
      "metadata": {
        "colab": {
          "base_uri": "https://localhost:8080/"
        },
        "id": "GjuHPpadaN8R",
        "outputId": "497a5e3e-3422-4d87-d0dc-9e1b727ec74c"
      },
      "execution_count": 8,
      "outputs": [
        {
          "output_type": "stream",
          "name": "stdout",
          "text": [
            "[[ 406.38529543]\n",
            " [  72.24655699]\n",
            " [-310.82658009]\n",
            " [  22.38743922]\n",
            " [-310.83288812]\n",
            " [  72.25218913]\n",
            " [  72.23597013]\n",
            " [-310.82750581]\n",
            " [-310.83595416]\n",
            " [-310.83566019]]\n"
          ]
        }
      ]
    },
    {
      "cell_type": "code",
      "source": [
        "plt.scatter(x_train_scaled, y_train)\n",
        "plt.show()\n",
        "#al haber reducido las dimensiones vemos que no hay una correlación directa"
      ],
      "metadata": {
        "colab": {
          "base_uri": "https://localhost:8080/",
          "height": 265
        },
        "id": "XgBDDd6mafur",
        "outputId": "d20d3dc5-778c-42e5-c305-5f16c5513de6"
      },
      "execution_count": 9,
      "outputs": [
        {
          "output_type": "display_data",
          "data": {
            "text/plain": [
              "<Figure size 432x288 with 1 Axes>"
            ],
            "image/png": "[encoded data removed]"
          },
          "metadata": {
            "needs_background": "light"
          }
        }
      ]
    },
    {
      "cell_type": "markdown",
      "source": [
        "# Creación del modelo con XGBoost usando XGBClassifier\n",
        "Empleamos LOGLOSS porque que tiene en cuenta la certeza de la clasificación y es la mejor opción en caso de que los datos a analizar no estén balanceados."
      ],
      "metadata": {
        "id": "VhQOYmNSa3V7"
      }
    },
    {
      "cell_type": "code",
      "source": [
        "clf_xgb = xgb.XGBClassifier(objective = 'binary:logistic', #clasificar entre 0 y 1\n",
        "                            missing = None,\n",
        "                            seed = 50) \n",
        "clf_xgb.fit(x_train,\n",
        "            y_train,\n",
        "            verbose = True, # nos informa de lo que está haciendo\n",
        "            early_stopping_rounds = 10, #si en estas rondas no mejora el score (función de pérdida) detendrá el entrenamiento\n",
        "            eval_metric = 'logloss', #evalua lo bunas que son las predicciones\n",
        "            eval_set = [(x_test, y_test)]) #entrena en el dataset de entrenameinto pero evalua cuantos arboles debe crear usando el testing dataset"
      ],
      "metadata": {
        "colab": {
          "base_uri": "https://localhost:8080/"
        },
        "id": "auFFC2haa3o7",
        "outputId": "693e9589-b62c-4ab2-c8fe-0a8a9848ef1e"
      },
      "execution_count": 10,
      "outputs": [
        {
          "output_type": "stream",
          "name": "stdout",
          "text": [
            "[0]\tvalidation_0-logloss:0.656963\n",
            "Will train until validation_0-logloss hasn't improved in 10 rounds.\n",
            "[1]\tvalidation_0-logloss:0.627444\n",
            "[2]\tvalidation_0-logloss:0.602869\n",
            "[3]\tvalidation_0-logloss:0.582849\n",
            "[4]\tvalidation_0-logloss:0.565925\n",
            "[5]\tvalidation_0-logloss:0.552105\n",
            "[6]\tvalidation_0-logloss:0.540075\n",
            "[7]\tvalidation_0-logloss:0.530092\n",
            "[8]\tvalidation_0-logloss:0.521958\n",
            "[9]\tvalidation_0-logloss:0.514854\n",
            "[10]\tvalidation_0-logloss:0.508838\n",
            "[11]\tvalidation_0-logloss:0.503718\n",
            "[12]\tvalidation_0-logloss:0.499442\n",
            "[13]\tvalidation_0-logloss:0.495906\n",
            "[14]\tvalidation_0-logloss:0.493143\n",
            "[15]\tvalidation_0-logloss:0.490764\n",
            "[16]\tvalidation_0-logloss:0.488434\n",
            "[17]\tvalidation_0-logloss:0.486796\n",
            "[18]\tvalidation_0-logloss:0.484975\n",
            "[19]\tvalidation_0-logloss:0.483673\n",
            "[20]\tvalidation_0-logloss:0.482493\n",
            "[21]\tvalidation_0-logloss:0.481621\n",
            "[22]\tvalidation_0-logloss:0.480802\n",
            "[23]\tvalidation_0-logloss:0.479621\n",
            "[24]\tvalidation_0-logloss:0.478978\n",
            "[25]\tvalidation_0-logloss:0.478523\n",
            "[26]\tvalidation_0-logloss:0.478271\n",
            "[27]\tvalidation_0-logloss:0.477717\n",
            "[28]\tvalidation_0-logloss:0.477782\n",
            "[29]\tvalidation_0-logloss:0.477619\n",
            "[30]\tvalidation_0-logloss:0.476876\n",
            "[31]\tvalidation_0-logloss:0.476844\n",
            "[32]\tvalidation_0-logloss:0.476602\n",
            "[33]\tvalidation_0-logloss:0.4763\n",
            "[34]\tvalidation_0-logloss:0.476256\n",
            "[35]\tvalidation_0-logloss:0.47654\n",
            "[36]\tvalidation_0-logloss:0.47641\n",
            "[37]\tvalidation_0-logloss:0.476374\n",
            "[38]\tvalidation_0-logloss:0.476495\n",
            "[39]\tvalidation_0-logloss:0.476342\n",
            "[40]\tvalidation_0-logloss:0.476057\n",
            "[41]\tvalidation_0-logloss:0.476175\n",
            "[42]\tvalidation_0-logloss:0.476161\n",
            "[43]\tvalidation_0-logloss:0.476213\n",
            "[44]\tvalidation_0-logloss:0.476079\n",
            "[45]\tvalidation_0-logloss:0.475694\n",
            "[46]\tvalidation_0-logloss:0.475809\n",
            "[47]\tvalidation_0-logloss:0.475724\n",
            "[48]\tvalidation_0-logloss:0.475994\n",
            "[49]\tvalidation_0-logloss:0.476018\n",
            "[50]\tvalidation_0-logloss:0.476203\n",
            "[51]\tvalidation_0-logloss:0.476265\n",
            "[52]\tvalidation_0-logloss:0.47635\n",
            "[53]\tvalidation_0-logloss:0.47612\n",
            "[54]\tvalidation_0-logloss:0.476179\n",
            "[55]\tvalidation_0-logloss:0.47609\n",
            "Stopping. Best iteration:\n",
            "[45]\tvalidation_0-logloss:0.475694\n",
            "\n"
          ]
        },
        {
          "output_type": "execute_result",
          "data": {
            "text/plain": [
              "XGBClassifier(seed=50)"
            ]
          },
          "metadata": {},
          "execution_count": 10
        }
      ]
    },
    {
      "cell_type": "markdown",
      "source": [
        "Comprobamos en el dataset de test y dibujamos una matriz de confusión."
      ],
      "metadata": {
        "id": "0w_yKzSGcace"
      }
    },
    {
      "cell_type": "code",
      "source": [
        "plot_confusion_matrix(clf_xgb,\n",
        "                      x_test,\n",
        "                      y_test,\n",
        "                      values_format = 'd')"
      ],
      "metadata": {
        "colab": {
          "base_uri": "https://localhost:8080/",
          "height": 353
        },
        "id": "CIrA09h9cRb7",
        "outputId": "af89a557-984e-4ce2-8560-89cefdd38180"
      },
      "execution_count": 11,
      "outputs": [
        {
          "output_type": "stream",
          "name": "stderr",
          "text": [
            "/usr/local/lib/python3.7/dist-packages/sklearn/utils/deprecation.py:87: FutureWarning: Function plot_confusion_matrix is deprecated; Function `plot_confusion_matrix` is deprecated in 1.0 and will be removed in 1.2. Use one of the class methods: ConfusionMatrixDisplay.from_predictions or ConfusionMatrixDisplay.from_estimator.\n",
            "  warnings.warn(msg, category=FutureWarning)\n"
          ]
        },
        {
          "output_type": "execute_result",
          "data": {
            "text/plain": [
              "<sklearn.metrics._plot.confusion_matrix.ConfusionMatrixDisplay at 0x7fe2c1e3d1d0>"
            ]
          },
          "metadata": {},
          "execution_count": 11
        },
        {
          "output_type": "display_data",
          "data": {
            "text/plain": [
              "<Figure size 432x288 with 2 Axes>"
            ],
            "image/png": "[encoded data removed]"
          },
          "metadata": {
            "needs_background": "light"
          }
        }
      ]
    },
    {
      "cell_type": "markdown",
      "source": [
        "#Pruebas parar mejorar el resultado\n",
        "De las 237 personas que no han pagado, hemos clasificado bien a 196 y de las 853 personas que han pagado, hemos clasificado bien a 820. Como los datos no están repartidos correctamente (237 contra 820) hemos de obtener más datos de personas que no pagaron, por lo que cuando configuremos los hiperparámetros usaremos la función ```\n",
        "scale_pos_weight``` para obtener un mejor resultado 🙂"
      ],
      "metadata": {
        "id": "c8mod22ZcxZg"
      }
    },
    {
      "cell_type": "code",
      "source": [
        "#Ronda 1\n",
        "param_grid = {\n",
        "    'max_depth' : [4, 5, 6], #La profundidad de los árboles de decisión\n",
        "    'learning_rate' : [0.1, 0.01, 0.05], #La frecuencia con la que la red neuronal refresca lo que ha aprendido\n",
        "    'gamma' : [0, 0.25, 1.0], # Reduce el tamaño de los árboles de decisión al eliminar secciones del árbol que no son necesarios\n",
        "    'reg_lambda' : [0, 1.0, 10.0], # Gestiona el overfitting\n",
        "    'scale_pos_weight' : [1, 3, 5] \n",
        "}"
      ],
      "metadata": {
        "id": "Qy0DacvYc1JE"
      },
      "execution_count": 12,
      "outputs": []
    },
    {
      "cell_type": "code",
      "source": [
        "#Ronda 2\n",
        "param_grid = {\n",
        "    'max_depth' : [4],\n",
        "    'learning_rate' : [0.05],\n",
        "    'gamma' : [0],\n",
        "    'reg_lambda' : [0],\n",
        "    'scale_pos_weight' : [1]\n",
        "}"
      ],
      "metadata": {
        "id": "8b7lrl_bc3nC"
      },
      "execution_count": 13,
      "outputs": []
    },
    {
      "cell_type": "code",
      "source": [
        "optimal_params = GridSearchCV(\n",
        "    estimator = xgb.XGBClassifier(objective = 'binary:logistic',\n",
        "                                  seed = 50),\n",
        "                                  #subsample = 0.9, # Para acelerar las validación cruzada empleamos un subset aleatorio del 90% (por árbol)\n",
        "                                  #colsample_bytree = 0.5), # Elegimos (por arbol) el 50% de las columnas del dataset para reducir el overfitting (y la velocidad)\n",
        "    param_grid = param_grid,\n",
        "    scoring = 'roc_auc',\n",
        "    verbose = 0,\n",
        "    n_jobs = 10,\n",
        "    cv = 3\n",
        ")"
      ],
      "metadata": {
        "id": "gWcUXmOic55r"
      },
      "execution_count": 14,
      "outputs": []
    },
    {
      "cell_type": "code",
      "source": [
        "optimal_params.fit(x_train,\n",
        "                   y_train,\n",
        "                   verbose = True,\n",
        "                   early_stopping_rounds = 10,\n",
        "                   eval_metric = 'logloss',\n",
        "                   eval_set = [(x_test, y_test)])\n",
        "print(optimal_params.best_params_)\n",
        "\n",
        "# Resultado Ronda 1 - validation_0-logloss:0.486284 - {'gamma': 0.25, 'learning_rate': 0.1, 'max_depth': 4, 'reg_lambda': 0, 'scale_pos_weight': 1}"
      ],
      "metadata": {
        "colab": {
          "base_uri": "https://localhost:8080/"
        },
        "id": "T14TrB2_c8yg",
        "outputId": "ebf3d447-090e-4d99-a25a-b6d524e4a61d"
      },
      "execution_count": 15,
      "outputs": [
        {
          "output_type": "stream",
          "name": "stdout",
          "text": [
            "[0]\tvalidation_0-logloss:0.674282\n",
            "Will train until validation_0-logloss hasn't improved in 10 rounds.\n",
            "[1]\tvalidation_0-logloss:0.657155\n",
            "[2]\tvalidation_0-logloss:0.641535\n",
            "[3]\tvalidation_0-logloss:0.627565\n",
            "[4]\tvalidation_0-logloss:0.614606\n",
            "[5]\tvalidation_0-logloss:0.602804\n",
            "[6]\tvalidation_0-logloss:0.5925\n",
            "[7]\tvalidation_0-logloss:0.582685\n",
            "[8]\tvalidation_0-logloss:0.573825\n",
            "[9]\tvalidation_0-logloss:0.565935\n",
            "[10]\tvalidation_0-logloss:0.558549\n",
            "[11]\tvalidation_0-logloss:0.551704\n",
            "[12]\tvalidation_0-logloss:0.545539\n",
            "[13]\tvalidation_0-logloss:0.539699\n",
            "[14]\tvalidation_0-logloss:0.534678\n",
            "[15]\tvalidation_0-logloss:0.52987\n",
            "[16]\tvalidation_0-logloss:0.525431\n",
            "[17]\tvalidation_0-logloss:0.521206\n",
            "[18]\tvalidation_0-logloss:0.517593\n",
            "[19]\tvalidation_0-logloss:0.514029\n",
            "[20]\tvalidation_0-logloss:0.510882\n",
            "[21]\tvalidation_0-logloss:0.507954\n",
            "[22]\tvalidation_0-logloss:0.505346\n",
            "[23]\tvalidation_0-logloss:0.502833\n",
            "[24]\tvalidation_0-logloss:0.500531\n",
            "[25]\tvalidation_0-logloss:0.498299\n",
            "[26]\tvalidation_0-logloss:0.496408\n",
            "[27]\tvalidation_0-logloss:0.494567\n",
            "[28]\tvalidation_0-logloss:0.49304\n",
            "[29]\tvalidation_0-logloss:0.491446\n",
            "[30]\tvalidation_0-logloss:0.490073\n",
            "[31]\tvalidation_0-logloss:0.488814\n",
            "[32]\tvalidation_0-logloss:0.487711\n",
            "[33]\tvalidation_0-logloss:0.486625\n",
            "[34]\tvalidation_0-logloss:0.485936\n",
            "[35]\tvalidation_0-logloss:0.48501\n",
            "[36]\tvalidation_0-logloss:0.484379\n",
            "[37]\tvalidation_0-logloss:0.483701\n",
            "[38]\tvalidation_0-logloss:0.483003\n",
            "[39]\tvalidation_0-logloss:0.48246\n",
            "[40]\tvalidation_0-logloss:0.482042\n",
            "[41]\tvalidation_0-logloss:0.481427\n",
            "[42]\tvalidation_0-logloss:0.481076\n",
            "[43]\tvalidation_0-logloss:0.480724\n",
            "[44]\tvalidation_0-logloss:0.480403\n",
            "[45]\tvalidation_0-logloss:0.480031\n",
            "[46]\tvalidation_0-logloss:0.479583\n",
            "[47]\tvalidation_0-logloss:0.47924\n",
            "[48]\tvalidation_0-logloss:0.478716\n",
            "[49]\tvalidation_0-logloss:0.478448\n",
            "[50]\tvalidation_0-logloss:0.478209\n",
            "[51]\tvalidation_0-logloss:0.477935\n",
            "[52]\tvalidation_0-logloss:0.477727\n",
            "[53]\tvalidation_0-logloss:0.477466\n",
            "[54]\tvalidation_0-logloss:0.477295\n",
            "[55]\tvalidation_0-logloss:0.477074\n",
            "[56]\tvalidation_0-logloss:0.476935\n",
            "[57]\tvalidation_0-logloss:0.476986\n",
            "[58]\tvalidation_0-logloss:0.477043\n",
            "[59]\tvalidation_0-logloss:0.476943\n",
            "[60]\tvalidation_0-logloss:0.476767\n",
            "[61]\tvalidation_0-logloss:0.476852\n",
            "[62]\tvalidation_0-logloss:0.476611\n",
            "[63]\tvalidation_0-logloss:0.476645\n",
            "[64]\tvalidation_0-logloss:0.476727\n",
            "[65]\tvalidation_0-logloss:0.47677\n",
            "[66]\tvalidation_0-logloss:0.476886\n",
            "[67]\tvalidation_0-logloss:0.476739\n",
            "[68]\tvalidation_0-logloss:0.4769\n",
            "[69]\tvalidation_0-logloss:0.477031\n",
            "[70]\tvalidation_0-logloss:0.477125\n",
            "[71]\tvalidation_0-logloss:0.477258\n",
            "[72]\tvalidation_0-logloss:0.477159\n",
            "Stopping. Best iteration:\n",
            "[62]\tvalidation_0-logloss:0.476611\n",
            "\n",
            "{'gamma': 0, 'learning_rate': 0.05, 'max_depth': 4, 'reg_lambda': 0, 'scale_pos_weight': 1}\n"
          ]
        }
      ]
    },
    {
      "cell_type": "markdown",
      "source": [
        "# Validamos el conjunto de entrenamiento (*x_train* e *y_train*)"
      ],
      "metadata": {
        "id": "eYaFbtaQdSd1"
      }
    },
    {
      "cell_type": "code",
      "source": [
        "optimal_params.best_estimator_"
      ],
      "metadata": {
        "colab": {
          "base_uri": "https://localhost:8080/"
        },
        "id": "sXZwWEgfeupJ",
        "outputId": "ee50d83b-5d8f-4495-b501-09c6b6789bb1"
      },
      "execution_count": 16,
      "outputs": [
        {
          "output_type": "execute_result",
          "data": {
            "text/plain": [
              "XGBClassifier(learning_rate=0.05, max_depth=4, reg_lambda=0, seed=50)"
            ]
          },
          "metadata": {},
          "execution_count": 16
        }
      ]
    },
    {
      "cell_type": "code",
      "source": [
        "optimal_params.best_score_"
      ],
      "metadata": {
        "id": "Y2KH37nnewly",
        "colab": {
          "base_uri": "https://localhost:8080/"
        },
        "outputId": "bc3c09c6-babc-4d71-a15c-16822eb20255"
      },
      "execution_count": 17,
      "outputs": [
        {
          "output_type": "execute_result",
          "data": {
            "text/plain": [
              "0.7084131255214636"
            ]
          },
          "metadata": {},
          "execution_count": 17
        }
      ]
    },
    {
      "cell_type": "code",
      "source": [
        "best_xgb = optimal_params.best_estimator_\n",
        "y_preds = best_xgb.predict(x_train)\n",
        "\n",
        "comp = pd.DataFrame ({'Datos' : y_train, 'Predicciones' : y_preds}) # Creamos el dataframe de comparación\n",
        "comp.head(10)"
      ],
      "metadata": {
        "id": "5ucVleylezRI",
        "colab": {
          "base_uri": "https://localhost:8080/",
          "height": 363
        },
        "outputId": "bb2fef25-7139-4f80-fca3-ec4e4d6e9036"
      },
      "execution_count": 18,
      "outputs": [
        {
          "output_type": "execute_result",
          "data": {
            "text/plain": [
              "      Datos  Predicciones\n",
              "1837      0             1\n",
              "1435      1             1\n",
              "2732      0             0\n",
              "4321      1             1\n",
              "577       1             1\n",
              "3833      1             1\n",
              "1278      1             1\n",
              "640       1             1\n",
              "2213      1             1\n",
              "4195      1             1"
            ],
            "text/html": [
              "\n",
              "  <div id=\"df-f8beed58-4235-4234-8b6c-f694f8d85566\">\n",
              "    <div class=\"colab-df-container\">\n",
              "      <div>\n",
              "<style scoped>\n",
              "    .dataframe tbody tr th:only-of-type {\n",
              "        vertical-align: middle;\n",
              "    }\n",
              "\n",
              "    .dataframe tbody tr th {\n",
              "        vertical-align: top;\n",
              "    }\n",
              "\n",
              "    .dataframe thead th {\n",
              "        text-align: right;\n",
              "    }\n",
              "</style>\n",
              "<table border=\"1\" class=\"dataframe\">\n",
              "  <thead>\n",
              "    <tr style=\"text-align: right;\">\n",
              "      <th></th>\n",
              "      <th>Datos</th>\n",
              "      <th>Predicciones</th>\n",
              "    </tr>\n",
              "  </thead>\n",
              "  <tbody>\n",
              "    <tr>\n",
              "      <th>1837</th>\n",
              "      <td>0</td>\n",
              "      <td>1</td>\n",
              "    </tr>\n",
              "    <tr>\n",
              "      <th>1435</th>\n",
              "      <td>1</td>\n",
              "      <td>1</td>\n",
              "    </tr>\n",
              "    <tr>\n",
              "      <th>2732</th>\n",
              "      <td>0</td>\n",
              "      <td>0</td>\n",
              "    </tr>\n",
              "    <tr>\n",
              "      <th>4321</th>\n",
              "      <td>1</td>\n",
              "      <td>1</td>\n",
              "    </tr>\n",
              "    <tr>\n",
              "      <th>577</th>\n",
              "      <td>1</td>\n",
              "      <td>1</td>\n",
              "    </tr>\n",
              "    <tr>\n",
              "      <th>3833</th>\n",
              "      <td>1</td>\n",
              "      <td>1</td>\n",
              "    </tr>\n",
              "    <tr>\n",
              "      <th>1278</th>\n",
              "      <td>1</td>\n",
              "      <td>1</td>\n",
              "    </tr>\n",
              "    <tr>\n",
              "      <th>640</th>\n",
              "      <td>1</td>\n",
              "      <td>1</td>\n",
              "    </tr>\n",
              "    <tr>\n",
              "      <th>2213</th>\n",
              "      <td>1</td>\n",
              "      <td>1</td>\n",
              "    </tr>\n",
              "    <tr>\n",
              "      <th>4195</th>\n",
              "      <td>1</td>\n",
              "      <td>1</td>\n",
              "    </tr>\n",
              "  </tbody>\n",
              "</table>\n",
              "</div>\n",
              "      <button class=\"colab-df-convert\" onclick=\"convertToInteractive('df-f8beed58-4235-4234-8b6c-f694f8d85566')\"\n",
              "              title=\"Convert this dataframe to an interactive table.\"\n",
              "              style=\"display:none;\">\n",
              "        \n",
              "  <svg xmlns=\"http://www.w3.org/2000/svg\" height=\"24px\"viewBox=\"0 0 24 24\"\n",
              "       width=\"24px\">\n",
              "    <path d=\"M0 0h24v24H0V0z\" fill=\"none\"/>\n",
              "    <path d=\"M18.56 5.44l.94 2.06.94-2.06 2.06-.94-2.06-.94-.94-2.06-.94 2.06-2.06.94zm-11 1L8.5 8.5l.94-2.06 2.06-.94-2.06-.94L8.5 2.5l-.94 2.06-2.06.94zm10 10l.94 2.06.94-2.06 2.06-.94-2.06-.94-.94-2.06-.94 2.06-2.06.94z\"/><path d=\"M17.41 7.96l-1.37-1.37c-.4-.4-.92-.59-1.43-.59-.52 0-1.04.2-1.43.59L10.3 9.45l-7.72 7.72c-.78.78-.78 2.05 0 2.83L4 21.41c.39.39.9.59 1.41.59.51 0 1.02-.2 1.41-.59l7.78-7.78 2.81-2.81c.8-.78.8-2.07 0-2.86zM5.41 20L4 18.59l7.72-7.72 1.47 1.35L5.41 20z\"/>\n",
              "  </svg>\n",
              "      </button>\n",
              "      \n",
              "  <style>\n",
              "    .colab-df-container {\n",
              "      display:flex;\n",
              "      flex-wrap:wrap;\n",
              "      gap: 12px;\n",
              "    }\n",
              "\n",
              "    .colab-df-convert {\n",
              "      background-color: #E8F0FE;\n",
              "      border: none;\n",
              "      border-radius: 50%;\n",
              "      cursor: pointer;\n",
              "      display: none;\n",
              "      fill: #1967D2;\n",
              "      height: 32px;\n",
              "      padding: 0 0 0 0;\n",
              "      width: 32px;\n",
              "    }\n",
              "\n",
              "    .colab-df-convert:hover {\n",
              "      background-color: #E2EBFA;\n",
              "      box-shadow: 0px 1px 2px rgba(60, 64, 67, 0.3), 0px 1px 3px 1px rgba(60, 64, 67, 0.15);\n",
              "      fill: #174EA6;\n",
              "    }\n",
              "\n",
              "    [theme=dark] .colab-df-convert {\n",
              "      background-color: #3B4455;\n",
              "      fill: #D2E3FC;\n",
              "    }\n",
              "\n",
              "    [theme=dark] .colab-df-convert:hover {\n",
              "      background-color: #434B5C;\n",
              "      box-shadow: 0px 1px 3px 1px rgba(0, 0, 0, 0.15);\n",
              "      filter: drop-shadow(0px 1px 2px rgba(0, 0, 0, 0.3));\n",
              "      fill: #FFFFFF;\n",
              "    }\n",
              "  </style>\n",
              "\n",
              "      <script>\n",
              "        const buttonEl =\n",
              "          document.querySelector('#df-f8beed58-4235-4234-8b6c-f694f8d85566 button.colab-df-convert');\n",
              "        buttonEl.style.display =\n",
              "          google.colab.kernel.accessAllowed ? 'block' : 'none';\n",
              "\n",
              "        async function convertToInteractive(key) {\n",
              "          const element = document.querySelector('#df-f8beed58-4235-4234-8b6c-f694f8d85566');\n",
              "          const dataTable =\n",
              "            await google.colab.kernel.invokeFunction('convertToInteractive',\n",
              "                                                     [key], {});\n",
              "          if (!dataTable) return;\n",
              "\n",
              "          const docLinkHtml = 'Like what you see? Visit the ' +\n",
              "            '<a target=\"_blank\" href=https://colab.research.google.com/notebooks/data_table.ipynb>data table notebook</a>'\n",
              "            + ' to learn more about interactive tables.';\n",
              "          element.innerHTML = '';\n",
              "          dataTable['output_type'] = 'display_data';\n",
              "          await google.colab.output.renderOutput(dataTable, element);\n",
              "          const docLink = document.createElement('div');\n",
              "          docLink.innerHTML = docLinkHtml;\n",
              "          element.appendChild(docLink);\n",
              "        }\n",
              "      </script>\n",
              "    </div>\n",
              "  </div>\n",
              "  "
            ]
          },
          "metadata": {},
          "execution_count": 18
        }
      ]
    },
    {
      "cell_type": "code",
      "source": [
        "acc = accuracy_score(y_train, y_preds) # Comprobamos el ratio de acierto\n",
        "acc"
      ],
      "metadata": {
        "id": "41DlZdz7e82i",
        "colab": {
          "base_uri": "https://localhost:8080/"
        },
        "outputId": "a7ddcb5e-849b-4226-ab36-2d9bd2688b56"
      },
      "execution_count": 19,
      "outputs": [
        {
          "output_type": "execute_result",
          "data": {
            "text/plain": [
              "0.799265605875153"
            ]
          },
          "metadata": {},
          "execution_count": 19
        }
      ]
    },
    {
      "cell_type": "markdown",
      "source": [
        "#Presentación del árbol de decisión\n",
        "Repetimos el código anterior, pero indicando que solo queremos crear el primer arbol para poder dibujarlo.\n",
        "¿Lo entiendo? Vagamente.  ¿Es bonito? Para nada. ✅"
      ],
      "metadata": {
        "id": "0yA3hKEPjcmL"
      }
    },
    {
      "cell_type": "code",
      "source": [
        "clf_xgb = xgb.XGBClassifier(seed = 20,\n",
        "                            objective = 'binary:logistic',\n",
        "                            gamma = 1,\n",
        "                            learn_rate = 0.05,\n",
        "                            max_depth = 5,\n",
        "                            reg_lambda = 0,\n",
        "                            scale_pos_weight = 3,\n",
        "                            subsample = 0.9,\n",
        "                            colsampole_bytree = 0.5,\n",
        "                            n_estimators = 1) #Indicamos solo un árbol\n",
        "clf_xgb.fit(x_train, y_train)"
      ],
      "metadata": {
        "id": "pGC5amX-jg3_",
        "colab": {
          "base_uri": "https://localhost:8080/"
        },
        "outputId": "693ff64d-9f4b-4bf1-8976-0f143ae84c73"
      },
      "execution_count": 20,
      "outputs": [
        {
          "output_type": "execute_result",
          "data": {
            "text/plain": [
              "XGBClassifier(colsampole_bytree=0.5, gamma=1, learn_rate=0.05, max_depth=5,\n",
              "              n_estimators=1, reg_lambda=0, scale_pos_weight=3, seed=20,\n",
              "              subsample=0.9)"
            ]
          },
          "metadata": {},
          "execution_count": 20
        }
      ]
    },
    {
      "cell_type": "code",
      "source": [
        "bst = clf_xgb.get_booster()\n",
        "for importance_type in ('weight', 'gain', 'cover', 'total_gain', 'total_cover'):\n",
        "  print('%s: ' % importance_type, bst.get_score(importance_type = importance_type))"
      ],
      "metadata": {
        "id": "xMwt_b9GjoVb",
        "colab": {
          "base_uri": "https://localhost:8080/"
        },
        "outputId": "2e4b9aa5-2c17-4540-f18f-ca18fe4ff3f6"
      },
      "execution_count": 21,
      "outputs": [
        {
          "output_type": "stream",
          "name": "stdout",
          "text": [
            "weight:  {'historial': 1, 'loannumber': 3, 'employment': 3, 'cuenta_otra': 2, 'referido': 4, 'parte_mes_pago': 3, 'interes': 2, 'cuenta_ahorro': 1, 'due_per_day': 2, 'age': 5}\n",
            "gain:  {'historial': 77.0, 'loannumber': 12.028955453333333, 'employment': 7.003178906666666, 'cuenta_otra': 6.61429406, 'referido': 2.5039256825, 'parte_mes_pago': 3.520398456666667, 'interes': 7.194610595, 'cuenta_ahorro': 4.55914307, 'due_per_day': 2.664833065, 'age': 4.24035492}\n",
            "cover:  {'historial': 1889.5, 'loannumber': 161.41666666666666, 'employment': 468.9166666666667, 'cuenta_otra': 39.125, 'referido': 61.375, 'parte_mes_pago': 220.66666666666666, 'interes': 866.25, 'cuenta_ahorro': 177.25, 'due_per_day': 84.875, 'age': 322.55}\n",
            "total_gain:  {'historial': 77.0, 'loannumber': 36.08686636, 'employment': 21.00953672, 'cuenta_otra': 13.22858812, 'referido': 10.01570273, 'parte_mes_pago': 10.56119537, 'interes': 14.38922119, 'cuenta_ahorro': 4.55914307, 'due_per_day': 5.32966613, 'age': 21.2017746}\n",
            "total_cover:  {'historial': 1889.5, 'loannumber': 484.25, 'employment': 1406.75, 'cuenta_otra': 78.25, 'referido': 245.5, 'parte_mes_pago': 662.0, 'interes': 1732.5, 'cuenta_ahorro': 177.25, 'due_per_day': 169.75, 'age': 1612.75}\n"
          ]
        }
      ]
    },
    {
      "cell_type": "code",
      "source": [
        "node_params = {'shape' : 'box',\n",
        "               'style' : 'filled, rounded',\n",
        "               'fillcolor' : '#78cbe'}\n",
        "leaf_params = {'shape' : 'box',\n",
        "               'style' : 'filled',\n",
        "               'fillcolor' : '#e48038'}\n",
        "\n",
        "xgb.to_graphviz(clf_xgb,\n",
        "                num_trees = 0,\n",
        "                size = \"12,12\",\n",
        "                condition_node_params = node_params,\n",
        "                leaf_node_params = leaf_params)"
      ],
      "metadata": {
        "id": "CKkkLNMBjqA0",
        "colab": {
          "base_uri": "https://localhost:8080/",
          "height": 200
        },
        "outputId": "e502d685-4ea2-41f4-ab68-5cd54852292f"
      },
      "execution_count": 22,
      "outputs": [
        {
          "output_type": "execute_result",
          "data": {
            "text/plain": [
              "<graphviz.dot.Digraph at 0x7fe2bd02efd0>"
            ],
            "image/svg+xml": "<?xml version=\"1.0\" encoding=\"UTF-8\" standalone=\"no\"?>\n<!DOCTYPE svg PUBLIC \"-//W3C//DTD SVG 1.1//EN\"\n \"http://www.w3.org/Graphics/SVG/1.1/DTD/svg11.dtd\">\n<!-- Generated by graphviz version 2.40.1 (20161225.0304)\n -->\n<!-- Title: %3 Pages: 1 -->\n<svg width=\"864pt\" height=\"134pt\"\n viewBox=\"0.00 0.00 864.00 133.55\" xmlns=\"http://www.w3.org/2000/svg\" xmlns:xlink=\"http://www.w3.org/1999/xlink\">\n<g id=\"graph0\" class=\"graph\" transform=\"scale(.2788 .2788) rotate(0) translate(4 475)\">\n<title>%3</title>\n<polygon fill=\"#ffffff\" stroke=\"transparent\" points=\"-4,4 -4,-475 3095,-475 3095,4 -4,4\"/>\n<!-- 0 -->\n<g id=\"node1\" class=\"node\">\n<title>0</title>\n<path fill=\"#78cb0e\" stroke=\"#000000\" d=\"M1800.5,-471C1800.5,-471 1746.5,-471 1746.5,-471 1740.5,-471 1734.5,-465 1734.5,-459 1734.5,-459 1734.5,-447 1734.5,-447 1734.5,-441 1740.5,-435 1746.5,-435 1746.5,-435 1800.5,-435 1800.5,-435 1806.5,-435 1812.5,-441 1812.5,-447 1812.5,-447 1812.5,-459 1812.5,-459 1812.5,-465 1806.5,-471 1800.5,-471\"/>\n<text text-anchor=\"middle\" x=\"1773.5\" y=\"-449.3\" font-family=\"Times,serif\" font-size=\"14.00\" fill=\"#000000\">historial&lt;1</text>\n</g>\n<!-- 1 -->\n<g id=\"node2\" class=\"node\">\n<title>1</title>\n<path fill=\"#78cb0e\" stroke=\"#000000\" d=\"M1173,-384C1173,-384 1096,-384 1096,-384 1090,-384 1084,-378 1084,-372 1084,-372 1084,-360 1084,-360 1084,-354 1090,-348 1096,-348 1096,-348 1173,-348 1173,-348 1179,-348 1185,-354 1185,-360 1185,-360 1185,-372 1185,-372 1185,-378 1179,-384 1173,-384\"/>\n<text text-anchor=\"middle\" x=\"1134.5\" y=\"-362.3\" font-family=\"Times,serif\" font-size=\"14.00\" fill=\"#000000\">loannumber&lt;4</text>\n</g>\n<!-- 0&#45;&gt;1 -->\n<g id=\"edge1\" class=\"edge\">\n<title>0&#45;&gt;1</title>\n<path fill=\"none\" stroke=\"#0000ff\" d=\"M1734.4896,-447.6887C1626.8491,-433.0334 1325.0649,-391.9455 1195.1909,-374.2631\"/>\n<polygon fill=\"#0000ff\" stroke=\"#0000ff\" points=\"1195.4057,-370.7601 1185.0249,-372.879 1194.4613,-377.6961 1195.4057,-370.7601\"/>\n<text text-anchor=\"middle\" x=\"1528\" y=\"-405.8\" font-family=\"Times,serif\" font-size=\"14.00\" fill=\"#000000\">yes, missing</text>\n</g>\n<!-- 2 -->\n<g id=\"node3\" class=\"node\">\n<title>2</title>\n<path fill=\"#78cb0e\" stroke=\"#000000\" d=\"M2277,-384C2277,-384 2168,-384 2168,-384 2162,-384 2156,-378 2156,-372 2156,-372 2156,-360 2156,-360 2156,-354 2162,-348 2168,-348 2168,-348 2277,-348 2277,-348 2283,-348 2289,-354 2289,-360 2289,-360 2289,-372 2289,-372 2289,-378 2283,-384 2277,-384\"/>\n<text text-anchor=\"middle\" x=\"2222.5\" y=\"-362.3\" font-family=\"Times,serif\" font-size=\"14.00\" fill=\"#000000\">interes&lt;29.1666679</text>\n</g>\n<!-- 0&#45;&gt;2 -->\n<g id=\"edge2\" class=\"edge\">\n<title>0&#45;&gt;2</title>\n<path fill=\"none\" stroke=\"#ff0000\" d=\"M1812.5603,-445.4315C1886.7437,-431.0575 2049.2228,-399.5749 2145.8648,-380.8491\"/>\n<polygon fill=\"#ff0000\" stroke=\"#ff0000\" points=\"2146.7193,-384.2488 2155.8709,-378.9103 2145.3877,-377.3766 2146.7193,-384.2488\"/>\n<text text-anchor=\"middle\" x=\"2033.5\" y=\"-405.8\" font-family=\"Times,serif\" font-size=\"14.00\" fill=\"#000000\">no</text>\n</g>\n<!-- 3 -->\n<g id=\"node4\" class=\"node\">\n<title>3</title>\n<path fill=\"#78cb0e\" stroke=\"#000000\" d=\"M570.5,-297C570.5,-297 490.5,-297 490.5,-297 484.5,-297 478.5,-291 478.5,-285 478.5,-285 478.5,-273 478.5,-273 478.5,-267 484.5,-261 490.5,-261 490.5,-261 570.5,-261 570.5,-261 576.5,-261 582.5,-267 582.5,-273 582.5,-273 582.5,-285 582.5,-285 582.5,-291 576.5,-297 570.5,-297\"/>\n<text text-anchor=\"middle\" x=\"530.5\" y=\"-275.3\" font-family=\"Times,serif\" font-size=\"14.00\" fill=\"#000000\">employment&lt;2</text>\n</g>\n<!-- 1&#45;&gt;3 -->\n<g id=\"edge3\" class=\"edge\">\n<title>1&#45;&gt;3</title>\n<path fill=\"none\" stroke=\"#0000ff\" d=\"M1083.7833,-358.6948C973.6891,-342.8368 713.0789,-305.2986 593.0295,-288.0067\"/>\n<polygon fill=\"#0000ff\" stroke=\"#0000ff\" points=\"593.295,-284.5089 582.8981,-286.5474 592.2969,-291.4374 593.295,-284.5089\"/>\n<text text-anchor=\"middle\" x=\"905\" y=\"-318.8\" font-family=\"Times,serif\" font-size=\"14.00\" fill=\"#000000\">yes, missing</text>\n</g>\n<!-- 4 -->\n<g id=\"node5\" class=\"node\">\n<title>4</title>\n<path fill=\"#78cb0e\" stroke=\"#000000\" d=\"M1166.5,-297C1166.5,-297 1102.5,-297 1102.5,-297 1096.5,-297 1090.5,-291 1090.5,-285 1090.5,-285 1090.5,-273 1090.5,-273 1090.5,-267 1096.5,-261 1102.5,-261 1102.5,-261 1166.5,-261 1166.5,-261 1172.5,-261 1178.5,-267 1178.5,-273 1178.5,-273 1178.5,-285 1178.5,-285 1178.5,-291 1172.5,-297 1166.5,-297\"/>\n<text text-anchor=\"middle\" x=\"1134.5\" y=\"-275.3\" font-family=\"Times,serif\" font-size=\"14.00\" fill=\"#000000\">interes&lt;27.5</text>\n</g>\n<!-- 1&#45;&gt;4 -->\n<g id=\"edge4\" class=\"edge\">\n<title>1&#45;&gt;4</title>\n<path fill=\"none\" stroke=\"#ff0000\" d=\"M1134.5,-347.9735C1134.5,-336.1918 1134.5,-320.5607 1134.5,-307.1581\"/>\n<polygon fill=\"#ff0000\" stroke=\"#ff0000\" points=\"1138.0001,-307.0033 1134.5,-297.0034 1131.0001,-307.0034 1138.0001,-307.0033\"/>\n<text text-anchor=\"middle\" x=\"1142.5\" y=\"-318.8\" font-family=\"Times,serif\" font-size=\"14.00\" fill=\"#000000\">no</text>\n</g>\n<!-- 5 -->\n<g id=\"node30\" class=\"node\">\n<title>5</title>\n<path fill=\"#78cb0e\" stroke=\"#000000\" d=\"M2262.5,-297C2262.5,-297 2182.5,-297 2182.5,-297 2176.5,-297 2170.5,-291 2170.5,-285 2170.5,-285 2170.5,-273 2170.5,-273 2170.5,-267 2176.5,-261 2182.5,-261 2182.5,-261 2262.5,-261 2262.5,-261 2268.5,-261 2274.5,-267 2274.5,-273 2274.5,-273 2274.5,-285 2274.5,-285 2274.5,-291 2268.5,-297 2262.5,-297\"/>\n<text text-anchor=\"middle\" x=\"2222.5\" y=\"-275.3\" font-family=\"Times,serif\" font-size=\"14.00\" fill=\"#000000\">employment&lt;2</text>\n</g>\n<!-- 2&#45;&gt;5 -->\n<g id=\"edge29\" class=\"edge\">\n<title>2&#45;&gt;5</title>\n<path fill=\"none\" stroke=\"#0000ff\" d=\"M2222.5,-347.9735C2222.5,-336.1918 2222.5,-320.5607 2222.5,-307.1581\"/>\n<polygon fill=\"#0000ff\" stroke=\"#0000ff\" points=\"2226.0001,-307.0033 2222.5,-297.0034 2219.0001,-307.0034 2226.0001,-307.0033\"/>\n<text text-anchor=\"middle\" x=\"2258\" y=\"-318.8\" font-family=\"Times,serif\" font-size=\"14.00\" fill=\"#000000\">yes, missing</text>\n</g>\n<!-- 6 -->\n<g id=\"node31\" class=\"node\">\n<title>6</title>\n<path fill=\"#78cb0e\" stroke=\"#000000\" d=\"M2700,-297C2700,-297 2665,-297 2665,-297 2659,-297 2653,-291 2653,-285 2653,-285 2653,-273 2653,-273 2653,-267 2659,-261 2665,-261 2665,-261 2700,-261 2700,-261 2706,-261 2712,-267 2712,-273 2712,-273 2712,-285 2712,-285 2712,-291 2706,-297 2700,-297\"/>\n<text text-anchor=\"middle\" x=\"2682.5\" y=\"-275.3\" font-family=\"Times,serif\" font-size=\"14.00\" fill=\"#000000\">age&lt;31</text>\n</g>\n<!-- 2&#45;&gt;6 -->\n<g id=\"edge30\" class=\"edge\">\n<title>2&#45;&gt;6</title>\n<path fill=\"none\" stroke=\"#ff0000\" d=\"M2289.3879,-353.3495C2386.5655,-334.9702 2563.7811,-301.4534 2642.7237,-286.5229\"/>\n<polygon fill=\"#ff0000\" stroke=\"#ff0000\" points=\"2643.571,-289.9248 2652.7464,-284.6273 2642.2701,-283.0467 2643.571,-289.9248\"/>\n<text text-anchor=\"middle\" x=\"2488.5\" y=\"-318.8\" font-family=\"Times,serif\" font-size=\"14.00\" fill=\"#000000\">no</text>\n</g>\n<!-- 7 -->\n<g id=\"node6\" class=\"node\">\n<title>7</title>\n<path fill=\"#78cb0e\" stroke=\"#000000\" d=\"M419.5,-210C419.5,-210 345.5,-210 345.5,-210 339.5,-210 333.5,-204 333.5,-198 333.5,-198 333.5,-186 333.5,-186 333.5,-180 339.5,-174 345.5,-174 345.5,-174 419.5,-174 419.5,-174 425.5,-174 431.5,-180 431.5,-186 431.5,-186 431.5,-198 431.5,-198 431.5,-204 425.5,-210 419.5,-210\"/>\n<text text-anchor=\"middle\" x=\"382.5\" y=\"-188.3\" font-family=\"Times,serif\" font-size=\"14.00\" fill=\"#000000\">cuenta_otra&lt;1</text>\n</g>\n<!-- 3&#45;&gt;7 -->\n<g id=\"edge5\" class=\"edge\">\n<title>3&#45;&gt;7</title>\n<path fill=\"none\" stroke=\"#0000ff\" d=\"M489.7843,-260.9335C478.4876,-255.5257 466.3501,-249.3378 455.5,-243 441.6164,-234.8903 426.9654,-224.9527 414.4618,-216.0109\"/>\n<polygon fill=\"#0000ff\" stroke=\"#0000ff\" points=\"416.336,-213.0467 406.1844,-210.0141 412.2292,-218.7154 416.336,-213.0467\"/>\n<text text-anchor=\"middle\" x=\"491\" y=\"-231.8\" font-family=\"Times,serif\" font-size=\"14.00\" fill=\"#000000\">yes, missing</text>\n</g>\n<!-- 8 -->\n<g id=\"node7\" class=\"node\">\n<title>8</title>\n<path fill=\"#78cb0e\" stroke=\"#000000\" d=\"M581.5,-210C581.5,-210 479.5,-210 479.5,-210 473.5,-210 467.5,-204 467.5,-198 467.5,-198 467.5,-186 467.5,-186 467.5,-180 473.5,-174 479.5,-174 479.5,-174 581.5,-174 581.5,-174 587.5,-174 593.5,-180 593.5,-186 593.5,-186 593.5,-198 593.5,-198 593.5,-204 587.5,-210 581.5,-210\"/>\n<text text-anchor=\"middle\" x=\"530.5\" y=\"-188.3\" font-family=\"Times,serif\" font-size=\"14.00\" fill=\"#000000\">parte_mes_pago&lt;3</text>\n</g>\n<!-- 3&#45;&gt;8 -->\n<g id=\"edge6\" class=\"edge\">\n<title>3&#45;&gt;8</title>\n<path fill=\"none\" stroke=\"#ff0000\" d=\"M530.5,-260.9735C530.5,-249.1918 530.5,-233.5607 530.5,-220.1581\"/>\n<polygon fill=\"#ff0000\" stroke=\"#ff0000\" points=\"534.0001,-220.0033 530.5,-210.0034 527.0001,-220.0034 534.0001,-220.0033\"/>\n<text text-anchor=\"middle\" x=\"538.5\" y=\"-231.8\" font-family=\"Times,serif\" font-size=\"14.00\" fill=\"#000000\">no</text>\n</g>\n<!-- 9 -->\n<g id=\"node18\" class=\"node\">\n<title>9</title>\n<path fill=\"#78cb0e\" stroke=\"#000000\" d=\"M1083.5,-210C1083.5,-210 993.5,-210 993.5,-210 987.5,-210 981.5,-204 981.5,-198 981.5,-198 981.5,-186 981.5,-186 981.5,-180 987.5,-174 993.5,-174 993.5,-174 1083.5,-174 1083.5,-174 1089.5,-174 1095.5,-180 1095.5,-186 1095.5,-186 1095.5,-198 1095.5,-198 1095.5,-204 1089.5,-210 1083.5,-210\"/>\n<text text-anchor=\"middle\" x=\"1038.5\" y=\"-188.3\" font-family=\"Times,serif\" font-size=\"14.00\" fill=\"#000000\">cuenta_ahorro&lt;1</text>\n</g>\n<!-- 4&#45;&gt;9 -->\n<g id=\"edge17\" class=\"edge\">\n<title>4&#45;&gt;9</title>\n<path fill=\"none\" stroke=\"#0000ff\" d=\"M1114.6087,-260.9735C1100.5784,-248.2586 1081.601,-231.0603 1066.1064,-217.0183\"/>\n<polygon fill=\"#0000ff\" stroke=\"#0000ff\" points=\"1068.126,-214.1251 1058.3658,-210.0034 1063.4253,-219.3121 1068.126,-214.1251\"/>\n<text text-anchor=\"middle\" x=\"1128\" y=\"-231.8\" font-family=\"Times,serif\" font-size=\"14.00\" fill=\"#000000\">yes, missing</text>\n</g>\n<!-- 10 -->\n<g id=\"node19\" class=\"node\">\n<title>10</title>\n<path fill=\"#78cb0e\" stroke=\"#000000\" d=\"M1323,-210C1323,-210 1288,-210 1288,-210 1282,-210 1276,-204 1276,-198 1276,-198 1276,-186 1276,-186 1276,-180 1282,-174 1288,-174 1288,-174 1323,-174 1323,-174 1329,-174 1335,-180 1335,-186 1335,-186 1335,-198 1335,-198 1335,-204 1329,-210 1323,-210\"/>\n<text text-anchor=\"middle\" x=\"1305.5\" y=\"-188.3\" font-family=\"Times,serif\" font-size=\"14.00\" fill=\"#000000\">age&lt;33</text>\n</g>\n<!-- 4&#45;&gt;10 -->\n<g id=\"edge18\" class=\"edge\">\n<title>4&#45;&gt;10</title>\n<path fill=\"none\" stroke=\"#ff0000\" d=\"M1169.9313,-260.9735C1198.1786,-246.6021 1237.6834,-226.5032 1266.7638,-211.7079\"/>\n<polygon fill=\"#ff0000\" stroke=\"#ff0000\" points=\"1268.4861,-214.7587 1275.8117,-207.1046 1265.3118,-208.5197 1268.4861,-214.7587\"/>\n<text text-anchor=\"middle\" x=\"1238.5\" y=\"-231.8\" font-family=\"Times,serif\" font-size=\"14.00\" fill=\"#000000\">no</text>\n</g>\n<!-- 15 -->\n<g id=\"node8\" class=\"node\">\n<title>15</title>\n<path fill=\"#78cb0e\" stroke=\"#000000\" d=\"M244,-123C244,-123 191,-123 191,-123 185,-123 179,-117 179,-111 179,-111 179,-99 179,-99 179,-93 185,-87 191,-87 191,-87 244,-87 244,-87 250,-87 256,-93 256,-99 256,-99 256,-111 256,-111 256,-117 250,-123 244,-123\"/>\n<text text-anchor=\"middle\" x=\"217.5\" y=\"-101.3\" font-family=\"Times,serif\" font-size=\"14.00\" fill=\"#000000\">referido&lt;1</text>\n</g>\n<!-- 7&#45;&gt;15 -->\n<g id=\"edge7\" class=\"edge\">\n<title>7&#45;&gt;15</title>\n<path fill=\"none\" stroke=\"#0000ff\" d=\"M343.7104,-173.9989C331.9927,-168.3956 319.1487,-162.0872 307.5,-156 290.8679,-147.3087 272.8189,-137.2156 257.2807,-128.3132\"/>\n<polygon fill=\"#0000ff\" stroke=\"#0000ff\" points=\"258.8642,-125.1863 248.4518,-123.2287 255.3708,-131.2523 258.8642,-125.1863\"/>\n<text text-anchor=\"middle\" x=\"343\" y=\"-144.8\" font-family=\"Times,serif\" font-size=\"14.00\" fill=\"#000000\">yes, missing</text>\n</g>\n<!-- 16 -->\n<g id=\"node9\" class=\"node\">\n<title>16</title>\n<polygon fill=\"#e48038\" stroke=\"#000000\" points=\"444.5,-123 320.5,-123 320.5,-87 444.5,-87 444.5,-123\"/>\n<text text-anchor=\"middle\" x=\"382.5\" y=\"-101.3\" font-family=\"Times,serif\" font-size=\"14.00\" fill=\"#000000\">leaf=0.200000003</text>\n</g>\n<!-- 7&#45;&gt;16 -->\n<g id=\"edge8\" class=\"edge\">\n<title>7&#45;&gt;16</title>\n<path fill=\"none\" stroke=\"#ff0000\" d=\"M382.5,-173.9735C382.5,-162.1918 382.5,-146.5607 382.5,-133.1581\"/>\n<polygon fill=\"#ff0000\" stroke=\"#ff0000\" points=\"386.0001,-133.0033 382.5,-123.0034 379.0001,-133.0034 386.0001,-133.0033\"/>\n<text text-anchor=\"middle\" x=\"390.5\" y=\"-144.8\" font-family=\"Times,serif\" font-size=\"14.00\" fill=\"#000000\">no</text>\n</g>\n<!-- 17 -->\n<g id=\"node12\" class=\"node\">\n<title>17</title>\n<path fill=\"#78cb0e\" stroke=\"#000000\" d=\"M542,-123C542,-123 489,-123 489,-123 483,-123 477,-117 477,-111 477,-111 477,-99 477,-99 477,-93 483,-87 489,-87 489,-87 542,-87 542,-87 548,-87 554,-93 554,-99 554,-99 554,-111 554,-111 554,-117 548,-123 542,-123\"/>\n<text text-anchor=\"middle\" x=\"515.5\" y=\"-101.3\" font-family=\"Times,serif\" font-size=\"14.00\" fill=\"#000000\">referido&lt;1</text>\n</g>\n<!-- 8&#45;&gt;17 -->\n<g id=\"edge11\" class=\"edge\">\n<title>8&#45;&gt;17</title>\n<path fill=\"none\" stroke=\"#0000ff\" d=\"M527.392,-173.9735C525.3607,-162.1918 522.6656,-146.5607 520.3548,-133.1581\"/>\n<polygon fill=\"#0000ff\" stroke=\"#0000ff\" points=\"523.7523,-132.2633 518.604,-123.0034 516.8541,-133.4527 523.7523,-132.2633\"/>\n<text text-anchor=\"middle\" x=\"560\" y=\"-144.8\" font-family=\"Times,serif\" font-size=\"14.00\" fill=\"#000000\">yes, missing</text>\n</g>\n<!-- 18 -->\n<g id=\"node13\" class=\"node\">\n<title>18</title>\n<path fill=\"#78cb0e\" stroke=\"#000000\" d=\"M694.5,-123C694.5,-123 620.5,-123 620.5,-123 614.5,-123 608.5,-117 608.5,-111 608.5,-111 608.5,-99 608.5,-99 608.5,-93 614.5,-87 620.5,-87 620.5,-87 694.5,-87 694.5,-87 700.5,-87 706.5,-93 706.5,-99 706.5,-99 706.5,-111 706.5,-111 706.5,-117 700.5,-123 694.5,-123\"/>\n<text text-anchor=\"middle\" x=\"657.5\" y=\"-101.3\" font-family=\"Times,serif\" font-size=\"14.00\" fill=\"#000000\">cuenta_otra&lt;1</text>\n</g>\n<!-- 8&#45;&gt;18 -->\n<g id=\"edge12\" class=\"edge\">\n<title>8&#45;&gt;18</title>\n<path fill=\"none\" stroke=\"#ff0000\" d=\"M569.0522,-173.9648C579.2393,-168.6458 590.0281,-162.495 599.5,-156 610.669,-148.3412 622.053,-138.7873 631.7437,-130.0257\"/>\n<polygon fill=\"#ff0000\" stroke=\"#ff0000\" points=\"634.1421,-132.5751 639.1161,-123.2204 629.3941,-127.4315 634.1421,-132.5751\"/>\n<text text-anchor=\"middle\" x=\"626.5\" y=\"-144.8\" font-family=\"Times,serif\" font-size=\"14.00\" fill=\"#000000\">no</text>\n</g>\n<!-- 31 -->\n<g id=\"node10\" class=\"node\">\n<title>31</title>\n<polygon fill=\"#e48038\" stroke=\"#000000\" points=\"131,-36 0,-36 0,0 131,0 131,-36\"/>\n<text text-anchor=\"middle\" x=\"65.5\" y=\"-14.3\" font-family=\"Times,serif\" font-size=\"14.00\" fill=\"#000000\">leaf=0.0727272779</text>\n</g>\n<!-- 15&#45;&gt;31 -->\n<g id=\"edge9\" class=\"edge\">\n<title>15&#45;&gt;31</title>\n<path fill=\"none\" stroke=\"#0000ff\" d=\"M178.8245,-87.6822C166.9923,-82.0534 154.0559,-75.5592 142.5,-69 127.9725,-60.7541 112.5171,-50.7735 99.2948,-41.8356\"/>\n<polygon fill=\"#0000ff\" stroke=\"#0000ff\" points=\"101.1919,-38.8929 90.9605,-36.1415 97.243,-44.6727 101.1919,-38.8929\"/>\n<text text-anchor=\"middle\" x=\"178\" y=\"-57.8\" font-family=\"Times,serif\" font-size=\"14.00\" fill=\"#000000\">yes, missing</text>\n</g>\n<!-- 32 -->\n<g id=\"node11\" class=\"node\">\n<title>32</title>\n<polygon fill=\"#e48038\" stroke=\"#000000\" points=\"285.5,-36 149.5,-36 149.5,0 285.5,0 285.5,-36\"/>\n<text text-anchor=\"middle\" x=\"217.5\" y=\"-14.3\" font-family=\"Times,serif\" font-size=\"14.00\" fill=\"#000000\">leaf=&#45;0.0021978023</text>\n</g>\n<!-- 15&#45;&gt;32 -->\n<g id=\"edge10\" class=\"edge\">\n<title>15&#45;&gt;32</title>\n<path fill=\"none\" stroke=\"#ff0000\" d=\"M217.5,-86.9735C217.5,-75.1918 217.5,-59.5607 217.5,-46.1581\"/>\n<polygon fill=\"#ff0000\" stroke=\"#ff0000\" points=\"221.0001,-46.0033 217.5,-36.0034 214.0001,-46.0034 221.0001,-46.0033\"/>\n<text text-anchor=\"middle\" x=\"225.5\" y=\"-57.8\" font-family=\"Times,serif\" font-size=\"14.00\" fill=\"#000000\">no</text>\n</g>\n<!-- 33 -->\n<g id=\"node14\" class=\"node\">\n<title>33</title>\n<polygon fill=\"#e48038\" stroke=\"#000000\" points=\"435,-36 304,-36 304,0 435,0 435,-36\"/>\n<text text-anchor=\"middle\" x=\"369.5\" y=\"-14.3\" font-family=\"Times,serif\" font-size=\"14.00\" fill=\"#000000\">leaf=0.0482758619</text>\n</g>\n<!-- 17&#45;&gt;33 -->\n<g id=\"edge13\" class=\"edge\">\n<title>17&#45;&gt;33</title>\n<path fill=\"none\" stroke=\"#0000ff\" d=\"M476.6689,-87.9504C464.8304,-82.3325 451.9295,-75.7771 440.5,-69 426.9233,-60.9498 412.6599,-51.0234 400.5085,-42.0738\"/>\n<polygon fill=\"#0000ff\" stroke=\"#0000ff\" points=\"402.5743,-39.2483 392.4677,-36.0691 398.3858,-44.8569 402.5743,-39.2483\"/>\n<text text-anchor=\"middle\" x=\"476\" y=\"-57.8\" font-family=\"Times,serif\" font-size=\"14.00\" fill=\"#000000\">yes, missing</text>\n</g>\n<!-- 34 -->\n<g id=\"node15\" class=\"node\">\n<title>34</title>\n<polygon fill=\"#e48038\" stroke=\"#000000\" points=\"577.5,-36 453.5,-36 453.5,0 577.5,0 577.5,-36\"/>\n<text text-anchor=\"middle\" x=\"515.5\" y=\"-14.3\" font-family=\"Times,serif\" font-size=\"14.00\" fill=\"#000000\">leaf=0.103501938</text>\n</g>\n<!-- 17&#45;&gt;34 -->\n<g id=\"edge14\" class=\"edge\">\n<title>17&#45;&gt;34</title>\n<path fill=\"none\" stroke=\"#ff0000\" d=\"M515.5,-86.9735C515.5,-75.1918 515.5,-59.5607 515.5,-46.1581\"/>\n<polygon fill=\"#ff0000\" stroke=\"#ff0000\" points=\"519.0001,-46.0033 515.5,-36.0034 512.0001,-46.0034 519.0001,-46.0033\"/>\n<text text-anchor=\"middle\" x=\"523.5\" y=\"-57.8\" font-family=\"Times,serif\" font-size=\"14.00\" fill=\"#000000\">no</text>\n</g>\n<!-- 35 -->\n<g id=\"node16\" class=\"node\">\n<title>35</title>\n<polygon fill=\"#e48038\" stroke=\"#000000\" points=\"719.5,-36 595.5,-36 595.5,0 719.5,0 719.5,-36\"/>\n<text text-anchor=\"middle\" x=\"657.5\" y=\"-14.3\" font-family=\"Times,serif\" font-size=\"14.00\" fill=\"#000000\">leaf=0.129999995</text>\n</g>\n<!-- 18&#45;&gt;35 -->\n<g id=\"edge15\" class=\"edge\">\n<title>18&#45;&gt;35</title>\n<path fill=\"none\" stroke=\"#0000ff\" d=\"M657.5,-86.9735C657.5,-75.1918 657.5,-59.5607 657.5,-46.1581\"/>\n<polygon fill=\"#0000ff\" stroke=\"#0000ff\" points=\"661.0001,-46.0033 657.5,-36.0034 654.0001,-46.0034 661.0001,-46.0033\"/>\n<text text-anchor=\"middle\" x=\"693\" y=\"-57.8\" font-family=\"Times,serif\" font-size=\"14.00\" fill=\"#000000\">yes, missing</text>\n</g>\n<!-- 36 -->\n<g id=\"node17\" class=\"node\">\n<title>36</title>\n<polygon fill=\"#e48038\" stroke=\"#000000\" points=\"817,-36 738,-36 738,0 817,0 817,-36\"/>\n<text text-anchor=\"middle\" x=\"777.5\" y=\"-14.3\" font-family=\"Times,serif\" font-size=\"14.00\" fill=\"#000000\">leaf=0.184</text>\n</g>\n<!-- 18&#45;&gt;36 -->\n<g id=\"edge16\" class=\"edge\">\n<title>18&#45;&gt;36</title>\n<path fill=\"none\" stroke=\"#ff0000\" d=\"M702.8245,-86.8476C713.0437,-81.794 723.5157,-75.7969 732.5,-69 741.7771,-61.9816 750.5782,-52.8122 757.8957,-44.1868\"/>\n<polygon fill=\"#ff0000\" stroke=\"#ff0000\" points=\"760.8225,-46.1356 764.4241,-36.1717 755.395,-41.7149 760.8225,-46.1356\"/>\n<text text-anchor=\"middle\" x=\"757.5\" y=\"-57.8\" font-family=\"Times,serif\" font-size=\"14.00\" fill=\"#000000\">no</text>\n</g>\n<!-- 19 -->\n<g id=\"node20\" class=\"node\">\n<title>19</title>\n<polygon fill=\"#e48038\" stroke=\"#000000\" points=\"959.5,-123 835.5,-123 835.5,-87 959.5,-87 959.5,-123\"/>\n<text text-anchor=\"middle\" x=\"897.5\" y=\"-101.3\" font-family=\"Times,serif\" font-size=\"14.00\" fill=\"#000000\">leaf=0.176397517</text>\n</g>\n<!-- 9&#45;&gt;19 -->\n<g id=\"edge19\" class=\"edge\">\n<title>9&#45;&gt;19</title>\n<path fill=\"none\" stroke=\"#0000ff\" d=\"M996.8005,-173.898C985.7273,-168.5791 973.9488,-162.4451 963.5,-156 950.9289,-148.2457 937.8977,-138.5743 926.7688,-129.7444\"/>\n<polygon fill=\"#0000ff\" stroke=\"#0000ff\" points=\"928.647,-126.7624 918.6684,-123.2019 924.2487,-132.208 928.647,-126.7624\"/>\n<text text-anchor=\"middle\" x=\"999\" y=\"-144.8\" font-family=\"Times,serif\" font-size=\"14.00\" fill=\"#000000\">yes, missing</text>\n</g>\n<!-- 20 -->\n<g id=\"node21\" class=\"node\">\n<title>20</title>\n<path fill=\"#78cb0e\" stroke=\"#000000\" d=\"M1087.5,-123C1087.5,-123 989.5,-123 989.5,-123 983.5,-123 977.5,-117 977.5,-111 977.5,-111 977.5,-99 977.5,-99 977.5,-93 983.5,-87 989.5,-87 989.5,-87 1087.5,-87 1087.5,-87 1093.5,-87 1099.5,-93 1099.5,-99 1099.5,-99 1099.5,-111 1099.5,-111 1099.5,-117 1093.5,-123 1087.5,-123\"/>\n<text text-anchor=\"middle\" x=\"1038.5\" y=\"-101.3\" font-family=\"Times,serif\" font-size=\"14.00\" fill=\"#000000\">due_per_day&lt;761</text>\n</g>\n<!-- 9&#45;&gt;20 -->\n<g id=\"edge20\" class=\"edge\">\n<title>9&#45;&gt;20</title>\n<path fill=\"none\" stroke=\"#ff0000\" d=\"M1038.5,-173.9735C1038.5,-162.1918 1038.5,-146.5607 1038.5,-133.1581\"/>\n<polygon fill=\"#ff0000\" stroke=\"#ff0000\" points=\"1042.0001,-133.0033 1038.5,-123.0034 1035.0001,-133.0034 1042.0001,-133.0033\"/>\n<text text-anchor=\"middle\" x=\"1046.5\" y=\"-144.8\" font-family=\"Times,serif\" font-size=\"14.00\" fill=\"#000000\">no</text>\n</g>\n<!-- 21 -->\n<g id=\"node24\" class=\"node\">\n<title>21</title>\n<path fill=\"#78cb0e\" stroke=\"#000000\" d=\"M1344,-123C1344,-123 1267,-123 1267,-123 1261,-123 1255,-117 1255,-111 1255,-111 1255,-99 1255,-99 1255,-93 1261,-87 1267,-87 1267,-87 1344,-87 1344,-87 1350,-87 1356,-93 1356,-99 1356,-99 1356,-111 1356,-111 1356,-117 1350,-123 1344,-123\"/>\n<text text-anchor=\"middle\" x=\"1305.5\" y=\"-101.3\" font-family=\"Times,serif\" font-size=\"14.00\" fill=\"#000000\">loannumber&lt;7</text>\n</g>\n<!-- 10&#45;&gt;21 -->\n<g id=\"edge23\" class=\"edge\">\n<title>10&#45;&gt;21</title>\n<path fill=\"none\" stroke=\"#0000ff\" d=\"M1305.5,-173.9735C1305.5,-162.1918 1305.5,-146.5607 1305.5,-133.1581\"/>\n<polygon fill=\"#0000ff\" stroke=\"#0000ff\" points=\"1309.0001,-133.0033 1305.5,-123.0034 1302.0001,-133.0034 1309.0001,-133.0033\"/>\n<text text-anchor=\"middle\" x=\"1341\" y=\"-144.8\" font-family=\"Times,serif\" font-size=\"14.00\" fill=\"#000000\">yes, missing</text>\n</g>\n<!-- 22 -->\n<g id=\"node25\" class=\"node\">\n<title>22</title>\n<path fill=\"#78cb0e\" stroke=\"#000000\" d=\"M1490,-123C1490,-123 1455,-123 1455,-123 1449,-123 1443,-117 1443,-111 1443,-111 1443,-99 1443,-99 1443,-93 1449,-87 1455,-87 1455,-87 1490,-87 1490,-87 1496,-87 1502,-93 1502,-99 1502,-99 1502,-111 1502,-111 1502,-117 1496,-123 1490,-123\"/>\n<text text-anchor=\"middle\" x=\"1472.5\" y=\"-101.3\" font-family=\"Times,serif\" font-size=\"14.00\" fill=\"#000000\">age&lt;38</text>\n</g>\n<!-- 10&#45;&gt;22 -->\n<g id=\"edge24\" class=\"edge\">\n<title>10&#45;&gt;22</title>\n<path fill=\"none\" stroke=\"#ff0000\" d=\"M1335.2634,-178.2052C1349.1097,-171.6625 1365.7432,-163.6235 1380.5,-156 1398.2968,-146.806 1417.7326,-136.1279 1434.1357,-126.9253\"/>\n<polygon fill=\"#ff0000\" stroke=\"#ff0000\" points=\"1435.9127,-129.9415 1442.9069,-121.9833 1432.4765,-123.8429 1435.9127,-129.9415\"/>\n<text text-anchor=\"middle\" x=\"1417.5\" y=\"-144.8\" font-family=\"Times,serif\" font-size=\"14.00\" fill=\"#000000\">no</text>\n</g>\n<!-- 39 -->\n<g id=\"node22\" class=\"node\">\n<title>39</title>\n<polygon fill=\"#e48038\" stroke=\"#000000\" points=\"958.5,-36 834.5,-36 834.5,0 958.5,0 958.5,-36\"/>\n<text text-anchor=\"middle\" x=\"896.5\" y=\"-14.3\" font-family=\"Times,serif\" font-size=\"14.00\" fill=\"#000000\">leaf=0.192727268</text>\n</g>\n<!-- 20&#45;&gt;39 -->\n<g id=\"edge21\" class=\"edge\">\n<title>20&#45;&gt;39</title>\n<path fill=\"none\" stroke=\"#0000ff\" d=\"M996.8318,-86.8472C985.7584,-81.5284 973.9721,-75.4072 963.5,-69 950.6563,-61.1418 937.3017,-51.3511 925.9266,-42.455\"/>\n<polygon fill=\"#0000ff\" stroke=\"#0000ff\" points=\"928.0348,-39.6598 918.0291,-36.1759 923.6783,-45.139 928.0348,-39.6598\"/>\n<text text-anchor=\"middle\" x=\"999\" y=\"-57.8\" font-family=\"Times,serif\" font-size=\"14.00\" fill=\"#000000\">yes, missing</text>\n</g>\n<!-- 40 -->\n<g id=\"node23\" class=\"node\">\n<title>40</title>\n<polygon fill=\"#e48038\" stroke=\"#000000\" points=\"1100.5,-36 976.5,-36 976.5,0 1100.5,0 1100.5,-36\"/>\n<text text-anchor=\"middle\" x=\"1038.5\" y=\"-14.3\" font-family=\"Times,serif\" font-size=\"14.00\" fill=\"#000000\">leaf=0.136144578</text>\n</g>\n<!-- 20&#45;&gt;40 -->\n<g id=\"edge22\" class=\"edge\">\n<title>20&#45;&gt;40</title>\n<path fill=\"none\" stroke=\"#ff0000\" d=\"M1038.5,-86.9735C1038.5,-75.1918 1038.5,-59.5607 1038.5,-46.1581\"/>\n<polygon fill=\"#ff0000\" stroke=\"#ff0000\" points=\"1042.0001,-46.0033 1038.5,-36.0034 1035.0001,-46.0034 1042.0001,-46.0033\"/>\n<text text-anchor=\"middle\" x=\"1046.5\" y=\"-57.8\" font-family=\"Times,serif\" font-size=\"14.00\" fill=\"#000000\">no</text>\n</g>\n<!-- 41 -->\n<g id=\"node26\" class=\"node\">\n<title>41</title>\n<polygon fill=\"#e48038\" stroke=\"#000000\" points=\"1250,-36 1119,-36 1119,0 1250,0 1250,-36\"/>\n<text text-anchor=\"middle\" x=\"1184.5\" y=\"-14.3\" font-family=\"Times,serif\" font-size=\"14.00\" fill=\"#000000\">leaf=0.0448979586</text>\n</g>\n<!-- 21&#45;&gt;41 -->\n<g id=\"edge25\" class=\"edge\">\n<title>21&#45;&gt;41</title>\n<path fill=\"none\" stroke=\"#0000ff\" d=\"M1271.0431,-86.9753C1261.5513,-81.5679 1251.4185,-75.3698 1242.5,-69 1231.4795,-61.129 1220.1269,-51.5303 1210.4196,-42.7923\"/>\n<polygon fill=\"#0000ff\" stroke=\"#0000ff\" points=\"1212.7631,-40.1925 1203.0251,-36.0186 1208.0348,-45.3542 1212.7631,-40.1925\"/>\n<text text-anchor=\"middle\" x=\"1278\" y=\"-57.8\" font-family=\"Times,serif\" font-size=\"14.00\" fill=\"#000000\">yes, missing</text>\n</g>\n<!-- 42 -->\n<g id=\"node27\" class=\"node\">\n<title>42</title>\n<polygon fill=\"#e48038\" stroke=\"#000000\" points=\"1392.5,-36 1268.5,-36 1268.5,0 1392.5,0 1392.5,-36\"/>\n<text text-anchor=\"middle\" x=\"1330.5\" y=\"-14.3\" font-family=\"Times,serif\" font-size=\"14.00\" fill=\"#000000\">leaf=0.131034479</text>\n</g>\n<!-- 21&#45;&gt;42 -->\n<g id=\"edge26\" class=\"edge\">\n<title>21&#45;&gt;42</title>\n<path fill=\"none\" stroke=\"#ff0000\" d=\"M1310.68,-86.9735C1314.0991,-75.0751 1318.6463,-59.2508 1322.5228,-45.7606\"/>\n<polygon fill=\"#ff0000\" stroke=\"#ff0000\" points=\"1325.9286,-46.5811 1325.3266,-36.0034 1319.2009,-44.6478 1325.9286,-46.5811\"/>\n<text text-anchor=\"middle\" x=\"1327.5\" y=\"-57.8\" font-family=\"Times,serif\" font-size=\"14.00\" fill=\"#000000\">no</text>\n</g>\n<!-- 43 -->\n<g id=\"node28\" class=\"node\">\n<title>43</title>\n<polygon fill=\"#e48038\" stroke=\"#000000\" points=\"1534.5,-36 1410.5,-36 1410.5,0 1534.5,0 1534.5,-36\"/>\n<text text-anchor=\"middle\" x=\"1472.5\" y=\"-14.3\" font-family=\"Times,serif\" font-size=\"14.00\" fill=\"#000000\">leaf=0.167567566</text>\n</g>\n<!-- 22&#45;&gt;43 -->\n<g id=\"edge27\" class=\"edge\">\n<title>22&#45;&gt;43</title>\n<path fill=\"none\" stroke=\"#0000ff\" d=\"M1472.5,-86.9735C1472.5,-75.1918 1472.5,-59.5607 1472.5,-46.1581\"/>\n<polygon fill=\"#0000ff\" stroke=\"#0000ff\" points=\"1476.0001,-46.0033 1472.5,-36.0034 1469.0001,-46.0034 1476.0001,-46.0033\"/>\n<text text-anchor=\"middle\" x=\"1508\" y=\"-57.8\" font-family=\"Times,serif\" font-size=\"14.00\" fill=\"#000000\">yes, missing</text>\n</g>\n<!-- 44 -->\n<g id=\"node29\" class=\"node\">\n<title>44</title>\n<polygon fill=\"#e48038\" stroke=\"#000000\" points=\"1668.5,-36 1552.5,-36 1552.5,0 1668.5,0 1668.5,-36\"/>\n<text text-anchor=\"middle\" x=\"1610.5\" y=\"-14.3\" font-family=\"Times,serif\" font-size=\"14.00\" fill=\"#000000\">leaf=0.11260505</text>\n</g>\n<!-- 22&#45;&gt;44 -->\n<g id=\"edge28\" class=\"edge\">\n<title>22&#45;&gt;44</title>\n<path fill=\"none\" stroke=\"#ff0000\" d=\"M1502.1912,-92.6752C1516.3258,-86.3297 1533.2189,-78.0337 1547.5,-69 1559.7252,-61.2668 1572.2906,-51.5208 1582.9518,-42.6253\"/>\n<polygon fill=\"#ff0000\" stroke=\"#ff0000\" points=\"1585.3479,-45.1821 1590.6961,-36.0361 1580.8117,-39.8507 1585.3479,-45.1821\"/>\n<text text-anchor=\"middle\" x=\"1576.5\" y=\"-57.8\" font-family=\"Times,serif\" font-size=\"14.00\" fill=\"#000000\">no</text>\n</g>\n<!-- 11 -->\n<g id=\"node32\" class=\"node\">\n<title>11</title>\n<path fill=\"#78cb0e\" stroke=\"#000000\" d=\"M2145,-210C2145,-210 2110,-210 2110,-210 2104,-210 2098,-204 2098,-198 2098,-198 2098,-186 2098,-186 2098,-180 2104,-174 2110,-174 2110,-174 2145,-174 2145,-174 2151,-174 2157,-180 2157,-186 2157,-186 2157,-198 2157,-198 2157,-204 2151,-210 2145,-210\"/>\n<text text-anchor=\"middle\" x=\"2127.5\" y=\"-188.3\" font-family=\"Times,serif\" font-size=\"14.00\" fill=\"#000000\">age&lt;35</text>\n</g>\n<!-- 5&#45;&gt;11 -->\n<g id=\"edge31\" class=\"edge\">\n<title>5&#45;&gt;11</title>\n<path fill=\"none\" stroke=\"#0000ff\" d=\"M2202.8159,-260.9735C2188.9318,-248.2586 2170.152,-231.0603 2154.8188,-217.0183\"/>\n<polygon fill=\"#0000ff\" stroke=\"#0000ff\" points=\"2156.8974,-214.1759 2147.1588,-210.0034 2152.1698,-219.3383 2156.8974,-214.1759\"/>\n<text text-anchor=\"middle\" x=\"2217\" y=\"-231.8\" font-family=\"Times,serif\" font-size=\"14.00\" fill=\"#000000\">yes, missing</text>\n</g>\n<!-- 12 -->\n<g id=\"node33\" class=\"node\">\n<title>12</title>\n<path fill=\"#78cb0e\" stroke=\"#000000\" d=\"M2334,-210C2334,-210 2299,-210 2299,-210 2293,-210 2287,-204 2287,-198 2287,-198 2287,-186 2287,-186 2287,-180 2293,-174 2299,-174 2299,-174 2334,-174 2334,-174 2340,-174 2346,-180 2346,-186 2346,-186 2346,-198 2346,-198 2346,-204 2340,-210 2334,-210\"/>\n<text text-anchor=\"middle\" x=\"2316.5\" y=\"-188.3\" font-family=\"Times,serif\" font-size=\"14.00\" fill=\"#000000\">age&lt;29</text>\n</g>\n<!-- 5&#45;&gt;12 -->\n<g id=\"edge32\" class=\"edge\">\n<title>5&#45;&gt;12</title>\n<path fill=\"none\" stroke=\"#ff0000\" d=\"M2241.9769,-260.9735C2255.7149,-248.2586 2274.2969,-231.0603 2289.4688,-217.0183\"/>\n<polygon fill=\"#ff0000\" stroke=\"#ff0000\" points=\"2292.0864,-219.3646 2297.0481,-210.0034 2287.3316,-214.2272 2292.0864,-219.3646\"/>\n<text text-anchor=\"middle\" x=\"2283.5\" y=\"-231.8\" font-family=\"Times,serif\" font-size=\"14.00\" fill=\"#000000\">no</text>\n</g>\n<!-- 13 -->\n<g id=\"node44\" class=\"node\">\n<title>13</title>\n<path fill=\"#78cb0e\" stroke=\"#000000\" d=\"M2721,-210C2721,-210 2644,-210 2644,-210 2638,-210 2632,-204 2632,-198 2632,-198 2632,-186 2632,-186 2632,-180 2638,-174 2644,-174 2644,-174 2721,-174 2721,-174 2727,-174 2733,-180 2733,-186 2733,-186 2733,-198 2733,-198 2733,-204 2727,-210 2721,-210\"/>\n<text text-anchor=\"middle\" x=\"2682.5\" y=\"-188.3\" font-family=\"Times,serif\" font-size=\"14.00\" fill=\"#000000\">loannumber&lt;9</text>\n</g>\n<!-- 6&#45;&gt;13 -->\n<g id=\"edge43\" class=\"edge\">\n<title>6&#45;&gt;13</title>\n<path fill=\"none\" stroke=\"#0000ff\" d=\"M2682.5,-260.9735C2682.5,-249.1918 2682.5,-233.5607 2682.5,-220.1581\"/>\n<polygon fill=\"#0000ff\" stroke=\"#0000ff\" points=\"2686.0001,-220.0033 2682.5,-210.0034 2679.0001,-220.0034 2686.0001,-220.0033\"/>\n<text text-anchor=\"middle\" x=\"2718\" y=\"-231.8\" font-family=\"Times,serif\" font-size=\"14.00\" fill=\"#000000\">yes, missing</text>\n</g>\n<!-- 14 -->\n<g id=\"node45\" class=\"node\">\n<title>14</title>\n<path fill=\"#78cb0e\" stroke=\"#000000\" d=\"M2945.5,-210C2945.5,-210 2843.5,-210 2843.5,-210 2837.5,-210 2831.5,-204 2831.5,-198 2831.5,-198 2831.5,-186 2831.5,-186 2831.5,-180 2837.5,-174 2843.5,-174 2843.5,-174 2945.5,-174 2945.5,-174 2951.5,-174 2957.5,-180 2957.5,-186 2957.5,-186 2957.5,-198 2957.5,-198 2957.5,-204 2951.5,-210 2945.5,-210\"/>\n<text text-anchor=\"middle\" x=\"2894.5\" y=\"-188.3\" font-family=\"Times,serif\" font-size=\"14.00\" fill=\"#000000\">parte_mes_pago&lt;3</text>\n</g>\n<!-- 6&#45;&gt;14 -->\n<g id=\"edge44\" class=\"edge\">\n<title>6&#45;&gt;14</title>\n<path fill=\"none\" stroke=\"#ff0000\" d=\"M2712.4248,-266.7195C2745.7094,-253.0603 2800.1456,-230.7209 2840.8406,-214.0206\"/>\n<polygon fill=\"#ff0000\" stroke=\"#ff0000\" points=\"2842.4226,-217.1547 2850.3451,-210.1202 2839.765,-210.6788 2842.4226,-217.1547\"/>\n<text text-anchor=\"middle\" x=\"2809.5\" y=\"-231.8\" font-family=\"Times,serif\" font-size=\"14.00\" fill=\"#000000\">no</text>\n</g>\n<!-- 23 -->\n<g id=\"node34\" class=\"node\">\n<title>23</title>\n<path fill=\"#78cb0e\" stroke=\"#000000\" d=\"M1939.5,-123C1939.5,-123 1841.5,-123 1841.5,-123 1835.5,-123 1829.5,-117 1829.5,-111 1829.5,-111 1829.5,-99 1829.5,-99 1829.5,-93 1835.5,-87 1841.5,-87 1841.5,-87 1939.5,-87 1939.5,-87 1945.5,-87 1951.5,-93 1951.5,-99 1951.5,-99 1951.5,-111 1951.5,-111 1951.5,-117 1945.5,-123 1939.5,-123\"/>\n<text text-anchor=\"middle\" x=\"1890.5\" y=\"-101.3\" font-family=\"Times,serif\" font-size=\"14.00\" fill=\"#000000\">due_per_day&lt;871</text>\n</g>\n<!-- 11&#45;&gt;23 -->\n<g id=\"edge33\" class=\"edge\">\n<title>11&#45;&gt;23</title>\n<path fill=\"none\" stroke=\"#0000ff\" d=\"M2097.963,-181.1573C2060.9308,-167.5632 1996.5823,-143.9416 1949.3443,-126.6011\"/>\n<polygon fill=\"#0000ff\" stroke=\"#0000ff\" points=\"1950.433,-123.2724 1939.8393,-123.1119 1948.0207,-129.8436 1950.433,-123.2724\"/>\n<text text-anchor=\"middle\" x=\"2059\" y=\"-144.8\" font-family=\"Times,serif\" font-size=\"14.00\" fill=\"#000000\">yes, missing</text>\n</g>\n<!-- 24 -->\n<g id=\"node35\" class=\"node\">\n<title>24</title>\n<path fill=\"#78cb0e\" stroke=\"#000000\" d=\"M2154,-123C2154,-123 2101,-123 2101,-123 2095,-123 2089,-117 2089,-111 2089,-111 2089,-99 2089,-99 2089,-93 2095,-87 2101,-87 2101,-87 2154,-87 2154,-87 2160,-87 2166,-93 2166,-99 2166,-99 2166,-111 2166,-111 2166,-117 2160,-123 2154,-123\"/>\n<text text-anchor=\"middle\" x=\"2127.5\" y=\"-101.3\" font-family=\"Times,serif\" font-size=\"14.00\" fill=\"#000000\">referido&lt;2</text>\n</g>\n<!-- 11&#45;&gt;24 -->\n<g id=\"edge34\" class=\"edge\">\n<title>11&#45;&gt;24</title>\n<path fill=\"none\" stroke=\"#ff0000\" d=\"M2127.5,-173.9735C2127.5,-162.1918 2127.5,-146.5607 2127.5,-133.1581\"/>\n<polygon fill=\"#ff0000\" stroke=\"#ff0000\" points=\"2131.0001,-133.0033 2127.5,-123.0034 2124.0001,-133.0034 2131.0001,-133.0033\"/>\n<text text-anchor=\"middle\" x=\"2135.5\" y=\"-144.8\" font-family=\"Times,serif\" font-size=\"14.00\" fill=\"#000000\">no</text>\n</g>\n<!-- 25 -->\n<g id=\"node40\" class=\"node\">\n<title>25</title>\n<path fill=\"#78cb0e\" stroke=\"#000000\" d=\"M2343,-123C2343,-123 2290,-123 2290,-123 2284,-123 2278,-117 2278,-111 2278,-111 2278,-99 2278,-99 2278,-93 2284,-87 2290,-87 2290,-87 2343,-87 2343,-87 2349,-87 2355,-93 2355,-99 2355,-99 2355,-111 2355,-111 2355,-117 2349,-123 2343,-123\"/>\n<text text-anchor=\"middle\" x=\"2316.5\" y=\"-101.3\" font-family=\"Times,serif\" font-size=\"14.00\" fill=\"#000000\">referido&lt;2</text>\n</g>\n<!-- 12&#45;&gt;25 -->\n<g id=\"edge39\" class=\"edge\">\n<title>12&#45;&gt;25</title>\n<path fill=\"none\" stroke=\"#0000ff\" d=\"M2316.5,-173.9735C2316.5,-162.1918 2316.5,-146.5607 2316.5,-133.1581\"/>\n<polygon fill=\"#0000ff\" stroke=\"#0000ff\" points=\"2320.0001,-133.0033 2316.5,-123.0034 2313.0001,-133.0034 2320.0001,-133.0033\"/>\n<text text-anchor=\"middle\" x=\"2352\" y=\"-144.8\" font-family=\"Times,serif\" font-size=\"14.00\" fill=\"#000000\">yes, missing</text>\n</g>\n<!-- 26 -->\n<g id=\"node41\" class=\"node\">\n<title>26</title>\n<polygon fill=\"#e48038\" stroke=\"#000000\" points=\"2497.5,-123 2373.5,-123 2373.5,-87 2497.5,-87 2497.5,-123\"/>\n<text text-anchor=\"middle\" x=\"2435.5\" y=\"-101.3\" font-family=\"Times,serif\" font-size=\"14.00\" fill=\"#000000\">leaf=0.186126381</text>\n</g>\n<!-- 12&#45;&gt;26 -->\n<g id=\"edge40\" class=\"edge\">\n<title>12&#45;&gt;26</title>\n<path fill=\"none\" stroke=\"#ff0000\" d=\"M2346.2218,-181.0794C2360.6855,-174.9591 2377.8511,-166.4458 2391.5,-156 2400.6486,-148.9984 2409.272,-139.8329 2416.4195,-131.2059\"/>\n<polygon fill=\"#ff0000\" stroke=\"#ff0000\" points=\"2419.3094,-133.1949 2422.7891,-123.1878 2413.8284,-128.8408 2419.3094,-133.1949\"/>\n<text text-anchor=\"middle\" x=\"2416.5\" y=\"-144.8\" font-family=\"Times,serif\" font-size=\"14.00\" fill=\"#000000\">no</text>\n</g>\n<!-- 45 -->\n<g id=\"node36\" class=\"node\">\n<title>45</title>\n<polygon fill=\"#e48038\" stroke=\"#000000\" points=\"1810.5,-36 1686.5,-36 1686.5,0 1810.5,0 1810.5,-36\"/>\n<text text-anchor=\"middle\" x=\"1748.5\" y=\"-14.3\" font-family=\"Times,serif\" font-size=\"14.00\" fill=\"#000000\">leaf=0.162926838</text>\n</g>\n<!-- 23&#45;&gt;45 -->\n<g id=\"edge35\" class=\"edge\">\n<title>23&#45;&gt;45</title>\n<path fill=\"none\" stroke=\"#0000ff\" d=\"M1848.8318,-86.8472C1837.7584,-81.5284 1825.9721,-75.4072 1815.5,-69 1802.6563,-61.1418 1789.3017,-51.3511 1777.9266,-42.455\"/>\n<polygon fill=\"#0000ff\" stroke=\"#0000ff\" points=\"1780.0348,-39.6598 1770.0291,-36.1759 1775.6783,-45.139 1780.0348,-39.6598\"/>\n<text text-anchor=\"middle\" x=\"1851\" y=\"-57.8\" font-family=\"Times,serif\" font-size=\"14.00\" fill=\"#000000\">yes, missing</text>\n</g>\n<!-- 46 -->\n<g id=\"node37\" class=\"node\">\n<title>46</title>\n<polygon fill=\"#e48038\" stroke=\"#000000\" points=\"1952.5,-36 1828.5,-36 1828.5,0 1952.5,0 1952.5,-36\"/>\n<text text-anchor=\"middle\" x=\"1890.5\" y=\"-14.3\" font-family=\"Times,serif\" font-size=\"14.00\" fill=\"#000000\">leaf=0.131034479</text>\n</g>\n<!-- 23&#45;&gt;46 -->\n<g id=\"edge36\" class=\"edge\">\n<title>23&#45;&gt;46</title>\n<path fill=\"none\" stroke=\"#ff0000\" d=\"M1890.5,-86.9735C1890.5,-75.1918 1890.5,-59.5607 1890.5,-46.1581\"/>\n<polygon fill=\"#ff0000\" stroke=\"#ff0000\" points=\"1894.0001,-46.0033 1890.5,-36.0034 1887.0001,-46.0034 1894.0001,-46.0033\"/>\n<text text-anchor=\"middle\" x=\"1898.5\" y=\"-57.8\" font-family=\"Times,serif\" font-size=\"14.00\" fill=\"#000000\">no</text>\n</g>\n<!-- 47 -->\n<g id=\"node38\" class=\"node\">\n<title>47</title>\n<polygon fill=\"#e48038\" stroke=\"#000000\" points=\"2094.5,-36 1970.5,-36 1970.5,0 2094.5,0 2094.5,-36\"/>\n<text text-anchor=\"middle\" x=\"2032.5\" y=\"-14.3\" font-family=\"Times,serif\" font-size=\"14.00\" fill=\"#000000\">leaf=0.181679398</text>\n</g>\n<!-- 24&#45;&gt;47 -->\n<g id=\"edge37\" class=\"edge\">\n<title>24&#45;&gt;47</title>\n<path fill=\"none\" stroke=\"#0000ff\" d=\"M2096.866,-86.9229C2088.8944,-81.6039 2080.5671,-75.4637 2073.5,-69 2065.4523,-61.6394 2057.6747,-52.6273 2051.0964,-44.2376\"/>\n<polygon fill=\"#0000ff\" stroke=\"#0000ff\" points=\"2053.7849,-41.9905 2044.9523,-36.1394 2048.2083,-46.2215 2053.7849,-41.9905\"/>\n<text text-anchor=\"middle\" x=\"2109\" y=\"-57.8\" font-family=\"Times,serif\" font-size=\"14.00\" fill=\"#000000\">yes, missing</text>\n</g>\n<!-- 48 -->\n<g id=\"node39\" class=\"node\">\n<title>48</title>\n<polygon fill=\"#e48038\" stroke=\"#000000\" points=\"2236.5,-36 2112.5,-36 2112.5,0 2236.5,0 2236.5,-36\"/>\n<text text-anchor=\"middle\" x=\"2174.5\" y=\"-14.3\" font-family=\"Times,serif\" font-size=\"14.00\" fill=\"#000000\">leaf=0.142857149</text>\n</g>\n<!-- 24&#45;&gt;48 -->\n<g id=\"edge38\" class=\"edge\">\n<title>24&#45;&gt;48</title>\n<path fill=\"none\" stroke=\"#ff0000\" d=\"M2137.2384,-86.9735C2143.7923,-74.8418 2152.5512,-58.6287 2159.9301,-44.9698\"/>\n<polygon fill=\"#ff0000\" stroke=\"#ff0000\" points=\"2163.1003,-46.4652 2164.774,-36.0034 2156.9416,-43.138 2163.1003,-46.4652\"/>\n<text text-anchor=\"middle\" x=\"2162.5\" y=\"-57.8\" font-family=\"Times,serif\" font-size=\"14.00\" fill=\"#000000\">no</text>\n</g>\n<!-- 49 -->\n<g id=\"node42\" class=\"node\">\n<title>49</title>\n<polygon fill=\"#e48038\" stroke=\"#000000\" points=\"2378.5,-36 2254.5,-36 2254.5,0 2378.5,0 2378.5,-36\"/>\n<text text-anchor=\"middle\" x=\"2316.5\" y=\"-14.3\" font-family=\"Times,serif\" font-size=\"14.00\" fill=\"#000000\">leaf=0.172000006</text>\n</g>\n<!-- 25&#45;&gt;49 -->\n<g id=\"edge41\" class=\"edge\">\n<title>25&#45;&gt;49</title>\n<path fill=\"none\" stroke=\"#0000ff\" d=\"M2316.5,-86.9735C2316.5,-75.1918 2316.5,-59.5607 2316.5,-46.1581\"/>\n<polygon fill=\"#0000ff\" stroke=\"#0000ff\" points=\"2320.0001,-46.0033 2316.5,-36.0034 2313.0001,-46.0034 2320.0001,-46.0033\"/>\n<text text-anchor=\"middle\" x=\"2352\" y=\"-57.8\" font-family=\"Times,serif\" font-size=\"14.00\" fill=\"#000000\">yes, missing</text>\n</g>\n<!-- 50 -->\n<g id=\"node43\" class=\"node\">\n<title>50</title>\n<polygon fill=\"#e48038\" stroke=\"#000000\" points=\"2528,-36 2397,-36 2397,0 2528,0 2528,-36\"/>\n<text text-anchor=\"middle\" x=\"2462.5\" y=\"-14.3\" font-family=\"Times,serif\" font-size=\"14.00\" fill=\"#000000\">leaf=0.0400000028</text>\n</g>\n<!-- 25&#45;&gt;50 -->\n<g id=\"edge42\" class=\"edge\">\n<title>25&#45;&gt;50</title>\n<path fill=\"none\" stroke=\"#ff0000\" d=\"M2355.3311,-87.9504C2367.1696,-82.3325 2380.0705,-75.7771 2391.5,-69 2405.0767,-60.9498 2419.3401,-51.0234 2431.4915,-42.0738\"/>\n<polygon fill=\"#ff0000\" stroke=\"#ff0000\" points=\"2433.6142,-44.8569 2439.5323,-36.0691 2429.4257,-39.2483 2433.6142,-44.8569\"/>\n<text text-anchor=\"middle\" x=\"2422.5\" y=\"-57.8\" font-family=\"Times,serif\" font-size=\"14.00\" fill=\"#000000\">no</text>\n</g>\n<!-- 27 -->\n<g id=\"node46\" class=\"node\">\n<title>27</title>\n<path fill=\"#78cb0e\" stroke=\"#000000\" d=\"M2658.5,-123C2658.5,-123 2556.5,-123 2556.5,-123 2550.5,-123 2544.5,-117 2544.5,-111 2544.5,-111 2544.5,-99 2544.5,-99 2544.5,-93 2550.5,-87 2556.5,-87 2556.5,-87 2658.5,-87 2658.5,-87 2664.5,-87 2670.5,-93 2670.5,-99 2670.5,-99 2670.5,-111 2670.5,-111 2670.5,-117 2664.5,-123 2658.5,-123\"/>\n<text text-anchor=\"middle\" x=\"2607.5\" y=\"-101.3\" font-family=\"Times,serif\" font-size=\"14.00\" fill=\"#000000\">parte_mes_pago&lt;3</text>\n</g>\n<!-- 13&#45;&gt;27 -->\n<g id=\"edge45\" class=\"edge\">\n<title>13&#45;&gt;27</title>\n<path fill=\"none\" stroke=\"#0000ff\" d=\"M2658.7252,-173.6858C2652.4583,-168.3222 2645.935,-162.2189 2640.5,-156 2634.1467,-148.7304 2628.1173,-140.1382 2622.9925,-132.0989\"/>\n<polygon fill=\"#0000ff\" stroke=\"#0000ff\" points=\"2625.8388,-130.0455 2617.6219,-123.3572 2619.8745,-133.7098 2625.8388,-130.0455\"/>\n<text text-anchor=\"middle\" x=\"2676\" y=\"-144.8\" font-family=\"Times,serif\" font-size=\"14.00\" fill=\"#000000\">yes, missing</text>\n</g>\n<!-- 28 -->\n<g id=\"node47\" class=\"node\">\n<title>28</title>\n<polygon fill=\"#e48038\" stroke=\"#000000\" points=\"2824.5,-123 2688.5,-123 2688.5,-87 2824.5,-87 2824.5,-123\"/>\n<text text-anchor=\"middle\" x=\"2756.5\" y=\"-101.3\" font-family=\"Times,serif\" font-size=\"14.00\" fill=\"#000000\">leaf=&#45;0.0285714306</text>\n</g>\n<!-- 13&#45;&gt;28 -->\n<g id=\"edge46\" class=\"edge\">\n<title>13&#45;&gt;28</title>\n<path fill=\"none\" stroke=\"#ff0000\" d=\"M2697.8328,-173.9735C2708.4494,-161.4919 2722.7408,-144.6899 2734.56,-130.7944\"/>\n<polygon fill=\"#ff0000\" stroke=\"#ff0000\" points=\"2737.3738,-132.8883 2741.1868,-123.0034 2732.0417,-128.3529 2737.3738,-132.8883\"/>\n<text text-anchor=\"middle\" x=\"2732.5\" y=\"-144.8\" font-family=\"Times,serif\" font-size=\"14.00\" fill=\"#000000\">no</text>\n</g>\n<!-- 29 -->\n<g id=\"node50\" class=\"node\">\n<title>29</title>\n<path fill=\"#78cb0e\" stroke=\"#000000\" d=\"M2934.5,-123C2934.5,-123 2854.5,-123 2854.5,-123 2848.5,-123 2842.5,-117 2842.5,-111 2842.5,-111 2842.5,-99 2842.5,-99 2842.5,-93 2848.5,-87 2854.5,-87 2854.5,-87 2934.5,-87 2934.5,-87 2940.5,-87 2946.5,-93 2946.5,-99 2946.5,-99 2946.5,-111 2946.5,-111 2946.5,-117 2940.5,-123 2934.5,-123\"/>\n<text text-anchor=\"middle\" x=\"2894.5\" y=\"-101.3\" font-family=\"Times,serif\" font-size=\"14.00\" fill=\"#000000\">employment&lt;2</text>\n</g>\n<!-- 14&#45;&gt;29 -->\n<g id=\"edge49\" class=\"edge\">\n<title>14&#45;&gt;29</title>\n<path fill=\"none\" stroke=\"#0000ff\" d=\"M2894.5,-173.9735C2894.5,-162.1918 2894.5,-146.5607 2894.5,-133.1581\"/>\n<polygon fill=\"#0000ff\" stroke=\"#0000ff\" points=\"2898.0001,-133.0033 2894.5,-123.0034 2891.0001,-133.0034 2898.0001,-133.0033\"/>\n<text text-anchor=\"middle\" x=\"2930\" y=\"-144.8\" font-family=\"Times,serif\" font-size=\"14.00\" fill=\"#000000\">yes, missing</text>\n</g>\n<!-- 30 -->\n<g id=\"node51\" class=\"node\">\n<title>30</title>\n<polygon fill=\"#e48038\" stroke=\"#000000\" points=\"3088.5,-123 2964.5,-123 2964.5,-87 3088.5,-87 3088.5,-123\"/>\n<text text-anchor=\"middle\" x=\"3026.5\" y=\"-101.3\" font-family=\"Times,serif\" font-size=\"14.00\" fill=\"#000000\">leaf=0.177142859</text>\n</g>\n<!-- 14&#45;&gt;30 -->\n<g id=\"edge50\" class=\"edge\">\n<title>14&#45;&gt;30</title>\n<path fill=\"none\" stroke=\"#ff0000\" d=\"M2937.6937,-173.8291C2948.4156,-168.6335 2959.6504,-162.5765 2969.5,-156 2980.5433,-148.6265 2991.6566,-139.2316 3001.1,-130.5195\"/>\n<polygon fill=\"#ff0000\" stroke=\"#ff0000\" points=\"3003.7434,-132.8368 3008.6016,-123.4214 2998.9323,-127.7522 3003.7434,-132.8368\"/>\n<text text-anchor=\"middle\" x=\"2996.5\" y=\"-144.8\" font-family=\"Times,serif\" font-size=\"14.00\" fill=\"#000000\">no</text>\n</g>\n<!-- 53 -->\n<g id=\"node48\" class=\"node\">\n<title>53</title>\n<polygon fill=\"#e48038\" stroke=\"#000000\" points=\"2669,-36 2546,-36 2546,0 2669,0 2669,-36\"/>\n<text text-anchor=\"middle\" x=\"2607.5\" y=\"-14.3\" font-family=\"Times,serif\" font-size=\"14.00\" fill=\"#000000\">leaf=0.114285722</text>\n</g>\n<!-- 27&#45;&gt;53 -->\n<g id=\"edge47\" class=\"edge\">\n<title>27&#45;&gt;53</title>\n<path fill=\"none\" stroke=\"#0000ff\" d=\"M2607.5,-86.9735C2607.5,-75.1918 2607.5,-59.5607 2607.5,-46.1581\"/>\n<polygon fill=\"#0000ff\" stroke=\"#0000ff\" points=\"2611.0001,-46.0033 2607.5,-36.0034 2604.0001,-46.0034 2611.0001,-46.0033\"/>\n<text text-anchor=\"middle\" x=\"2643\" y=\"-57.8\" font-family=\"Times,serif\" font-size=\"14.00\" fill=\"#000000\">yes, missing</text>\n</g>\n<!-- 54 -->\n<g id=\"node49\" class=\"node\">\n<title>54</title>\n<polygon fill=\"#e48038\" stroke=\"#000000\" points=\"2811.5,-36 2687.5,-36 2687.5,0 2811.5,0 2811.5,-36\"/>\n<text text-anchor=\"middle\" x=\"2749.5\" y=\"-14.3\" font-family=\"Times,serif\" font-size=\"14.00\" fill=\"#000000\">leaf=0.170370385</text>\n</g>\n<!-- 27&#45;&gt;54 -->\n<g id=\"edge48\" class=\"edge\">\n<title>27&#45;&gt;54</title>\n<path fill=\"none\" stroke=\"#ff0000\" d=\"M2649.1682,-86.8472C2660.2416,-81.5284 2672.0279,-75.4072 2682.5,-69 2695.3437,-61.1418 2708.6983,-51.3511 2720.0734,-42.455\"/>\n<polygon fill=\"#ff0000\" stroke=\"#ff0000\" points=\"2722.3217,-45.139 2727.9709,-36.1759 2717.9652,-39.6598 2722.3217,-45.139\"/>\n<text text-anchor=\"middle\" x=\"2712.5\" y=\"-57.8\" font-family=\"Times,serif\" font-size=\"14.00\" fill=\"#000000\">no</text>\n</g>\n<!-- 55 -->\n<g id=\"node52\" class=\"node\">\n<title>55</title>\n<polygon fill=\"#e48038\" stroke=\"#000000\" points=\"2949.5,-36 2833.5,-36 2833.5,0 2949.5,0 2949.5,-36\"/>\n<text text-anchor=\"middle\" x=\"2891.5\" y=\"-14.3\" font-family=\"Times,serif\" font-size=\"14.00\" fill=\"#000000\">leaf=0.15109171</text>\n</g>\n<!-- 29&#45;&gt;55 -->\n<g id=\"edge51\" class=\"edge\">\n<title>29&#45;&gt;55</title>\n<path fill=\"none\" stroke=\"#0000ff\" d=\"M2893.8784,-86.9735C2893.4721,-75.1918 2892.9331,-59.5607 2892.471,-46.1581\"/>\n<polygon fill=\"#0000ff\" stroke=\"#0000ff\" points=\"2895.9634,-45.8768 2892.1208,-36.0034 2888.9676,-46.1181 2895.9634,-45.8768\"/>\n<text text-anchor=\"middle\" x=\"2929\" y=\"-57.8\" font-family=\"Times,serif\" font-size=\"14.00\" fill=\"#000000\">yes, missing</text>\n</g>\n<!-- 56 -->\n<g id=\"node53\" class=\"node\">\n<title>56</title>\n<polygon fill=\"#e48038\" stroke=\"#000000\" points=\"3091,-36 2968,-36 2968,0 3091,0 3091,-36\"/>\n<text text-anchor=\"middle\" x=\"3029.5\" y=\"-14.3\" font-family=\"Times,serif\" font-size=\"14.00\" fill=\"#000000\">leaf=0.171146259</text>\n</g>\n<!-- 29&#45;&gt;56 -->\n<g id=\"edge52\" class=\"edge\">\n<title>29&#45;&gt;56</title>\n<path fill=\"none\" stroke=\"#ff0000\" d=\"M2936.1841,-86.9169C2946.9959,-81.6401 2958.4261,-75.5221 2968.5,-69 2980.2948,-61.3637 2992.3539,-51.7371 3002.6025,-42.9102\"/>\n<polygon fill=\"#ff0000\" stroke=\"#ff0000\" points=\"3005.1975,-45.289 3010.3938,-36.0559 3000.5738,-40.0332 3005.1975,-45.289\"/>\n<text text-anchor=\"middle\" x=\"2996.5\" y=\"-57.8\" font-family=\"Times,serif\" font-size=\"14.00\" fill=\"#000000\">no</text>\n</g>\n</g>\n</svg>\n"
          },
          "metadata": {},
          "execution_count": 22
        }
      ]
    }
  ]
}